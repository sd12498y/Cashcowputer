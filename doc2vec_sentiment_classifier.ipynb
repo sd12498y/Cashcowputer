{
  "nbformat": 4,
  "nbformat_minor": 0,
  "metadata": {
    "colab": {
      "name": "doc2vec sentiment classifier.ipynb",
      "provenance": []
    },
    "kernelspec": {
      "name": "python3",
      "display_name": "Python 3"
    },
    "accelerator": "GPU"
  },
  "cells": [
    {
      "cell_type": "code",
      "metadata": {
        "id": "kf5EMTMHplfl",
        "colab_type": "code",
        "outputId": "1d6008d7-09da-4836-faaf-71fd591d4eb6",
        "colab": {
          "base_uri": "https://localhost:8080/",
          "height": 127
        }
      },
      "source": [
        "from google.colab import drive\n",
        "drive.mount('/content/drive')"
      ],
      "execution_count": 0,
      "outputs": [
        {
          "output_type": "stream",
          "text": [
            "Go to this URL in a browser: https://accounts.google.com/o/oauth2/auth?client_id=947318989803-6bn6qk8qdgf4n4g3pfee6491hc0brc4i.apps.googleusercontent.com&redirect_uri=urn%3aietf%3awg%3aoauth%3a2.0%3aoob&response_type=code&scope=email%20https%3a%2f%2fwww.googleapis.com%2fauth%2fdocs.test%20https%3a%2f%2fwww.googleapis.com%2fauth%2fdrive%20https%3a%2f%2fwww.googleapis.com%2fauth%2fdrive.photos.readonly%20https%3a%2f%2fwww.googleapis.com%2fauth%2fpeopleapi.readonly\n",
            "\n",
            "Enter your authorization code:\n",
            "··········\n",
            "Mounted at /content/drive\n"
          ],
          "name": "stdout"
        }
      ]
    },
    {
      "cell_type": "code",
      "metadata": {
        "id": "eJd3L0kFqBIM",
        "colab_type": "code",
        "colab": {}
      },
      "source": [
        "WORK_DIR = '/content/drive/My Drive/FINA4350'\n",
        "DATA_DIR = f'{WORK_DIR}/datasets/cashcowputer-dataset'"
      ],
      "execution_count": 0,
      "outputs": []
    },
    {
      "cell_type": "code",
      "metadata": {
        "id": "TrVKn8BtqEay",
        "colab_type": "code",
        "outputId": "6b37e4e1-30e8-4c35-ad87-47ed457d2e6b",
        "colab": {
          "base_uri": "https://localhost:8080/",
          "height": 35
        }
      },
      "source": [
        "%tensorflow_version 2.x"
      ],
      "execution_count": 0,
      "outputs": [
        {
          "output_type": "stream",
          "text": [
            "TensorFlow 2.x selected.\n"
          ],
          "name": "stdout"
        }
      ]
    },
    {
      "cell_type": "code",
      "metadata": {
        "id": "9jIKI_Rzpt4I",
        "colab_type": "code",
        "colab": {}
      },
      "source": [
        "from gensim.models import doc2vec"
      ],
      "execution_count": 0,
      "outputs": []
    },
    {
      "cell_type": "code",
      "metadata": {
        "id": "9yc6jEqKp_WT",
        "colab_type": "code",
        "outputId": "8ad55e6b-2258-417b-9959-f0cca8582d96",
        "colab": {
          "base_uri": "https://localhost:8080/",
          "height": 73
        }
      },
      "source": [
        "#load the model\n",
        "d2v_model = doc2vec.Doc2Vec.load(f'{WORK_DIR}/d2v model/d2v_afr.com_merged.model')"
      ],
      "execution_count": 0,
      "outputs": [
        {
          "output_type": "stream",
          "text": [
            "/usr/local/lib/python3.6/dist-packages/smart_open/smart_open_lib.py:402: UserWarning: This function is deprecated, use smart_open.open instead. See the migration notes for details: https://github.com/RaRe-Technologies/smart_open/blob/master/README.rst#migrating-to-the-new-open-function\n",
            "  'See the migration notes for details: %s' % _MIGRATION_NOTES_URL\n"
          ],
          "name": "stderr"
        }
      ]
    },
    {
      "cell_type": "code",
      "metadata": {
        "id": "8Oae-GsnqQpo",
        "colab_type": "code",
        "colab": {}
      },
      "source": [
        "import pandas as pd\n",
        "sentiment_df = pd.read_csv(f'{DATA_DIR}/preprocessed/revamped_preprocessed_tweet_senti_dataset.csv')\n",
        "sentiment_df.dropna(axis=0,inplace=True)"
      ],
      "execution_count": 0,
      "outputs": []
    },
    {
      "cell_type": "code",
      "metadata": {
        "id": "y-ha_Vy5qo08",
        "colab_type": "code",
        "outputId": "8763d691-ddfd-4ce2-abf5-3007f4939ef9",
        "colab": {
          "base_uri": "https://localhost:8080/",
          "height": 35
        }
      },
      "source": [
        "d2v_model.infer_vector(['I', 'love' ,'you']).shape"
      ],
      "execution_count": 0,
      "outputs": [
        {
          "output_type": "execute_result",
          "data": {
            "text/plain": [
              "(512,)"
            ]
          },
          "metadata": {
            "tags": []
          },
          "execution_count": 8
        }
      ]
    },
    {
      "cell_type": "code",
      "metadata": {
        "id": "raI016i9McvD",
        "colab_type": "code",
        "outputId": "76030eb6-e294-4c42-92af-849391f79909",
        "colab": {
          "base_uri": "https://localhost:8080/",
          "height": 71
        }
      },
      "source": [
        "from nltk.tokenize import word_tokenize\n",
        "import nltk\n",
        "nltk.download('punkt')"
      ],
      "execution_count": 0,
      "outputs": [
        {
          "output_type": "stream",
          "text": [
            "[nltk_data] Downloading package punkt to /root/nltk_data...\n",
            "[nltk_data]   Unzipping tokenizers/punkt.zip.\n"
          ],
          "name": "stdout"
        },
        {
          "output_type": "execute_result",
          "data": {
            "text/plain": [
              "True"
            ]
          },
          "metadata": {
            "tags": []
          },
          "execution_count": 18
        }
      ]
    },
    {
      "cell_type": "code",
      "metadata": {
        "id": "1BFvY9-Rr4ad",
        "colab_type": "code",
        "outputId": "25f8b74a-a7b3-4be7-b986-efd8fb4b79f1",
        "colab": {
          "base_uri": "https://localhost:8080/",
          "height": 35
        }
      },
      "source": [
        "d2v_model.infer_vector(['I love you I hate you'], alpha=0.001, min_alpha=0.001, steps=10000).reshape(512,1).shape"
      ],
      "execution_count": 0,
      "outputs": [
        {
          "output_type": "execute_result",
          "data": {
            "text/plain": [
              "(512, 1)"
            ]
          },
          "metadata": {
            "tags": []
          },
          "execution_count": 123
        }
      ]
    },
    {
      "cell_type": "code",
      "metadata": {
        "id": "UZnGHMcJr_gQ",
        "colab_type": "code",
        "colab": {}
      },
      "source": [
        "def doc2VecEmbedding(s):\n",
        "  #return tf.map_fn(lambda x: print(x.numpy().decode()), tf.squeeze(tf.cast(s, tf.string)))\n",
        "  return np.array(list(map(lambda x: doc2VecFuncWrapper(x), tf.squeeze(tf.cast(s, tf.string)))))"
      ],
      "execution_count": 0,
      "outputs": []
    },
    {
      "cell_type": "code",
      "metadata": {
        "id": "c_SpJc4n3het",
        "colab_type": "code",
        "colab": {}
      },
      "source": [
        "def doc2VecFuncWrapper(s):\n",
        "  return d2v_model.infer_vector([s.numpy().decode()], alpha=0.001, min_alpha=0.001, steps=10000)"
      ],
      "execution_count": 0,
      "outputs": []
    },
    {
      "cell_type": "code",
      "metadata": {
        "id": "FK7E0ZdUuy4D",
        "colab_type": "code",
        "outputId": "c36b5297-a28b-49d3-fe68-e4ea45be9bd7",
        "colab": {
          "base_uri": "https://localhost:8080/",
          "height": 89
        }
      },
      "source": [
        "doc2VecEmbedding(['i love','you'])"
      ],
      "execution_count": 0,
      "outputs": [
        {
          "output_type": "execute_result",
          "data": {
            "text/plain": [
              "array([[-9.7150705e-06, -7.4350770e-04,  3.3157071e-04, ...,\n",
              "         3.2821019e-05,  9.4239687e-04, -2.8885386e-04],\n",
              "       [-6.8953007e-02, -3.9498918e-03, -2.7176140e-02, ...,\n",
              "        -3.4531575e-02, -7.4060991e-02,  1.1147403e-01]], dtype=float32)"
            ]
          },
          "metadata": {
            "tags": []
          },
          "execution_count": 215
        }
      ]
    },
    {
      "cell_type": "code",
      "metadata": {
        "id": "4tPgkdUUZGNB",
        "colab_type": "code",
        "colab": {}
      },
      "source": [
        "import numpy as np\n",
        "embed_fn = lambda s : np.array(list(map(lambda x : d2v_model.infer_vector(word_tokenize(x)),s)))"
      ],
      "execution_count": 0,
      "outputs": []
    },
    {
      "cell_type": "code",
      "metadata": {
        "id": "rFQdFa8iYhRJ",
        "colab_type": "code",
        "colab": {}
      },
      "source": [
        "sentiments = sentiment_df.Sentiment.values\n",
        "tweets = sentiment_df.cleaned_text.values"
      ],
      "execution_count": 0,
      "outputs": []
    },
    {
      "cell_type": "code",
      "metadata": {
        "id": "pIsnqYLFNF0_",
        "colab_type": "code",
        "outputId": "73e6743d-e3fa-47c4-d3dd-4961ce4e1de3",
        "colab": {
          "base_uri": "https://localhost:8080/",
          "height": 35
        }
      },
      "source": [
        "from tqdm import tqdm\n",
        "vectors = embed_fn(tqdm(tweets))"
      ],
      "execution_count": 0,
      "outputs": [
        {
          "output_type": "stream",
          "text": [
            "100%|██████████| 1578549/1578549 [20:40<00:00, 1272.63it/s]\n"
          ],
          "name": "stderr"
        }
      ]
    },
    {
      "cell_type": "code",
      "metadata": {
        "id": "YY_XkF-WTgCu",
        "colab_type": "code",
        "outputId": "2500b667-f4b3-4240-ca63-6d9c79b23ec6",
        "colab": {
          "base_uri": "https://localhost:8080/",
          "height": 35
        }
      },
      "source": [
        "vectors.shape"
      ],
      "execution_count": 0,
      "outputs": [
        {
          "output_type": "execute_result",
          "data": {
            "text/plain": [
              "(1578549, 512)"
            ]
          },
          "metadata": {
            "tags": []
          },
          "execution_count": 67
        }
      ]
    },
    {
      "cell_type": "code",
      "metadata": {
        "id": "3Sd_-DSIsTbV",
        "colab_type": "code",
        "colab": {}
      },
      "source": [
        "import tensorflow.keras.layers as layers\n",
        "from tensorflow.keras.models import Model\n",
        "from tensorflow.keras import backend as K\n",
        "import tensorflow as tf"
      ],
      "execution_count": 0,
      "outputs": []
    },
    {
      "cell_type": "code",
      "metadata": {
        "id": "cq2xh2hZ8KWH",
        "colab_type": "code",
        "colab": {}
      },
      "source": [
        "tf.keras.backend.set_floatx('float64')"
      ],
      "execution_count": 0,
      "outputs": []
    },
    {
      "cell_type": "code",
      "metadata": {
        "id": "sGXC7U_yuZJz",
        "colab_type": "code",
        "colab": {}
      },
      "source": [
        "args = {\n",
        "    'numberOfOutputClasses': 1,\n",
        "    'embed_size': 512,\n",
        "    'loss': 'binary_crossentropy',\n",
        "    'optimizer': 'adam',\n",
        "    'epochs': 15,\n",
        "    'batch_size': 256,\n",
        "    'activation': 'relu',\n",
        "    'output_acitivation': 'sigmoid',\n",
        "    'model_name': 'doc2vec-dnn'\n",
        "}"
      ],
      "execution_count": 0,
      "outputs": []
    },
    {
      "cell_type": "code",
      "metadata": {
        "id": "34iPWnUpssE3",
        "colab_type": "code",
        "outputId": "36e9236f-db21-455b-d80b-e40fd5a5155c",
        "colab": {
          "base_uri": "https://localhost:8080/",
          "height": 413
        }
      },
      "source": [
        "from tensorflow.keras.models import Sequential\n",
        "from tensorflow.keras.layers import Dropout, Dense\n",
        "\n",
        "\n",
        "model = Sequential()\n",
        "\n",
        "model.add(Dense(512, activation=args['activation'],input_shape=(512, )))\n",
        "model.add(Dropout(0.2))\n",
        "model.add(Dense(512, activation=args['activation']))\n",
        "model.add(Dropout(0.2))\n",
        "model.add(Dense(512, activation=args['activation']))\n",
        "model.add(Dropout(0.1))\n",
        "model.add(Dense(args['numberOfOutputClasses'], args['output_acitivation']))\n",
        "model.compile(loss=args['loss'], optimizer=args['optimizer'], metrics=['accuracy'])\n",
        "model.summary()"
      ],
      "execution_count": 0,
      "outputs": [
        {
          "output_type": "stream",
          "text": [
            "Model: \"sequential_2\"\n",
            "_________________________________________________________________\n",
            "Layer (type)                 Output Shape              Param #   \n",
            "=================================================================\n",
            "dense_7 (Dense)              (None, 512)               262656    \n",
            "_________________________________________________________________\n",
            "dropout_5 (Dropout)          (None, 512)               0         \n",
            "_________________________________________________________________\n",
            "dense_8 (Dense)              (None, 512)               262656    \n",
            "_________________________________________________________________\n",
            "dropout_6 (Dropout)          (None, 512)               0         \n",
            "_________________________________________________________________\n",
            "dense_9 (Dense)              (None, 512)               262656    \n",
            "_________________________________________________________________\n",
            "dropout_7 (Dropout)          (None, 512)               0         \n",
            "_________________________________________________________________\n",
            "dense_10 (Dense)             (None, 1)                 513       \n",
            "=================================================================\n",
            "Total params: 788,481\n",
            "Trainable params: 788,481\n",
            "Non-trainable params: 0\n",
            "_________________________________________________________________\n"
          ],
          "name": "stdout"
        }
      ]
    },
    {
      "cell_type": "code",
      "metadata": {
        "id": "8kRJslARywuz",
        "colab_type": "code",
        "colab": {}
      },
      "source": [
        "from sklearn.model_selection import train_test_split\n",
        "x_train, x_test, y_train, y_test = train_test_split(vectors, sentiments, test_size=.2)\n",
        "x_train, x_val, y_train, y_val = train_test_split(x_train, y_train, test_size=.2)"
      ],
      "execution_count": 0,
      "outputs": []
    },
    {
      "cell_type": "code",
      "metadata": {
        "id": "GOfL5UGzy0C9",
        "colab_type": "code",
        "outputId": "263d3eb3-9822-480a-aaa9-17894dd97d07",
        "colab": {
          "base_uri": "https://localhost:8080/",
          "height": 575
        }
      },
      "source": [
        "history = model.fit(x_train, \n",
        "          y_train,\n",
        "          validation_data=(x_val, y_val),\n",
        "          epochs=args['epochs'],\n",
        "          batch_size=args['batch_size'])\n",
        "model.save_weights(f\"{WORK_DIR}/models/{args['model_name']}.h5\")\n",
        "import json\n",
        "json_string = model.to_json()\n",
        "with open(f\"{WORK_DIR}/models/{args['model_name']}_args.json\", 'w') as f:\n",
        "    json.dump(args, f)\n",
        "with open(f\"{WORK_DIR}/models/{args['model_name']}.json\", 'w') as f:\n",
        "    json.dump(json_string, f)"
      ],
      "execution_count": 0,
      "outputs": [
        {
          "output_type": "stream",
          "text": [
            "Train on 1010271 samples, validate on 252568 samples\n",
            "Epoch 1/15\n",
            "1010271/1010271 [==============================] - 18s 18us/sample - loss: 0.6257 - accuracy: 0.6452 - val_loss: 0.6180 - val_accuracy: 0.6510\n",
            "Epoch 2/15\n",
            "1010271/1010271 [==============================] - 16s 16us/sample - loss: 0.6092 - accuracy: 0.6618 - val_loss: 0.6084 - val_accuracy: 0.6634\n",
            "Epoch 3/15\n",
            "1010271/1010271 [==============================] - 16s 16us/sample - loss: 0.5994 - accuracy: 0.6713 - val_loss: 0.6035 - val_accuracy: 0.6691\n",
            "Epoch 4/15\n",
            "1010271/1010271 [==============================] - 16s 16us/sample - loss: 0.5922 - accuracy: 0.6772 - val_loss: 0.6000 - val_accuracy: 0.6709\n",
            "Epoch 5/15\n",
            "1010271/1010271 [==============================] - 16s 16us/sample - loss: 0.5857 - accuracy: 0.6837 - val_loss: 0.5950 - val_accuracy: 0.6764\n",
            "Epoch 6/15\n",
            "1010271/1010271 [==============================] - 16s 16us/sample - loss: 0.5795 - accuracy: 0.6891 - val_loss: 0.5959 - val_accuracy: 0.6750\n",
            "Epoch 7/15\n",
            "1010271/1010271 [==============================] - 16s 16us/sample - loss: 0.5734 - accuracy: 0.6938 - val_loss: 0.5973 - val_accuracy: 0.6767\n",
            "Epoch 8/15\n",
            "1010271/1010271 [==============================] - 16s 16us/sample - loss: 0.5675 - accuracy: 0.6978 - val_loss: 0.5946 - val_accuracy: 0.6777\n",
            "Epoch 9/15\n",
            "1010271/1010271 [==============================] - 16s 16us/sample - loss: 0.5618 - accuracy: 0.7024 - val_loss: 0.6017 - val_accuracy: 0.6749\n",
            "Epoch 10/15\n",
            "1010271/1010271 [==============================] - 16s 16us/sample - loss: 0.5566 - accuracy: 0.7062 - val_loss: 0.6025 - val_accuracy: 0.6745\n",
            "Epoch 11/15\n",
            "1010271/1010271 [==============================] - 16s 16us/sample - loss: 0.5514 - accuracy: 0.7104 - val_loss: 0.6028 - val_accuracy: 0.6748\n",
            "Epoch 12/15\n",
            "1010271/1010271 [==============================] - 16s 16us/sample - loss: 0.5464 - accuracy: 0.7140 - val_loss: 0.6072 - val_accuracy: 0.6748\n",
            "Epoch 13/15\n",
            "1010271/1010271 [==============================] - 17s 16us/sample - loss: 0.5416 - accuracy: 0.7172 - val_loss: 0.6144 - val_accuracy: 0.6731\n",
            "Epoch 14/15\n",
            "1010271/1010271 [==============================] - 16s 16us/sample - loss: 0.5373 - accuracy: 0.7204 - val_loss: 0.6120 - val_accuracy: 0.6723\n",
            "Epoch 15/15\n",
            "1010271/1010271 [==============================] - 16s 16us/sample - loss: 0.5331 - accuracy: 0.7227 - val_loss: 0.6128 - val_accuracy: 0.6747\n"
          ],
          "name": "stdout"
        }
      ]
    },
    {
      "cell_type": "code",
      "metadata": {
        "id": "hIr-N3HTzBsd",
        "colab_type": "code",
        "outputId": "273ef41b-638a-421f-fb52-0fecbb35beb0",
        "colab": {
          "base_uri": "https://localhost:8080/",
          "height": 313
        }
      },
      "source": [
        "import matplotlib.pyplot as plt\n",
        "# list all data in history\n",
        "print(history.history.keys())\n",
        "# summarize history for accuracy\n",
        "plt.plot(history.history['accuracy'])\n",
        "plt.plot(history.history['val_accuracy'])\n",
        "plt.title('model accuracy')\n",
        "plt.ylabel('accuracy')\n",
        "plt.xlabel('epoch')\n",
        "plt.legend(['train', 'test'], loc='upper left')\n",
        "plt.show()"
      ],
      "execution_count": 0,
      "outputs": [
        {
          "output_type": "stream",
          "text": [
            "dict_keys(['loss', 'accuracy', 'val_loss', 'val_accuracy'])\n"
          ],
          "name": "stdout"
        },
        {
          "output_type": "display_data",
          "data": {
            "image/png": "[encoded data removed]",
            "text/plain": [
              "<Figure size 432x288 with 1 Axes>"
            ]
          },
          "metadata": {
            "tags": []
          }
        }
      ]
    },
    {
      "cell_type": "code",
      "metadata": {
        "id": "zDTb8UZNg4Q9",
        "colab_type": "code",
        "outputId": "e84a14c1-a7fb-4662-eca8-c01f075e4c6f",
        "colab": {
          "base_uri": "https://localhost:8080/",
          "height": 295
        }
      },
      "source": [
        "# summarize history for loss\n",
        "plt.plot(history.history['loss'])\n",
        "plt.plot(history.history['val_loss'])\n",
        "plt.title('model loss')\n",
        "plt.ylabel('loss')\n",
        "plt.xlabel('epoch')\n",
        "plt.legend(['train', 'test'], loc='upper left')\n",
        "plt.show()"
      ],
      "execution_count": 0,
      "outputs": [
        {
          "output_type": "display_data",
          "data": {
            "image/png": "[encoded data removed]",
            "text/plain": [
              "<Figure size 432x288 with 1 Axes>"
            ]
          },
          "metadata": {
            "tags": []
          }
        }
      ]
    },
    {
      "cell_type": "code",
      "metadata": {
        "id": "EheiZoBhg7d7",
        "colab_type": "code",
        "outputId": "c7fa5569-a5ea-4e13-9079-05a1e41d14d9",
        "colab": {
          "base_uri": "https://localhost:8080/",
          "height": 197
        }
      },
      "source": [
        "score = model.evaluate(x_test, y_test, verbose=1)"
      ],
      "execution_count": 0,
      "outputs": [
        {
          "output_type": "stream",
          "text": [
            "IOPub data rate exceeded.\n",
            "The notebook server will temporarily stop sending output\n",
            "to the client in order to avoid crashing it.\n",
            "To change this limit, set the config variable\n",
            "`--NotebookApp.iopub_data_rate_limit`.\n",
            "\n",
            "Current values:\n",
            "NotebookApp.iopub_data_rate_limit=1000000.0 (bytes/sec)\n",
            "NotebookApp.rate_limit_window=3.0 (secs)\n",
            "\n"
          ],
          "name": "stderr"
        }
      ]
    },
    {
      "cell_type": "code",
      "metadata": {
        "id": "zIE2JBfeg9As",
        "colab_type": "code",
        "outputId": "0ed9c3f3-0307-4c56-aa81-bb077c6a5ea3",
        "colab": {
          "base_uri": "https://localhost:8080/",
          "height": 35
        }
      },
      "source": [
        "score"
      ],
      "execution_count": 0,
      "outputs": [
        {
          "output_type": "execute_result",
          "data": {
            "text/plain": [
              "[0.6109940449522633, 0.6759146]"
            ]
          },
          "metadata": {
            "tags": []
          },
          "execution_count": 85
        }
      ]
    },
    {
      "cell_type": "code",
      "metadata": {
        "id": "BzIuqg0fhDiu",
        "colab_type": "code",
        "colab": {}
      },
      "source": [
        ""
      ],
      "execution_count": 0,
      "outputs": []
    }
  ]
}