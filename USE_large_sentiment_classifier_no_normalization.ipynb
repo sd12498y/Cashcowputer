{
  "nbformat": 4,
  "nbformat_minor": 0,
  "metadata": {
    "colab": {
      "name": "USE sentiment classifier.ipynb",
      "provenance": []
    },
    "kernelspec": {
      "name": "python3",
      "display_name": "Python 3"
    },
    "accelerator": "GPU"
  },
  "cells": [
    {
      "cell_type": "code",
      "metadata": {
        "id": "ZhCqw6t95Gbc",
        "colab_type": "code",
        "outputId": "6f554b36-3284-4a50-c6c4-6f5b4b38f209",
        "colab": {
          "base_uri": "https://localhost:8080/",
          "height": 35
        }
      },
      "source": [
        "from google.colab import drive\n",
        "drive.mount('/content/drive')"
      ],
      "execution_count": 0,
      "outputs": [
        {
          "output_type": "stream",
          "text": [
            "Drive already mounted at /content/drive; to attempt to forcibly remount, call drive.mount(\"/content/drive\", force_remount=True).\n"
          ],
          "name": "stdout"
        }
      ]
    },
    {
      "cell_type": "code",
      "metadata": {
        "id": "PX-nV-UpN2V_",
        "colab_type": "code",
        "outputId": "a34854e5-40af-48e2-b329-7a37a4ee614a",
        "colab": {
          "base_uri": "https://localhost:8080/",
          "height": 35
        }
      },
      "source": [
        "%tensorflow_version 2.x"
      ],
      "execution_count": 0,
      "outputs": [
        {
          "output_type": "stream",
          "text": [
            "TensorFlow 2.x selected.\n"
          ],
          "name": "stdout"
        }
      ]
    },
    {
      "cell_type": "code",
      "metadata": {
        "id": "7Y1v7owJNS2L",
        "colab_type": "code",
        "colab": {}
      },
      "source": [
        "working_dir = '/content/drive/My Drive/FINA4350'\n",
        "data_dir = f'{working_dir}/datasets/cashcowputer-dataset'"
      ],
      "execution_count": 0,
      "outputs": []
    },
    {
      "cell_type": "code",
      "metadata": {
        "id": "6FNyhqjGNr5j",
        "colab_type": "code",
        "colab": {}
      },
      "source": [
        "import tensorflow as tf\n",
        "import tensorflow_hub as hub"
      ],
      "execution_count": 0,
      "outputs": []
    },
    {
      "cell_type": "code",
      "metadata": {
        "id": "uiAfHKvSOOVO",
        "colab_type": "code",
        "outputId": "c7f9aeca-5ee8-40b4-ebec-d04daddebd70",
        "colab": {
          "base_uri": "https://localhost:8080/",
          "height": 35
        }
      },
      "source": [
        "print(tf.__version__)"
      ],
      "execution_count": 0,
      "outputs": [
        {
          "output_type": "stream",
          "text": [
            "2.0.0\n"
          ],
          "name": "stdout"
        }
      ]
    },
    {
      "cell_type": "code",
      "metadata": {
        "id": "PI9bdvLUPFm_",
        "colab_type": "code",
        "colab": {}
      },
      "source": [
        "module_path = 'https://tfhub.dev/google/universal-sentence-encoder-large/4'"
      ],
      "execution_count": 0,
      "outputs": []
    },
    {
      "cell_type": "code",
      "metadata": {
        "id": "N8Yn1S0yPabG",
        "colab_type": "code",
        "colab": {}
      },
      "source": [
        "embed = hub.load(module_path)"
      ],
      "execution_count": 0,
      "outputs": []
    },
    {
      "cell_type": "code",
      "metadata": {
        "id": "4OGXcA5QPa8w",
        "colab_type": "code",
        "colab": {}
      },
      "source": [
        "messages = [\n",
        "    \"The quick brown fox jumps over the lazy dog.\",\n",
        "    \"I am a sentence for which I would like to get its embedding\",\n",
        "    \"That band rocks!\",\n",
        "    \"That song is really cool.\"]"
      ],
      "execution_count": 0,
      "outputs": []
    },
    {
      "cell_type": "code",
      "metadata": {
        "id": "UGdIM48zPlo-",
        "colab_type": "code",
        "colab": {}
      },
      "source": [
        "message_embeddings = embed(messages)['outputs']"
      ],
      "execution_count": 0,
      "outputs": []
    },
    {
      "cell_type": "code",
      "metadata": {
        "id": "mTvpm4bZ8AVf",
        "colab_type": "code",
        "outputId": "3f77a034-ef83-434f-e8f8-0afb0835a8cf",
        "colab": {
          "base_uri": "https://localhost:8080/",
          "height": 35
        }
      },
      "source": [
        "K.shape(message_embeddings)[0]"
      ],
      "execution_count": 0,
      "outputs": [
        {
          "output_type": "execute_result",
          "data": {
            "text/plain": [
              "<tf.Tensor: id=188067, shape=(), dtype=int32, numpy=4>"
            ]
          },
          "metadata": {
            "tags": []
          },
          "execution_count": 111
        }
      ]
    },
    {
      "cell_type": "code",
      "metadata": {
        "id": "5nb31bbtoo2T",
        "colab_type": "code",
        "outputId": "289e2721-e23a-4466-d53c-e7019e301908",
        "colab": {
          "base_uri": "https://localhost:8080/",
          "height": 593
        }
      },
      "source": [
        "batch = K.shape(message_embeddings)[0]\n",
        "time_step = K.shape(message_embeddings)[1]\n",
        "tf.reshape(message_embeddings,[batch,time_step,1])"
      ],
      "execution_count": 0,
      "outputs": [
        {
          "output_type": "execute_result",
          "data": {
            "text/plain": [
              "<tf.Tensor: id=188093, shape=(4, 512, 1), dtype=float32, numpy=\n",
              "array([[[ 0.01305106],\n",
              "        [ 0.02235122],\n",
              "        [-0.03263275],\n",
              "        ...,\n",
              "        [-0.00565098],\n",
              "        [-0.04793024],\n",
              "        [-0.11492755]],\n",
              "\n",
              "       [[ 0.05833389],\n",
              "        [-0.0818501 ],\n",
              "        [ 0.06890936],\n",
              "        ...,\n",
              "        [-0.00923877],\n",
              "        [-0.0869535 ],\n",
              "        [-0.01415742]],\n",
              "\n",
              "       [[ 0.00154741],\n",
              "        [-0.00163464],\n",
              "        [-0.00327043],\n",
              "        ...,\n",
              "        [-0.05142723],\n",
              "        [-0.00396477],\n",
              "        [ 0.00807113]],\n",
              "\n",
              "       [[-0.01298553],\n",
              "        [-0.04493096],\n",
              "        [ 0.02683974],\n",
              "        ...,\n",
              "        [-0.05569632],\n",
              "        [ 0.0405628 ],\n",
              "        [ 0.02919839]]], dtype=float32)>"
            ]
          },
          "metadata": {
            "tags": []
          },
          "execution_count": 113
        }
      ]
    },
    {
      "cell_type": "code",
      "metadata": {
        "id": "OyiKbMHmRjCn",
        "colab_type": "code",
        "outputId": "810f3be6-1b4b-4bfe-ea00-e3be64a0fcb2",
        "colab": {
          "base_uri": "https://localhost:8080/",
          "height": 179
        }
      },
      "source": [
        "print(message_embeddings)"
      ],
      "execution_count": 0,
      "outputs": [
        {
          "output_type": "stream",
          "text": [
            "tf.Tensor(\n",
            "[[ 0.01305106  0.02235121 -0.03263273 ... -0.00565098 -0.04793024\n",
            "  -0.11492755]\n",
            " [ 0.0583339  -0.0818501   0.06890936 ... -0.00923876 -0.08695348\n",
            "  -0.01415742]\n",
            " [ 0.00154741 -0.00163464 -0.00327043 ... -0.05142722 -0.00396477\n",
            "   0.00807113]\n",
            " [-0.01298553 -0.04493096  0.02683973 ... -0.05569631  0.0405628\n",
            "   0.0291984 ]], shape=(4, 512), dtype=float32)\n"
          ],
          "name": "stdout"
        }
      ]
    },
    {
      "cell_type": "markdown",
      "metadata": {
        "id": "j7dhF35WSL0g",
        "colab_type": "text"
      },
      "source": [
        "# Import and prepare data"
      ]
    },
    {
      "cell_type": "code",
      "metadata": {
        "id": "P4mvL435SDro",
        "colab_type": "code",
        "colab": {}
      },
      "source": [
        "file_dir = '/preprocessed/preprocessed_tweet_senti_dataset.csv'"
      ],
      "execution_count": 0,
      "outputs": []
    },
    {
      "cell_type": "code",
      "metadata": {
        "id": "xSd27jSUSkao",
        "colab_type": "code",
        "colab": {}
      },
      "source": [
        "import pandas as pd"
      ],
      "execution_count": 0,
      "outputs": []
    },
    {
      "cell_type": "code",
      "metadata": {
        "id": "oxYLJhICScuS",
        "colab_type": "code",
        "colab": {}
      },
      "source": [
        "sentiment_df = pd.read_csv(data_dir+file_dir)"
      ],
      "execution_count": 0,
      "outputs": []
    },
    {
      "cell_type": "code",
      "metadata": {
        "id": "D60_cyBjSsmc",
        "colab_type": "code",
        "outputId": "c3ce6567-c8a0-40ae-bc10-59d93ecfddde",
        "colab": {
          "base_uri": "https://localhost:8080/",
          "height": 204
        }
      },
      "source": [
        "sentiment_df.head()"
      ],
      "execution_count": 0,
      "outputs": [
        {
          "output_type": "execute_result",
          "data": {
            "text/html": [
              "<div>\n",
              "<style scoped>\n",
              "    .dataframe tbody tr th:only-of-type {\n",
              "        vertical-align: middle;\n",
              "    }\n",
              "\n",
              "    .dataframe tbody tr th {\n",
              "        vertical-align: top;\n",
              "    }\n",
              "\n",
              "    .dataframe thead th {\n",
              "        text-align: right;\n",
              "    }\n",
              "</style>\n",
              "<table border=\"1\" class=\"dataframe\">\n",
              "  <thead>\n",
              "    <tr style=\"text-align: right;\">\n",
              "      <th></th>\n",
              "      <th>ItemID</th>\n",
              "      <th>Sentiment</th>\n",
              "      <th>SentimentSource</th>\n",
              "      <th>SentimentText</th>\n",
              "      <th>cleaned_text</th>\n",
              "    </tr>\n",
              "  </thead>\n",
              "  <tbody>\n",
              "    <tr>\n",
              "      <th>0</th>\n",
              "      <td>1</td>\n",
              "      <td>0</td>\n",
              "      <td>Sentiment140</td>\n",
              "      <td>is so sad for my APL frie...</td>\n",
              "      <td>is so sad for my apl friend</td>\n",
              "    </tr>\n",
              "    <tr>\n",
              "      <th>1</th>\n",
              "      <td>2</td>\n",
              "      <td>0</td>\n",
              "      <td>Sentiment140</td>\n",
              "      <td>I missed the New Moon trail...</td>\n",
              "      <td>i missed the new moon trailer</td>\n",
              "    </tr>\n",
              "    <tr>\n",
              "      <th>2</th>\n",
              "      <td>3</td>\n",
              "      <td>1</td>\n",
              "      <td>Sentiment140</td>\n",
              "      <td>omg its already 7:30 :O</td>\n",
              "      <td>omg its already o</td>\n",
              "    </tr>\n",
              "    <tr>\n",
              "      <th>3</th>\n",
              "      <td>4</td>\n",
              "      <td>0</td>\n",
              "      <td>Sentiment140</td>\n",
              "      <td>.. Omgaga. Im sooo  im gunna CRy. Iv...</td>\n",
              "      <td>omgaga I am sooo I am gunna cry I have been at...</td>\n",
              "    </tr>\n",
              "    <tr>\n",
              "      <th>4</th>\n",
              "      <td>5</td>\n",
              "      <td>0</td>\n",
              "      <td>Sentiment140</td>\n",
              "      <td>i think mi bf is cheating on me!!!   ...</td>\n",
              "      <td>i think mi bf is cheating on me tt</td>\n",
              "    </tr>\n",
              "  </tbody>\n",
              "</table>\n",
              "</div>"
            ],
            "text/plain": [
              "   ItemID  ...                                       cleaned_text\n",
              "0       1  ...                        is so sad for my apl friend\n",
              "1       2  ...                      i missed the new moon trailer\n",
              "2       3  ...                                  omg its already o\n",
              "3       4  ...  omgaga I am sooo I am gunna cry I have been at...\n",
              "4       5  ...                 i think mi bf is cheating on me tt\n",
              "\n",
              "[5 rows x 5 columns]"
            ]
          },
          "metadata": {
            "tags": []
          },
          "execution_count": 11
        }
      ]
    },
    {
      "cell_type": "code",
      "metadata": {
        "id": "O3IGv--kvVzD",
        "colab_type": "code",
        "outputId": "2e1ebb95-5ec0-41d6-d5e1-d2b4a72990e7",
        "colab": {
          "base_uri": "https://localhost:8080/",
          "height": 35
        }
      },
      "source": [
        "sentiment_df.isnull().values.any()"
      ],
      "execution_count": 0,
      "outputs": [
        {
          "output_type": "execute_result",
          "data": {
            "text/plain": [
              "True"
            ]
          },
          "metadata": {
            "tags": []
          },
          "execution_count": 12
        }
      ]
    },
    {
      "cell_type": "code",
      "metadata": {
        "id": "XoMxVRyNoVuG",
        "colab_type": "code",
        "colab": {}
      },
      "source": [
        "sentiment_df = sentiment_df.dropna(axis=0)"
      ],
      "execution_count": 0,
      "outputs": []
    },
    {
      "cell_type": "code",
      "metadata": {
        "id": "SwRiVLVXTEUq",
        "colab_type": "code",
        "colab": {}
      },
      "source": [
        "from sklearn.model_selection import train_test_split\n",
        "import numpy as np"
      ],
      "execution_count": 0,
      "outputs": []
    },
    {
      "cell_type": "code",
      "metadata": {
        "id": "F2ReRoaBTRIS",
        "colab_type": "code",
        "colab": {}
      },
      "source": [
        "sentiments = sentiment_df.Sentiment.values\n",
        "tweets = sentiment_df.cleaned_text.values"
      ],
      "execution_count": 0,
      "outputs": []
    },
    {
      "cell_type": "code",
      "metadata": {
        "id": "FGjDtkYdTN0S",
        "colab_type": "code",
        "colab": {}
      },
      "source": [
        "x_train, x_test, y_train, y_test = train_test_split(tweets, sentiments, test_size=.2)\n",
        "x_train, x_val, y_train, y_val = train_test_split(x_train, y_train, test_size=.2)"
      ],
      "execution_count": 0,
      "outputs": []
    },
    {
      "cell_type": "markdown",
      "metadata": {
        "id": "oyMy5XCaUGeK",
        "colab_type": "text"
      },
      "source": [
        "# Prepare a simple model"
      ]
    },
    {
      "cell_type": "code",
      "metadata": {
        "id": "RSuctpk2UX8k",
        "colab_type": "code",
        "colab": {}
      },
      "source": [
        "import tensorflow.keras.layers as layers\n",
        "from tensorflow.keras.models import Model\n",
        "from tensorflow.keras import backend as K"
      ],
      "execution_count": 0,
      "outputs": []
    },
    {
      "cell_type": "code",
      "metadata": {
        "id": "6nxm03HMUz73",
        "colab_type": "code",
        "colab": {}
      },
      "source": [
        "args = {\n",
        "    'numberOfOutputClasses': 1,\n",
        "    'embed_size': 512,\n",
        "    'loss': 'binary_crossentropy',\n",
        "    'optimizer': 'adagrad',\n",
        "    'epochs': 15,\n",
        "    'batch_size': 256,\n",
        "    'activation': 'relu',\n",
        "    'output_acitivation': 'sigmoid',\n",
        "    'model_name': '2-DNN-keras'\n",
        "}"
      ],
      "execution_count": 0,
      "outputs": []
    },
    {
      "cell_type": "code",
      "metadata": {
        "id": "yDteFeX6Vosv",
        "colab_type": "code",
        "colab": {}
      },
      "source": [
        "def UniversalEmbedding(x):\n",
        "    return embed(tf.squeeze(tf.cast(x, tf.string)))['outputs']"
      ],
      "execution_count": 0,
      "outputs": []
    },
    {
      "cell_type": "code",
      "metadata": {
        "id": "Gk4G5XxJT9_v",
        "colab_type": "code",
        "outputId": "1b36dc94-6b4c-4e87-9780-ac2efb95659f",
        "colab": {
          "base_uri": "https://localhost:8080/",
          "height": 305
        }
      },
      "source": [
        "input_text = layers.Input(shape=(1,), dtype=tf.string)\n",
        "embedding = layers.Lambda(UniversalEmbedding, output_shape=(args['embed_size'],))(input_text)\n",
        "dense = layers.Dense(256, activation=args['activation'])(embedding)\n",
        "pred = layers.Dense(args['numberOfOutputClasses'], args['output_acitivation'])(dense)\n",
        "model = Model(inputs=[input_text], outputs=pred)\n",
        "model.compile(loss=args['loss'], optimizer=args['optimizer'], metrics=['accuracy'])\n",
        "model.summary()"
      ],
      "execution_count": 0,
      "outputs": [
        {
          "output_type": "stream",
          "text": [
            "Model: \"model\"\n",
            "_________________________________________________________________\n",
            "Layer (type)                 Output Shape              Param #   \n",
            "=================================================================\n",
            "input_1 (InputLayer)         [(None, 1)]               0         \n",
            "_________________________________________________________________\n",
            "lambda (Lambda)              (None, 512)               0         \n",
            "_________________________________________________________________\n",
            "dense (Dense)                (None, 256)               131328    \n",
            "_________________________________________________________________\n",
            "dense_1 (Dense)              (None, 1)                 257       \n",
            "=================================================================\n",
            "Total params: 131,585\n",
            "Trainable params: 131,585\n",
            "Non-trainable params: 0\n",
            "_________________________________________________________________\n"
          ],
          "name": "stdout"
        }
      ]
    },
    {
      "cell_type": "code",
      "metadata": {
        "id": "c_Fv3wDCVroj",
        "colab_type": "code",
        "outputId": "1f2e04d8-4582-4afa-f925-d42865f3d921",
        "colab": {
          "base_uri": "https://localhost:8080/",
          "height": 595
        }
      },
      "source": [
        "history = model.fit(x_train, \n",
        "          y_train,\n",
        "          validation_data=(x_val, y_val),\n",
        "          epochs=args['epochs'],\n",
        "          batch_size=args['batch_size'])"
      ],
      "execution_count": 0,
      "outputs": [
        {
          "output_type": "stream",
          "text": [
            "Train on 1010188 samples, validate on 252548 samples\n",
            "Epoch 1/15\n",
            "1010188/1010188 [==============================] - 487s 482us/sample - loss: 0.4838 - accuracy: 0.7762 - val_loss: 0.4680 - val_accuracy: 0.7796\n",
            "Epoch 2/15\n",
            "1010188/1010188 [==============================] - 450s 445us/sample - loss: 0.4646 - accuracy: 0.7814 - val_loss: 0.4644 - val_accuracy: 0.7810\n",
            "Epoch 3/15\n",
            "1010188/1010188 [==============================] - 449s 444us/sample - loss: 0.4620 - accuracy: 0.7824 - val_loss: 0.4626 - val_accuracy: 0.7816\n",
            "Epoch 4/15\n",
            "1010188/1010188 [==============================] - 449s 445us/sample - loss: 0.4604 - accuracy: 0.7831 - val_loss: 0.4613 - val_accuracy: 0.7821\n",
            "Epoch 5/15\n",
            "1010188/1010188 [==============================] - 447s 443us/sample - loss: 0.4593 - accuracy: 0.7836 - val_loss: 0.4604 - val_accuracy: 0.7823\n",
            "Epoch 6/15\n",
            "1010188/1010188 [==============================] - 453s 448us/sample - loss: 0.4585 - accuracy: 0.7839 - val_loss: 0.4596 - val_accuracy: 0.7826\n",
            "Epoch 7/15\n",
            "1010188/1010188 [==============================] - 446s 442us/sample - loss: 0.4577 - accuracy: 0.7842 - val_loss: 0.4590 - val_accuracy: 0.7829\n",
            "Epoch 8/15\n",
            "1010188/1010188 [==============================] - 450s 446us/sample - loss: 0.4571 - accuracy: 0.7845 - val_loss: 0.4584 - val_accuracy: 0.7829\n",
            "Epoch 9/15\n",
            "1010188/1010188 [==============================] - 449s 445us/sample - loss: 0.4565 - accuracy: 0.7847 - val_loss: 0.4579 - val_accuracy: 0.7831\n",
            "Epoch 10/15\n",
            "1010188/1010188 [==============================] - 449s 445us/sample - loss: 0.4560 - accuracy: 0.7849 - val_loss: 0.4574 - val_accuracy: 0.7833\n",
            "Epoch 11/15\n",
            "1010188/1010188 [==============================] - 449s 445us/sample - loss: 0.4556 - accuracy: 0.7851 - val_loss: 0.4570 - val_accuracy: 0.7833\n",
            "Epoch 12/15\n",
            "1010188/1010188 [==============================] - 448s 443us/sample - loss: 0.4552 - accuracy: 0.7853 - val_loss: 0.4566 - val_accuracy: 0.7836\n",
            "Epoch 13/15\n",
            "1010188/1010188 [==============================] - 450s 446us/sample - loss: 0.4548 - accuracy: 0.7854 - val_loss: 0.4563 - val_accuracy: 0.7836\n",
            "Epoch 14/15\n",
            "1010188/1010188 [==============================] - 450s 445us/sample - loss: 0.4544 - accuracy: 0.7856 - val_loss: 0.4559 - val_accuracy: 0.7838\n",
            "Epoch 15/15\n",
            " 335616/1010188 [========>.....................] - ETA: 4:03 - loss: 0.4533 - accuracy: 0.7859Buffered data was truncated after reaching the output size limit."
          ],
          "name": "stdout"
        }
      ]
    },
    {
      "cell_type": "code",
      "metadata": {
        "id": "d2z8OTlPfuew",
        "colab_type": "code",
        "colab": {}
      },
      "source": [
        "model.save_weights(f\"{working_dir}/models/{args['model_name']}.h5\")"
      ],
      "execution_count": 0,
      "outputs": []
    },
    {
      "cell_type": "code",
      "metadata": {
        "id": "boVw9QLEfyap",
        "colab_type": "code",
        "colab": {}
      },
      "source": [
        "import json\n",
        "with open(f\"{working_dir}/models/{args['model_name']}_args.json\", 'w') as f:\n",
        "    json.dump(args, f)"
      ],
      "execution_count": 0,
      "outputs": []
    },
    {
      "cell_type": "code",
      "metadata": {
        "id": "TEI7ZJckvqXK",
        "colab_type": "code",
        "outputId": "2969f65f-2621-42d2-f369-e5612a9ee330",
        "colab": {
          "base_uri": "https://localhost:8080/",
          "height": 313
        }
      },
      "source": [
        "import matplotlib.pyplot as plt\n",
        "# list all data in history\n",
        "print(history.history.keys())\n",
        "# summarize history for accuracy\n",
        "plt.plot(history.history['accuracy'])\n",
        "plt.plot(history.history['val_accuracy'])\n",
        "plt.title('model accuracy')\n",
        "plt.ylabel('accuracy')\n",
        "plt.xlabel('epoch')\n",
        "plt.legend(['train', 'test'], loc='upper left')\n",
        "plt.show()"
      ],
      "execution_count": 0,
      "outputs": [
        {
          "output_type": "stream",
          "text": [
            "dict_keys(['loss', 'accuracy', 'val_loss', 'val_accuracy'])\n"
          ],
          "name": "stdout"
        },
        {
          "output_type": "display_data",
          "data": {
            "image/png": "[encoded data removed]",
            "text/plain": [
              "<Figure size 432x288 with 1 Axes>"
            ]
          },
          "metadata": {
            "tags": []
          }
        }
      ]
    },
    {
      "cell_type": "code",
      "metadata": {
        "id": "5U4NuZynKsF-",
        "colab_type": "code",
        "outputId": "fdc7d39c-6a66-4447-dcc0-4334df74f480",
        "colab": {
          "base_uri": "https://localhost:8080/",
          "height": 295
        }
      },
      "source": [
        "# summarize history for loss\n",
        "plt.plot(history.history['loss'])\n",
        "plt.plot(history.history['val_loss'])\n",
        "plt.title('model loss')\n",
        "plt.ylabel('loss')\n",
        "plt.xlabel('epoch')\n",
        "plt.legend(['train', 'test'], loc='upper left')\n",
        "plt.show()"
      ],
      "execution_count": 0,
      "outputs": [
        {
          "output_type": "display_data",
          "data": {
            "image/png": "[encoded data removed]",
            "text/plain": [
              "<Figure size 432x288 with 1 Axes>"
            ]
          },
          "metadata": {
            "tags": []
          }
        }
      ]
    },
    {
      "cell_type": "code",
      "metadata": {
        "id": "qDAOpkUmK4Gd",
        "colab_type": "code",
        "colab": {}
      },
      "source": [
        "predicts = model.predict(x_test, batch_size=256)"
      ],
      "execution_count": 0,
      "outputs": []
    },
    {
      "cell_type": "code",
      "metadata": {
        "id": "Wahs_sElLCyG",
        "colab_type": "code",
        "outputId": "626631e6-4559-4551-d50d-fdb270c63c4e",
        "colab": {
          "base_uri": "https://localhost:8080/",
          "height": 197
        }
      },
      "source": [
        "score = model.evaluate(x_test, y_test, verbose=1)"
      ],
      "execution_count": 0,
      "outputs": [
        {
          "output_type": "stream",
          "text": [
            "IOPub data rate exceeded.\n",
            "The notebook server will temporarily stop sending output\n",
            "to the client in order to avoid crashing it.\n",
            "To change this limit, set the config variable\n",
            "`--NotebookApp.iopub_data_rate_limit`.\n",
            "\n",
            "Current values:\n",
            "NotebookApp.iopub_data_rate_limit=1000000.0 (bytes/sec)\n",
            "NotebookApp.rate_limit_window=3.0 (secs)\n",
            "\n"
          ],
          "name": "stderr"
        }
      ]
    },
    {
      "cell_type": "code",
      "metadata": {
        "id": "v5NGet7YNZtx",
        "colab_type": "code",
        "outputId": "f96a333d-16ec-4cf6-b87f-29173f6bcf20",
        "colab": {
          "base_uri": "https://localhost:8080/",
          "height": 35
        }
      },
      "source": [
        "score[0],score[1]"
      ],
      "execution_count": 0,
      "outputs": [
        {
          "output_type": "execute_result",
          "data": {
            "text/plain": [
              "(0.45537511071554193, 0.7851554)"
            ]
          },
          "metadata": {
            "tags": []
          },
          "execution_count": 45
        }
      ]
    },
    {
      "cell_type": "code",
      "metadata": {
        "id": "v1H1PXdGMA2a",
        "colab_type": "code",
        "colab": {}
      },
      "source": [
        "map_predicts = map(lambda x: 0 if x<=0.50 else 1,predicts)"
      ],
      "execution_count": 0,
      "outputs": []
    },
    {
      "cell_type": "code",
      "metadata": {
        "id": "sciLrMr1OGu-",
        "colab_type": "code",
        "colab": {}
      },
      "source": [
        "normalized_predicts = np.asarray(list(map_predicts))"
      ],
      "execution_count": 0,
      "outputs": []
    },
    {
      "cell_type": "code",
      "metadata": {
        "id": "ILnY913FNmom",
        "colab_type": "code",
        "colab": {}
      },
      "source": [
        "from sklearn.metrics import confusion_matrix"
      ],
      "execution_count": 0,
      "outputs": []
    },
    {
      "cell_type": "code",
      "metadata": {
        "id": "TwIgH9FMN-Zw",
        "colab_type": "code",
        "colab": {}
      },
      "source": [
        "data = confusion_matrix(y_test,normalized_predicts)"
      ],
      "execution_count": 0,
      "outputs": []
    },
    {
      "cell_type": "code",
      "metadata": {
        "id": "r3z2SbsBPYZR",
        "colab_type": "code",
        "outputId": "92551e36-bfe9-4b46-af91-3a0bc91923a9",
        "colab": {
          "base_uri": "https://localhost:8080/",
          "height": 53
        }
      },
      "source": [
        "print(data)"
      ],
      "execution_count": 0,
      "outputs": [
        {
          "output_type": "stream",
          "text": [
            "[[120451  37467]\n",
            " [ 30356 127410]]\n"
          ],
          "name": "stdout"
        }
      ]
    },
    {
      "cell_type": "code",
      "metadata": {
        "id": "xggwBCuPPvls",
        "colab_type": "code",
        "outputId": "c6441de0-4e02-4277-c410-cb8545512f7c",
        "colab": {
          "base_uri": "https://localhost:8080/",
          "height": 71
        }
      },
      "source": [
        "tn,fp,fn,tp = data[0][0], data[0][1], data[1][0], data[1][1]\n",
        "print(f'Accruacy: {(tn+tp)/(fp+fn+tn+tp)}')\n",
        "print(f'Precision: {tp/(tp+fp)}')\n",
        "print(f'Recall: {tp/(fn+tp)}')"
      ],
      "execution_count": 0,
      "outputs": [
        {
          "output_type": "stream",
          "text": [
            "Accruacy: 0.78515540857313\n",
            "Precision: 0.7727578740515657\n",
            "Recall: 0.8075884537859869\n"
          ],
          "name": "stdout"
        }
      ]
    },
    {
      "cell_type": "code",
      "metadata": {
        "id": "1ptAa6p8OCwc",
        "colab_type": "code",
        "outputId": "85cb5009-6778-4e92-f1f1-657fbb7bfbc7",
        "colab": {
          "base_uri": "https://localhost:8080/",
          "height": 483
        }
      },
      "source": [
        "import seaborn as sn\n",
        "df_cm = pd.DataFrame(data, columns=np.unique(y_test), index = np.unique(y_test))\n",
        "df_cm.index.name = 'Actual'\n",
        "df_cm.columns.name = 'Predicted'\n",
        "plt.figure(figsize = (10,7))\n",
        "sn.set(font_scale=1.4)#for label size\n",
        "sn.heatmap(df_cm, cmap=\"Blues\", annot=True,annot_kws={\"size\": 16})# font size"
      ],
      "execution_count": 0,
      "outputs": [
        {
          "output_type": "execute_result",
          "data": {
            "text/plain": [
              "<matplotlib.axes._subplots.AxesSubplot at 0x7f1bd1a407b8>"
            ]
          },
          "metadata": {
            "tags": []
          },
          "execution_count": 57
        },
        {
          "output_type": "display_data",
          "data": {
            "image/png": "[encoded data removed]",
            "text/plain": [
              "<Figure size 720x504 with 2 Axes>"
            ]
          },
          "metadata": {
            "tags": []
          }
        }
      ]
    },
    {
      "cell_type": "markdown",
      "metadata": {
        "id": "iI02MZbZRfHy",
        "colab_type": "text"
      },
      "source": [
        "# Prepare a CNN"
      ]
    },
    {
      "cell_type": "code",
      "metadata": {
        "id": "INTV8wMaRs3I",
        "colab_type": "code",
        "colab": {}
      },
      "source": [
        "from keras.models import Sequential"
      ],
      "execution_count": 0,
      "outputs": []
    },
    {
      "cell_type": "code",
      "metadata": {
        "id": "DpM4XYAlRhWw",
        "colab_type": "code",
        "colab": {}
      },
      "source": [
        "cnn_model = Sequential()\n",
        "\n",
        "embedding_layer = Embedding(vocab_size, 100, weights=[embedding_matrix], input_length=maxlen , trainable=False)\n",
        "model.add(embedding_layer)\n",
        "\n",
        "model.add(Conv1D(128, 5, activation='relu'))\n",
        "model.add(GlobalMaxPooling1D())\n",
        "model.add(Dense(1, activation='sigmoid'))\n",
        "model.compile(optimizer='adam', loss='binary_crossentropy', metrics=['acc'])"
      ],
      "execution_count": 0,
      "outputs": []
    },
    {
      "cell_type": "code",
      "metadata": {
        "id": "XLHQ4zEGSkyq",
        "colab_type": "code",
        "colab": {}
      },
      "source": [
        "args = {\n",
        "    'numberOfOutputClasses': 1,\n",
        "    'embed_size': 512,\n",
        "    'loss': 'binary_crossentropy',\n",
        "    'optimizer': 'adam',\n",
        "    'epochs': 15,\n",
        "    'batch_size': 128,\n",
        "    'output_acitivation': 'sigmoid',\n",
        "    'model_name': 'LSTM-keras'\n",
        "}"
      ],
      "execution_count": 0,
      "outputs": []
    },
    {
      "cell_type": "code",
      "metadata": {
        "id": "YvDPQz61aVsK",
        "colab_type": "code",
        "colab": {}
      },
      "source": [
        "x_temp_train, x_temp_test, y_temp_train, y_temp_test = train_test_split(tweets, sentiments, test_size=.9)"
      ],
      "execution_count": 0,
      "outputs": []
    },
    {
      "cell_type": "code",
      "metadata": {
        "id": "-vSmV_2Aa0E1",
        "colab_type": "code",
        "colab": {}
      },
      "source": [
        "cut_x = x_temp_train[:1000]\n",
        "cut_y = y_temp_train[:1000]\n",
        "cut_x_test = x_temp_test[:1000]\n",
        "cut_y_test = y_temp_test[:1000]"
      ],
      "execution_count": 0,
      "outputs": []
    },
    {
      "cell_type": "code",
      "metadata": {
        "id": "G0BZoJcQbCT2",
        "colab_type": "code",
        "colab": {}
      },
      "source": [
        "cut_x_embed = UniversalEmbedding(cut_x)\n",
        "cut_x_test_embed = UniversalEmbedding(cut_x_test)"
      ],
      "execution_count": 0,
      "outputs": []
    },
    {
      "cell_type": "code",
      "metadata": {
        "id": "j-hM9rIZbSqn",
        "colab_type": "code",
        "outputId": "19a5b652-d632-4a8a-b99e-b549479b8953",
        "colab": {
          "base_uri": "https://localhost:8080/",
          "height": 35
        }
      },
      "source": [
        "cut_x_embed.shape,cut_x_test_embed.shape"
      ],
      "execution_count": 0,
      "outputs": [
        {
          "output_type": "execute_result",
          "data": {
            "text/plain": [
              "(TensorShape([1000, 512]), TensorShape([1000, 512]))"
            ]
          },
          "metadata": {
            "tags": []
          },
          "execution_count": 87
        }
      ]
    },
    {
      "cell_type": "code",
      "metadata": {
        "id": "fcFMiFjJSM6z",
        "colab_type": "code",
        "outputId": "4a1889af-3251-4d2b-f641-0c908f4a9b61",
        "colab": {
          "base_uri": "https://localhost:8080/",
          "height": 269
        }
      },
      "source": [
        "test_model = tf.keras.Sequential()\n",
        "# Add an Embedding layer expecting input vocab of size 1000, and\n",
        "# output embedding dimension of size 64.\n",
        "test_model.add(layers.Embedding(input_dim=512, output_dim=512))\n",
        "\n",
        "# Add a LSTM layer with 128 internal units.\n",
        "test_model.add(layers.LSTM(256))\n",
        "\n",
        "# Add a Dense layer with 10 units and softmax activation.\n",
        "test_model.add(layers.Dense(1, activation='sigmoid'))\n",
        "\n",
        "test_model.compile(optimizer='adagrad', loss='binary_crossentropy', metrics=['acc'])\n",
        "test_model.summary()"
      ],
      "execution_count": 0,
      "outputs": [
        {
          "output_type": "stream",
          "text": [
            "Model: \"sequential_2\"\n",
            "_________________________________________________________________\n",
            "Layer (type)                 Output Shape              Param #   \n",
            "=================================================================\n",
            "embedding_2 (Embedding)      (None, None, 512)         262144    \n",
            "_________________________________________________________________\n",
            "lstm_4 (LSTM)                (None, 256)               787456    \n",
            "_________________________________________________________________\n",
            "dense_5 (Dense)              (None, 1)                 257       \n",
            "=================================================================\n",
            "Total params: 1,049,857\n",
            "Trainable params: 1,049,857\n",
            "Non-trainable params: 0\n",
            "_________________________________________________________________\n"
          ],
          "name": "stdout"
        }
      ]
    },
    {
      "cell_type": "code",
      "metadata": {
        "id": "Oc-qvfcBSy5z",
        "colab_type": "code",
        "outputId": "4fcf6b84-aec9-4a65-eff3-33aae48b78ce",
        "colab": {
          "base_uri": "https://localhost:8080/",
          "height": 143
        }
      },
      "source": [
        "test_history = test_model.fit(cut_x_embed, \n",
        "          cut_y,\n",
        "          validation_data=(cut_x_test_embed, cut_y_test),\n",
        "          epochs=args['epochs'],\n",
        "          batch_size=args['batch_size'])"
      ],
      "execution_count": 0,
      "outputs": [
        {
          "output_type": "stream",
          "text": [
            "Train on 1000 samples, validate on 1000 samples\n",
            "Epoch 1/3\n",
            "1000/1000 [==============================] - 8s 8ms/sample - loss: 0.6992 - acc: 0.4940 - val_loss: 0.6950 - val_acc: 0.4910\n",
            "Epoch 2/3\n",
            "1000/1000 [==============================] - 2s 2ms/sample - loss: 0.6948 - acc: 0.4940 - val_loss: 0.6938 - val_acc: 0.4910\n",
            "Epoch 3/3\n",
            "1000/1000 [==============================] - 2s 2ms/sample - loss: 0.6932 - acc: 0.5040 - val_loss: 0.6932 - val_acc: 0.4910\n"
          ],
          "name": "stdout"
        }
      ]
    },
    {
      "cell_type": "code",
      "metadata": {
        "id": "S1ncMm9eglGG",
        "colab_type": "code",
        "colab": {}
      },
      "source": [
        "dump1, x_train, dump2, y_train = train_test_split(tweets, sentiments, test_size=.2)\n",
        "x_train, x_val, y_train, y_val = train_test_split(x_train, y_train, test_size=.2)"
      ],
      "execution_count": 0,
      "outputs": []
    },
    {
      "cell_type": "code",
      "metadata": {
        "id": "qTAhGR3PhOFD",
        "colab_type": "code",
        "outputId": "0a3c40d1-973e-4849-82cf-9353fa11ee66",
        "colab": {
          "base_uri": "https://localhost:8080/",
          "height": 35
        }
      },
      "source": [
        "x_train.shape,x_val.shape"
      ],
      "execution_count": 0,
      "outputs": [
        {
          "output_type": "execute_result",
          "data": {
            "text/plain": [
              "((252547,), (63137,))"
            ]
          },
          "metadata": {
            "tags": []
          },
          "execution_count": 18
        }
      ]
    },
    {
      "cell_type": "code",
      "metadata": {
        "id": "plQ2B3MImK3k",
        "colab_type": "code",
        "colab": {}
      },
      "source": [
        "import tensorflow.keras.layers as layers\n",
        "from tensorflow.keras.models import Model\n",
        "from tensorflow.keras import backend as K"
      ],
      "execution_count": 0,
      "outputs": []
    },
    {
      "cell_type": "code",
      "metadata": {
        "id": "bMh4Z3zuo5Wb",
        "colab_type": "code",
        "colab": {}
      },
      "source": [
        "def UniversalEmbedding3D(x):\n",
        "    embedings = embed(tf.squeeze(tf.cast(x, tf.string)))['outputs']\n",
        "    batch = K.shape(embedings)[0]\n",
        "    time_step = K.shape(embedings)[1]\n",
        "    return tf.reshape(embedings,[batch,time_step,1])"
      ],
      "execution_count": 0,
      "outputs": []
    },
    {
      "cell_type": "code",
      "metadata": {
        "id": "7T0AY7avBskH",
        "colab_type": "code",
        "colab": {}
      },
      "source": [
        "args = {\n",
        "    'numberOfOutputClasses': 1,\n",
        "    'embed_size': 512,\n",
        "    'loss': 'binary_crossentropy',\n",
        "    'optimizer': 'adam',\n",
        "    'epochs': 15,\n",
        "    'batch_size': 128,\n",
        "    'output_acitivation': 'sigmoid',\n",
        "    'model_name': 'LSTM-keras'\n",
        "}"
      ],
      "execution_count": 0,
      "outputs": []
    },
    {
      "cell_type": "code",
      "metadata": {
        "id": "Z1mCgEBQimAZ",
        "colab_type": "code",
        "outputId": "1e73dbb3-f7da-4ae2-fc0a-3c7397372172",
        "colab": {
          "base_uri": "https://localhost:8080/",
          "height": 305
        }
      },
      "source": [
        "input_text = layers.Input(shape=(1,), dtype=tf.string)\n",
        "embedding = layers.Lambda(UniversalEmbedding3D, output_shape=(None,512,1))(input_text)\n",
        "lstm = layers.LSTM(128,input_shape=(512, 1))(embedding)\n",
        "pred = layers.Dense(args['numberOfOutputClasses'], args['output_acitivation'])(lstm)\n",
        "lstm_model = Model(inputs=[input_text], outputs=pred)\n",
        "lstm_model.compile(optimizer=args['optimizer'], loss=args['loss'], metrics=['acc'])\n",
        "lstm_model.summary()"
      ],
      "execution_count": 0,
      "outputs": [
        {
          "output_type": "stream",
          "text": [
            "Model: \"model_18\"\n",
            "_________________________________________________________________\n",
            "Layer (type)                 Output Shape              Param #   \n",
            "=================================================================\n",
            "input_39 (InputLayer)        [(None, 1)]               0         \n",
            "_________________________________________________________________\n",
            "lambda_36 (Lambda)           (None, None, 1)           0         \n",
            "_________________________________________________________________\n",
            "lstm_29 (LSTM)               (None, 128)               66560     \n",
            "_________________________________________________________________\n",
            "dense_18 (Dense)             (None, 1)                 129       \n",
            "=================================================================\n",
            "Total params: 66,689\n",
            "Trainable params: 66,689\n",
            "Non-trainable params: 0\n",
            "_________________________________________________________________\n"
          ],
          "name": "stdout"
        }
      ]
    },
    {
      "cell_type": "code",
      "metadata": {
        "id": "xuxlhdKai0gP",
        "colab_type": "code",
        "outputId": "2bff1944-96f9-4aa7-c0ea-9cd710bad10a",
        "colab": {
          "base_uri": "https://localhost:8080/",
          "height": 575
        }
      },
      "source": [
        "history = lstm_model.fit(x_train, \n",
        "          y_train,\n",
        "          validation_data=(x_val, y_val),\n",
        "          epochs=args['epochs'],\n",
        "          batch_size=args['batch_size'])"
      ],
      "execution_count": 0,
      "outputs": [
        {
          "output_type": "stream",
          "text": [
            "Train on 1010188 samples, validate on 252548 samples\n",
            "Epoch 1/15\n",
            "1010188/1010188 [==============================] - 922s 913us/sample - loss: 0.6737 - acc: 0.5799 - val_loss: 0.6711 - val_acc: 0.5833\n",
            "Epoch 2/15\n",
            "1010188/1010188 [==============================] - 898s 888us/sample - loss: 0.6722 - acc: 0.5802 - val_loss: 0.6707 - val_acc: 0.5849\n",
            "Epoch 3/15\n",
            "1010188/1010188 [==============================] - 898s 889us/sample - loss: 0.6690 - acc: 0.5886 - val_loss: 0.6636 - val_acc: 0.6010\n",
            "Epoch 4/15\n",
            "1010188/1010188 [==============================] - 901s 892us/sample - loss: 0.6753 - acc: 0.5683 - val_loss: 0.6462 - val_acc: 0.6266\n",
            "Epoch 5/15\n",
            "1010188/1010188 [==============================] - 903s 893us/sample - loss: 0.6383 - acc: 0.6362 - val_loss: 0.6299 - val_acc: 0.6468\n",
            "Epoch 6/15\n",
            "1010188/1010188 [==============================] - 896s 887us/sample - loss: 0.6184 - acc: 0.6586 - val_loss: 0.6015 - val_acc: 0.6757\n",
            "Epoch 7/15\n",
            "1010188/1010188 [==============================] - 905s 896us/sample - loss: 0.6025 - acc: 0.6732 - val_loss: 0.7041 - val_acc: 0.5455\n",
            "Epoch 8/15\n",
            "1010188/1010188 [==============================] - 907s 898us/sample - loss: 0.6208 - acc: 0.6542 - val_loss: 0.5976 - val_acc: 0.6790\n",
            "Epoch 9/15\n",
            "1010188/1010188 [==============================] - 899s 890us/sample - loss: 0.5859 - acc: 0.6879 - val_loss: 0.5755 - val_acc: 0.6981\n",
            "Epoch 10/15\n",
            "1010188/1010188 [==============================] - 898s 889us/sample - loss: 0.5622 - acc: 0.7074 - val_loss: 0.5740 - val_acc: 0.6968\n",
            "Epoch 11/15\n",
            "1010188/1010188 [==============================] - 904s 895us/sample - loss: 0.5483 - acc: 0.7192 - val_loss: 0.5434 - val_acc: 0.7230\n",
            "Epoch 12/15\n",
            "1010188/1010188 [==============================] - 906s 897us/sample - loss: 0.5401 - acc: 0.7255 - val_loss: 0.5515 - val_acc: 0.7166\n",
            "Epoch 13/15\n",
            "1010188/1010188 [==============================] - 906s 897us/sample - loss: 0.5361 - acc: 0.7278 - val_loss: 0.5367 - val_acc: 0.7296\n",
            "Epoch 14/15\n",
            "1010188/1010188 [==============================] - 908s 898us/sample - loss: 0.5321 - acc: 0.7308 - val_loss: 0.5318 - val_acc: 0.7319\n",
            "Epoch 15/15\n",
            " 904448/1010188 [=========================>....] - ETA: 1:20 - loss: 0.5268 - acc: 0.7347"
          ],
          "name": "stdout"
        }
      ]
    },
    {
      "cell_type": "code",
      "metadata": {
        "id": "hpCw0Np2B9FQ",
        "colab_type": "code",
        "colab": {}
      },
      "source": [
        "lstm_model.save_weights(f\"{working_dir}/models/{args['model_name']}.h5\")"
      ],
      "execution_count": 0,
      "outputs": []
    },
    {
      "cell_type": "code",
      "metadata": {
        "id": "MDmO46N2B_Hh",
        "colab_type": "code",
        "colab": {}
      },
      "source": [
        "import json\n",
        "with open(f\"{working_dir}/models/{args['model_name']}_args.json\", 'w') as f:\n",
        "    json.dump(args, f)"
      ],
      "execution_count": 0,
      "outputs": []
    },
    {
      "cell_type": "code",
      "metadata": {
        "id": "A0bw4Z8dmikr",
        "colab_type": "code",
        "outputId": "6ab7dd8a-1ee9-4252-862a-a4d4f7dfe8e6",
        "colab": {
          "base_uri": "https://localhost:8080/",
          "height": 35
        }
      },
      "source": [
        "# define documents\n",
        "docs = ['Well done!',\n",
        "\t\t'Good work',\n",
        "\t\t'Great effort',\n",
        "\t\t'nice work',\n",
        "\t\t'Excellent!',\n",
        "\t\t'Weak',\n",
        "\t\t'Poor effort!',\n",
        "\t\t'not good',\n",
        "\t\t'poor work',\n",
        "\t\t'Could have done better.']\n",
        "# define class labels\n",
        "labels = np.array([1,1,1,1,1,0,0,0,0,0])\n",
        "vocab_size = 50\n",
        "encoded_docs = [tf.keras.preprocessing.text.one_hot(d, vocab_size) for d in docs]\n",
        "print(encoded_docs)"
      ],
      "execution_count": 0,
      "outputs": [
        {
          "output_type": "stream",
          "text": [
            "[[40, 35], [14, 11], [11, 12], [10, 11], [47], [29], [47, 12], [24, 14], [47, 11], [43, 32, 35, 32]]\n"
          ],
          "name": "stdout"
        }
      ]
    },
    {
      "cell_type": "code",
      "metadata": {
        "id": "lof-9kVNtYiR",
        "colab_type": "code",
        "colab": {}
      },
      "source": [
        ""
      ],
      "execution_count": 0,
      "outputs": []
    }
  ]
}