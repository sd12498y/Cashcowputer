{
 "cells": [
  {
   "cell_type": "code",
   "execution_count": 2,
   "metadata": {},
   "outputs": [],
   "source": [
    "import contractions\n",
    "import pandas as pd"
   ]
  },
  {
   "cell_type": "code",
   "execution_count": 113,
   "metadata": {},
   "outputs": [],
   "source": [
    "contractions_test_data = pd.read_csv('./datasets/contractions.csv')"
   ]
  },
  {
   "cell_type": "code",
   "execution_count": 4,
   "metadata": {},
   "outputs": [
    {
     "data": {
      "text/html": [
       "<div>\n",
       "<style scoped>\n",
       "    .dataframe tbody tr th:only-of-type {\n",
       "        vertical-align: middle;\n",
       "    }\n",
       "\n",
       "    .dataframe tbody tr th {\n",
       "        vertical-align: top;\n",
       "    }\n",
       "\n",
       "    .dataframe thead th {\n",
       "        text-align: right;\n",
       "    }\n",
       "</style>\n",
       "<table border=\"1\" class=\"dataframe\">\n",
       "  <thead>\n",
       "    <tr style=\"text-align: right;\">\n",
       "      <th></th>\n",
       "      <th>Short Form</th>\n",
       "      <th>Long Form</th>\n",
       "      <th>Example Sentence</th>\n",
       "    </tr>\n",
       "  </thead>\n",
       "  <tbody>\n",
       "    <tr>\n",
       "      <th>0</th>\n",
       "      <td>here's</td>\n",
       "      <td>here is</td>\n",
       "      <td>Here's my car.</td>\n",
       "    </tr>\n",
       "    <tr>\n",
       "      <th>1</th>\n",
       "      <td>there'll</td>\n",
       "      <td>there will</td>\n",
       "      <td>There'll be many people here tomorrow.</td>\n",
       "    </tr>\n",
       "    <tr>\n",
       "      <th>2</th>\n",
       "      <td>there's</td>\n",
       "      <td>there is</td>\n",
       "      <td>There's a dictionary on the table.</td>\n",
       "    </tr>\n",
       "    <tr>\n",
       "      <th>3</th>\n",
       "      <td>that's</td>\n",
       "      <td>that is</td>\n",
       "      <td>That's my book.</td>\n",
       "    </tr>\n",
       "    <tr>\n",
       "      <th>4</th>\n",
       "      <td>that'll</td>\n",
       "      <td>that will</td>\n",
       "      <td>That'll be great.</td>\n",
       "    </tr>\n",
       "  </tbody>\n",
       "</table>\n",
       "</div>"
      ],
      "text/plain": [
       "  Short Form   Long Form                        Example Sentence\n",
       "0     here's     here is                          Here's my car.\n",
       "1   there'll  there will  There'll be many people here tomorrow.\n",
       "2    there's    there is      There's a dictionary on the table.\n",
       "3     that's     that is                         That's my book.\n",
       "4    that'll   that will                       That'll be great."
      ]
     },
     "execution_count": 4,
     "metadata": {},
     "output_type": "execute_result"
    }
   ],
   "source": [
    "contractions_test_data.head()"
   ]
  },
  {
   "cell_type": "code",
   "execution_count": 21,
   "metadata": {},
   "outputs": [],
   "source": [
    "wrongs = []\n",
    "corrects = []\n",
    "for i,row in contractions_test_data.iterrows():\n",
    "    if contractions.fix(str(row['Short Form'])) != str(row['Long Form']):\n",
    "        wrongs.append((str(row['Short Form']),contractions.fix(str(row['Short Form'])),str(row['Long Form'])))\n",
    "    else:\n",
    "        corrects.append((str(row['Short Form']),contractions.fix(str(row['Short Form'])),str(row['Long Form'])))"
   ]
  },
  {
   "cell_type": "code",
   "execution_count": 24,
   "metadata": {},
   "outputs": [
    {
     "name": "stdout",
     "output_type": "stream",
     "text": [
      "The accuracy is 0.7837837837837838\n"
     ]
    }
   ],
   "source": [
    "accuracy = len(corrects)/(len(wrongs)+len(corrects))\n",
    "print(f'The accuracy is {accuracy}')"
   ]
  },
  {
   "cell_type": "code",
   "execution_count": 16,
   "metadata": {},
   "outputs": [],
   "source": [
    "from pycontractions import Contractions"
   ]
  },
  {
   "cell_type": "code",
   "execution_count": 18,
   "metadata": {},
   "outputs": [],
   "source": [
    "# Load pretrained Google word2Vec model\n",
    "cont = Contractions(api_key=\"./models/GoogleNews-vectors-negative300.bin\")"
   ]
  },
  {
   "cell_type": "code",
   "execution_count": 53,
   "metadata": {},
   "outputs": [
    {
     "data": {
      "text/plain": [
       "['they are going to the zoo and she will be home for dinner.']"
      ]
     },
     "execution_count": 53,
     "metadata": {},
     "output_type": "execute_result"
    }
   ],
   "source": [
    "text = \"Theyre going to the zoo and she'll be home for dinner.\"\n",
    "list(cont.expand_texts([text]))"
   ]
  },
  {
   "cell_type": "code",
   "execution_count": 54,
   "metadata": {},
   "outputs": [],
   "source": [
    "wrongs = []\n",
    "corrects = []\n",
    "for i,row in contractions_test_data.iterrows():\n",
    "    fixed_word = list(cont.expand_texts([str(row['Short Form'])]))[0]\n",
    "    if fixed_word != str(row['Long Form']):\n",
    "        wrongs.append((str(row['Short Form']),fixed_word,str(row['Long Form'])))\n",
    "    else:\n",
    "        corrects.append((str(row['Short Form']),fixed_word,str(row['Long Form'])))"
   ]
  },
  {
   "cell_type": "code",
   "execution_count": 56,
   "metadata": {},
   "outputs": [
    {
     "name": "stdout",
     "output_type": "stream",
     "text": [
      "The accuracy is 0.7432432432432432\n"
     ]
    }
   ],
   "source": [
    "accuracy = len(corrects)/(len(wrongs)+len(corrects))\n",
    "print(f'The accuracy is {accuracy}')"
   ]
  },
  {
   "cell_type": "code",
   "execution_count": 120,
   "metadata": {},
   "outputs": [],
   "source": [
    "contractions_test_data.loc[:,'Original Sentence'] = contractions_test_data['Example Sentence'].apply(lambda x: x.lower())\n",
    "contractions_test_data.loc[:,'Test Sentence'] = contractions_test_data.loc[:,'Original Sentence']"
   ]
  },
  {
   "cell_type": "code",
   "execution_count": 121,
   "metadata": {},
   "outputs": [],
   "source": [
    "contractions_test_data['Short Form'] = contractions_test_data['Short Form'].apply(lambda x: x.lower().rstrip())\n",
    "contractions_test_data['Long Form'] = contractions_test_data['Long Form'].apply(lambda x: x.lower().rstrip())"
   ]
  },
  {
   "cell_type": "code",
   "execution_count": 122,
   "metadata": {},
   "outputs": [],
   "source": [
    "temp = []\n",
    "for i,row in contractions_test_data.iterrows():\n",
    "    row['Test Sentence'] = str(row['Original Sentence']).replace(str(row['Short Form']), str(row['Long Form']))"
   ]
  },
  {
   "cell_type": "code",
   "execution_count": 123,
   "metadata": {},
   "outputs": [
    {
     "data": {
      "text/html": [
       "<div>\n",
       "<style scoped>\n",
       "    .dataframe tbody tr th:only-of-type {\n",
       "        vertical-align: middle;\n",
       "    }\n",
       "\n",
       "    .dataframe tbody tr th {\n",
       "        vertical-align: top;\n",
       "    }\n",
       "\n",
       "    .dataframe thead th {\n",
       "        text-align: right;\n",
       "    }\n",
       "</style>\n",
       "<table border=\"1\" class=\"dataframe\">\n",
       "  <thead>\n",
       "    <tr style=\"text-align: right;\">\n",
       "      <th></th>\n",
       "      <th>Short Form</th>\n",
       "      <th>Long Form</th>\n",
       "      <th>Example Sentence</th>\n",
       "      <th>Original Sentence</th>\n",
       "      <th>Test Sentence</th>\n",
       "    </tr>\n",
       "  </thead>\n",
       "  <tbody>\n",
       "    <tr>\n",
       "      <th>69</th>\n",
       "      <td>they'll</td>\n",
       "      <td>they will</td>\n",
       "      <td>They'll be giving a presentation.</td>\n",
       "      <td>they'll be giving a presentation.</td>\n",
       "      <td>they will be giving a presentation.</td>\n",
       "    </tr>\n",
       "    <tr>\n",
       "      <th>70</th>\n",
       "      <td>i'd</td>\n",
       "      <td>i would</td>\n",
       "      <td>I'd like to travel as much as possible.</td>\n",
       "      <td>i'd like to travel as much as possible.</td>\n",
       "      <td>i would like to travel as much as possible.</td>\n",
       "    </tr>\n",
       "    <tr>\n",
       "      <th>71</th>\n",
       "      <td>we'll</td>\n",
       "      <td>we will</td>\n",
       "      <td>We'll complete our homework on time.</td>\n",
       "      <td>we'll complete our homework on time.</td>\n",
       "      <td>we will complete our homework on time.</td>\n",
       "    </tr>\n",
       "    <tr>\n",
       "      <th>72</th>\n",
       "      <td>they're</td>\n",
       "      <td>they are</td>\n",
       "      <td>They're always on time.</td>\n",
       "      <td>they're always on time.</td>\n",
       "      <td>they are always on time.</td>\n",
       "    </tr>\n",
       "    <tr>\n",
       "      <th>73</th>\n",
       "      <td>who'll</td>\n",
       "      <td>who will</td>\n",
       "      <td>Who'll bring the apple pie to dinner.</td>\n",
       "      <td>who'll bring the apple pie to dinner.</td>\n",
       "      <td>who will bring the apple pie to dinner.</td>\n",
       "    </tr>\n",
       "  </tbody>\n",
       "</table>\n",
       "</div>"
      ],
      "text/plain": [
       "   Short Form  Long Form                         Example Sentence  \\\n",
       "69    they'll  they will        They'll be giving a presentation.   \n",
       "70        i'd    i would  I'd like to travel as much as possible.   \n",
       "71      we'll    we will     We'll complete our homework on time.   \n",
       "72    they're   they are                  They're always on time.   \n",
       "73     who'll   who will    Who'll bring the apple pie to dinner.   \n",
       "\n",
       "                          Original Sentence  \\\n",
       "69        they'll be giving a presentation.   \n",
       "70  i'd like to travel as much as possible.   \n",
       "71     we'll complete our homework on time.   \n",
       "72                  they're always on time.   \n",
       "73    who'll bring the apple pie to dinner.   \n",
       "\n",
       "                                  Test Sentence  \n",
       "69          they will be giving a presentation.  \n",
       "70  i would like to travel as much as possible.  \n",
       "71       we will complete our homework on time.  \n",
       "72                     they are always on time.  \n",
       "73      who will bring the apple pie to dinner.  "
      ]
     },
     "execution_count": 123,
     "metadata": {},
     "output_type": "execute_result"
    }
   ],
   "source": [
    "contractions_test_data.tail()"
   ]
  },
  {
   "cell_type": "code",
   "execution_count": 124,
   "metadata": {},
   "outputs": [],
   "source": [
    "wrongs = []\n",
    "corrects = []\n",
    "for i,row in contractions_test_data.iterrows():\n",
    "    fixed_sentence = list(cont.expand_texts([str(row['Original Sentence'])]))[0]\n",
    "    if fixed_sentence.lower() != str(row['Test Sentence']).lower():\n",
    "        wrongs.append((str(row['Short Form']),fixed_sentence,str(row['Test Sentence'])))\n",
    "    else:\n",
    "        corrects.append((str(row['Short Form']),fixed_sentence,str(row['Test Sentence'])))"
   ]
  },
  {
   "cell_type": "code",
   "execution_count": 125,
   "metadata": {},
   "outputs": [
    {
     "name": "stdout",
     "output_type": "stream",
     "text": [
      "The accuracy is 0.8918918918918919\n"
     ]
    }
   ],
   "source": [
    "accuracy = len(corrects)/(len(wrongs)+len(corrects))\n",
    "print(f'The accuracy is {accuracy}')"
   ]
  },
  {
   "cell_type": "code",
   "execution_count": 126,
   "metadata": {},
   "outputs": [
    {
     "data": {
      "text/plain": [
       "[(\"here's\", \"here's my car.\", 'here is my car.'),\n",
       " (\"there'll\",\n",
       "  \"there'll be many people here tomorrow.\",\n",
       "  'there will be many people here tomorrow.'),\n",
       " (\"that'll\", \"that'll be great.\", 'that will be great.'),\n",
       " (\"who'd\", \"who'd like ice-cream?\", 'who would like ice-cream?'),\n",
       " (\"who're\",\n",
       "  \"who're these people and what do they want?\",\n",
       "  'who are these people and what do they want?'),\n",
       " (\"you're\",\n",
       "  'this will be tough if you are not listening.',\n",
       "  'this will be tough if you were not listening.'),\n",
       " (\"there'll\",\n",
       "  \"there'll be time to chat later.\",\n",
       "  'there will be time to chat later.'),\n",
       " (\"who'd\",\n",
       "  \"who'd you say was coming for dinner tonight?\",\n",
       "  'who did you say was coming for dinner tonight?')]"
      ]
     },
     "execution_count": 126,
     "metadata": {},
     "output_type": "execute_result"
    }
   ],
   "source": [
    "wrongs"
   ]
  },
  {
   "cell_type": "code",
   "execution_count": 127,
   "metadata": {},
   "outputs": [],
   "source": [
    "wrongs = []\n",
    "corrects = []\n",
    "for i,row in contractions_test_data.iterrows():\n",
    "    fixed_sentence = list(cont.expand_texts([str(row['Original Sentence'])],precise=True))[0]\n",
    "    if fixed_sentence.lower() != str(row['Test Sentence']).lower():\n",
    "        wrongs.append((str(row['Short Form']),fixed_sentence,str(row['Test Sentence'])))\n",
    "    else:\n",
    "        corrects.append((str(row['Short Form']),fixed_sentence,str(row['Test Sentence'])))"
   ]
  },
  {
   "cell_type": "code",
   "execution_count": 128,
   "metadata": {},
   "outputs": [
    {
     "name": "stdout",
     "output_type": "stream",
     "text": [
      "The accuracy is 0.8918918918918919\n"
     ]
    }
   ],
   "source": [
    "accuracy = len(corrects)/(len(wrongs)+len(corrects))\n",
    "print(f'The accuracy is {accuracy}')"
   ]
  }
 ],
 "metadata": {
  "kernelspec": {
   "display_name": "project",
   "language": "python",
   "name": "project"
  },
  "language_info": {
   "codemirror_mode": {
    "name": "ipython",
    "version": 3
   },
   "file_extension": ".py",
   "mimetype": "text/x-python",
   "name": "python",
   "nbconvert_exporter": "python",
   "pygments_lexer": "ipython3",
   "version": "3.6.7"
  }
 },
 "nbformat": 4,
 "nbformat_minor": 2
}
