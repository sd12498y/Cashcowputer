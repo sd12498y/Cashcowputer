{
  "nbformat": 4,
  "nbformat_minor": 0,
  "metadata": {
    "colab": {
      "name": "Word2Vec Sentiment Classifier.ipynb",
      "provenance": [],
      "machine_shape": "hm"
    },
    "kernelspec": {
      "name": "python3",
      "display_name": "Python 3"
    },
    "accelerator": "GPU"
  },
  "cells": [
    {
      "cell_type": "code",
      "metadata": {
        "id": "9fYNgRyxFJKB",
        "colab_type": "code",
        "outputId": "029eed0e-e627-482a-870f-4b5d518d7949",
        "colab": {
          "base_uri": "https://localhost:8080/",
          "height": 124
        }
      },
      "source": [
        "from google.colab import drive\n",
        "drive.mount('/content/drive')"
      ],
      "execution_count": 0,
      "outputs": [
        {
          "output_type": "stream",
          "text": [
            "Go to this URL in a browser: https://accounts.google.com/o/oauth2/auth?client_id=947318989803-6bn6qk8qdgf4n4g3pfee6491hc0brc4i.apps.googleusercontent.com&redirect_uri=urn%3aietf%3awg%3aoauth%3a2.0%3aoob&response_type=code&scope=email%20https%3a%2f%2fwww.googleapis.com%2fauth%2fdocs.test%20https%3a%2f%2fwww.googleapis.com%2fauth%2fdrive%20https%3a%2f%2fwww.googleapis.com%2fauth%2fdrive.photos.readonly%20https%3a%2f%2fwww.googleapis.com%2fauth%2fpeopleapi.readonly\n",
            "\n",
            "Enter your authorization code:\n",
            "··········\n",
            "Mounted at /content/drive\n"
          ],
          "name": "stdout"
        }
      ]
    },
    {
      "cell_type": "code",
      "metadata": {
        "id": "sTvVFe6bCQUU",
        "colab_type": "code",
        "colab": {}
      },
      "source": [
        "import pandas as pd\n",
        "from gensim.models import Word2Vec\n",
        "import numpy as np\n",
        "\n",
        "WORK_DIR = '/content/drive/My Drive/FINA4350'\n",
        "DATA_DIR = f'{WORK_DIR}/datasets/cashcowputer-dataset'\n",
        "\n",
        "sentiment_df = pd.read_csv(f'{DATA_DIR}/preprocessed/revamped_preprocessed_tweet_senti_dataset.csv')\n",
        "sentiment_df.dropna(axis=0,inplace=True)\n",
        "sentiment_text = sentiment_df.cleaned_text.values\n",
        "stock_tweets = pd.read_csv(f'{DATA_DIR}/preprocessed/tweets/all_indexed_stock_tweets.csv')\n",
        "stock_tweets.drop_duplicates(keep='first',inplace=True)\n",
        "stock_tweets_text = stock_tweets.cleaned_text.values"
      ],
      "execution_count": 0,
      "outputs": []
    },
    {
      "cell_type": "code",
      "metadata": {
        "id": "JzJsWqQ2Fm5e",
        "colab_type": "code",
        "outputId": "4ae331f2-92c2-47fb-a767-1c91561305b5",
        "colab": {
          "base_uri": "https://localhost:8080/",
          "height": 35
        }
      },
      "source": [
        "news = pd.read_csv(f'{DATA_DIR}/preprocessed/news/news.csv')\n",
        "news.drop_duplicates(keep='first',inplace=True)\n",
        "news['combined'] = news[['title','content']].apply(lambda x:' '.join(x.dropna()),axis=1)\n",
        "news_text = news.combined.values\n",
        "news.combined.isna().values.any()"
      ],
      "execution_count": 0,
      "outputs": [
        {
          "output_type": "execute_result",
          "data": {
            "text/plain": [
              "False"
            ]
          },
          "metadata": {
            "tags": []
          },
          "execution_count": 29
        }
      ]
    },
    {
      "cell_type": "code",
      "metadata": {
        "id": "QeMscrS6FpGQ",
        "colab_type": "code",
        "outputId": "303c7d88-d58f-4233-9cf1-010669d9f4e8",
        "colab": {
          "base_uri": "https://localhost:8080/",
          "height": 35
        }
      },
      "source": [
        "final_text = np.append(np.append(sentiment_text,stock_tweets_text),news_text)\n",
        "len(final_text)"
      ],
      "execution_count": 0,
      "outputs": [
        {
          "output_type": "execute_result",
          "data": {
            "text/plain": [
              "1781375"
            ]
          },
          "metadata": {
            "tags": []
          },
          "execution_count": 30
        }
      ]
    },
    {
      "cell_type": "code",
      "metadata": {
        "id": "7RvDoxzwHJKc",
        "colab_type": "code",
        "outputId": "02ff6698-af06-4b4c-f557-145ef5fbe5f8",
        "colab": {
          "base_uri": "https://localhost:8080/",
          "height": 35
        }
      },
      "source": [
        "word_tokenize(final_text[0])"
      ],
      "execution_count": 0,
      "outputs": [
        {
          "output_type": "execute_result",
          "data": {
            "text/plain": [
              "['is', 'so', 'sad', 'for', 'my', 'apl', 'friend']"
            ]
          },
          "metadata": {
            "tags": []
          },
          "execution_count": 31
        }
      ]
    },
    {
      "cell_type": "code",
      "metadata": {
        "id": "P8pf4n3ZFZI_",
        "colab_type": "code",
        "colab": {}
      },
      "source": [
        "from nltk.tokenize import word_tokenize\n",
        "from nltk.corpus import stopwords"
      ],
      "execution_count": 0,
      "outputs": []
    },
    {
      "cell_type": "code",
      "metadata": {
        "id": "6Z4Trj9YGkZd",
        "colab_type": "code",
        "outputId": "320e1529-848a-40d9-e2f3-a4f0e3f69986",
        "colab": {
          "base_uri": "https://localhost:8080/",
          "height": 69
        }
      },
      "source": [
        "import nltk\n",
        "nltk.download('stopwords')"
      ],
      "execution_count": 0,
      "outputs": [
        {
          "output_type": "stream",
          "text": [
            "[nltk_data] Downloading package stopwords to /root/nltk_data...\n",
            "[nltk_data]   Package stopwords is already up-to-date!\n"
          ],
          "name": "stdout"
        },
        {
          "output_type": "execute_result",
          "data": {
            "text/plain": [
              "True"
            ]
          },
          "metadata": {
            "tags": []
          },
          "execution_count": 13
        }
      ]
    },
    {
      "cell_type": "code",
      "metadata": {
        "id": "hSVpXBmVGxhQ",
        "colab_type": "code",
        "outputId": "69d63d75-7592-4e08-a343-904ac6eb3661",
        "colab": {
          "base_uri": "https://localhost:8080/",
          "height": 69
        }
      },
      "source": [
        "nltk.download('punkt')"
      ],
      "execution_count": 0,
      "outputs": [
        {
          "output_type": "stream",
          "text": [
            "[nltk_data] Downloading package punkt to /root/nltk_data...\n",
            "[nltk_data]   Package punkt is already up-to-date!\n"
          ],
          "name": "stdout"
        },
        {
          "output_type": "execute_result",
          "data": {
            "text/plain": [
              "True"
            ]
          },
          "metadata": {
            "tags": []
          },
          "execution_count": 14
        }
      ]
    },
    {
      "cell_type": "code",
      "metadata": {
        "id": "GctvhXeOGP8V",
        "colab_type": "code",
        "colab": {}
      },
      "source": [
        "stopwords = stopwords.words('english')"
      ],
      "execution_count": 0,
      "outputs": []
    },
    {
      "cell_type": "code",
      "metadata": {
        "id": "VPbAuKPyFxck",
        "colab_type": "code",
        "colab": {}
      },
      "source": [
        "final_text_tokens = list(map(lambda x: [i for i in word_tokenize(x) if i not in stopwords],final_text))"
      ],
      "execution_count": 0,
      "outputs": []
    },
    {
      "cell_type": "code",
      "metadata": {
        "id": "aOqfEdrGJgtd",
        "colab_type": "code",
        "outputId": "f8f20e2a-f57f-4396-e17d-6c33c182c805",
        "colab": {
          "base_uri": "https://localhost:8080/",
          "height": 35
        }
      },
      "source": [
        "len(final_text_tokens)"
      ],
      "execution_count": 0,
      "outputs": [
        {
          "output_type": "execute_result",
          "data": {
            "text/plain": [
              "1781375"
            ]
          },
          "metadata": {
            "tags": []
          },
          "execution_count": 29
        }
      ]
    },
    {
      "cell_type": "code",
      "metadata": {
        "id": "3uKzabSeJjqY",
        "colab_type": "code",
        "outputId": "8156fcbb-2225-499d-cc58-b6729241e48d",
        "colab": {
          "base_uri": "https://localhost:8080/",
          "height": 35
        }
      },
      "source": [
        "final_text_tokens[0]"
      ],
      "execution_count": 0,
      "outputs": [
        {
          "output_type": "execute_result",
          "data": {
            "text/plain": [
              "['sad', 'apl', 'friend']"
            ]
          },
          "metadata": {
            "tags": []
          },
          "execution_count": 33
        }
      ]
    },
    {
      "cell_type": "code",
      "metadata": {
        "id": "tDBxlY89Gr5U",
        "colab_type": "code",
        "outputId": "3753e095-ba8e-4f70-c05e-552d4b84995d",
        "colab": {
          "base_uri": "https://localhost:8080/",
          "height": 329
        }
      },
      "source": [
        "w2vmodel = Word2Vec(final_text_tokens,sg=1)\n",
        "w2cmodel.save(f'{WORK_DIR}/models/tweets_news_word2vec.bin')"
      ],
      "execution_count": 0,
      "outputs": [
        {
          "output_type": "error",
          "ename": "KeyboardInterrupt",
          "evalue": "ignored",
          "traceback": [
            "\u001b[0;31m---------------------------------------------------------------------------\u001b[0m",
            "\u001b[0;31mKeyboardInterrupt\u001b[0m                         Traceback (most recent call last)",
            "\u001b[0;32m<ipython-input-34-a3ab2628d1ad>\u001b[0m in \u001b[0;36m<module>\u001b[0;34m()\u001b[0m\n\u001b[0;32m----> 1\u001b[0;31m \u001b[0mw2vmodel\u001b[0m \u001b[0;34m=\u001b[0m \u001b[0mWord2Vec\u001b[0m\u001b[0;34m(\u001b[0m\u001b[0mfinal_text_tokens\u001b[0m\u001b[0;34m,\u001b[0m\u001b[0msg\u001b[0m\u001b[0;34m=\u001b[0m\u001b[0;36m1\u001b[0m\u001b[0;34m)\u001b[0m\u001b[0;34m\u001b[0m\u001b[0;34m\u001b[0m\u001b[0m\n\u001b[0m\u001b[1;32m      2\u001b[0m \u001b[0mw2cmodel\u001b[0m\u001b[0;34m.\u001b[0m\u001b[0msave\u001b[0m\u001b[0;34m(\u001b[0m\u001b[0;34mf'{WORK_DIR}/models/tweets_news_word2vec.bin'\u001b[0m\u001b[0;34m)\u001b[0m\u001b[0;34m\u001b[0m\u001b[0;34m\u001b[0m\u001b[0m\n",
            "\u001b[0;32m/usr/local/lib/python3.6/dist-packages/gensim/models/word2vec.py\u001b[0m in \u001b[0;36m__init__\u001b[0;34m(self, sentences, corpus_file, size, alpha, window, min_count, max_vocab_size, sample, seed, workers, min_alpha, sg, hs, negative, ns_exponent, cbow_mean, hashfxn, iter, null_word, trim_rule, sorted_vocab, batch_words, compute_loss, callbacks, max_final_vocab)\u001b[0m\n\u001b[1;32m    765\u001b[0m             \u001b[0mcallbacks\u001b[0m\u001b[0;34m=\u001b[0m\u001b[0mcallbacks\u001b[0m\u001b[0;34m,\u001b[0m \u001b[0mbatch_words\u001b[0m\u001b[0;34m=\u001b[0m\u001b[0mbatch_words\u001b[0m\u001b[0;34m,\u001b[0m \u001b[0mtrim_rule\u001b[0m\u001b[0;34m=\u001b[0m\u001b[0mtrim_rule\u001b[0m\u001b[0;34m,\u001b[0m \u001b[0msg\u001b[0m\u001b[0;34m=\u001b[0m\u001b[0msg\u001b[0m\u001b[0;34m,\u001b[0m \u001b[0malpha\u001b[0m\u001b[0;34m=\u001b[0m\u001b[0malpha\u001b[0m\u001b[0;34m,\u001b[0m \u001b[0mwindow\u001b[0m\u001b[0;34m=\u001b[0m\u001b[0mwindow\u001b[0m\u001b[0;34m,\u001b[0m\u001b[0;34m\u001b[0m\u001b[0;34m\u001b[0m\u001b[0m\n\u001b[1;32m    766\u001b[0m             \u001b[0mseed\u001b[0m\u001b[0;34m=\u001b[0m\u001b[0mseed\u001b[0m\u001b[0;34m,\u001b[0m \u001b[0mhs\u001b[0m\u001b[0;34m=\u001b[0m\u001b[0mhs\u001b[0m\u001b[0;34m,\u001b[0m \u001b[0mnegative\u001b[0m\u001b[0;34m=\u001b[0m\u001b[0mnegative\u001b[0m\u001b[0;34m,\u001b[0m \u001b[0mcbow_mean\u001b[0m\u001b[0;34m=\u001b[0m\u001b[0mcbow_mean\u001b[0m\u001b[0;34m,\u001b[0m \u001b[0mmin_alpha\u001b[0m\u001b[0;34m=\u001b[0m\u001b[0mmin_alpha\u001b[0m\u001b[0;34m,\u001b[0m \u001b[0mcompute_loss\u001b[0m\u001b[0;34m=\u001b[0m\u001b[0mcompute_loss\u001b[0m\u001b[0;34m,\u001b[0m\u001b[0;34m\u001b[0m\u001b[0;34m\u001b[0m\u001b[0m\n\u001b[0;32m--> 767\u001b[0;31m             fast_version=FAST_VERSION)\n\u001b[0m\u001b[1;32m    768\u001b[0m \u001b[0;34m\u001b[0m\u001b[0m\n\u001b[1;32m    769\u001b[0m     def _do_train_epoch(self, corpus_file, thread_id, offset, cython_vocab, thread_private_mem, cur_epoch,\n",
            "\u001b[0;32m/usr/local/lib/python3.6/dist-packages/gensim/models/base_any2vec.py\u001b[0m in \u001b[0;36m__init__\u001b[0;34m(self, sentences, corpus_file, workers, vector_size, epochs, callbacks, batch_words, trim_rule, sg, alpha, window, seed, hs, negative, ns_exponent, cbow_mean, min_alpha, compute_loss, fast_version, **kwargs)\u001b[0m\n\u001b[1;32m    761\u001b[0m                 \u001b[0msentences\u001b[0m\u001b[0;34m=\u001b[0m\u001b[0msentences\u001b[0m\u001b[0;34m,\u001b[0m \u001b[0mcorpus_file\u001b[0m\u001b[0;34m=\u001b[0m\u001b[0mcorpus_file\u001b[0m\u001b[0;34m,\u001b[0m \u001b[0mtotal_examples\u001b[0m\u001b[0;34m=\u001b[0m\u001b[0mself\u001b[0m\u001b[0;34m.\u001b[0m\u001b[0mcorpus_count\u001b[0m\u001b[0;34m,\u001b[0m\u001b[0;34m\u001b[0m\u001b[0;34m\u001b[0m\u001b[0m\n\u001b[1;32m    762\u001b[0m                 \u001b[0mtotal_words\u001b[0m\u001b[0;34m=\u001b[0m\u001b[0mself\u001b[0m\u001b[0;34m.\u001b[0m\u001b[0mcorpus_total_words\u001b[0m\u001b[0;34m,\u001b[0m \u001b[0mepochs\u001b[0m\u001b[0;34m=\u001b[0m\u001b[0mself\u001b[0m\u001b[0;34m.\u001b[0m\u001b[0mepochs\u001b[0m\u001b[0;34m,\u001b[0m \u001b[0mstart_alpha\u001b[0m\u001b[0;34m=\u001b[0m\u001b[0mself\u001b[0m\u001b[0;34m.\u001b[0m\u001b[0malpha\u001b[0m\u001b[0;34m,\u001b[0m\u001b[0;34m\u001b[0m\u001b[0;34m\u001b[0m\u001b[0m\n\u001b[0;32m--> 763\u001b[0;31m                 end_alpha=self.min_alpha, compute_loss=compute_loss)\n\u001b[0m\u001b[1;32m    764\u001b[0m         \u001b[0;32melse\u001b[0m\u001b[0;34m:\u001b[0m\u001b[0;34m\u001b[0m\u001b[0;34m\u001b[0m\u001b[0m\n\u001b[1;32m    765\u001b[0m             \u001b[0;32mif\u001b[0m \u001b[0mtrim_rule\u001b[0m \u001b[0;32mis\u001b[0m \u001b[0;32mnot\u001b[0m \u001b[0;32mNone\u001b[0m\u001b[0;34m:\u001b[0m\u001b[0;34m\u001b[0m\u001b[0;34m\u001b[0m\u001b[0m\n",
            "\u001b[0;32m/usr/local/lib/python3.6/dist-packages/gensim/models/word2vec.py\u001b[0m in \u001b[0;36mtrain\u001b[0;34m(self, sentences, corpus_file, total_examples, total_words, epochs, start_alpha, end_alpha, word_count, queue_factor, report_delay, compute_loss, callbacks)\u001b[0m\n\u001b[1;32m    890\u001b[0m             \u001b[0msentences\u001b[0m\u001b[0;34m=\u001b[0m\u001b[0msentences\u001b[0m\u001b[0;34m,\u001b[0m \u001b[0mcorpus_file\u001b[0m\u001b[0;34m=\u001b[0m\u001b[0mcorpus_file\u001b[0m\u001b[0;34m,\u001b[0m \u001b[0mtotal_examples\u001b[0m\u001b[0;34m=\u001b[0m\u001b[0mtotal_examples\u001b[0m\u001b[0;34m,\u001b[0m \u001b[0mtotal_words\u001b[0m\u001b[0;34m=\u001b[0m\u001b[0mtotal_words\u001b[0m\u001b[0;34m,\u001b[0m\u001b[0;34m\u001b[0m\u001b[0;34m\u001b[0m\u001b[0m\n\u001b[1;32m    891\u001b[0m             \u001b[0mepochs\u001b[0m\u001b[0;34m=\u001b[0m\u001b[0mepochs\u001b[0m\u001b[0;34m,\u001b[0m \u001b[0mstart_alpha\u001b[0m\u001b[0;34m=\u001b[0m\u001b[0mstart_alpha\u001b[0m\u001b[0;34m,\u001b[0m \u001b[0mend_alpha\u001b[0m\u001b[0;34m=\u001b[0m\u001b[0mend_alpha\u001b[0m\u001b[0;34m,\u001b[0m \u001b[0mword_count\u001b[0m\u001b[0;34m=\u001b[0m\u001b[0mword_count\u001b[0m\u001b[0;34m,\u001b[0m\u001b[0;34m\u001b[0m\u001b[0;34m\u001b[0m\u001b[0m\n\u001b[0;32m--> 892\u001b[0;31m             queue_factor=queue_factor, report_delay=report_delay, compute_loss=compute_loss, callbacks=callbacks)\n\u001b[0m\u001b[1;32m    893\u001b[0m \u001b[0;34m\u001b[0m\u001b[0m\n\u001b[1;32m    894\u001b[0m     \u001b[0;32mdef\u001b[0m \u001b[0mscore\u001b[0m\u001b[0;34m(\u001b[0m\u001b[0mself\u001b[0m\u001b[0;34m,\u001b[0m \u001b[0msentences\u001b[0m\u001b[0;34m,\u001b[0m \u001b[0mtotal_sentences\u001b[0m\u001b[0;34m=\u001b[0m\u001b[0mint\u001b[0m\u001b[0;34m(\u001b[0m\u001b[0;36m1e6\u001b[0m\u001b[0;34m)\u001b[0m\u001b[0;34m,\u001b[0m \u001b[0mchunksize\u001b[0m\u001b[0;34m=\u001b[0m\u001b[0;36m100\u001b[0m\u001b[0;34m,\u001b[0m \u001b[0mqueue_factor\u001b[0m\u001b[0;34m=\u001b[0m\u001b[0;36m2\u001b[0m\u001b[0;34m,\u001b[0m \u001b[0mreport_delay\u001b[0m\u001b[0;34m=\u001b[0m\u001b[0;36m1\u001b[0m\u001b[0;34m)\u001b[0m\u001b[0;34m:\u001b[0m\u001b[0;34m\u001b[0m\u001b[0;34m\u001b[0m\u001b[0m\n",
            "\u001b[0;32m/usr/local/lib/python3.6/dist-packages/gensim/models/base_any2vec.py\u001b[0m in \u001b[0;36mtrain\u001b[0;34m(self, sentences, corpus_file, total_examples, total_words, epochs, start_alpha, end_alpha, word_count, queue_factor, report_delay, compute_loss, callbacks, **kwargs)\u001b[0m\n\u001b[1;32m   1079\u001b[0m             \u001b[0mtotal_words\u001b[0m\u001b[0;34m=\u001b[0m\u001b[0mtotal_words\u001b[0m\u001b[0;34m,\u001b[0m \u001b[0mepochs\u001b[0m\u001b[0;34m=\u001b[0m\u001b[0mepochs\u001b[0m\u001b[0;34m,\u001b[0m \u001b[0mstart_alpha\u001b[0m\u001b[0;34m=\u001b[0m\u001b[0mstart_alpha\u001b[0m\u001b[0;34m,\u001b[0m \u001b[0mend_alpha\u001b[0m\u001b[0;34m=\u001b[0m\u001b[0mend_alpha\u001b[0m\u001b[0;34m,\u001b[0m \u001b[0mword_count\u001b[0m\u001b[0;34m=\u001b[0m\u001b[0mword_count\u001b[0m\u001b[0;34m,\u001b[0m\u001b[0;34m\u001b[0m\u001b[0;34m\u001b[0m\u001b[0m\n\u001b[1;32m   1080\u001b[0m             \u001b[0mqueue_factor\u001b[0m\u001b[0;34m=\u001b[0m\u001b[0mqueue_factor\u001b[0m\u001b[0;34m,\u001b[0m \u001b[0mreport_delay\u001b[0m\u001b[0;34m=\u001b[0m\u001b[0mreport_delay\u001b[0m\u001b[0;34m,\u001b[0m \u001b[0mcompute_loss\u001b[0m\u001b[0;34m=\u001b[0m\u001b[0mcompute_loss\u001b[0m\u001b[0;34m,\u001b[0m \u001b[0mcallbacks\u001b[0m\u001b[0;34m=\u001b[0m\u001b[0mcallbacks\u001b[0m\u001b[0;34m,\u001b[0m\u001b[0;34m\u001b[0m\u001b[0;34m\u001b[0m\u001b[0m\n\u001b[0;32m-> 1081\u001b[0;31m             **kwargs)\n\u001b[0m\u001b[1;32m   1082\u001b[0m \u001b[0;34m\u001b[0m\u001b[0m\n\u001b[1;32m   1083\u001b[0m     \u001b[0;32mdef\u001b[0m \u001b[0m_get_job_params\u001b[0m\u001b[0;34m(\u001b[0m\u001b[0mself\u001b[0m\u001b[0;34m,\u001b[0m \u001b[0mcur_epoch\u001b[0m\u001b[0;34m)\u001b[0m\u001b[0;34m:\u001b[0m\u001b[0;34m\u001b[0m\u001b[0;34m\u001b[0m\u001b[0m\n",
            "\u001b[0;32m/usr/local/lib/python3.6/dist-packages/gensim/models/base_any2vec.py\u001b[0m in \u001b[0;36mtrain\u001b[0;34m(self, data_iterable, corpus_file, epochs, total_examples, total_words, queue_factor, report_delay, callbacks, **kwargs)\u001b[0m\n\u001b[1;32m    551\u001b[0m                 trained_word_count_epoch, raw_word_count_epoch, job_tally_epoch = self._train_epoch(\n\u001b[1;32m    552\u001b[0m                     \u001b[0mdata_iterable\u001b[0m\u001b[0;34m,\u001b[0m \u001b[0mcur_epoch\u001b[0m\u001b[0;34m=\u001b[0m\u001b[0mcur_epoch\u001b[0m\u001b[0;34m,\u001b[0m \u001b[0mtotal_examples\u001b[0m\u001b[0;34m=\u001b[0m\u001b[0mtotal_examples\u001b[0m\u001b[0;34m,\u001b[0m\u001b[0;34m\u001b[0m\u001b[0;34m\u001b[0m\u001b[0m\n\u001b[0;32m--> 553\u001b[0;31m                     total_words=total_words, queue_factor=queue_factor, report_delay=report_delay)\n\u001b[0m\u001b[1;32m    554\u001b[0m             \u001b[0;32melse\u001b[0m\u001b[0;34m:\u001b[0m\u001b[0;34m\u001b[0m\u001b[0;34m\u001b[0m\u001b[0m\n\u001b[1;32m    555\u001b[0m                 trained_word_count_epoch, raw_word_count_epoch, job_tally_epoch = self._train_epoch_corpusfile(\n",
            "\u001b[0;32m/usr/local/lib/python3.6/dist-packages/gensim/models/base_any2vec.py\u001b[0m in \u001b[0;36m_train_epoch\u001b[0;34m(self, data_iterable, cur_epoch, total_examples, total_words, queue_factor, report_delay)\u001b[0m\n\u001b[1;32m    487\u001b[0m         trained_word_count, raw_word_count, job_tally = self._log_epoch_progress(\n\u001b[1;32m    488\u001b[0m             \u001b[0mprogress_queue\u001b[0m\u001b[0;34m,\u001b[0m \u001b[0mjob_queue\u001b[0m\u001b[0;34m,\u001b[0m \u001b[0mcur_epoch\u001b[0m\u001b[0;34m=\u001b[0m\u001b[0mcur_epoch\u001b[0m\u001b[0;34m,\u001b[0m \u001b[0mtotal_examples\u001b[0m\u001b[0;34m=\u001b[0m\u001b[0mtotal_examples\u001b[0m\u001b[0;34m,\u001b[0m \u001b[0mtotal_words\u001b[0m\u001b[0;34m=\u001b[0m\u001b[0mtotal_words\u001b[0m\u001b[0;34m,\u001b[0m\u001b[0;34m\u001b[0m\u001b[0;34m\u001b[0m\u001b[0m\n\u001b[0;32m--> 489\u001b[0;31m             report_delay=report_delay, is_corpus_file_mode=False)\n\u001b[0m\u001b[1;32m    490\u001b[0m \u001b[0;34m\u001b[0m\u001b[0m\n\u001b[1;32m    491\u001b[0m         \u001b[0;32mreturn\u001b[0m \u001b[0mtrained_word_count\u001b[0m\u001b[0;34m,\u001b[0m \u001b[0mraw_word_count\u001b[0m\u001b[0;34m,\u001b[0m \u001b[0mjob_tally\u001b[0m\u001b[0;34m\u001b[0m\u001b[0;34m\u001b[0m\u001b[0m\n",
            "\u001b[0;32m/usr/local/lib/python3.6/dist-packages/gensim/models/base_any2vec.py\u001b[0m in \u001b[0;36m_log_epoch_progress\u001b[0;34m(self, progress_queue, job_queue, cur_epoch, total_examples, total_words, report_delay, is_corpus_file_mode)\u001b[0m\n\u001b[1;32m    344\u001b[0m \u001b[0;34m\u001b[0m\u001b[0m\n\u001b[1;32m    345\u001b[0m         \u001b[0;32mwhile\u001b[0m \u001b[0munfinished_worker_count\u001b[0m \u001b[0;34m>\u001b[0m \u001b[0;36m0\u001b[0m\u001b[0;34m:\u001b[0m\u001b[0;34m\u001b[0m\u001b[0;34m\u001b[0m\u001b[0m\n\u001b[0;32m--> 346\u001b[0;31m             \u001b[0mreport\u001b[0m \u001b[0;34m=\u001b[0m \u001b[0mprogress_queue\u001b[0m\u001b[0;34m.\u001b[0m\u001b[0mget\u001b[0m\u001b[0;34m(\u001b[0m\u001b[0;34m)\u001b[0m  \u001b[0;31m# blocks if workers too slow\u001b[0m\u001b[0;34m\u001b[0m\u001b[0;34m\u001b[0m\u001b[0m\n\u001b[0m\u001b[1;32m    347\u001b[0m             \u001b[0;32mif\u001b[0m \u001b[0mreport\u001b[0m \u001b[0;32mis\u001b[0m \u001b[0;32mNone\u001b[0m\u001b[0;34m:\u001b[0m  \u001b[0;31m# a thread reporting that it finished\u001b[0m\u001b[0;34m\u001b[0m\u001b[0;34m\u001b[0m\u001b[0m\n\u001b[1;32m    348\u001b[0m                 \u001b[0munfinished_worker_count\u001b[0m \u001b[0;34m-=\u001b[0m \u001b[0;36m1\u001b[0m\u001b[0;34m\u001b[0m\u001b[0;34m\u001b[0m\u001b[0m\n",
            "\u001b[0;32m/usr/lib/python3.6/queue.py\u001b[0m in \u001b[0;36mget\u001b[0;34m(self, block, timeout)\u001b[0m\n\u001b[1;32m    162\u001b[0m             \u001b[0;32melif\u001b[0m \u001b[0mtimeout\u001b[0m \u001b[0;32mis\u001b[0m \u001b[0;32mNone\u001b[0m\u001b[0;34m:\u001b[0m\u001b[0;34m\u001b[0m\u001b[0;34m\u001b[0m\u001b[0m\n\u001b[1;32m    163\u001b[0m                 \u001b[0;32mwhile\u001b[0m \u001b[0;32mnot\u001b[0m \u001b[0mself\u001b[0m\u001b[0;34m.\u001b[0m\u001b[0m_qsize\u001b[0m\u001b[0;34m(\u001b[0m\u001b[0;34m)\u001b[0m\u001b[0;34m:\u001b[0m\u001b[0;34m\u001b[0m\u001b[0;34m\u001b[0m\u001b[0m\n\u001b[0;32m--> 164\u001b[0;31m                     \u001b[0mself\u001b[0m\u001b[0;34m.\u001b[0m\u001b[0mnot_empty\u001b[0m\u001b[0;34m.\u001b[0m\u001b[0mwait\u001b[0m\u001b[0;34m(\u001b[0m\u001b[0;34m)\u001b[0m\u001b[0;34m\u001b[0m\u001b[0;34m\u001b[0m\u001b[0m\n\u001b[0m\u001b[1;32m    165\u001b[0m             \u001b[0;32melif\u001b[0m \u001b[0mtimeout\u001b[0m \u001b[0;34m<\u001b[0m \u001b[0;36m0\u001b[0m\u001b[0;34m:\u001b[0m\u001b[0;34m\u001b[0m\u001b[0;34m\u001b[0m\u001b[0m\n\u001b[1;32m    166\u001b[0m                 \u001b[0;32mraise\u001b[0m \u001b[0mValueError\u001b[0m\u001b[0;34m(\u001b[0m\u001b[0;34m\"'timeout' must be a non-negative number\"\u001b[0m\u001b[0;34m)\u001b[0m\u001b[0;34m\u001b[0m\u001b[0;34m\u001b[0m\u001b[0m\n",
            "\u001b[0;32m/usr/lib/python3.6/threading.py\u001b[0m in \u001b[0;36mwait\u001b[0;34m(self, timeout)\u001b[0m\n\u001b[1;32m    293\u001b[0m         \u001b[0;32mtry\u001b[0m\u001b[0;34m:\u001b[0m    \u001b[0;31m# restore state no matter what (e.g., KeyboardInterrupt)\u001b[0m\u001b[0;34m\u001b[0m\u001b[0;34m\u001b[0m\u001b[0m\n\u001b[1;32m    294\u001b[0m             \u001b[0;32mif\u001b[0m \u001b[0mtimeout\u001b[0m \u001b[0;32mis\u001b[0m \u001b[0;32mNone\u001b[0m\u001b[0;34m:\u001b[0m\u001b[0;34m\u001b[0m\u001b[0;34m\u001b[0m\u001b[0m\n\u001b[0;32m--> 295\u001b[0;31m                 \u001b[0mwaiter\u001b[0m\u001b[0;34m.\u001b[0m\u001b[0macquire\u001b[0m\u001b[0;34m(\u001b[0m\u001b[0;34m)\u001b[0m\u001b[0;34m\u001b[0m\u001b[0;34m\u001b[0m\u001b[0m\n\u001b[0m\u001b[1;32m    296\u001b[0m                 \u001b[0mgotit\u001b[0m \u001b[0;34m=\u001b[0m \u001b[0;32mTrue\u001b[0m\u001b[0;34m\u001b[0m\u001b[0;34m\u001b[0m\u001b[0m\n\u001b[1;32m    297\u001b[0m             \u001b[0;32melse\u001b[0m\u001b[0;34m:\u001b[0m\u001b[0;34m\u001b[0m\u001b[0;34m\u001b[0m\u001b[0m\n",
            "\u001b[0;31mKeyboardInterrupt\u001b[0m: "
          ]
        }
      ]
    },
    {
      "cell_type": "code",
      "metadata": {
        "id": "XrC0Uw_sfGPx",
        "colab_type": "code",
        "colab": {}
      },
      "source": [
        "WORK_DIR = '/content/drive/My Drive/FINA4350'\n",
        "DATA_DIR = f'{WORK_DIR}/datasets/cashcowputer-dataset'"
      ],
      "execution_count": 0,
      "outputs": []
    },
    {
      "cell_type": "code",
      "metadata": {
        "id": "Raa4PKsJJn0x",
        "colab_type": "code",
        "outputId": "e9e15acd-edfb-4409-a278-70b9b124edc4",
        "colab": {
          "base_uri": "https://localhost:8080/",
          "height": 72
        }
      },
      "source": [
        "%tensorflow_version 2.x\n",
        "from gensim.models import Word2Vec\n",
        "w2vmodel = Word2Vec.load(f'{WORK_DIR}/models/tweets_news_word2vec.model')"
      ],
      "execution_count": 0,
      "outputs": [
        {
          "output_type": "stream",
          "text": [
            "/usr/local/lib/python3.6/dist-packages/smart_open/smart_open_lib.py:402: UserWarning: This function is deprecated, use smart_open.open instead. See the migration notes for details: https://github.com/RaRe-Technologies/smart_open/blob/master/README.rst#migrating-to-the-new-open-function\n",
            "  'See the migration notes for details: %s' % _MIGRATION_NOTES_URL\n"
          ],
          "name": "stderr"
        }
      ]
    },
    {
      "cell_type": "code",
      "metadata": {
        "id": "47IeGjjTfKQC",
        "colab_type": "code",
        "colab": {}
      },
      "source": [
        "x_vectors = w2vmodel.wv"
      ],
      "execution_count": 0,
      "outputs": []
    },
    {
      "cell_type": "code",
      "metadata": {
        "id": "-yb8ogegfiQ3",
        "colab_type": "code",
        "colab": {}
      },
      "source": [
        "import pandas as pd\n",
        "sentiment_df = pd.read_csv(f'{DATA_DIR}/preprocessed/revamped_preprocessed_tweet_senti_dataset.csv')\n",
        "sentiment_df.dropna(axis=0,inplace=True)"
      ],
      "execution_count": 0,
      "outputs": []
    },
    {
      "cell_type": "code",
      "metadata": {
        "id": "0EXJBVJOfpHF",
        "colab_type": "code",
        "outputId": "97b57ee4-10c2-4c6a-ac67-ee9cf9264473",
        "colab": {
          "base_uri": "https://localhost:8080/"
        }
      },
      "source": [
        "sentiment_df.head()"
      ],
      "execution_count": 0,
      "outputs": [
        {
          "output_type": "execute_result",
          "data": {
            "text/html": [
              "<div>\n",
              "<style scoped>\n",
              "    .dataframe tbody tr th:only-of-type {\n",
              "        vertical-align: middle;\n",
              "    }\n",
              "\n",
              "    .dataframe tbody tr th {\n",
              "        vertical-align: top;\n",
              "    }\n",
              "\n",
              "    .dataframe thead th {\n",
              "        text-align: right;\n",
              "    }\n",
              "</style>\n",
              "<table border=\"1\" class=\"dataframe\">\n",
              "  <thead>\n",
              "    <tr style=\"text-align: right;\">\n",
              "      <th></th>\n",
              "      <th>Sentiment</th>\n",
              "      <th>cleaned_text</th>\n",
              "    </tr>\n",
              "  </thead>\n",
              "  <tbody>\n",
              "    <tr>\n",
              "      <th>0</th>\n",
              "      <td>0</td>\n",
              "      <td>is so sad for my apl friend</td>\n",
              "    </tr>\n",
              "    <tr>\n",
              "      <th>1</th>\n",
              "      <td>0</td>\n",
              "      <td>i missed the new moon trailer</td>\n",
              "    </tr>\n",
              "    <tr>\n",
              "      <th>2</th>\n",
              "      <td>1</td>\n",
              "      <td>omg its already time surprise</td>\n",
              "    </tr>\n",
              "    <tr>\n",
              "      <th>3</th>\n",
              "      <td>0</td>\n",
              "      <td>omgaga i am so i am gunna cry i have been at t...</td>\n",
              "    </tr>\n",
              "    <tr>\n",
              "      <th>4</th>\n",
              "      <td>0</td>\n",
              "      <td>i think mi bf is cheating on me tt</td>\n",
              "    </tr>\n",
              "  </tbody>\n",
              "</table>\n",
              "</div>"
            ],
            "text/plain": [
              "   Sentiment                                       cleaned_text\n",
              "0          0                        is so sad for my apl friend\n",
              "1          0                      i missed the new moon trailer\n",
              "2          1                      omg its already time surprise\n",
              "3          0  omgaga i am so i am gunna cry i have been at t...\n",
              "4          0                 i think mi bf is cheating on me tt"
            ]
          },
          "metadata": {
            "tags": []
          },
          "execution_count": 11
        }
      ]
    },
    {
      "cell_type": "code",
      "metadata": {
        "id": "fjvMTqY0fxjL",
        "colab_type": "code",
        "colab": {}
      },
      "source": [
        "import numpy as np\n",
        "tweets = np.array(list(map(lambda x: [i for i in word_tokenize(x) if i not in stopwords],sentiment_df.cleaned_text.values.tolist())))\n",
        "labels = sentiment_df.Sentiment.values"
      ],
      "execution_count": 0,
      "outputs": []
    },
    {
      "cell_type": "code",
      "metadata": {
        "id": "eOe1QRPYIcuL",
        "colab_type": "code",
        "outputId": "2f25e20e-2bda-4e6f-8a17-a561825618bb",
        "colab": {
          "base_uri": "https://localhost:8080/",
          "height": 35
        }
      },
      "source": [
        "len(list(w2vmodel.wv.vocab))"
      ],
      "execution_count": 0,
      "outputs": [
        {
          "output_type": "execute_result",
          "data": {
            "text/plain": [
              "109137"
            ]
          },
          "metadata": {
            "tags": []
          },
          "execution_count": 21
        }
      ]
    },
    {
      "cell_type": "code",
      "metadata": {
        "id": "5yHIVnsZf8fS",
        "colab_type": "code",
        "colab": {}
      },
      "source": [
        "import numpy as np\n",
        "import tensorflow.keras.backend as K\n",
        "\n",
        "vector_size = 100\n",
        "train_size = int(0.8*(len(tweets)))\n",
        "test_size = int(0.2*len(tweets))\n",
        "\n",
        "max_tokens_len = 15\n",
        "\n",
        "indexes = set(np.random.choice(len(tweets),train_size + test_size, replace=False))\n",
        "\n",
        "x_train = np.zeros((train_size, max_tokens_len, vector_size), dtype=K.floatx())\n",
        "y_train = np.zeros((train_size, 1), dtype=np.int32)\n",
        "\n",
        "x_test = np.zeros((test_size, max_tokens_len, vector_size), dtype=K.floatx())\n",
        "y_test = np.zeros((test_size, 1), dtype=np.int32)\n"
      ],
      "execution_count": 0,
      "outputs": []
    },
    {
      "cell_type": "code",
      "metadata": {
        "id": "DiErzf-Tg1ok",
        "colab_type": "code",
        "colab": {}
      },
      "source": [
        "for i, index in enumerate(indexes):\n",
        "  for t, token in enumerate(tweets[index]):\n",
        "    if t >= max_tokens_len:\n",
        "      break\n",
        "    if token not in x_vectors:\n",
        "      continue\n",
        "    if i < train_size:\n",
        "      x_train[i,t,:] = x_vectors[token]\n",
        "    else:\n",
        "      x_test[i-train_size,t:] = x_vectors[token]\n",
        "    \n",
        "  if i < train_size:\n",
        "    y_train[i, :] = [0.0] if labels[index] == 0 else [1.0]\n",
        "  else:\n",
        "    y_test[i-train_size,:] = [0.0] if labels[index] == 0 else [1.0] "
      ],
      "execution_count": 0,
      "outputs": []
    },
    {
      "cell_type": "code",
      "metadata": {
        "id": "aA8mrhiVhmfA",
        "colab_type": "code",
        "outputId": "68746a8f-be55-417e-efa4-e00bec62b683",
        "colab": {
          "base_uri": "https://localhost:8080/",
          "height": 35
        }
      },
      "source": [
        "x_train.shape, y_test.shape"
      ],
      "execution_count": 0,
      "outputs": [
        {
          "output_type": "execute_result",
          "data": {
            "text/plain": [
              "((1262839, 15, 100), (315709, 1))"
            ]
          },
          "metadata": {
            "tags": []
          },
          "execution_count": 24
        }
      ]
    },
    {
      "cell_type": "code",
      "metadata": {
        "id": "IvaJ_YiwFQn-",
        "colab_type": "code",
        "outputId": "1b81c802-f073-40f3-922c-c8e7246950cc",
        "colab": {
          "base_uri": "https://localhost:8080/",
          "height": 243
        }
      },
      "source": [
        "x_train[1]"
      ],
      "execution_count": 0,
      "outputs": [
        {
          "output_type": "execute_result",
          "data": {
            "text/plain": [
              "array([[ 0.23394784, -0.05180465,  0.35627866, ..., -0.16756731,\n",
              "        -0.5777316 ,  0.58559155],\n",
              "       [-0.05606306,  0.24671648,  0.11089822, ...,  0.53561586,\n",
              "        -0.30648494,  0.23458673],\n",
              "       [ 0.31390938,  0.3267722 ,  0.31104547, ..., -0.4293871 ,\n",
              "        -0.15244272,  0.69265944],\n",
              "       ...,\n",
              "       [ 0.        ,  0.        ,  0.        , ...,  0.        ,\n",
              "         0.        ,  0.        ],\n",
              "       [ 0.        ,  0.        ,  0.        , ...,  0.        ,\n",
              "         0.        ,  0.        ],\n",
              "       [ 0.        ,  0.        ,  0.        , ...,  0.        ,\n",
              "         0.        ,  0.        ]], dtype=float32)"
            ]
          },
          "metadata": {
            "tags": []
          },
          "execution_count": 25
        }
      ]
    },
    {
      "cell_type": "code",
      "metadata": {
        "id": "ac3ByZ79iDqy",
        "colab_type": "code",
        "colab": {}
      },
      "source": [
        "batch_size = 256\n",
        "epochs = 15\n",
        "vocab_size = len(w2vmodel.wv.vocab)\n",
        "embedding_matrix = x_vectors\n",
        "maxlen=100\n",
        "del w2vmodel"
      ],
      "execution_count": 0,
      "outputs": []
    },
    {
      "cell_type": "code",
      "metadata": {
        "id": "rxI43153lT1K",
        "colab_type": "code",
        "colab": {}
      },
      "source": [
        ""
      ],
      "execution_count": 0,
      "outputs": []
    },
    {
      "cell_type": "code",
      "metadata": {
        "id": "2mOfZhZliMaZ",
        "colab_type": "code",
        "outputId": "01ec4dd3-65b7-4b1e-e20c-422ff475ab24",
        "colab": {
          "base_uri": "https://localhost:8080/",
          "height": 225
        }
      },
      "source": [
        "from tensorflow.keras.models import Sequential\n",
        "from tensorflow.keras.layers import LSTM,Dense,Embedding\n",
        "\n",
        "model = Sequential()\n",
        "model.add(LSTM(128,input_shape=(max_tokens_len,vector_size)))\n",
        "model.add(Dense(1,activation='sigmoid'))\n",
        "model.compile(optimizer='adam',loss='binary_crossentropy',metrics=['acc'])\n",
        "model.summary()"
      ],
      "execution_count": 0,
      "outputs": [
        {
          "output_type": "stream",
          "text": [
            "Model: \"sequential_1\"\n",
            "_________________________________________________________________\n",
            "Layer (type)                 Output Shape              Param #   \n",
            "=================================================================\n",
            "lstm_1 (LSTM)                (None, 128)               117248    \n",
            "_________________________________________________________________\n",
            "dense_2 (Dense)              (None, 1)                 129       \n",
            "=================================================================\n",
            "Total params: 117,377\n",
            "Trainable params: 117,377\n",
            "Non-trainable params: 0\n",
            "_________________________________________________________________\n"
          ],
          "name": "stdout"
        }
      ]
    },
    {
      "cell_type": "code",
      "metadata": {
        "id": "2MCBxL3Sk84e",
        "colab_type": "code",
        "outputId": "3201ade4-0dae-4d25-ae98-f3d6bc32c155",
        "colab": {
          "base_uri": "https://localhost:8080/",
          "height": 555
        }
      },
      "source": [
        "history = model.fit(x_train,\n",
        "          y_train,\n",
        "          batch_size=256,\n",
        "          shuffle=True,\n",
        "          epochs=epochs,\n",
        "          validation_data=(x_test,y_test))"
      ],
      "execution_count": 0,
      "outputs": [
        {
          "output_type": "stream",
          "text": [
            "Train on 1262839 samples, validate on 315709 samples\n",
            "Epoch 1/15\n",
            "1262839/1262839 [==============================] - 29s 23us/sample - loss: 0.5185 - acc: 0.7402 - val_loss: 0.6309 - val_acc: 0.7093\n",
            "Epoch 2/15\n",
            "1262839/1262839 [==============================] - 27s 22us/sample - loss: 0.5004 - acc: 0.7533 - val_loss: 0.6097 - val_acc: 0.7216\n",
            "Epoch 3/15\n",
            "1262839/1262839 [==============================] - 27s 21us/sample - loss: 0.4916 - acc: 0.7587 - val_loss: 0.6132 - val_acc: 0.7223\n",
            "Epoch 4/15\n",
            "1262839/1262839 [==============================] - 27s 21us/sample - loss: 0.4850 - acc: 0.7630 - val_loss: 0.6071 - val_acc: 0.7287\n",
            "Epoch 5/15\n",
            "1262839/1262839 [==============================] - 27s 21us/sample - loss: 0.4795 - acc: 0.7661 - val_loss: 0.6123 - val_acc: 0.7217\n",
            "Epoch 6/15\n",
            "1262839/1262839 [==============================] - 28s 22us/sample - loss: 0.4747 - acc: 0.7692 - val_loss: 0.6275 - val_acc: 0.7186\n",
            "Epoch 7/15\n",
            "1262839/1262839 [==============================] - 27s 21us/sample - loss: 0.4704 - acc: 0.7718 - val_loss: 0.6231 - val_acc: 0.7206\n",
            "Epoch 8/15\n",
            "1262839/1262839 [==============================] - 27s 22us/sample - loss: 0.4661 - acc: 0.7744 - val_loss: 0.6273 - val_acc: 0.7216\n",
            "Epoch 9/15\n",
            "1262839/1262839 [==============================] - 28s 22us/sample - loss: 0.4620 - acc: 0.7770 - val_loss: 0.6303 - val_acc: 0.7253\n",
            "Epoch 10/15\n",
            "1262839/1262839 [==============================] - 27s 22us/sample - loss: 0.4580 - acc: 0.7794 - val_loss: 0.6381 - val_acc: 0.7164\n",
            "Epoch 11/15\n",
            "1262839/1262839 [==============================] - 27s 21us/sample - loss: 0.4541 - acc: 0.7816 - val_loss: 0.6319 - val_acc: 0.7195\n",
            "Epoch 12/15\n",
            "1262839/1262839 [==============================] - 27s 21us/sample - loss: 0.4501 - acc: 0.7839 - val_loss: 0.6372 - val_acc: 0.7245\n",
            "Epoch 13/15\n",
            "1262839/1262839 [==============================] - 27s 21us/sample - loss: 0.4464 - acc: 0.7859 - val_loss: 0.6536 - val_acc: 0.7243\n",
            "Epoch 14/15\n",
            "1262839/1262839 [==============================] - 27s 21us/sample - loss: 0.4428 - acc: 0.7882 - val_loss: 0.6802 - val_acc: 0.7136\n",
            "Epoch 15/15\n",
            "1262839/1262839 [==============================] - 27s 21us/sample - loss: 0.4390 - acc: 0.7904 - val_loss: 0.6661 - val_acc: 0.7201\n"
          ],
          "name": "stdout"
        }
      ]
    },
    {
      "cell_type": "code",
      "metadata": {
        "id": "9UqIh8Xwoj5F",
        "colab_type": "code",
        "outputId": "68c45b5f-2eca-4dd9-995a-50c4070cac0e",
        "colab": {
          "base_uri": "https://localhost:8080/",
          "height": 313
        }
      },
      "source": [
        "import matplotlib.pyplot as plt\n",
        "# list all data in history\n",
        "print(history.history.keys())\n",
        "# summarize history for accuracy\n",
        "plt.plot(history.history['acc'])\n",
        "plt.plot(history.history['val_acc'])\n",
        "plt.title('model accuracy')\n",
        "plt.ylabel('accuracy')\n",
        "plt.xlabel('epoch')\n",
        "plt.legend(['train', 'test'], loc='upper left')\n",
        "plt.show()"
      ],
      "execution_count": 0,
      "outputs": [
        {
          "output_type": "stream",
          "text": [
            "dict_keys(['loss', 'acc', 'val_loss', 'val_acc'])\n"
          ],
          "name": "stdout"
        },
        {
          "output_type": "display_data",
          "data": {
            "image/png": "[encoded data removed]",
            "text/plain": [
              "<Figure size 432x288 with 1 Axes>"
            ]
          },
          "metadata": {
            "tags": []
          }
        }
      ]
    },
    {
      "cell_type": "code",
      "metadata": {
        "id": "cTw87cQPvShY",
        "colab_type": "code",
        "colab": {}
      },
      "source": [
        "# save as JSON\n",
        "import json\n",
        "json_string = model.to_json()\n",
        "model.save_weights(f\"{WORK_DIR}/models/w2v_lstm.h5\")\n",
        "with open(f\"{WORK_DIR}/models/w2v_lstm.json\", 'w') as f:\n",
        "    json.dump(json_string, f)"
      ],
      "execution_count": 0,
      "outputs": []
    },
    {
      "cell_type": "code",
      "metadata": {
        "id": "qrpf44cZo6xr",
        "colab_type": "code",
        "outputId": "f0e51f84-a651-45c2-9b04-ad9429242fc4",
        "colab": {
          "base_uri": "https://localhost:8080/",
          "height": 295
        }
      },
      "source": [
        "# summarize history for loss\n",
        "plt.plot(history.history['loss'])\n",
        "plt.plot(history.history['val_loss'])\n",
        "plt.title('model loss')\n",
        "plt.ylabel('loss')\n",
        "plt.xlabel('epoch')\n",
        "plt.legend(['train', 'test'], loc='upper left')\n",
        "plt.show()"
      ],
      "execution_count": 0,
      "outputs": [
        {
          "output_type": "display_data",
          "data": {
            "image/png": "[encoded data removed]",
            "text/plain": [
              "<Figure size 432x288 with 1 Axes>"
            ]
          },
          "metadata": {
            "tags": []
          }
        }
      ]
    },
    {
      "cell_type": "code",
      "metadata": {
        "id": "Rx-jplDRvUrE",
        "colab_type": "code",
        "outputId": "ad6322f5-435a-4ef8-c709-8f8637a34703",
        "colab": {
          "base_uri": "https://localhost:8080/",
          "height": 399
        }
      },
      "source": [
        "from tensorflow.keras.models import Sequential\n",
        "from tensorflow.keras.layers import LSTM,Dense,Embedding,Conv1D,MaxPooling1D,Bidirectional,Dropout\n",
        "\n",
        "new_model = Sequential()\n",
        "new_model.add(Conv1D(32, kernel_size=3,activation='relu',padding='same',input_shape=(max_tokens_len,vector_size)))\n",
        "new_model.add(MaxPooling1D(pool_size=3))\n",
        "new_model.add(Bidirectional(LSTM(128)))\n",
        "new_model.add(Dropout(0.2))\n",
        "new_model.add(Dense(128,activation='relu'))\n",
        "new_model.add(Dropout(0.1))\n",
        "new_model.add(Dense(1,activation='sigmoid'))\n",
        "new_model.compile(optimizer='adam',loss='binary_crossentropy',metrics=['acc'])\n",
        "new_model.summary()"
      ],
      "execution_count": 0,
      "outputs": [
        {
          "output_type": "stream",
          "text": [
            "Model: \"sequential\"\n",
            "_________________________________________________________________\n",
            "Layer (type)                 Output Shape              Param #   \n",
            "=================================================================\n",
            "conv1d (Conv1D)              (None, 15, 32)            9632      \n",
            "_________________________________________________________________\n",
            "max_pooling1d (MaxPooling1D) (None, 5, 32)             0         \n",
            "_________________________________________________________________\n",
            "bidirectional (Bidirectional (None, 256)               164864    \n",
            "_________________________________________________________________\n",
            "dropout (Dropout)            (None, 256)               0         \n",
            "_________________________________________________________________\n",
            "dense (Dense)                (None, 128)               32896     \n",
            "_________________________________________________________________\n",
            "dropout_1 (Dropout)          (None, 128)               0         \n",
            "_________________________________________________________________\n",
            "dense_1 (Dense)              (None, 1)                 129       \n",
            "=================================================================\n",
            "Total params: 207,521\n",
            "Trainable params: 207,521\n",
            "Non-trainable params: 0\n",
            "_________________________________________________________________\n"
          ],
          "name": "stdout"
        }
      ]
    },
    {
      "cell_type": "code",
      "metadata": {
        "id": "VCCoXc4lCyKu",
        "colab_type": "code",
        "outputId": "ba24bad0-79dd-432d-c03e-e8b118ca831b",
        "colab": {
          "base_uri": "https://localhost:8080/",
          "height": 773
        }
      },
      "source": [
        "history = new_model.fit(x_train,\n",
        "          y_train,\n",
        "          batch_size=256,\n",
        "          shuffle=True,\n",
        "          epochs=epochs,\n",
        "          validation_data=(x_test,y_test))"
      ],
      "execution_count": 0,
      "outputs": [
        {
          "output_type": "stream",
          "text": [
            "Train on 1262839 samples, validate on 315709 samples\n",
            "Epoch 1/15\n",
            "1262839/1262839 [==============================] - 45s 35us/sample - loss: 0.5191 - acc: 0.7401 - val_loss: 0.5563 - val_acc: 0.7406\n",
            "Epoch 2/15\n",
            "1262839/1262839 [==============================] - 37s 29us/sample - loss: 0.5041 - acc: 0.7507 - val_loss: 0.5760 - val_acc: 0.7324\n",
            "Epoch 3/15\n",
            "1262839/1262839 [==============================] - 37s 29us/sample - loss: 0.4992 - acc: 0.7541 - val_loss: 0.5649 - val_acc: 0.7364\n",
            "Epoch 4/15\n",
            "1262839/1262839 [==============================] - 36s 29us/sample - loss: 0.4961 - acc: 0.7561 - val_loss: 0.5430 - val_acc: 0.7432\n",
            "Epoch 5/15\n",
            "1262839/1262839 [==============================] - 38s 30us/sample - loss: 0.4938 - acc: 0.7575 - val_loss: 0.5463 - val_acc: 0.7427\n",
            "Epoch 6/15\n",
            "1262839/1262839 [==============================] - 38s 30us/sample - loss: 0.4921 - acc: 0.7585 - val_loss: 0.5423 - val_acc: 0.7463\n",
            "Epoch 7/15\n",
            "1262839/1262839 [==============================] - 38s 30us/sample - loss: 0.4904 - acc: 0.7595 - val_loss: 0.5432 - val_acc: 0.7427\n",
            "Epoch 8/15\n",
            "1262839/1262839 [==============================] - 37s 29us/sample - loss: 0.4886 - acc: 0.7609 - val_loss: 0.5453 - val_acc: 0.7460\n",
            "Epoch 9/15\n",
            "1262839/1262839 [==============================] - 37s 29us/sample - loss: 0.4871 - acc: 0.7616 - val_loss: 0.5709 - val_acc: 0.7453\n",
            "Epoch 10/15\n",
            "1262839/1262839 [==============================] - 37s 29us/sample - loss: 0.4853 - acc: 0.7628 - val_loss: 0.5597 - val_acc: 0.7453\n",
            "Epoch 11/15\n",
            "1262839/1262839 [==============================] - 36s 29us/sample - loss: 0.4835 - acc: 0.7638 - val_loss: 0.5621 - val_acc: 0.7465\n",
            "Epoch 12/15\n",
            "1262839/1262839 [==============================] - 36s 29us/sample - loss: 0.4816 - acc: 0.7648 - val_loss: 0.5624 - val_acc: 0.7457\n",
            "Epoch 13/15\n",
            "1262839/1262839 [==============================] - 36s 28us/sample - loss: 0.4792 - acc: 0.7660 - val_loss: 0.5913 - val_acc: 0.7442\n",
            "Epoch 14/15\n",
            "1262839/1262839 [==============================] - 36s 28us/sample - loss: 0.4768 - acc: 0.7673 - val_loss: 0.6073 - val_acc: 0.7435\n",
            "Epoch 15/15\n",
            "1262839/1262839 [==============================] - 36s 28us/sample - loss: 0.4742 - acc: 0.7686 - val_loss: 0.6175 - val_acc: 0.7432\n"
          ],
          "name": "stdout"
        },
        {
          "output_type": "error",
          "ename": "NameError",
          "evalue": "ignored",
          "traceback": [
            "\u001b[0;31m---------------------------------------------------------------------------\u001b[0m",
            "\u001b[0;31mNameError\u001b[0m                                 Traceback (most recent call last)",
            "\u001b[0;32m<ipython-input-28-e0166ad85522>\u001b[0m in \u001b[0;36m<module>\u001b[0;34m()\u001b[0m\n\u001b[1;32m      7\u001b[0m \u001b[0;31m# save as JSON\u001b[0m\u001b[0;34m\u001b[0m\u001b[0;34m\u001b[0m\u001b[0;34m\u001b[0m\u001b[0m\n\u001b[1;32m      8\u001b[0m \u001b[0;32mimport\u001b[0m \u001b[0mjson\u001b[0m\u001b[0;34m\u001b[0m\u001b[0;34m\u001b[0m\u001b[0m\n\u001b[0;32m----> 9\u001b[0;31m \u001b[0mjson_string\u001b[0m \u001b[0;34m=\u001b[0m \u001b[0mmodel\u001b[0m\u001b[0;34m.\u001b[0m\u001b[0mto_json\u001b[0m\u001b[0;34m(\u001b[0m\u001b[0;34m)\u001b[0m\u001b[0;34m\u001b[0m\u001b[0;34m\u001b[0m\u001b[0m\n\u001b[0m\u001b[1;32m     10\u001b[0m \u001b[0mmodel\u001b[0m\u001b[0;34m.\u001b[0m\u001b[0msave_weights\u001b[0m\u001b[0;34m(\u001b[0m\u001b[0;34mf\"{WORK_DIR}/models/w2v_bi_lstm.h5\"\u001b[0m\u001b[0;34m)\u001b[0m\u001b[0;34m\u001b[0m\u001b[0;34m\u001b[0m\u001b[0m\n\u001b[1;32m     11\u001b[0m \u001b[0;32mwith\u001b[0m \u001b[0mopen\u001b[0m\u001b[0;34m(\u001b[0m\u001b[0;34mf\"{WORK_DIR}/models/w2v_bi_lstm.json\"\u001b[0m\u001b[0;34m,\u001b[0m \u001b[0;34m'w'\u001b[0m\u001b[0;34m)\u001b[0m \u001b[0;32mas\u001b[0m \u001b[0mf\u001b[0m\u001b[0;34m:\u001b[0m\u001b[0;34m\u001b[0m\u001b[0;34m\u001b[0m\u001b[0m\n",
            "\u001b[0;31mNameError\u001b[0m: name 'model' is not defined"
          ]
        }
      ]
    },
    {
      "cell_type": "code",
      "metadata": {
        "id": "Vt_nXm8sDnts",
        "colab_type": "code",
        "colab": {}
      },
      "source": [
        "# save as JSON\n",
        "import json\n",
        "json_string = new_model.to_json()\n",
        "new_model.save_weights(f\"{WORK_DIR}/models/w2v_bi_lstm.h5\")\n",
        "with open(f\"{WORK_DIR}/models/w2v_bi_lstm.json\", 'w') as f:\n",
        "    json.dump(json_string, f)"
      ],
      "execution_count": 0,
      "outputs": []
    },
    {
      "cell_type": "code",
      "metadata": {
        "id": "mEIU51xID3Qu",
        "colab_type": "code",
        "outputId": "f9b90b05-633a-4819-816c-9b57d837cf29",
        "colab": {
          "base_uri": "https://localhost:8080/",
          "height": 313
        }
      },
      "source": [
        "import matplotlib.pyplot as plt\n",
        "# list all data in history\n",
        "print(history.history.keys())\n",
        "# summarize history for accuracy\n",
        "plt.plot(history.history['acc'])\n",
        "plt.plot(history.history['val_acc'])\n",
        "plt.title('model accuracy')\n",
        "plt.ylabel('accuracy')\n",
        "plt.xlabel('epoch')\n",
        "plt.legend(['train', 'test'], loc='upper left')\n",
        "plt.show()"
      ],
      "execution_count": 0,
      "outputs": [
        {
          "output_type": "stream",
          "text": [
            "dict_keys(['loss', 'acc', 'val_loss', 'val_acc'])\n"
          ],
          "name": "stdout"
        },
        {
          "output_type": "display_data",
          "data": {
            "image/png": "[encoded data removed]",
            "text/plain": [
              "<Figure size 432x288 with 1 Axes>"
            ]
          },
          "metadata": {
            "tags": []
          }
        }
      ]
    },
    {
      "cell_type": "code",
      "metadata": {
        "id": "x63dzJtvEqiO",
        "colab_type": "code",
        "outputId": "5c32e93a-f3e8-4bdc-93bb-56f32df43ec4",
        "colab": {
          "base_uri": "https://localhost:8080/",
          "height": 295
        }
      },
      "source": [
        "import matplotlib.pyplot as plt\n",
        "# summarize history for loss\n",
        "plt.plot(history.history['loss'])\n",
        "plt.plot(history.history['val_loss'])\n",
        "plt.title('model loss')\n",
        "plt.ylabel('loss')\n",
        "plt.xlabel('epoch')\n",
        "plt.legend(['train', 'test'], loc='upper left')\n",
        "plt.show()"
      ],
      "execution_count": 0,
      "outputs": [
        {
          "output_type": "display_data",
          "data": {
            "image/png": "[encoded data removed]",
            "text/plain": [
              "<Figure size 432x288 with 1 Axes>"
            ]
          },
          "metadata": {
            "tags": []
          }
        }
      ]
    },
    {
      "cell_type": "code",
      "metadata": {
        "id": "DCYpXTPqDvnp",
        "colab_type": "code",
        "outputId": "859f9540-bc03-44fc-98b5-cb728f7008e0",
        "colab": {
          "base_uri": "https://localhost:8080/",
          "height": 433
        }
      },
      "source": [
        "from tensorflow.keras.models import Sequential\n",
        "from tensorflow.keras.layers import LSTM,Dense,Embedding,Conv1D,MaxPooling1D,Bidirectional,Dropout,Flatten\n",
        "\n",
        "dense_model = Sequential()\n",
        "dense_model.add(Flatten(input_shape=(max_tokens_len,vector_size)))\n",
        "dense_model.add(Dense(128,activation='relu',input_shape=(max_tokens_len,vector_size)))\n",
        "dense_model.add(Dropout(0.2))\n",
        "dense_model.add(Dense(256,activation='relu'))\n",
        "dense_model.add(Dropout(0.2))\n",
        "dense_model.add(Dense(128,activation='relu'))\n",
        "dense_model.add(Dropout(0.1))\n",
        "dense_model.add(Dense(1,activation='sigmoid'))\n",
        "dense_model.compile(optimizer='adam',loss='binary_crossentropy',metrics=['acc'])\n",
        "dense_model.summary()"
      ],
      "execution_count": 0,
      "outputs": [
        {
          "output_type": "stream",
          "text": [
            "Model: \"sequential_4\"\n",
            "_________________________________________________________________\n",
            "Layer (type)                 Output Shape              Param #   \n",
            "=================================================================\n",
            "flatten (Flatten)            (None, 1500)              0         \n",
            "_________________________________________________________________\n",
            "dense_8 (Dense)              (None, 128)               192128    \n",
            "_________________________________________________________________\n",
            "dropout_5 (Dropout)          (None, 128)               0         \n",
            "_________________________________________________________________\n",
            "dense_9 (Dense)              (None, 256)               33024     \n",
            "_________________________________________________________________\n",
            "dropout_6 (Dropout)          (None, 256)               0         \n",
            "_________________________________________________________________\n",
            "dense_10 (Dense)             (None, 128)               32896     \n",
            "_________________________________________________________________\n",
            "dropout_7 (Dropout)          (None, 128)               0         \n",
            "_________________________________________________________________\n",
            "dense_11 (Dense)             (None, 1)                 129       \n",
            "=================================================================\n",
            "Total params: 258,177\n",
            "Trainable params: 258,177\n",
            "Non-trainable params: 0\n",
            "_________________________________________________________________\n"
          ],
          "name": "stdout"
        }
      ]
    },
    {
      "cell_type": "code",
      "metadata": {
        "id": "DjHTH-gTGI9-",
        "colab_type": "code",
        "outputId": "7a72ced3-7d2f-4287-98a9-18074267479a",
        "colab": {
          "base_uri": "https://localhost:8080/",
          "height": 555
        }
      },
      "source": [
        "history = dense_model.fit(x_train,\n",
        "          y_train,\n",
        "          batch_size=256,\n",
        "          shuffle=True,\n",
        "          epochs=epochs,\n",
        "          validation_data=(x_test,y_test))"
      ],
      "execution_count": 0,
      "outputs": [
        {
          "output_type": "stream",
          "text": [
            "Train on 1262839 samples, validate on 315709 samples\n",
            "Epoch 1/15\n",
            "1262839/1262839 [==============================] - 20s 16us/sample - loss: 0.5362 - acc: 0.7266 - val_loss: 0.7323 - val_acc: 0.6873\n",
            "Epoch 2/15\n",
            "1262839/1262839 [==============================] - 20s 16us/sample - loss: 0.5203 - acc: 0.7391 - val_loss: 0.7512 - val_acc: 0.6907\n",
            "Epoch 3/15\n",
            "1262839/1262839 [==============================] - 20s 16us/sample - loss: 0.5126 - acc: 0.7447 - val_loss: 0.7486 - val_acc: 0.6877\n",
            "Epoch 4/15\n",
            "1262839/1262839 [==============================] - 20s 15us/sample - loss: 0.5061 - acc: 0.7494 - val_loss: 0.7720 - val_acc: 0.6853\n",
            "Epoch 5/15\n",
            "1262839/1262839 [==============================] - 20s 15us/sample - loss: 0.5004 - acc: 0.7537 - val_loss: 0.8354 - val_acc: 0.6910\n",
            "Epoch 6/15\n",
            "1262839/1262839 [==============================] - 19s 15us/sample - loss: 0.4955 - acc: 0.7571 - val_loss: 0.8130 - val_acc: 0.6890\n",
            "Epoch 7/15\n",
            "1262839/1262839 [==============================] - 19s 15us/sample - loss: 0.4910 - acc: 0.7597 - val_loss: 0.7817 - val_acc: 0.6897\n",
            "Epoch 8/15\n",
            "1262839/1262839 [==============================] - 19s 15us/sample - loss: 0.4868 - acc: 0.7627 - val_loss: 0.8479 - val_acc: 0.6841\n",
            "Epoch 9/15\n",
            "1262839/1262839 [==============================] - 19s 15us/sample - loss: 0.4829 - acc: 0.7650 - val_loss: 0.9378 - val_acc: 0.6825\n",
            "Epoch 10/15\n",
            "1262839/1262839 [==============================] - 19s 15us/sample - loss: 0.4793 - acc: 0.7671 - val_loss: 0.8690 - val_acc: 0.6847\n",
            "Epoch 11/15\n",
            "1262839/1262839 [==============================] - 19s 15us/sample - loss: 0.4762 - acc: 0.7692 - val_loss: 0.9569 - val_acc: 0.6842\n",
            "Epoch 12/15\n",
            "1262839/1262839 [==============================] - 19s 15us/sample - loss: 0.4733 - acc: 0.7709 - val_loss: 0.9123 - val_acc: 0.6856\n",
            "Epoch 13/15\n",
            "1262839/1262839 [==============================] - 20s 16us/sample - loss: 0.4703 - acc: 0.7726 - val_loss: 0.9016 - val_acc: 0.6821\n",
            "Epoch 14/15\n",
            "1262839/1262839 [==============================] - 20s 16us/sample - loss: 0.4678 - acc: 0.7741 - val_loss: 0.9786 - val_acc: 0.6833\n",
            "Epoch 15/15\n",
            "1262839/1262839 [==============================] - 20s 16us/sample - loss: 0.4659 - acc: 0.7751 - val_loss: 1.0299 - val_acc: 0.6828\n"
          ],
          "name": "stdout"
        }
      ]
    },
    {
      "cell_type": "code",
      "metadata": {
        "id": "auOKQFoqGcQx",
        "colab_type": "code",
        "colab": {}
      },
      "source": [
        "# save as JSON\n",
        "import json\n",
        "json_string = dense_model.to_json()\n",
        "dense_model.save_weights(f\"{WORK_DIR}/models/w2v_dnn.h5\")\n",
        "with open(f\"{WORK_DIR}/models/w2v_dnn.json\", 'w') as f:\n",
        "    json.dump(json_string, f)"
      ],
      "execution_count": 0,
      "outputs": []
    },
    {
      "cell_type": "code",
      "metadata": {
        "id": "XL3hVYpmGlNJ",
        "colab_type": "code",
        "outputId": "8c237c72-e584-4d85-dbb8-698f19996827",
        "colab": {
          "base_uri": "https://localhost:8080/",
          "height": 313
        }
      },
      "source": [
        "import matplotlib.pyplot as plt\n",
        "# list all data in history\n",
        "print(history.history.keys())\n",
        "# summarize history for accuracy\n",
        "plt.plot(history.history['acc'])\n",
        "plt.plot(history.history['val_acc'])\n",
        "plt.title('model accuracy')\n",
        "plt.ylabel('accuracy')\n",
        "plt.xlabel('epoch')\n",
        "plt.legend(['train', 'test'], loc='upper left')\n",
        "plt.show()"
      ],
      "execution_count": 0,
      "outputs": [
        {
          "output_type": "stream",
          "text": [
            "dict_keys(['loss', 'acc', 'val_loss', 'val_acc'])\n"
          ],
          "name": "stdout"
        },
        {
          "output_type": "display_data",
          "data": {
            "image/png": "[encoded data removed]",
            "text/plain": [
              "<Figure size 432x288 with 1 Axes>"
            ]
          },
          "metadata": {
            "tags": []
          }
        }
      ]
    },
    {
      "cell_type": "code",
      "metadata": {
        "id": "1kAgYV6iIgFy",
        "colab_type": "code",
        "outputId": "ae1b131c-2a8d-46c3-f029-3f5394d6037e",
        "colab": {
          "base_uri": "https://localhost:8080/",
          "height": 295
        }
      },
      "source": [
        "import matplotlib.pyplot as plt\n",
        "# summarize history for loss\n",
        "plt.plot(history.history['loss'])\n",
        "plt.plot(history.history['val_loss'])\n",
        "plt.title('model loss')\n",
        "plt.ylabel('loss')\n",
        "plt.xlabel('epoch')\n",
        "plt.legend(['train', 'test'], loc='upper left')\n",
        "plt.show()"
      ],
      "execution_count": 0,
      "outputs": [
        {
          "output_type": "display_data",
          "data": {
            "image/png": "[encoded data removed]",
            "text/plain": [
              "<Figure size 432x288 with 1 Axes>"
            ]
          },
          "metadata": {
            "tags": []
          }
        }
      ]
    },
    {
      "cell_type": "code",
      "metadata": {
        "id": "WIHCNZxlIjzi",
        "colab_type": "code",
        "colab": {}
      },
      "source": [
        ""
      ],
      "execution_count": 0,
      "outputs": []
    }
  ]
}