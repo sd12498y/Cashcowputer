{
  "nbformat": 4,
  "nbformat_minor": 0,
  "metadata": {
    "colab": {
      "name": "Copy of Universal Sentiment Classifier 2.ipynb",
      "provenance": []
    },
    "kernelspec": {
      "name": "python3",
      "display_name": "Python 3"
    },
    "accelerator": "GPU"
  },
  "cells": [
    {
      "cell_type": "code",
      "metadata": {
        "id": "Ow97RrQqei86",
        "colab_type": "code",
        "outputId": "ab3db319-5a97-4075-d550-22ead271e786",
        "colab": {
          "base_uri": "https://localhost:8080/",
          "height": 124
        }
      },
      "source": [
        "from google.colab import drive\n",
        "drive.mount('/content/drive')"
      ],
      "execution_count": 0,
      "outputs": [
        {
          "output_type": "stream",
          "text": [
            "Go to this URL in a browser: https://accounts.google.com/o/oauth2/auth?client_id=947318989803-6bn6qk8qdgf4n4g3pfee6491hc0brc4i.apps.googleusercontent.com&redirect_uri=urn%3aietf%3awg%3aoauth%3a2.0%3aoob&response_type=code&scope=email%20https%3a%2f%2fwww.googleapis.com%2fauth%2fdocs.test%20https%3a%2f%2fwww.googleapis.com%2fauth%2fdrive%20https%3a%2f%2fwww.googleapis.com%2fauth%2fdrive.photos.readonly%20https%3a%2f%2fwww.googleapis.com%2fauth%2fpeopleapi.readonly\n",
            "\n",
            "Enter your authorization code:\n",
            "··········\n",
            "Mounted at /content/drive\n"
          ],
          "name": "stdout"
        }
      ]
    },
    {
      "cell_type": "code",
      "metadata": {
        "id": "nm_0uWKBquuv",
        "colab_type": "code",
        "outputId": "424b6850-c949-45b5-ec32-7cd0ba4915d2",
        "colab": {
          "base_uri": "https://localhost:8080/",
          "height": 35
        }
      },
      "source": [
        "%tensorflow_version 2.x"
      ],
      "execution_count": 0,
      "outputs": [
        {
          "output_type": "stream",
          "text": [
            "TensorFlow 2.x selected.\n"
          ],
          "name": "stdout"
        }
      ]
    },
    {
      "cell_type": "code",
      "metadata": {
        "id": "TaaxVZhAq0ww",
        "colab_type": "code",
        "colab": {}
      },
      "source": [
        "WORK_DIR = '/content/drive/My Drive/FINA4350'\n",
        "DATA_DIR = f'{WORK_DIR}/datasets/cashcowputer-dataset'"
      ],
      "execution_count": 0,
      "outputs": []
    },
    {
      "cell_type": "code",
      "metadata": {
        "id": "RdUq-AsDq6NZ",
        "colab_type": "code",
        "colab": {}
      },
      "source": [
        "import tensorflow as tf\n",
        "import tensorflow_hub as hub"
      ],
      "execution_count": 0,
      "outputs": []
    },
    {
      "cell_type": "code",
      "metadata": {
        "id": "A2gbg8cUq9OQ",
        "colab_type": "code",
        "colab": {}
      },
      "source": [
        "module_path = 'https://tfhub.dev/google/universal-sentence-encoder/3'"
      ],
      "execution_count": 0,
      "outputs": []
    },
    {
      "cell_type": "code",
      "metadata": {
        "id": "qcZFoWXVq-Vw",
        "colab_type": "code",
        "colab": {}
      },
      "source": [
        "embed = hub.load(module_path)"
      ],
      "execution_count": 0,
      "outputs": []
    },
    {
      "cell_type": "code",
      "metadata": {
        "id": "vCCwIYxxq_2x",
        "colab_type": "code",
        "colab": {}
      },
      "source": [
        "messages = [\n",
        "    \"The quick brown fox jumps over the lazy dog.\",\n",
        "    \"I am a sentence for which I would like to get its embedding\",\n",
        "    \"That band rocks!\",\n",
        "    \"That song is really cool.\"]"
      ],
      "execution_count": 0,
      "outputs": []
    },
    {
      "cell_type": "code",
      "metadata": {
        "id": "_R4iJ2qKrBJ3",
        "colab_type": "code",
        "colab": {}
      },
      "source": [
        "message_embeddings = embed(messages)['outputs']"
      ],
      "execution_count": 0,
      "outputs": []
    },
    {
      "cell_type": "code",
      "metadata": {
        "id": "2e_rR6f9rEsT",
        "colab_type": "code",
        "colab": {}
      },
      "source": [
        "import tensorflow.keras.layers as layers\n",
        "from tensorflow.keras.models import Model\n",
        "from tensorflow.keras import backend as K"
      ],
      "execution_count": 0,
      "outputs": []
    },
    {
      "cell_type": "code",
      "metadata": {
        "id": "T7926v2orIVh",
        "colab_type": "code",
        "colab": {}
      },
      "source": [
        "args = {\n",
        "    'numberOfOutputClasses': 1,\n",
        "    'embed_size': 512,\n",
        "    'loss': 'binary_crossentropy',\n",
        "    'optimizer': 'adam',\n",
        "    'epochs': 20,\n",
        "    'batch_size': 256,\n",
        "    'activation': 'relu',\n",
        "    'output_acitivation': 'sigmoid',\n",
        "    'model_name': 'DAN-2-DNN-keras'\n",
        "}"
      ],
      "execution_count": 0,
      "outputs": []
    },
    {
      "cell_type": "code",
      "metadata": {
        "id": "0poaCvkbrO3k",
        "colab_type": "code",
        "colab": {}
      },
      "source": [
        "def UniversalEmbedding(x):\n",
        "    return embed(tf.squeeze(tf.cast(x, tf.string)))['outputs']"
      ],
      "execution_count": 0,
      "outputs": []
    },
    {
      "cell_type": "code",
      "metadata": {
        "id": "qnYWNiVYrQRn",
        "colab_type": "code",
        "outputId": "021f78bc-3339-4671-f9d3-db06ad4b39cb",
        "colab": {
          "base_uri": "https://localhost:8080/",
          "height": 364
        }
      },
      "source": [
        "input_text = layers.Input(shape=(1,), dtype=tf.string)\n",
        "embedding = layers.Lambda(UniversalEmbedding, output_shape=(args['embed_size'],))(input_text)\n",
        "dropout = layers.Dropout(0.1)(embedding)\n",
        "dense = layers.Dense(256, activation=args['activation'])(dropout)\n",
        "dropout1 = layers.Dropout(0.1)(dense)\n",
        "pred = layers.Dense(args['numberOfOutputClasses'], args['output_acitivation'])(dropout1)\n",
        "model = Model(inputs=[input_text], outputs=pred)\n",
        "model.compile(loss=args['loss'], optimizer=args['optimizer'], metrics=['accuracy'])\n",
        "model.summary()"
      ],
      "execution_count": 0,
      "outputs": [
        {
          "output_type": "stream",
          "text": [
            "Model: \"model\"\n",
            "_________________________________________________________________\n",
            "Layer (type)                 Output Shape              Param #   \n",
            "=================================================================\n",
            "input_1 (InputLayer)         [(None, 1)]               0         \n",
            "_________________________________________________________________\n",
            "lambda (Lambda)              (None, 512)               0         \n",
            "_________________________________________________________________\n",
            "dropout (Dropout)            (None, 512)               0         \n",
            "_________________________________________________________________\n",
            "dense (Dense)                (None, 256)               131328    \n",
            "_________________________________________________________________\n",
            "dropout_1 (Dropout)          (None, 256)               0         \n",
            "_________________________________________________________________\n",
            "dense_1 (Dense)              (None, 1)                 257       \n",
            "=================================================================\n",
            "Total params: 131,585\n",
            "Trainable params: 131,585\n",
            "Non-trainable params: 0\n",
            "_________________________________________________________________\n"
          ],
          "name": "stdout"
        }
      ]
    },
    {
      "cell_type": "code",
      "metadata": {
        "id": "Em7OhUWL-McX",
        "colab_type": "code",
        "colab": {}
      },
      "source": [
        "import pandas as pd\n",
        "sentiment_df = pd.read_csv(f'{DATA_DIR}/preprocessed/revamped_preprocessed_tweet_senti_dataset.csv')"
      ],
      "execution_count": 0,
      "outputs": []
    },
    {
      "cell_type": "code",
      "metadata": {
        "id": "UZdMShWxrfbQ",
        "colab_type": "code",
        "outputId": "7d0571fe-1d8a-4443-ec41-ff9567076549",
        "colab": {
          "base_uri": "https://localhost:8080/",
          "height": 202
        }
      },
      "source": [
        "sentiment_df.head()"
      ],
      "execution_count": 0,
      "outputs": [
        {
          "output_type": "execute_result",
          "data": {
            "text/html": [
              "<div>\n",
              "<style scoped>\n",
              "    .dataframe tbody tr th:only-of-type {\n",
              "        vertical-align: middle;\n",
              "    }\n",
              "\n",
              "    .dataframe tbody tr th {\n",
              "        vertical-align: top;\n",
              "    }\n",
              "\n",
              "    .dataframe thead th {\n",
              "        text-align: right;\n",
              "    }\n",
              "</style>\n",
              "<table border=\"1\" class=\"dataframe\">\n",
              "  <thead>\n",
              "    <tr style=\"text-align: right;\">\n",
              "      <th></th>\n",
              "      <th>Sentiment</th>\n",
              "      <th>cleaned_text</th>\n",
              "    </tr>\n",
              "  </thead>\n",
              "  <tbody>\n",
              "    <tr>\n",
              "      <th>0</th>\n",
              "      <td>0</td>\n",
              "      <td>is so sad for my apl friend</td>\n",
              "    </tr>\n",
              "    <tr>\n",
              "      <th>1</th>\n",
              "      <td>0</td>\n",
              "      <td>i missed the new moon trailer</td>\n",
              "    </tr>\n",
              "    <tr>\n",
              "      <th>2</th>\n",
              "      <td>1</td>\n",
              "      <td>omg its already time surprise</td>\n",
              "    </tr>\n",
              "    <tr>\n",
              "      <th>3</th>\n",
              "      <td>0</td>\n",
              "      <td>omgaga i am so i am gunna cry i have been at t...</td>\n",
              "    </tr>\n",
              "    <tr>\n",
              "      <th>4</th>\n",
              "      <td>0</td>\n",
              "      <td>i think mi bf is cheating on me tt</td>\n",
              "    </tr>\n",
              "  </tbody>\n",
              "</table>\n",
              "</div>"
            ],
            "text/plain": [
              "   Sentiment                                       cleaned_text\n",
              "0          0                        is so sad for my apl friend\n",
              "1          0                      i missed the new moon trailer\n",
              "2          1                      omg its already time surprise\n",
              "3          0  omgaga i am so i am gunna cry i have been at t...\n",
              "4          0                 i think mi bf is cheating on me tt"
            ]
          },
          "metadata": {
            "tags": []
          },
          "execution_count": 12
        }
      ]
    },
    {
      "cell_type": "code",
      "metadata": {
        "id": "ESF1TaOx-mt4",
        "colab_type": "code",
        "outputId": "ab26ad14-105d-4333-bdce-cfae5a0a6fa0",
        "colab": {
          "base_uri": "https://localhost:8080/",
          "height": 35
        }
      },
      "source": [
        "sentiment_df.isnull().values.any()"
      ],
      "execution_count": 0,
      "outputs": [
        {
          "output_type": "execute_result",
          "data": {
            "text/plain": [
              "True"
            ]
          },
          "metadata": {
            "tags": []
          },
          "execution_count": 13
        }
      ]
    },
    {
      "cell_type": "code",
      "metadata": {
        "id": "izhfFb0--5zU",
        "colab_type": "code",
        "colab": {}
      },
      "source": [
        "sentiment_df.dropna(axis=0,inplace=True)"
      ],
      "execution_count": 0,
      "outputs": []
    },
    {
      "cell_type": "code",
      "metadata": {
        "id": "6F6SRrHv_MBY",
        "colab_type": "code",
        "colab": {}
      },
      "source": [
        "assert(sentiment_df.isnull().values.any() == False)"
      ],
      "execution_count": 0,
      "outputs": []
    },
    {
      "cell_type": "code",
      "metadata": {
        "id": "oabf8yLi-qVb",
        "colab_type": "code",
        "outputId": "b95af68c-5db4-4af6-ae97-5440a84e1c7a",
        "colab": {
          "base_uri": "https://localhost:8080/",
          "height": 49
        }
      },
      "source": [
        "sentiment_df[sentiment_df.isnull().values]"
      ],
      "execution_count": 0,
      "outputs": [
        {
          "output_type": "execute_result",
          "data": {
            "text/html": [
              "<div>\n",
              "<style scoped>\n",
              "    .dataframe tbody tr th:only-of-type {\n",
              "        vertical-align: middle;\n",
              "    }\n",
              "\n",
              "    .dataframe tbody tr th {\n",
              "        vertical-align: top;\n",
              "    }\n",
              "\n",
              "    .dataframe thead th {\n",
              "        text-align: right;\n",
              "    }\n",
              "</style>\n",
              "<table border=\"1\" class=\"dataframe\">\n",
              "  <thead>\n",
              "    <tr style=\"text-align: right;\">\n",
              "      <th></th>\n",
              "      <th>Sentiment</th>\n",
              "      <th>cleaned_text</th>\n",
              "    </tr>\n",
              "  </thead>\n",
              "  <tbody>\n",
              "  </tbody>\n",
              "</table>\n",
              "</div>"
            ],
            "text/plain": [
              "Empty DataFrame\n",
              "Columns: [Sentiment, cleaned_text]\n",
              "Index: []"
            ]
          },
          "metadata": {
            "tags": []
          },
          "execution_count": 16
        }
      ]
    },
    {
      "cell_type": "code",
      "metadata": {
        "id": "hBiYcHR--YFS",
        "colab_type": "code",
        "colab": {}
      },
      "source": [
        "from sklearn.model_selection import train_test_split\n",
        "import numpy as np\n",
        "sentiments = sentiment_df.Sentiment.values\n",
        "tweets = sentiment_df.cleaned_text.values"
      ],
      "execution_count": 0,
      "outputs": []
    },
    {
      "cell_type": "code",
      "metadata": {
        "id": "2IfFvjak-dZr",
        "colab_type": "code",
        "colab": {}
      },
      "source": [
        "x_train, x_test, y_train, y_test = train_test_split(tweets, sentiments, test_size=.2)\n",
        "x_train, x_val, y_train, y_val = train_test_split(x_train, y_train, test_size=.2)"
      ],
      "execution_count": 0,
      "outputs": []
    },
    {
      "cell_type": "code",
      "metadata": {
        "id": "7AfJJLOJ-e9A",
        "colab_type": "code",
        "outputId": "6aea0144-bd4d-4956-cb5e-3b045564211f",
        "colab": {
          "base_uri": "https://localhost:8080/",
          "height": 728
        }
      },
      "source": [
        "history = model.fit(x_train, \n",
        "          y_train,\n",
        "          validation_data=(x_val, y_val),\n",
        "          epochs=args['epochs'],\n",
        "          batch_size=args['batch_size'])\n",
        "# save as JSON\n",
        "json_string = model.to_json()\n",
        "model.save_weights(f\"{WORK_DIR}/models/{args['model_name']}.h5\")\n",
        "import json\n",
        "with open(f\"{WORK_DIR}/models/{args['model_name']}_args.json\", 'w') as f:\n",
        "    json.dump(args, f)\n",
        "with open(f\"{WORK_DIR}/models/{args['model_name']}.json\", 'w') as f:\n",
        "    json.dump(json_string, f)"
      ],
      "execution_count": 0,
      "outputs": [
        {
          "output_type": "stream",
          "text": [
            "Train on 1010271 samples, validate on 252568 samples\n",
            "Epoch 1/20\n",
            "1010271/1010271 [==============================] - 155s 153us/sample - loss: 0.4883 - accuracy: 0.7644 - val_loss: 0.4699 - val_accuracy: 0.7755\n",
            "Epoch 2/20\n",
            "1010271/1010271 [==============================] - 144s 143us/sample - loss: 0.4729 - accuracy: 0.7745 - val_loss: 0.4644 - val_accuracy: 0.7786\n",
            "Epoch 3/20\n",
            "1010271/1010271 [==============================] - 144s 142us/sample - loss: 0.4670 - accuracy: 0.7784 - val_loss: 0.4648 - val_accuracy: 0.7790\n",
            "Epoch 4/20\n",
            "1010271/1010271 [==============================] - 143s 141us/sample - loss: 0.4633 - accuracy: 0.7805 - val_loss: 0.4604 - val_accuracy: 0.7820\n",
            "Epoch 5/20\n",
            "1010271/1010271 [==============================] - 150s 149us/sample - loss: 0.4603 - accuracy: 0.7825 - val_loss: 0.4594 - val_accuracy: 0.7824\n",
            "Epoch 6/20\n",
            "1010271/1010271 [==============================] - 147s 145us/sample - loss: 0.4578 - accuracy: 0.7838 - val_loss: 0.4586 - val_accuracy: 0.7828\n",
            "Epoch 7/20\n",
            "1010271/1010271 [==============================] - 148s 147us/sample - loss: 0.4559 - accuracy: 0.7852 - val_loss: 0.4589 - val_accuracy: 0.7826\n",
            "Epoch 8/20\n",
            "1010271/1010271 [==============================] - 147s 146us/sample - loss: 0.4540 - accuracy: 0.7864 - val_loss: 0.4579 - val_accuracy: 0.7824\n",
            "Epoch 9/20\n",
            "1010271/1010271 [==============================] - 149s 148us/sample - loss: 0.4527 - accuracy: 0.7874 - val_loss: 0.4589 - val_accuracy: 0.7826\n",
            "Epoch 10/20\n",
            "1010271/1010271 [==============================] - 150s 149us/sample - loss: 0.4510 - accuracy: 0.7878 - val_loss: 0.4583 - val_accuracy: 0.7829\n",
            "Epoch 11/20\n",
            "1010271/1010271 [==============================] - 155s 153us/sample - loss: 0.4497 - accuracy: 0.7888 - val_loss: 0.4582 - val_accuracy: 0.7822\n",
            "Epoch 12/20\n",
            "1010271/1010271 [==============================] - 157s 155us/sample - loss: 0.4489 - accuracy: 0.7890 - val_loss: 0.4578 - val_accuracy: 0.7824\n",
            "Epoch 13/20\n",
            "1010271/1010271 [==============================] - 159s 157us/sample - loss: 0.4475 - accuracy: 0.7903 - val_loss: 0.4584 - val_accuracy: 0.7825\n",
            "Epoch 14/20\n",
            "1010271/1010271 [==============================] - 159s 158us/sample - loss: 0.4465 - accuracy: 0.7906 - val_loss: 0.4583 - val_accuracy: 0.7824\n",
            "Epoch 15/20\n",
            "1010271/1010271 [==============================] - 160s 158us/sample - loss: 0.4454 - accuracy: 0.7911 - val_loss: 0.4582 - val_accuracy: 0.7826\n",
            "Epoch 16/20\n",
            "1010271/1010271 [==============================] - 159s 157us/sample - loss: 0.4445 - accuracy: 0.7919 - val_loss: 0.4592 - val_accuracy: 0.7817\n",
            "Epoch 17/20\n",
            "1010271/1010271 [==============================] - 160s 159us/sample - loss: 0.4440 - accuracy: 0.7921 - val_loss: 0.4588 - val_accuracy: 0.7819\n",
            "Epoch 18/20\n",
            "1010271/1010271 [==============================] - 158s 156us/sample - loss: 0.4431 - accuracy: 0.7929 - val_loss: 0.4588 - val_accuracy: 0.7823\n",
            "Epoch 19/20\n",
            "1010271/1010271 [==============================] - 160s 158us/sample - loss: 0.4422 - accuracy: 0.7932 - val_loss: 0.4590 - val_accuracy: 0.7820\n",
            "Epoch 20/20\n",
            "1010271/1010271 [==============================] - 159s 157us/sample - loss: 0.4416 - accuracy: 0.7935 - val_loss: 0.4592 - val_accuracy: 0.7821\n"
          ],
          "name": "stdout"
        }
      ]
    },
    {
      "cell_type": "code",
      "metadata": {
        "id": "VLFsaAIm_SER",
        "colab_type": "code",
        "outputId": "b0f41725-0f0d-4982-abd7-989d3e8e4e1c",
        "colab": {
          "base_uri": "https://localhost:8080/",
          "height": 313
        }
      },
      "source": [
        "import matplotlib.pyplot as plt\n",
        "# list all data in history\n",
        "print(history.history.keys())\n",
        "# summarize history for accuracy\n",
        "plt.plot(history.history['accuracy'])\n",
        "plt.plot(history.history['val_accuracy'])\n",
        "plt.title('model accuracy')\n",
        "plt.ylabel('accuracy')\n",
        "plt.xlabel('epoch')\n",
        "plt.legend(['train', 'test'], loc='upper left')\n",
        "plt.show()"
      ],
      "execution_count": 0,
      "outputs": [
        {
          "output_type": "stream",
          "text": [
            "dict_keys(['loss', 'accuracy', 'val_loss', 'val_accuracy'])\n"
          ],
          "name": "stdout"
        },
        {
          "output_type": "display_data",
          "data": {
            "image/png": "[encoded data removed]",
            "text/plain": [
              "<Figure size 432x288 with 1 Axes>"
            ]
          },
          "metadata": {
            "tags": []
          }
        }
      ]
    },
    {
      "cell_type": "code",
      "metadata": {
        "id": "u_bF9P_A_gQG",
        "colab_type": "code",
        "outputId": "aa472cc4-ce2f-4b24-ec48-2d55e2b357e5",
        "colab": {
          "base_uri": "https://localhost:8080/",
          "height": 295
        }
      },
      "source": [
        "# summarize history for loss\n",
        "plt.plot(history.history['loss'])\n",
        "plt.plot(history.history['val_loss'])\n",
        "plt.title('model loss')\n",
        "plt.ylabel('loss')\n",
        "plt.xlabel('epoch')\n",
        "plt.legend(['train', 'test'], loc='upper left')\n",
        "plt.show()"
      ],
      "execution_count": 0,
      "outputs": [
        {
          "output_type": "display_data",
          "data": {
            "image/png": "[encoded data removed]",
            "text/plain": [
              "<Figure size 432x288 with 1 Axes>"
            ]
          },
          "metadata": {
            "tags": []
          }
        }
      ]
    },
    {
      "cell_type": "code",
      "metadata": {
        "id": "_Qfh7E0o_jp3",
        "colab_type": "code",
        "outputId": "7b5236c8-94f2-41cd-b163-24a129d46363",
        "colab": {
          "base_uri": "https://localhost:8080/",
          "height": 191
        }
      },
      "source": [
        "score = model.evaluate(x_test, y_test, verbose=1)"
      ],
      "execution_count": 0,
      "outputs": [
        {
          "output_type": "stream",
          "text": [
            "IOPub data rate exceeded.\n",
            "The notebook server will temporarily stop sending output\n",
            "to the client in order to avoid crashing it.\n",
            "To change this limit, set the config variable\n",
            "`--NotebookApp.iopub_data_rate_limit`.\n",
            "\n",
            "Current values:\n",
            "NotebookApp.iopub_data_rate_limit=1000000.0 (bytes/sec)\n",
            "NotebookApp.rate_limit_window=3.0 (secs)\n",
            "\n"
          ],
          "name": "stderr"
        }
      ]
    },
    {
      "cell_type": "code",
      "metadata": {
        "id": "CX597bd5e_Q0",
        "colab_type": "code",
        "outputId": "05b1a887-1d4e-4773-9877-5d694aa8d919",
        "colab": {
          "base_uri": "https://localhost:8080/",
          "height": 35
        }
      },
      "source": [
        "score"
      ],
      "execution_count": 0,
      "outputs": [
        {
          "output_type": "execute_result",
          "data": {
            "text/plain": [
              "[0.4601276972882065, 0.7824649]"
            ]
          },
          "metadata": {
            "tags": []
          },
          "execution_count": 23
        }
      ]
    },
    {
      "cell_type": "code",
      "metadata": {
        "id": "FkKZ46QngB_z",
        "colab_type": "code",
        "colab": {}
      },
      "source": [
        ""
      ],
      "execution_count": 0,
      "outputs": []
    }
  ]
}