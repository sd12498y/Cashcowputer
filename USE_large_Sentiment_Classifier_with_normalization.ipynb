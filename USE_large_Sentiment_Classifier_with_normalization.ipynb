{
  "nbformat": 4,
  "nbformat_minor": 0,
  "metadata": {
    "colab": {
      "name": "Universal Sentiment Classifier 2.ipynb",
      "provenance": []
    },
    "kernelspec": {
      "name": "python3",
      "display_name": "Python 3"
    },
    "accelerator": "GPU"
  },
  "cells": [
    {
      "cell_type": "code",
      "metadata": {
        "id": "Ow97RrQqei86",
        "colab_type": "code",
        "outputId": "4827f00b-c60b-4ebb-8908-9a64adb46e00",
        "colab": {
          "base_uri": "https://localhost:8080/",
          "height": 127
        }
      },
      "source": [
        "from google.colab import drive\n",
        "drive.mount('/content/drive')"
      ],
      "execution_count": 0,
      "outputs": [
        {
          "output_type": "stream",
          "text": [
            "Go to this URL in a browser: https://accounts.google.com/o/oauth2/auth?client_id=947318989803-6bn6qk8qdgf4n4g3pfee6491hc0brc4i.apps.googleusercontent.com&redirect_uri=urn%3aietf%3awg%3aoauth%3a2.0%3aoob&response_type=code&scope=email%20https%3a%2f%2fwww.googleapis.com%2fauth%2fdocs.test%20https%3a%2f%2fwww.googleapis.com%2fauth%2fdrive%20https%3a%2f%2fwww.googleapis.com%2fauth%2fdrive.photos.readonly%20https%3a%2f%2fwww.googleapis.com%2fauth%2fpeopleapi.readonly\n",
            "\n",
            "Enter your authorization code:\n",
            "··········\n",
            "Mounted at /content/drive\n"
          ],
          "name": "stdout"
        }
      ]
    },
    {
      "cell_type": "code",
      "metadata": {
        "id": "nm_0uWKBquuv",
        "colab_type": "code",
        "colab": {}
      },
      "source": [
        "%tensorflow_version 2.x"
      ],
      "execution_count": 0,
      "outputs": []
    },
    {
      "cell_type": "code",
      "metadata": {
        "id": "TaaxVZhAq0ww",
        "colab_type": "code",
        "colab": {}
      },
      "source": [
        "WORK_DIR = '/content/drive/My Drive/FINA4350'\n",
        "DATA_DIR = f'{WORK_DIR}/datasets/cashcowputer-dataset'"
      ],
      "execution_count": 0,
      "outputs": []
    },
    {
      "cell_type": "code",
      "metadata": {
        "id": "RdUq-AsDq6NZ",
        "colab_type": "code",
        "colab": {}
      },
      "source": [
        "import tensorflow as tf\n",
        "import tensorflow_hub as hub"
      ],
      "execution_count": 0,
      "outputs": []
    },
    {
      "cell_type": "code",
      "metadata": {
        "id": "A2gbg8cUq9OQ",
        "colab_type": "code",
        "colab": {}
      },
      "source": [
        "module_path = 'https://tfhub.dev/google/universal-sentence-encoder-large/4'"
      ],
      "execution_count": 0,
      "outputs": []
    },
    {
      "cell_type": "code",
      "metadata": {
        "id": "qcZFoWXVq-Vw",
        "colab_type": "code",
        "colab": {}
      },
      "source": [
        "embed = hub.load(module_path)"
      ],
      "execution_count": 0,
      "outputs": []
    },
    {
      "cell_type": "code",
      "metadata": {
        "id": "vCCwIYxxq_2x",
        "colab_type": "code",
        "colab": {}
      },
      "source": [
        "messages = [\n",
        "    \"The quick brown fox jumps over the lazy dog.\",\n",
        "    \"I am a sentence for which I would like to get its embedding\",\n",
        "    \"That band rocks!\",\n",
        "    \"That song is really cool.\"]"
      ],
      "execution_count": 0,
      "outputs": []
    },
    {
      "cell_type": "code",
      "metadata": {
        "id": "_R4iJ2qKrBJ3",
        "colab_type": "code",
        "colab": {}
      },
      "source": [
        "message_embeddings = embed(messages)['outputs']"
      ],
      "execution_count": 0,
      "outputs": []
    },
    {
      "cell_type": "code",
      "metadata": {
        "id": "2e_rR6f9rEsT",
        "colab_type": "code",
        "colab": {}
      },
      "source": [
        "import tensorflow.keras.layers as layers\n",
        "from tensorflow.keras.models import Model\n",
        "from tensorflow.keras import backend as K"
      ],
      "execution_count": 0,
      "outputs": []
    },
    {
      "cell_type": "code",
      "metadata": {
        "id": "T7926v2orIVh",
        "colab_type": "code",
        "colab": {}
      },
      "source": [
        "args = {\n",
        "    'numberOfOutputClasses': 1,\n",
        "    'embed_size': 512,\n",
        "    'loss': 'binary_crossentropy',\n",
        "    'optimizer': 'adam',\n",
        "    'epochs': 20,\n",
        "    'batch_size': 256,\n",
        "    'activation': 'relu',\n",
        "    'output_acitivation': 'sigmoid',\n",
        "    'model_name': 'new-2-DNN-keras'\n",
        "}"
      ],
      "execution_count": 0,
      "outputs": []
    },
    {
      "cell_type": "code",
      "metadata": {
        "id": "0poaCvkbrO3k",
        "colab_type": "code",
        "colab": {}
      },
      "source": [
        "def UniversalEmbedding(x):\n",
        "    return embed(tf.squeeze(tf.cast(x, tf.string)))['outputs']"
      ],
      "execution_count": 0,
      "outputs": []
    },
    {
      "cell_type": "code",
      "metadata": {
        "id": "qnYWNiVYrQRn",
        "colab_type": "code",
        "outputId": "aafb803f-0138-46b6-a5bb-cbfda4c57e2c",
        "colab": {
          "base_uri": "https://localhost:8080/",
          "height": 377
        }
      },
      "source": [
        "input_text = layers.Input(shape=(1,), dtype=tf.string)\n",
        "embedding = layers.Lambda(UniversalEmbedding, output_shape=(args['embed_size'],))(input_text)\n",
        "dropout = layers.Dropout(0.1)(embedding)\n",
        "dense = layers.Dense(256, activation=args['activation'])(dropout)\n",
        "dropout1 = layers.Dropout(0.1)(dense)\n",
        "pred = layers.Dense(args['numberOfOutputClasses'], args['output_acitivation'])(dropout1)\n",
        "model = Model(inputs=[input_text], outputs=pred)\n",
        "model.compile(loss=args['loss'], optimizer=args['optimizer'], metrics=['accuracy'])\n",
        "model.summary()"
      ],
      "execution_count": 0,
      "outputs": [
        {
          "output_type": "stream",
          "text": [
            "Model: \"model_2\"\n",
            "_________________________________________________________________\n",
            "Layer (type)                 Output Shape              Param #   \n",
            "=================================================================\n",
            "input_3 (InputLayer)         [(None, 1)]               0         \n",
            "_________________________________________________________________\n",
            "lambda_2 (Lambda)            (None, 512)               0         \n",
            "_________________________________________________________________\n",
            "dropout_4 (Dropout)          (None, 512)               0         \n",
            "_________________________________________________________________\n",
            "dense_4 (Dense)              (None, 256)               131328    \n",
            "_________________________________________________________________\n",
            "dropout_5 (Dropout)          (None, 256)               0         \n",
            "_________________________________________________________________\n",
            "dense_5 (Dense)              (None, 1)                 257       \n",
            "=================================================================\n",
            "Total params: 131,585\n",
            "Trainable params: 131,585\n",
            "Non-trainable params: 0\n",
            "_________________________________________________________________\n"
          ],
          "name": "stdout"
        }
      ]
    },
    {
      "cell_type": "code",
      "metadata": {
        "id": "Em7OhUWL-McX",
        "colab_type": "code",
        "colab": {}
      },
      "source": [
        "import pandas as pd\n",
        "sentiment_df = pd.read_csv(f'{DATA_DIR}/preprocessed/revamped_preprocessed_tweet_senti_dataset.csv')"
      ],
      "execution_count": 0,
      "outputs": []
    },
    {
      "cell_type": "code",
      "metadata": {
        "id": "UZdMShWxrfbQ",
        "colab_type": "code",
        "outputId": "52e50cdd-4af8-444c-cc93-0f3d755a65fe",
        "colab": {
          "base_uri": "https://localhost:8080/",
          "height": 204
        }
      },
      "source": [
        "sentiment_df.head()"
      ],
      "execution_count": 0,
      "outputs": [
        {
          "output_type": "execute_result",
          "data": {
            "text/html": [
              "<div>\n",
              "<style scoped>\n",
              "    .dataframe tbody tr th:only-of-type {\n",
              "        vertical-align: middle;\n",
              "    }\n",
              "\n",
              "    .dataframe tbody tr th {\n",
              "        vertical-align: top;\n",
              "    }\n",
              "\n",
              "    .dataframe thead th {\n",
              "        text-align: right;\n",
              "    }\n",
              "</style>\n",
              "<table border=\"1\" class=\"dataframe\">\n",
              "  <thead>\n",
              "    <tr style=\"text-align: right;\">\n",
              "      <th></th>\n",
              "      <th>Sentiment</th>\n",
              "      <th>cleaned_text</th>\n",
              "    </tr>\n",
              "  </thead>\n",
              "  <tbody>\n",
              "    <tr>\n",
              "      <th>0</th>\n",
              "      <td>0</td>\n",
              "      <td>is so sad for my apl friend</td>\n",
              "    </tr>\n",
              "    <tr>\n",
              "      <th>1</th>\n",
              "      <td>0</td>\n",
              "      <td>i missed the new moon trailer</td>\n",
              "    </tr>\n",
              "    <tr>\n",
              "      <th>2</th>\n",
              "      <td>1</td>\n",
              "      <td>omg its already time surprise</td>\n",
              "    </tr>\n",
              "    <tr>\n",
              "      <th>3</th>\n",
              "      <td>0</td>\n",
              "      <td>omgaga i am so i am gunna cry i have been at t...</td>\n",
              "    </tr>\n",
              "    <tr>\n",
              "      <th>4</th>\n",
              "      <td>0</td>\n",
              "      <td>i think mi bf is cheating on me tt</td>\n",
              "    </tr>\n",
              "  </tbody>\n",
              "</table>\n",
              "</div>"
            ],
            "text/plain": [
              "   Sentiment                                       cleaned_text\n",
              "0          0                        is so sad for my apl friend\n",
              "1          0                      i missed the new moon trailer\n",
              "2          1                      omg its already time surprise\n",
              "3          0  omgaga i am so i am gunna cry i have been at t...\n",
              "4          0                 i think mi bf is cheating on me tt"
            ]
          },
          "metadata": {
            "tags": []
          },
          "execution_count": 37
        }
      ]
    },
    {
      "cell_type": "code",
      "metadata": {
        "id": "ESF1TaOx-mt4",
        "colab_type": "code",
        "outputId": "bbb8fc6b-0b5c-4077-f358-1bb6df8ede2b",
        "colab": {
          "base_uri": "https://localhost:8080/",
          "height": 35
        }
      },
      "source": [
        "sentiment_df.isnull().values.any()"
      ],
      "execution_count": 0,
      "outputs": [
        {
          "output_type": "execute_result",
          "data": {
            "text/plain": [
              "True"
            ]
          },
          "metadata": {
            "tags": []
          },
          "execution_count": 40
        }
      ]
    },
    {
      "cell_type": "code",
      "metadata": {
        "id": "izhfFb0--5zU",
        "colab_type": "code",
        "colab": {}
      },
      "source": [
        "sentiment_df.dropna(axis=0,inplace=True)"
      ],
      "execution_count": 0,
      "outputs": []
    },
    {
      "cell_type": "code",
      "metadata": {
        "id": "6F6SRrHv_MBY",
        "colab_type": "code",
        "colab": {}
      },
      "source": [
        "assert(sentiment_df.isnull().values.any() == False)"
      ],
      "execution_count": 0,
      "outputs": []
    },
    {
      "cell_type": "code",
      "metadata": {
        "id": "oabf8yLi-qVb",
        "colab_type": "code",
        "outputId": "6d842a11-67e3-47b2-ea4c-83a11a4f9e9c",
        "colab": {
          "base_uri": "https://localhost:8080/",
          "height": 49
        }
      },
      "source": [
        "sentiment_df[sentiment_df.isnull().values]"
      ],
      "execution_count": 0,
      "outputs": [
        {
          "output_type": "execute_result",
          "data": {
            "text/html": [
              "<div>\n",
              "<style scoped>\n",
              "    .dataframe tbody tr th:only-of-type {\n",
              "        vertical-align: middle;\n",
              "    }\n",
              "\n",
              "    .dataframe tbody tr th {\n",
              "        vertical-align: top;\n",
              "    }\n",
              "\n",
              "    .dataframe thead th {\n",
              "        text-align: right;\n",
              "    }\n",
              "</style>\n",
              "<table border=\"1\" class=\"dataframe\">\n",
              "  <thead>\n",
              "    <tr style=\"text-align: right;\">\n",
              "      <th></th>\n",
              "      <th>Sentiment</th>\n",
              "      <th>cleaned_text</th>\n",
              "    </tr>\n",
              "  </thead>\n",
              "  <tbody>\n",
              "  </tbody>\n",
              "</table>\n",
              "</div>"
            ],
            "text/plain": [
              "Empty DataFrame\n",
              "Columns: [Sentiment, cleaned_text]\n",
              "Index: []"
            ]
          },
          "metadata": {
            "tags": []
          },
          "execution_count": 47
        }
      ]
    },
    {
      "cell_type": "code",
      "metadata": {
        "id": "hBiYcHR--YFS",
        "colab_type": "code",
        "colab": {}
      },
      "source": [
        "from sklearn.model_selection import train_test_split\n",
        "import numpy as np\n",
        "sentiments = sentiment_df.Sentiment.values\n",
        "tweets = sentiment_df.cleaned_text.values"
      ],
      "execution_count": 0,
      "outputs": []
    },
    {
      "cell_type": "code",
      "metadata": {
        "id": "2IfFvjak-dZr",
        "colab_type": "code",
        "colab": {}
      },
      "source": [
        "x_train, x_test, y_train, y_test = train_test_split(tweets, sentiments, test_size=.2)\n",
        "x_train, x_val, y_train, y_val = train_test_split(x_train, y_train, test_size=.2)"
      ],
      "execution_count": 0,
      "outputs": []
    },
    {
      "cell_type": "code",
      "metadata": {
        "id": "7AfJJLOJ-e9A",
        "colab_type": "code",
        "outputId": "18165fa1-fd65-4339-cede-77745395af0b",
        "colab": {
          "base_uri": "https://localhost:8080/",
          "height": 755
        }
      },
      "source": [
        "history = model.fit(x_train, \n",
        "          y_train,\n",
        "          validation_data=(x_val, y_val),\n",
        "          epochs=args['epochs'],\n",
        "          batch_size=args['batch_size'])\n",
        "model.save_weights(f\"{working_dir}/models/{args['model_name']}.h5\")\n",
        "import json\n",
        "with open(f\"{working_dir}/models/{args['model_name']}_args.json\", 'w') as f:\n",
        "    json.dump(args, f)"
      ],
      "execution_count": 0,
      "outputs": [
        {
          "output_type": "stream",
          "text": [
            "Train on 1010271 samples, validate on 252568 samples\n",
            "Epoch 1/20\n",
            "1010271/1010271 [==============================] - 429s 425us/sample - loss: 0.4583 - accuracy: 0.7842 - val_loss: 0.4426 - val_accuracy: 0.7923\n",
            "Epoch 2/20\n",
            "1010271/1010271 [==============================] - 393s 389us/sample - loss: 0.4440 - accuracy: 0.7929 - val_loss: 0.4380 - val_accuracy: 0.7954\n",
            "Epoch 3/20\n",
            "1010271/1010271 [==============================] - 376s 373us/sample - loss: 0.4386 - accuracy: 0.7962 - val_loss: 0.4347 - val_accuracy: 0.7980\n",
            "Epoch 4/20\n",
            "1010271/1010271 [==============================] - 375s 371us/sample - loss: 0.4344 - accuracy: 0.7988 - val_loss: 0.4341 - val_accuracy: 0.7973\n",
            "Epoch 5/20\n",
            "1010271/1010271 [==============================] - 375s 371us/sample - loss: 0.4314 - accuracy: 0.8006 - val_loss: 0.4318 - val_accuracy: 0.7994\n",
            "Epoch 6/20\n",
            "1010271/1010271 [==============================] - 389s 385us/sample - loss: 0.4286 - accuracy: 0.8022 - val_loss: 0.4319 - val_accuracy: 0.7992\n",
            "Epoch 7/20\n",
            "1010271/1010271 [==============================] - 398s 394us/sample - loss: 0.4265 - accuracy: 0.8036 - val_loss: 0.4313 - val_accuracy: 0.7992\n",
            "Epoch 8/20\n",
            "1010271/1010271 [==============================] - 422s 418us/sample - loss: 0.4245 - accuracy: 0.8042 - val_loss: 0.4310 - val_accuracy: 0.7999\n",
            "Epoch 9/20\n",
            "1010271/1010271 [==============================] - 424s 420us/sample - loss: 0.4225 - accuracy: 0.8055 - val_loss: 0.4308 - val_accuracy: 0.7992\n",
            "Epoch 10/20\n",
            "1010271/1010271 [==============================] - 424s 419us/sample - loss: 0.4209 - accuracy: 0.8066 - val_loss: 0.4302 - val_accuracy: 0.8005\n",
            "Epoch 11/20\n",
            "1010271/1010271 [==============================] - 424s 420us/sample - loss: 0.4192 - accuracy: 0.8077 - val_loss: 0.4303 - val_accuracy: 0.8003\n",
            "Epoch 12/20\n",
            "1010271/1010271 [==============================] - 427s 423us/sample - loss: 0.4178 - accuracy: 0.8083 - val_loss: 0.4304 - val_accuracy: 0.8003\n",
            "Epoch 13/20\n",
            "1010271/1010271 [==============================] - 426s 421us/sample - loss: 0.4165 - accuracy: 0.8090 - val_loss: 0.4308 - val_accuracy: 0.8001\n",
            "Epoch 14/20\n",
            "1010271/1010271 [==============================] - 426s 422us/sample - loss: 0.4154 - accuracy: 0.8097 - val_loss: 0.4313 - val_accuracy: 0.7999\n",
            "Epoch 15/20\n",
            "1010271/1010271 [==============================] - 428s 424us/sample - loss: 0.4139 - accuracy: 0.8103 - val_loss: 0.4315 - val_accuracy: 0.7995\n",
            "Epoch 16/20\n",
            "1010271/1010271 [==============================] - 424s 420us/sample - loss: 0.4133 - accuracy: 0.8104 - val_loss: 0.4316 - val_accuracy: 0.7997\n",
            "Epoch 17/20\n",
            "1010271/1010271 [==============================] - 422s 417us/sample - loss: 0.4122 - accuracy: 0.8111 - val_loss: 0.4347 - val_accuracy: 0.7983\n",
            "Epoch 18/20\n",
            "1010271/1010271 [==============================] - 422s 417us/sample - loss: 0.4109 - accuracy: 0.8119 - val_loss: 0.4323 - val_accuracy: 0.7999\n",
            "Epoch 19/20\n",
            "1010271/1010271 [==============================] - 392s 388us/sample - loss: 0.4105 - accuracy: 0.8120 - val_loss: 0.4339 - val_accuracy: 0.7981\n",
            "Epoch 20/20\n",
            "1010271/1010271 [==============================] - 375s 372us/sample - loss: 0.4094 - accuracy: 0.8125 - val_loss: 0.4327 - val_accuracy: 0.7990\n"
          ],
          "name": "stdout"
        }
      ]
    },
    {
      "cell_type": "code",
      "metadata": {
        "id": "VLFsaAIm_SER",
        "colab_type": "code",
        "outputId": "6b91694c-3203-4148-960e-2eb244b8c977",
        "colab": {
          "base_uri": "https://localhost:8080/",
          "height": 313
        }
      },
      "source": [
        "import matplotlib.pyplot as plt\n",
        "# list all data in history\n",
        "print(history.history.keys())\n",
        "# summarize history for accuracy\n",
        "plt.plot(history.history['accuracy'])\n",
        "plt.plot(history.history['val_accuracy'])\n",
        "plt.title('model accuracy')\n",
        "plt.ylabel('accuracy')\n",
        "plt.xlabel('epoch')\n",
        "plt.legend(['train', 'test'], loc='upper left')\n",
        "plt.show()"
      ],
      "execution_count": 0,
      "outputs": [
        {
          "output_type": "stream",
          "text": [
            "dict_keys(['loss', 'accuracy', 'val_loss', 'val_accuracy'])\n"
          ],
          "name": "stdout"
        },
        {
          "output_type": "display_data",
          "data": {
            "image/png": "[encoded data removed]",
            "text/plain": [
              "<Figure size 432x288 with 1 Axes>"
            ]
          },
          "metadata": {
            "tags": []
          }
        }
      ]
    },
    {
      "cell_type": "code",
      "metadata": {
        "id": "u_bF9P_A_gQG",
        "colab_type": "code",
        "outputId": "fbc15dd1-16a6-45c0-d9dd-1c5b0ed4d8a8",
        "colab": {
          "base_uri": "https://localhost:8080/",
          "height": 295
        }
      },
      "source": [
        "# summarize history for loss\n",
        "plt.plot(history.history['loss'])\n",
        "plt.plot(history.history['val_loss'])\n",
        "plt.title('model loss')\n",
        "plt.ylabel('loss')\n",
        "plt.xlabel('epoch')\n",
        "plt.legend(['train', 'test'], loc='upper left')\n",
        "plt.show()"
      ],
      "execution_count": 0,
      "outputs": [
        {
          "output_type": "display_data",
          "data": {
            "image/png": "[encoded data removed]",
            "text/plain": [
              "<Figure size 432x288 with 1 Axes>"
            ]
          },
          "metadata": {
            "tags": []
          }
        }
      ]
    },
    {
      "cell_type": "code",
      "metadata": {
        "id": "_Qfh7E0o_jp3",
        "colab_type": "code",
        "outputId": "95248e11-3ac3-4c81-cda1-ce090807e53c",
        "colab": {
          "base_uri": "https://localhost:8080/",
          "height": 197
        }
      },
      "source": [
        "score = model.evaluate(x_test, y_test, verbose=1)"
      ],
      "execution_count": 0,
      "outputs": [
        {
          "output_type": "stream",
          "text": [
            "IOPub data rate exceeded.\n",
            "The notebook server will temporarily stop sending output\n",
            "to the client in order to avoid crashing it.\n",
            "To change this limit, set the config variable\n",
            "`--NotebookApp.iopub_data_rate_limit`.\n",
            "\n",
            "Current values:\n",
            "NotebookApp.iopub_data_rate_limit=1000000.0 (bytes/sec)\n",
            "NotebookApp.rate_limit_window=3.0 (secs)\n",
            "\n"
          ],
          "name": "stderr"
        }
      ]
    },
    {
      "cell_type": "code",
      "metadata": {
        "id": "CX597bd5e_Q0",
        "colab_type": "code",
        "outputId": "e9552c79-363b-42c8-f97a-9bcd14f720cf",
        "colab": {
          "base_uri": "https://localhost:8080/",
          "height": 35
        }
      },
      "source": [
        "score"
      ],
      "execution_count": 0,
      "outputs": [
        {
          "output_type": "execute_result",
          "data": {
            "text/plain": [
              "[0.43171212032528417, 0.7998543]"
            ]
          },
          "metadata": {
            "tags": []
          },
          "execution_count": 55
        }
      ]
    },
    {
      "cell_type": "code",
      "metadata": {
        "id": "FkKZ46QngB_z",
        "colab_type": "code",
        "colab": {}
      },
      "source": [
        ""
      ],
      "execution_count": 0,
      "outputs": []
    }
  ]
}