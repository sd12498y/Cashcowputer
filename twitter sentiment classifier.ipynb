{
 "cells": [
  {
   "cell_type": "code",
   "execution_count": 5,
   "metadata": {},
   "outputs": [],
   "source": [
    "import pandas as pd\n",
    "import numpy as np\n",
    "import re\n",
    "import nltk\n",
    "import matplotlib.pyplot as plt"
   ]
  },
  {
   "cell_type": "markdown",
   "metadata": {},
   "source": [
    "# Sentiment Classifier\n",
    "* Model: 2-layered DNN\n",
    "* Dataset: Sentiment140 (1.6 million labelled tweets)\n",
    "\n",
    "## Data preprocessing:\n",
    "1. Strip HYML tags\n",
    "2. Remove accented characters\n",
    "3. Expand contractions\n",
    "4. remove special chacterests"
   ]
  },
  {
   "cell_type": "code",
   "execution_count": 6,
   "metadata": {},
   "outputs": [],
   "source": [
    "import contractions\n",
    "from bs4 import BeautifulSoup\n",
    "import unicodedata\n",
    "import re\n",
    "\n",
    "def strip_html_tags(text):\n",
    "    soup = BeautifulSoup(text, \"html.parser\")\n",
    "    [s.extract() for s in soup(['iframe', 'script'])]\n",
    "    stripped_text = soup.get_text()\n",
    "    stripped_text = re.sub(r'[\\r|\\n|\\r\\n]+', '\\n', stripped_text)\n",
    "    return stripped_text\n",
    "\n",
    "def remove_accented_chars(text):\n",
    "    text = unicodedata.normalize('NFKD', text).encode('ascii', 'ignore').decode('utf-8', 'ignore')\n",
    "    return text\n",
    "\n",
    "def expand_contractions(text):\n",
    "    return contractions.fix(text)\n",
    "\n",
    "def remove_special_characters(text, remove_digits=False):\n",
    "    pattern = r'[^a-zA-Z0-9\\s]' if not remove_digits else r'[^a-zA-Z\\s]'\n",
    "    text = re.sub(pattern, '', text)\n",
    "    return text\n",
    "\n",
    "def pre_process_document(document):\n",
    "    # strip HTML\n",
    "    document = strip_html_tags(document)\n",
    "    # lower case\n",
    "    document = document.lower()\n",
    "    # remove extra newlines (often might be present in really noisy text)\n",
    "    document = document.translate(document.maketrans(\"\\n\\t\\r\", \"   \"))\n",
    "    # remove accented characters\n",
    "    document = remove_accented_chars(document)\n",
    "    # expand contractions    \n",
    "    document = expand_contractions(document)  \n",
    "    # remove special characters and\\or digits    \n",
    "    # insert spaces between special characters to isolate them    \n",
    "    special_char_pattern = re.compile(r'([{.(-)!}])')\n",
    "    document = special_char_pattern.sub(\" \\\\1 \", document)\n",
    "    document = remove_special_characters(document, remove_digits=True)  \n",
    "    # remove extra whitespace\n",
    "    document = re.sub(' +', ' ', document)\n",
    "    document = document.strip()\n",
    "    \n",
    "    return document\n",
    "\n",
    "\n",
    "pre_process_corpus = np.vectorize(pre_process_document)"
   ]
  },
  {
   "cell_type": "code",
   "execution_count": 7,
   "metadata": {},
   "outputs": [],
   "source": [
    "dataset = pd.read_csv('./datasets/tweet_senti_dataset.csv',usecols=[0,1,2,3])"
   ]
  },
  {
   "cell_type": "code",
   "execution_count": null,
   "metadata": {},
   "outputs": [],
   "source": [
    "with open('./datasets/tweet_senti_dataset.csv') as f, open(\"./datasets/cleaned_tweet_senti_dataset.csv\", \"w\") as cleanedFile:\n",
    "    for line in f:\n",
    "        list_line = line.split(',')\n",
    "        to_write = line\n",
    "        if line.count(',') > 4:\n",
    "            list_line = line.split(',')\n",
    "            string = ','.join(list_line[3:]).replace(',','|')\n",
    "            new_list = list_line[:3] + [string]\n",
    "            to_write = ','.join(new_list)\n",
    "        cleanedFile.write(to_write)\n",
    "f.close()\n",
    "cleanedFile.close()\n",
    "            "
   ]
  },
  {
   "cell_type": "code",
   "execution_count": 8,
   "metadata": {},
   "outputs": [
    {
     "data": {
      "text/html": [
       "<div>\n",
       "<style scoped>\n",
       "    .dataframe tbody tr th:only-of-type {\n",
       "        vertical-align: middle;\n",
       "    }\n",
       "\n",
       "    .dataframe tbody tr th {\n",
       "        vertical-align: top;\n",
       "    }\n",
       "\n",
       "    .dataframe thead th {\n",
       "        text-align: right;\n",
       "    }\n",
       "</style>\n",
       "<table border=\"1\" class=\"dataframe\">\n",
       "  <thead>\n",
       "    <tr style=\"text-align: right;\">\n",
       "      <th></th>\n",
       "      <th>ItemID</th>\n",
       "      <th>Sentiment</th>\n",
       "      <th>SentimentSource</th>\n",
       "      <th>SentimentText</th>\n",
       "    </tr>\n",
       "  </thead>\n",
       "  <tbody>\n",
       "    <tr>\n",
       "      <th>0</th>\n",
       "      <td>1</td>\n",
       "      <td>0</td>\n",
       "      <td>Sentiment140</td>\n",
       "      <td>is so sad for my APL frie...</td>\n",
       "    </tr>\n",
       "    <tr>\n",
       "      <th>1</th>\n",
       "      <td>2</td>\n",
       "      <td>0</td>\n",
       "      <td>Sentiment140</td>\n",
       "      <td>I missed the New Moon trail...</td>\n",
       "    </tr>\n",
       "    <tr>\n",
       "      <th>2</th>\n",
       "      <td>3</td>\n",
       "      <td>1</td>\n",
       "      <td>Sentiment140</td>\n",
       "      <td>omg its already 7:30 :O</td>\n",
       "    </tr>\n",
       "    <tr>\n",
       "      <th>3</th>\n",
       "      <td>4</td>\n",
       "      <td>0</td>\n",
       "      <td>Sentiment140</td>\n",
       "      <td>.. Omgaga. Im sooo  im gunna CRy. I'...</td>\n",
       "    </tr>\n",
       "    <tr>\n",
       "      <th>4</th>\n",
       "      <td>5</td>\n",
       "      <td>0</td>\n",
       "      <td>Sentiment140</td>\n",
       "      <td>i think mi bf is cheating on me!!!   ...</td>\n",
       "    </tr>\n",
       "  </tbody>\n",
       "</table>\n",
       "</div>"
      ],
      "text/plain": [
       "   ItemID  Sentiment SentimentSource  \\\n",
       "0       1          0    Sentiment140   \n",
       "1       2          0    Sentiment140   \n",
       "2       3          1    Sentiment140   \n",
       "3       4          0    Sentiment140   \n",
       "4       5          0    Sentiment140   \n",
       "\n",
       "                                       SentimentText  \n",
       "0                       is so sad for my APL frie...  \n",
       "1                     I missed the New Moon trail...  \n",
       "2                            omg its already 7:30 :O  \n",
       "3            .. Omgaga. Im sooo  im gunna CRy. I'...  \n",
       "4           i think mi bf is cheating on me!!!   ...  "
      ]
     },
     "execution_count": 8,
     "metadata": {},
     "output_type": "execute_result"
    }
   ],
   "source": [
    "dataset.head()"
   ]
  },
  {
   "cell_type": "code",
   "execution_count": 9,
   "metadata": {},
   "outputs": [],
   "source": [
    "tweets = dataset['SentimentText'].values\n",
    "sentiments = dataset['Sentiment'].values"
   ]
  },
  {
   "cell_type": "code",
   "execution_count": 10,
   "metadata": {},
   "outputs": [],
   "source": [
    "from sklearn.model_selection import train_test_split"
   ]
  },
  {
   "cell_type": "code",
   "execution_count": 14,
   "metadata": {},
   "outputs": [],
   "source": [
    "from sklearn.model_selection import train_test_split\n",
    "x_train, x_test, y_train, y_test = train_test_split(tweets, sentiments, test_size=.2)"
   ]
  },
  {
   "cell_type": "code",
   "execution_count": 15,
   "metadata": {},
   "outputs": [],
   "source": [
    "x_train, x_val, y_train, y_val = train_test_split(x_train, y_train, test_size=.2)"
   ]
  },
  {
   "cell_type": "code",
   "execution_count": 16,
   "metadata": {},
   "outputs": [],
   "source": [
    "train_tweets = pre_process_corpus(x_train)\n",
    "val_tweets = pre_process_corpus(x_val)\n",
    "test_tweets = pre_process_corpus(x_test)"
   ]
  },
  {
   "cell_type": "code",
   "execution_count": 20,
   "metadata": {},
   "outputs": [
    {
     "data": {
      "text/plain": [
       "array(['and the sweet guys i do meet things turn out bad',\n",
       "       'drewtoothpaste no worries i do that all the time too many boxes too many boxes',\n",
       "       'jadennation you might want to change the stills of some of your videos you can see the clues in a few of them ruins the fun',\n",
       "       ..., 'all on my lonesim da weekend sad',\n",
       "       'bah i have almost forgotten that project on databases there goes the rest of my day',\n",
       "       'weekend not going to nyc after all'], dtype='<U748')"
      ]
     },
     "execution_count": 20,
     "metadata": {},
     "output_type": "execute_result"
    }
   ],
   "source": [
    "train_tweets"
   ]
  },
  {
   "cell_type": "code",
   "execution_count": 21,
   "metadata": {},
   "outputs": [],
   "source": [
    "import tensorflow as tf\n",
    "import tensorflow_hub as hub\n",
    "train_input_fn = tf.estimator.inputs.numpy_input_fn(\n",
    "    {'sentence': train_tweets},y_train,\n",
    "    batch_size=256,num_epochs=None,shuffle=True)\n",
    "\n",
    "predict_train_input_fn = tf.estimator.inputs.numpy_input_fn(\n",
    "    {'sentence': train_tweets},y_train,shuffle=False)\n",
    "\n",
    "predict_val_input_fn = tf.estimator.inputs.numpy_input_fn(\n",
    "{'sentence':val_tweets},y_val,shuffle=False)\n",
    "\n",
    "predict_test_input_fn = tf.estimator.inputs.numpy_input_fn(\n",
    "{'sentence':test_tweets},y_test,shuffle=False)"
   ]
  },
  {
   "cell_type": "code",
   "execution_count": 22,
   "metadata": {},
   "outputs": [],
   "source": [
    "embedding_feature = hub.text_embedding_column(\n",
    "key='sentence',\n",
    "module_spec=\"https://tfhub.dev/google/universal-sentence-encoder/2\",\n",
    "trainable=False)"
   ]
  },
  {
   "cell_type": "code",
   "execution_count": 23,
   "metadata": {},
   "outputs": [
    {
     "name": "stdout",
     "output_type": "stream",
     "text": [
      "INFO:tensorflow:Using default config.\n"
     ]
    },
    {
     "name": "stderr",
     "output_type": "stream",
     "text": [
      "INFO:tensorflow:Using default config.\n"
     ]
    },
    {
     "name": "stdout",
     "output_type": "stream",
     "text": [
      "WARNING:tensorflow:Using temporary folder as model directory: /var/folders/vp/mcfqh679337_fkjzpr2rv1v80000gn/T/tmpjud5hukx\n"
     ]
    },
    {
     "name": "stderr",
     "output_type": "stream",
     "text": [
      "WARNING:tensorflow:Using temporary folder as model directory: /var/folders/vp/mcfqh679337_fkjzpr2rv1v80000gn/T/tmpjud5hukx\n"
     ]
    },
    {
     "name": "stdout",
     "output_type": "stream",
     "text": [
      "INFO:tensorflow:Using config: {'_model_dir': '/var/folders/vp/mcfqh679337_fkjzpr2rv1v80000gn/T/tmpjud5hukx', '_tf_random_seed': None, '_save_summary_steps': 100, '_save_checkpoints_steps': None, '_save_checkpoints_secs': 600, '_session_config': allow_soft_placement: true\n",
      "graph_options {\n",
      "  rewrite_options {\n",
      "    meta_optimizer_iterations: ONE\n",
      "  }\n",
      "}\n",
      ", '_keep_checkpoint_max': 5, '_keep_checkpoint_every_n_hours': 10000, '_log_step_count_steps': 100, '_train_distribute': None, '_device_fn': None, '_protocol': None, '_eval_distribute': None, '_experimental_distribute': None, '_experimental_max_worker_delay_secs': None, '_session_creation_timeout_secs': 7200, '_service': None, '_cluster_spec': <tensorflow.python.training.server_lib.ClusterSpec object at 0x1a210f3ac8>, '_task_type': 'worker', '_task_id': 0, '_global_id_in_cluster': 0, '_master': '', '_evaluation_master': '', '_is_chief': True, '_num_ps_replicas': 0, '_num_worker_replicas': 1}\n"
     ]
    },
    {
     "name": "stderr",
     "output_type": "stream",
     "text": [
      "INFO:tensorflow:Using config: {'_model_dir': '/var/folders/vp/mcfqh679337_fkjzpr2rv1v80000gn/T/tmpjud5hukx', '_tf_random_seed': None, '_save_summary_steps': 100, '_save_checkpoints_steps': None, '_save_checkpoints_secs': 600, '_session_config': allow_soft_placement: true\n",
      "graph_options {\n",
      "  rewrite_options {\n",
      "    meta_optimizer_iterations: ONE\n",
      "  }\n",
      "}\n",
      ", '_keep_checkpoint_max': 5, '_keep_checkpoint_every_n_hours': 10000, '_log_step_count_steps': 100, '_train_distribute': None, '_device_fn': None, '_protocol': None, '_eval_distribute': None, '_experimental_distribute': None, '_experimental_max_worker_delay_secs': None, '_session_creation_timeout_secs': 7200, '_service': None, '_cluster_spec': <tensorflow.python.training.server_lib.ClusterSpec object at 0x1a210f3ac8>, '_task_type': 'worker', '_task_id': 0, '_global_id_in_cluster': 0, '_master': '', '_evaluation_master': '', '_is_chief': True, '_num_ps_replicas': 0, '_num_worker_replicas': 1}\n"
     ]
    }
   ],
   "source": [
    "dnn = tf.estimator.DNNClassifier(\n",
    "          hidden_units=[512, 128],\n",
    "          feature_columns=[embedding_feature],\n",
    "          n_classes=2,\n",
    "          activation_fn=tf.nn.relu,\n",
    "          dropout=0.1,\n",
    "          optimizer=tf.train.AdagradOptimizer(learning_rate=0.005))"
   ]
  },
  {
   "cell_type": "code",
   "execution_count": 24,
   "metadata": {},
   "outputs": [
    {
     "name": "stdout",
     "output_type": "stream",
     "text": [
      "\n",
      "----------------------------------------------------------------------------------------------------\n",
      "Training for step = 0\n",
      "Train Time (s): 48.40027093887329\n",
      "Eval Metrics (Train): {'accuracy': 0.7756782, 'accuracy_baseline': 0.50020784, 'auc': 0.8582227, 'auc_precision_recall': 0.85753816, 'average_loss': 0.4694252, 'label/mean': 0.50020784, 'loss': 60.07929, 'precision': 0.78438747, 'prediction/mean': 0.48877794, 'recall': 0.760623, 'global_step': 100}\n",
      "Eval Metrics (Validation): {'accuracy': 0.7753732, 'accuracy_baseline': 0.5008809, 'auc': 0.8577252, 'auc_precision_recall': 0.85685873, 'average_loss': 0.4701995, 'label/mean': 0.5008809, 'loss': 60.163383, 'precision': 0.7842802, 'prediction/mean': 0.4889449, 'recall': 0.7607974, 'global_step': 100}\n",
      "\n",
      "----------------------------------------------------------------------------------------------------\n",
      "Training for step = 100\n",
      "Train Time (s): 48.89827013015747\n",
      "Eval Metrics (Train): {'accuracy': 0.7789079, 'accuracy_baseline': 0.50020784, 'auc': 0.86169463, 'auc_precision_recall': 0.86160266, 'average_loss': 0.46446273, 'label/mean': 0.50020784, 'loss': 59.44417, 'precision': 0.7697495, 'prediction/mean': 0.51368415, 'recall': 0.79614574, 'global_step': 200}\n",
      "Eval Metrics (Validation): {'accuracy': 0.7785762, 'accuracy_baseline': 0.5008809, 'auc': 0.86115044, 'auc_precision_recall': 0.86098975, 'average_loss': 0.46522477, 'label/mean': 0.5008809, 'loss': 59.52685, 'precision': 0.7697152, 'prediction/mean': 0.51396275, 'recall': 0.7961142, 'global_step': 200}\n",
      "\n",
      "----------------------------------------------------------------------------------------------------\n",
      "Training for step = 200\n",
      "Train Time (s): 42.71773600578308\n",
      "Eval Metrics (Train): {'accuracy': 0.7807974, 'accuracy_baseline': 0.50020784, 'auc': 0.8637087, 'auc_precision_recall': 0.863642, 'average_loss': 0.4606256, 'label/mean': 0.50020784, 'loss': 58.953075, 'precision': 0.7792062, 'prediction/mean': 0.50517726, 'recall': 0.78390115, 'global_step': 300}\n",
      "Eval Metrics (Validation): {'accuracy': 0.780821, 'accuracy_baseline': 0.5008809, 'auc': 0.8631941, 'auc_precision_recall': 0.8630299, 'average_loss': 0.46139073, 'label/mean': 0.5008809, 'loss': 59.036278, 'precision': 0.7792859, 'prediction/mean': 0.50539494, 'recall': 0.78464496, 'global_step': 300}\n",
      "\n",
      "----------------------------------------------------------------------------------------------------\n",
      "Training for step = 300\n",
      "Train Time (s): 40.43026614189148\n",
      "Eval Metrics (Train): {'accuracy': 0.78190994, 'accuracy_baseline': 0.50020784, 'auc': 0.86518496, 'auc_precision_recall': 0.8652228, 'average_loss': 0.45837024, 'label/mean': 0.50020784, 'loss': 58.66442, 'precision': 0.7772782, 'prediction/mean': 0.5083285, 'recall': 0.7905162, 'global_step': 400}\n",
      "Eval Metrics (Validation): {'accuracy': 0.7813674, 'accuracy_baseline': 0.5008809, 'auc': 0.86461216, 'auc_precision_recall': 0.86456484, 'average_loss': 0.45921585, 'label/mean': 0.5008809, 'loss': 58.757996, 'precision': 0.7774362, 'prediction/mean': 0.50851107, 'recall': 0.78952986, 'global_step': 400}\n",
      "\n",
      "----------------------------------------------------------------------------------------------------\n",
      "Training for step = 400\n",
      "Train Time (s): 43.197705030441284\n",
      "Eval Metrics (Train): {'accuracy': 0.78328675, 'accuracy_baseline': 0.50020784, 'auc': 0.8664255, 'auc_precision_recall': 0.8666257, 'average_loss': 0.45622537, 'label/mean': 0.50020784, 'loss': 58.38991, 'precision': 0.78601414, 'prediction/mean': 0.4973757, 'recall': 0.7787663, 'global_step': 500}\n",
      "Eval Metrics (Validation): {'accuracy': 0.78243244, 'accuracy_baseline': 0.5008809, 'auc': 0.8658143, 'auc_precision_recall': 0.8659327, 'average_loss': 0.45718744, 'label/mean': 0.5008809, 'loss': 58.49845, 'precision': 0.78529793, 'prediction/mean': 0.49750388, 'recall': 0.7784637, 'global_step': 500}\n",
      "\n",
      "----------------------------------------------------------------------------------------------------\n",
      "Training for step = 500\n",
      "Train Time (s): 42.40088200569153\n",
      "Eval Metrics (Train): {'accuracy': 0.7845873, 'accuracy_baseline': 0.50020784, 'auc': 0.8680249, 'auc_precision_recall': 0.8681873, 'average_loss': 0.4538722, 'label/mean': 0.50020784, 'loss': 58.08874, 'precision': 0.7853329, 'prediction/mean': 0.50119984, 'recall': 0.7835272, 'global_step': 600}\n",
      "Eval Metrics (Validation): {'accuracy': 0.78412694, 'accuracy_baseline': 0.5008809, 'auc': 0.8673451, 'auc_precision_recall': 0.8674715, 'average_loss': 0.45491374, 'label/mean': 0.5008809, 'loss': 58.207527, 'precision': 0.7850451, 'prediction/mean': 0.50137377, 'recall': 0.783562, 'global_step': 600}\n",
      "\n",
      "----------------------------------------------------------------------------------------------------\n",
      "Training for step = 600\n",
      "Train Time (s): 41.207971811294556\n",
      "Eval Metrics (Train): {'accuracy': 0.7856306, 'accuracy_baseline': 0.50020784, 'auc': 0.8691238, 'auc_precision_recall': 0.8694897, 'average_loss': 0.45208848, 'label/mean': 0.50020784, 'loss': 57.86045, 'precision': 0.78139985, 'prediction/mean': 0.5078365, 'recall': 0.7933953, 'global_step': 700}\n",
      "Eval Metrics (Validation): {'accuracy': 0.7848871, 'accuracy_baseline': 0.5008809, 'auc': 0.8683483, 'auc_precision_recall': 0.8685415, 'average_loss': 0.45329598, 'label/mean': 0.5008809, 'loss': 58.00053, 'precision': 0.78094614, 'prediction/mean': 0.50798374, 'recall': 0.7929524, 'global_step': 700}\n",
      "\n",
      "----------------------------------------------------------------------------------------------------\n",
      "Training for step = 700\n",
      "Train Time (s): 41.441340923309326\n",
      "Eval Metrics (Train): {'accuracy': 0.78686684, 'accuracy_baseline': 0.50020784, 'auc': 0.8702328, 'auc_precision_recall': 0.8706636, 'average_loss': 0.45030895, 'label/mean': 0.50020784, 'loss': 57.632698, 'precision': 0.7846902, 'prediction/mean': 0.5050316, 'recall': 0.7909337, 'global_step': 800}\n",
      "Eval Metrics (Validation): {'accuracy': 0.78596, 'accuracy_baseline': 0.5008809, 'auc': 0.86937636, 'auc_precision_recall': 0.8695916, 'average_loss': 0.45163754, 'label/mean': 0.5008809, 'loss': 57.788326, 'precision': 0.7839039, 'prediction/mean': 0.50520396, 'recall': 0.7906206, 'global_step': 800}\n",
      "\n",
      "----------------------------------------------------------------------------------------------------\n",
      "Training for step = 800\n",
      "Train Time (s): 43.65534591674805\n",
      "Eval Metrics (Train): {'accuracy': 0.78750324, 'accuracy_baseline': 0.50020784, 'auc': 0.8709359, 'auc_precision_recall': 0.87118196, 'average_loss': 0.44907114, 'label/mean': 0.50020784, 'loss': 57.47428, 'precision': 0.7885428, 'prediction/mean': 0.5005212, 'recall': 0.78594327, 'global_step': 900}\n",
      "Eval Metrics (Validation): {'accuracy': 0.78628075, 'accuracy_baseline': 0.5008809, 'auc': 0.86989415, 'auc_precision_recall': 0.8699911, 'average_loss': 0.45069695, 'label/mean': 0.5008809, 'loss': 57.667976, 'precision': 0.7876502, 'prediction/mean': 0.5005868, 'recall': 0.7849295, 'global_step': 900}\n",
      "\n",
      "----------------------------------------------------------------------------------------------------\n",
      "Training for step = 900\n",
      "Train Time (s): 42.23934078216553\n",
      "Eval Metrics (Train): {'accuracy': 0.7867055, 'accuracy_baseline': 0.50020784, 'auc': 0.871611, 'auc_precision_recall': 0.8720332, 'average_loss': 0.4505709, 'label/mean': 0.50020784, 'loss': 57.666225, 'precision': 0.81088406, 'prediction/mean': 0.47248346, 'recall': 0.7480499, 'global_step': 1000}\n",
      "Eval Metrics (Validation): {'accuracy': 0.78542954, 'accuracy_baseline': 0.5008809, 'auc': 0.87061113, 'auc_precision_recall': 0.8708544, 'average_loss': 0.45224902, 'label/mean': 0.5008809, 'loss': 57.866566, 'precision': 0.80999124, 'prediction/mean': 0.47266042, 'recall': 0.7467987, 'global_step': 1000}\n",
      "\n",
      "----------------------------------------------------------------------------------------------------\n",
      "Training for step = 1000\n",
      "Train Time (s): 41.19893407821655\n",
      "Eval Metrics (Train): {'accuracy': 0.7890859, 'accuracy_baseline': 0.50020784, 'auc': 0.8723389, 'auc_precision_recall': 0.8727422, 'average_loss': 0.44705138, 'label/mean': 0.50020784, 'loss': 57.215782, 'precision': 0.79775876, 'prediction/mean': 0.49007255, 'recall': 0.7747573, 'global_step': 1100}\n",
      "Eval Metrics (Validation): {'accuracy': 0.788193, 'accuracy_baseline': 0.5008809, 'auc': 0.8714077, 'auc_precision_recall': 0.8717226, 'average_loss': 0.44856092, 'label/mean': 0.5008809, 'loss': 57.394665, 'precision': 0.797206, 'prediction/mean': 0.49033284, 'recall': 0.7740293, 'global_step': 1100}\n",
      "\n",
      "----------------------------------------------------------------------------------------------------\n",
      "Training for step = 1100\n"
     ]
    },
    {
     "name": "stdout",
     "output_type": "stream",
     "text": [
      "Train Time (s): 45.408324003219604\n",
      "Eval Metrics (Train): {'accuracy': 0.78955215, 'accuracy_baseline': 0.50020784, 'auc': 0.8730389, 'auc_precision_recall': 0.873585, 'average_loss': 0.44585815, 'label/mean': 0.50020784, 'loss': 57.063065, 'precision': 0.78628594, 'prediction/mean': 0.5079906, 'recall': 0.7954967, 'global_step': 1200}\n",
      "Eval Metrics (Validation): {'accuracy': 0.7884583, 'accuracy_baseline': 0.5008809, 'auc': 0.8719246, 'auc_precision_recall': 0.87238944, 'average_loss': 0.4475793, 'label/mean': 0.5008809, 'loss': 57.269066, 'precision': 0.785408, 'prediction/mean': 0.50825423, 'recall': 0.7948258, 'global_step': 1200}\n",
      "\n",
      "----------------------------------------------------------------------------------------------------\n",
      "Training for step = 1200\n",
      "Train Time (s): 41.92035412788391\n",
      "Eval Metrics (Train): {'accuracy': 0.7900965, 'accuracy_baseline': 0.50020784, 'auc': 0.8734748, 'auc_precision_recall': 0.87404835, 'average_loss': 0.4452903, 'label/mean': 0.50020784, 'loss': 56.990387, 'precision': 0.8006002, 'prediction/mean': 0.48938033, 'recall': 0.77285767, 'global_step': 1300}\n",
      "Eval Metrics (Validation): {'accuracy': 0.78844637, 'accuracy_baseline': 0.5008809, 'auc': 0.8723247, 'auc_precision_recall': 0.87275654, 'average_loss': 0.44715407, 'label/mean': 0.5008809, 'loss': 57.214653, 'precision': 0.79926944, 'prediction/mean': 0.48963803, 'recall': 0.77135766, 'global_step': 1300}\n",
      "\n",
      "----------------------------------------------------------------------------------------------------\n",
      "Training for step = 1300\n",
      "Train Time (s): 47.42910099029541\n",
      "Eval Metrics (Train): {'accuracy': 0.7904143, 'accuracy_baseline': 0.50020784, 'auc': 0.873912, 'auc_precision_recall': 0.87452424, 'average_loss': 0.44422466, 'label/mean': 0.50020784, 'loss': 56.854004, 'precision': 0.7897863, 'prediction/mean': 0.50359684, 'recall': 0.7917351, 'global_step': 1400}\n",
      "Eval Metrics (Validation): {'accuracy': 0.7895629, 'accuracy_baseline': 0.5008809, 'auc': 0.87279207, 'auc_precision_recall': 0.8732638, 'average_loss': 0.44601068, 'label/mean': 0.5008809, 'loss': 57.06835, 'precision': 0.78905106, 'prediction/mean': 0.5038428, 'recall': 0.79145855, 'global_step': 1400}\n",
      "\n",
      "----------------------------------------------------------------------------------------------------\n",
      "Training for step = 1400\n",
      "Train Time (s): 49.74646997451782\n",
      "Eval Metrics (Train): {'accuracy': 0.79071414, 'accuracy_baseline': 0.50020784, 'auc': 0.87458044, 'auc_precision_recall': 0.87517947, 'average_loss': 0.4445189, 'label/mean': 0.50020784, 'loss': 56.891663, 'precision': 0.8081628, 'prediction/mean': 0.48122242, 'recall': 0.7626314, 'global_step': 1500}\n",
      "Eval Metrics (Validation): {'accuracy': 0.78922635, 'accuracy_baseline': 0.5008809, 'auc': 0.8732666, 'auc_precision_recall': 0.87369543, 'average_loss': 0.44665524, 'label/mean': 0.5008809, 'loss': 57.15083, 'precision': 0.8069161, 'prediction/mean': 0.48150453, 'recall': 0.76138234, 'global_step': 1500}\n",
      "\n",
      "----------------------------------------------------------------------------------------------------\n",
      "Training for step = 1500\n",
      "Train Time (s): 44.13723802566528\n",
      "Eval Metrics (Train): {'accuracy': 0.79138523, 'accuracy_baseline': 0.50020784, 'auc': 0.87484384, 'auc_precision_recall': 0.8754429, 'average_loss': 0.44260353, 'label/mean': 0.50020784, 'loss': 56.646523, 'precision': 0.7931168, 'prediction/mean': 0.5004752, 'recall': 0.788666, 'global_step': 1600}\n",
      "Eval Metrics (Validation): {'accuracy': 0.7899865, 'accuracy_baseline': 0.5008809, 'auc': 0.8734264, 'auc_precision_recall': 0.8738352, 'average_loss': 0.44487843, 'label/mean': 0.5008809, 'loss': 56.923477, 'precision': 0.79179275, 'prediction/mean': 0.50079024, 'recall': 0.78789365, 'global_step': 1600}\n"
     ]
    }
   ],
   "source": [
    "tf.logging.set_verbosity(tf.logging.ERROR)\n",
    "import time\n",
    "\n",
    "TOTAL_STEPS = 1500\n",
    "STEP_SIZE = 100\n",
    "for step in range(0, TOTAL_STEPS+1, STEP_SIZE):\n",
    "    print()\n",
    "    print('-'*100)\n",
    "    print('Training for step =', step)\n",
    "    start_time = time.time()\n",
    "    dnn.train(input_fn=train_input_fn, steps=STEP_SIZE)\n",
    "    elapsed_time = time.time() - start_time\n",
    "    print('Train Time (s):', elapsed_time)\n",
    "    print('Eval Metrics (Train):', dnn.evaluate(input_fn=predict_train_input_fn))\n",
    "    print('Eval Metrics (Validation):', dnn.evaluate(input_fn=predict_val_input_fn))"
   ]
  },
  {
   "cell_type": "code",
   "execution_count": 25,
   "metadata": {},
   "outputs": [
    {
     "name": "stdout",
     "output_type": "stream",
     "text": [
      "Eval Metrics (Test): {'accuracy': 0.7889922, 'accuracy_baseline': 0.50138885, 'auc': 0.87229156, 'auc_precision_recall': 0.87299764, 'average_loss': 0.44669896, 'label/mean': 0.50138885, 'loss': 57.167873, 'precision': 0.79102546, 'prediction/mean': 0.5010116, 'recall': 0.7870878, 'global_step': 1600}\n"
     ]
    }
   ],
   "source": [
    "print('Eval Metrics (Test):', dnn.evaluate(input_fn=predict_test_input_fn))"
   ]
  },
  {
   "cell_type": "code",
   "execution_count": 31,
   "metadata": {},
   "outputs": [],
   "source": [
    "np.savetxt(\"./datasets/cleaned_tweets.csv\", train_tweets,fmt='%s')"
   ]
  },
  {
   "cell_type": "code",
   "execution_count": 32,
   "metadata": {},
   "outputs": [],
   "source": [
    "temp = np.append(train_tweets,val_tweets)"
   ]
  },
  {
   "cell_type": "code",
   "execution_count": 33,
   "metadata": {},
   "outputs": [],
   "source": [
    "temp2 = np.append(temp,test_tweets)"
   ]
  },
  {
   "cell_type": "code",
   "execution_count": 34,
   "metadata": {},
   "outputs": [],
   "source": [
    "np.savetxt(\"./datasets/cleaned_tweets.csv\", temp2,fmt='%s')"
   ]
  },
  {
   "cell_type": "markdown",
   "metadata": {},
   "source": [
    "### Save the model to my computer for later use"
   ]
  },
  {
   "cell_type": "code",
   "execution_count": 55,
   "metadata": {},
   "outputs": [
    {
     "data": {
      "text/plain": [
       "b'./models/twitter_sentiment_classifier/1572342502'"
      ]
     },
     "execution_count": 55,
     "metadata": {},
     "output_type": "execute_result"
    }
   ],
   "source": [
    "export_path = \"./models/twitter_sentiment_classifier\"\n",
    "feature_placeholder = {'sentence': tf.placeholder('string', [1], name='sentence_placeholder')}\n",
    "serving_input_fn = tf.estimator.export.build_raw_serving_input_receiver_fn(feature_placeholder)\n",
    "\n",
    "dnn.export_savedmodel(export_path, serving_input_fn)"
   ]
  },
  {
   "cell_type": "markdown",
   "metadata": {},
   "source": [
    "### Restore the model from my computer"
   ]
  },
  {
   "cell_type": "code",
   "execution_count": 57,
   "metadata": {},
   "outputs": [],
   "source": [
    "from tensorflow.contrib import predictor\n",
    "\n",
    "predict_fn = predictor.from_saved_model(\"./models/twitter_sentiment_classifier/1572342502\")"
   ]
  },
  {
   "cell_type": "markdown",
   "metadata": {},
   "source": [
    "### Try to predict using the saved model"
   ]
  },
  {
   "cell_type": "code",
   "execution_count": 84,
   "metadata": {},
   "outputs": [
    {
     "name": "stdout",
     "output_type": "stream",
     "text": [
      "[[0.47573274 0.5242672 ]]\n"
     ]
    }
   ],
   "source": [
    "predictions = predict_fn(\n",
    "    {\"inputs\": [\"\"\"Fresh from his grilling by the House Financial Services Committee, Facebook founder Mark Zuckerberg arrived at the Paley Center for Media in New York Friday to announce Facebook News, which will curate \"high quality\" news and information using a combination of both humans and algorithms.\n",
    "\n",
    "Facebook will pay some publishers millions of dollars a year for access to their journalism. It will include an all-star lineup of what Facebook referred to as trusted sources, including CNN, the Wall Street Journal, the Washington Post, BuzzFeed News, Bloomberg, Fox Business, Business Insider, NPR, the Boston Globe and the LA Times, to name a few. (Facebook also deemed far-right web site Breitbart as a trusted source, which has sparked some controversy).\n",
    "After years of losing advertisers and readers to the social media platform, the larger publishing industry is undoubtedly excited to be getting paid for its content. Plus, they will finally have access to Facebook's two billion users and steady revenue. But there will likely be some major collateral damage as a result of this deal: The likely obliteration of local news.\n",
    "News aggregation seems to be all the rage right now. Last week, CNN announced it would launch a digital news service to compete with Facebook and Apple News, and pay news organizations to carry their content. A few months ago, News Corp. announced a similar product called Knewz.\n",
    "As other news aggregators come to market, it is hard to see why they would have a business motivation to lift up local reporting when shiny national and international brands will be able to fill their feeds with a steady stream of rich, high-quality content that clicks. Readers stay where they can experience a variety of intelligent and compelling content. Aggregators offering such an experience will be able to gather information about the reader the longer they stay, much like Facebook has done for years.\n",
    "If these news feeds are able to reward smaller news outlets by sharing revenue gains when a local reporting team breaks a big story on toxic schools in Philadelphia or medical insurance fraud in Dallas, then this could work for all news organizations. But to date, the digital transformation has slaughtered local journalism.\n",
    "The Save Journalism Project reports that more than 7,200 media professionals have lost their jobs in 2019, newsrooms have declined in size by 45% over the past 10 years and 60% of US counties have no local newspaper.\n",
    "News deserts abound as a result. More than 500 of the 1,800 newspapers that have closed or merged since 2004 were in rural communities, according to a 2018 report from Penny Abernathy, the Knight Chair in Journalism and Digital Media Economics at the University of North Carolina. Pew Research reported that 47% of US adults say \"the local news they get mostly covers an area other than where they live.\" Rural America suffers most as news outlets shutter. In the approaching election year, that seems deeply concerning.\n",
    "Newsrooms that covered city hall, rogue developments, the people in a community, the local fabric and served as everyday watchdogs have been unable to survive the digital change. I am not talking about the fabled legacy brands that have been thankfully resuscitated and turned digital by wealthy philanthropists like the LA Times, the Boston Globe, the Philadelphia Inquirer and the Washington Post. They will likely survive and prosper with this new aggregation model. It's the other 2,000-plus cities and towns in America with no newsroom left to cover them that I worry about.\n",
    "This summer, I wrote a paper on local news for the Harvard Kennedy School titled Emerging Models in Local News, which found that digital transformation of local news was happening most where a billionaire owner had stepped in. While there are signs of hope, such as the Minneapolis Star Tribune, the Boston Globe, the LA Times and smaller digital upstarts, like the Richland Source and Texas Tribune, they are far from robust and mostly clustered in thriving cities with the greatest wealth.\n",
    "MORE TECH & INNOVATION PERSPECTIVES\n",
    "Facebook's Libra cryptocurrency is a tool for empowerment. Not a threat\n",
    "\n",
    "I'm developing AI that can read emotions. It's not as creepy as you think.\n",
    "\n",
    "Big Tech can't be trusted. It's time for regulation\n",
    "\n",
    "Facebook started 2019 by announcing a $300 million commitment to invest in helping publishers build their readership and subscription models. Advocates for local news will continue to watch closely to see whether Zuckerberg will keep his promise \"to focus especially on local news,\" as he wrote in the New York Times last week.\n",
    "The irony is that if Zuckerberg's promise is to ensure local news finds eyeballs, there have to actually be local news outlets to aggregate. I would like to see Facebook commit to a ratio model where it subsidizes a certain number of trained journalists at a local newspaper or local NPR station based on the size of that area's population.\n",
    "Local news owners, including the planned Gannett/GateHouse merger, local television stations and NPR affiliates, with their existing footing in their communities and deep understanding of its history and people, are our last hope. Aggregators like Facebook, CNN and News Corp. need to find a way to make sure local news prospers alongside the national media outlets.\"\"\"]})\n",
    "print(predictions['scores'])"
   ]
  },
  {
   "cell_type": "markdown",
   "metadata": {},
   "source": [
    "## Test results\n",
    "* Accuracy = ~78.8%"
   ]
  },
  {
   "cell_type": "markdown",
   "metadata": {},
   "source": [
    "# Financial Tweets and News Data"
   ]
  },
  {
   "cell_type": "markdown",
   "metadata": {},
   "source": [
    "## Data Transformation\n",
    "* Indexing the tweets with the scores for negative and positive sentiments, using the sentiment classifier we trained above"
   ]
  },
  {
   "cell_type": "markdown",
   "metadata": {},
   "source": [
    "* Read tweets csv from computer"
   ]
  },
  {
   "cell_type": "code",
   "execution_count": 90,
   "metadata": {},
   "outputs": [],
   "source": [
    "tweets = pd.read_json('./datasets/stocknet-dataset/tweet/raw/AAPL/2014-01-01',lines=True)"
   ]
  },
  {
   "cell_type": "markdown",
   "metadata": {},
   "source": [
    "* toScore takes text as input and output the sentiment score for the text"
   ]
  },
  {
   "cell_type": "code",
   "execution_count": 202,
   "metadata": {
    "scrolled": true
   },
   "outputs": [],
   "source": [
    "def preprocessedAndtoSentimentScore(text):\n",
    "    return predict_fn({'inputs':[pre_process_document(text)]})['scores']\n",
    "def toScore(text):\n",
    "    return predict_fn({'inputs':[text]})['scores']"
   ]
  },
  {
   "cell_type": "code",
   "execution_count": 200,
   "metadata": {},
   "outputs": [],
   "source": [
    "raw_sentiment= tweets['text'].apply(toScore).to_frame()\n",
    "tweets['negative'] = raw_sentiment['text'].apply(lambda x:x[0][0])\n",
    "tweets['positive'] = raw_sentiment['text'].apply(lambda x:x[0][1])"
   ]
  },
  {
   "cell_type": "code",
   "execution_count": 201,
   "metadata": {},
   "outputs": [
    {
     "data": {
      "text/html": [
       "<div>\n",
       "<style scoped>\n",
       "    .dataframe tbody tr th:only-of-type {\n",
       "        vertical-align: middle;\n",
       "    }\n",
       "\n",
       "    .dataframe tbody tr th {\n",
       "        vertical-align: top;\n",
       "    }\n",
       "\n",
       "    .dataframe thead th {\n",
       "        text-align: right;\n",
       "    }\n",
       "</style>\n",
       "<table border=\"1\" class=\"dataframe\">\n",
       "  <thead>\n",
       "    <tr style=\"text-align: right;\">\n",
       "      <th></th>\n",
       "      <th>created_at</th>\n",
       "      <th>negative</th>\n",
       "      <th>positive</th>\n",
       "    </tr>\n",
       "  </thead>\n",
       "  <tbody>\n",
       "    <tr>\n",
       "      <th>0</th>\n",
       "      <td>2014-01-01 03:59:03+00:00</td>\n",
       "      <td>0.128723</td>\n",
       "      <td>0.871277</td>\n",
       "    </tr>\n",
       "    <tr>\n",
       "      <th>1</th>\n",
       "      <td>2014-01-01 03:29:29+00:00</td>\n",
       "      <td>0.128723</td>\n",
       "      <td>0.871277</td>\n",
       "    </tr>\n",
       "    <tr>\n",
       "      <th>2</th>\n",
       "      <td>2014-01-01 18:08:47+00:00</td>\n",
       "      <td>0.420018</td>\n",
       "      <td>0.579982</td>\n",
       "    </tr>\n",
       "    <tr>\n",
       "      <th>3</th>\n",
       "      <td>2014-01-01 01:52:31+00:00</td>\n",
       "      <td>0.410870</td>\n",
       "      <td>0.589130</td>\n",
       "    </tr>\n",
       "    <tr>\n",
       "      <th>4</th>\n",
       "      <td>2014-01-01 01:18:36+00:00</td>\n",
       "      <td>0.128723</td>\n",
       "      <td>0.871277</td>\n",
       "    </tr>\n",
       "    <tr>\n",
       "      <th>5</th>\n",
       "      <td>2014-01-01 10:52:20+00:00</td>\n",
       "      <td>0.318260</td>\n",
       "      <td>0.681740</td>\n",
       "    </tr>\n",
       "    <tr>\n",
       "      <th>6</th>\n",
       "      <td>2014-01-01 15:01:12+00:00</td>\n",
       "      <td>0.923162</td>\n",
       "      <td>0.076838</td>\n",
       "    </tr>\n",
       "    <tr>\n",
       "      <th>7</th>\n",
       "      <td>2013-12-31 23:10:08+00:00</td>\n",
       "      <td>0.128723</td>\n",
       "      <td>0.871277</td>\n",
       "    </tr>\n",
       "  </tbody>\n",
       "</table>\n",
       "</div>"
      ],
      "text/plain": [
       "                 created_at  negative  positive\n",
       "0 2014-01-01 03:59:03+00:00  0.128723  0.871277\n",
       "1 2014-01-01 03:29:29+00:00  0.128723  0.871277\n",
       "2 2014-01-01 18:08:47+00:00  0.420018  0.579982\n",
       "3 2014-01-01 01:52:31+00:00  0.410870  0.589130\n",
       "4 2014-01-01 01:18:36+00:00  0.128723  0.871277\n",
       "5 2014-01-01 10:52:20+00:00  0.318260  0.681740\n",
       "6 2014-01-01 15:01:12+00:00  0.923162  0.076838\n",
       "7 2013-12-31 23:10:08+00:00  0.128723  0.871277"
      ]
     },
     "execution_count": 201,
     "metadata": {},
     "output_type": "execute_result"
    }
   ],
   "source": [
    "cleaned_tweets = tweets[['created_at','negative','positive']]\n",
    "cleaned_tweets"
   ]
  },
  {
   "cell_type": "code",
   "execution_count": 203,
   "metadata": {},
   "outputs": [
    {
     "data": {
      "text/html": [
       "<div>\n",
       "<style scoped>\n",
       "    .dataframe tbody tr th:only-of-type {\n",
       "        vertical-align: middle;\n",
       "    }\n",
       "\n",
       "    .dataframe tbody tr th {\n",
       "        vertical-align: top;\n",
       "    }\n",
       "\n",
       "    .dataframe thead th {\n",
       "        text-align: right;\n",
       "    }\n",
       "</style>\n",
       "<table border=\"1\" class=\"dataframe\">\n",
       "  <thead>\n",
       "    <tr style=\"text-align: right;\">\n",
       "      <th></th>\n",
       "      <th>created_at</th>\n",
       "      <th>negative</th>\n",
       "      <th>positive</th>\n",
       "    </tr>\n",
       "  </thead>\n",
       "  <tbody>\n",
       "    <tr>\n",
       "      <th>0</th>\n",
       "      <td>2014-01-01 03:59:03+00:00</td>\n",
       "      <td>0.106284</td>\n",
       "      <td>0.893717</td>\n",
       "    </tr>\n",
       "    <tr>\n",
       "      <th>1</th>\n",
       "      <td>2014-01-01 03:29:29+00:00</td>\n",
       "      <td>0.106284</td>\n",
       "      <td>0.893717</td>\n",
       "    </tr>\n",
       "    <tr>\n",
       "      <th>2</th>\n",
       "      <td>2014-01-01 18:08:47+00:00</td>\n",
       "      <td>0.585526</td>\n",
       "      <td>0.414474</td>\n",
       "    </tr>\n",
       "    <tr>\n",
       "      <th>3</th>\n",
       "      <td>2014-01-01 01:52:31+00:00</td>\n",
       "      <td>0.474725</td>\n",
       "      <td>0.525275</td>\n",
       "    </tr>\n",
       "    <tr>\n",
       "      <th>4</th>\n",
       "      <td>2014-01-01 01:18:36+00:00</td>\n",
       "      <td>0.106284</td>\n",
       "      <td>0.893717</td>\n",
       "    </tr>\n",
       "    <tr>\n",
       "      <th>5</th>\n",
       "      <td>2014-01-01 10:52:20+00:00</td>\n",
       "      <td>0.215131</td>\n",
       "      <td>0.784869</td>\n",
       "    </tr>\n",
       "    <tr>\n",
       "      <th>6</th>\n",
       "      <td>2014-01-01 15:01:12+00:00</td>\n",
       "      <td>0.945209</td>\n",
       "      <td>0.054791</td>\n",
       "    </tr>\n",
       "    <tr>\n",
       "      <th>7</th>\n",
       "      <td>2013-12-31 23:10:08+00:00</td>\n",
       "      <td>0.106284</td>\n",
       "      <td>0.893717</td>\n",
       "    </tr>\n",
       "  </tbody>\n",
       "</table>\n",
       "</div>"
      ],
      "text/plain": [
       "                 created_at  negative  positive\n",
       "0 2014-01-01 03:59:03+00:00  0.106284  0.893717\n",
       "1 2014-01-01 03:29:29+00:00  0.106284  0.893717\n",
       "2 2014-01-01 18:08:47+00:00  0.585526  0.414474\n",
       "3 2014-01-01 01:52:31+00:00  0.474725  0.525275\n",
       "4 2014-01-01 01:18:36+00:00  0.106284  0.893717\n",
       "5 2014-01-01 10:52:20+00:00  0.215131  0.784869\n",
       "6 2014-01-01 15:01:12+00:00  0.945209  0.054791\n",
       "7 2013-12-31 23:10:08+00:00  0.106284  0.893717"
      ]
     },
     "execution_count": 203,
     "metadata": {},
     "output_type": "execute_result"
    }
   ],
   "source": [
    "raw_sentiment= tweets['text'].apply(toScore).to_frame()\n",
    "tweets['negative'] = raw_sentiment['text'].apply(lambda x:x[0][0])\n",
    "tweets['positive'] = raw_sentiment['text'].apply(lambda x:x[0][1])\n",
    "cleaned_tweets = tweets[['created_at','negative','positive']]\n",
    "cleaned_tweets"
   ]
  },
  {
   "cell_type": "markdown",
   "metadata": {},
   "source": [
    "Let's try if removing hyperlink would enhance the performance"
   ]
  },
  {
   "cell_type": "markdown",
   "metadata": {},
   "source": [
    "## Data preprocessing factory\n",
    "1. remove HTML tags\n",
    "2. remove accented characters\n",
    "3. expand the contractions\n",
    "4. remove special characters\n",
    "5. remove url\n",
    "6. remove byte string\n",
    "\n",
    "### News\n",
    "* As we have found out, there are some text containing a 'b' in the text. We will add this preprocessing step for news\n",
    "* That is, we are using steps 1-6\n",
    "\n",
    "### Tweets\n",
    "* Using steps 1-5"
   ]
  },
  {
   "cell_type": "code",
   "execution_count": 531,
   "metadata": {},
   "outputs": [],
   "source": [
    "import contractions\n",
    "from bs4 import BeautifulSoup\n",
    "import unicodedata\n",
    "import re\n",
    "\n",
    "def strip_html_tags(text):\n",
    "    soup = BeautifulSoup(text, \"html.parser\")\n",
    "    [s.extract() for s in soup(['iframe', 'script'])]\n",
    "    stripped_text = soup.get_text()\n",
    "    stripped_text = re.sub(r'[\\r|\\n|\\r\\n]+', '\\n', stripped_text)\n",
    "    return stripped_text\n",
    "\n",
    "def remove_accented_chars(text):\n",
    "    text = unicodedata.normalize('NFKD', text).encode('ascii', 'ignore').decode('utf-8', 'ignore')\n",
    "    return text\n",
    "\n",
    "def expand_contractions(text):\n",
    "    return contractions.fix(text)\n",
    "\n",
    "def remove_special_characters(text, remove_digits=False):\n",
    "    pattern = r'[^a-zA-Z0-9\\s]' if not remove_digits else r'[^a-zA-Z\\s]'\n",
    "    text = re.sub(pattern, '', text)\n",
    "    return text\n",
    "def remove_url(text):\n",
    "    pattern = r'http\\S+'\n",
    "    text = re.sub(pattern, '', text)\n",
    "    return text\n",
    "def removeByteString(text):\n",
    "    if text.startswith('b\\'') or text.startswith('b\\\"'):\n",
    "        return text[1:]\n",
    "    return text\n",
    "def pre_process_document(document):\n",
    "    # strip HTML\n",
    "    document = strip_html_tags(document)\n",
    "    # lower case\n",
    "    document = document.lower()\n",
    "    # remove extra newlines (often might be present in really noisy text)\n",
    "    document = document.translate(document.maketrans(\"\\n\\t\\r\", \"   \"))\n",
    "    # remove accented characters\n",
    "    document = remove_accented_chars(document)\n",
    "    # expand contractions    \n",
    "    document = expand_contractions(document)\n",
    "    #remove hyperlink\n",
    "    document = remove_url(document)  \n",
    "    # remove special characters and\\or digits    \n",
    "    # insert spaces between special characters to isolate them    \n",
    "    special_char_pattern = re.compile(r'([{.(-)!}])')\n",
    "    document = special_char_pattern.sub(\" \\\\1 \", document)\n",
    "    document = remove_special_characters(document, remove_digits=True)  \n",
    "    # remove extra whitespace\n",
    "    document = re.sub(' +', ' ', document)\n",
    "    document = document.strip()\n",
    "    return document\n",
    "\n",
    "pre_process_tweet = pre_process_document\n",
    "\n",
    "pre_process_news = lambda x: pre_process_document(removeByteString(x))"
   ]
  },
  {
   "cell_type": "code",
   "execution_count": 221,
   "metadata": {},
   "outputs": [
    {
     "data": {
      "text/html": [
       "<div>\n",
       "<style scoped>\n",
       "    .dataframe tbody tr th:only-of-type {\n",
       "        vertical-align: middle;\n",
       "    }\n",
       "\n",
       "    .dataframe tbody tr th {\n",
       "        vertical-align: top;\n",
       "    }\n",
       "\n",
       "    .dataframe thead th {\n",
       "        text-align: right;\n",
       "    }\n",
       "</style>\n",
       "<table border=\"1\" class=\"dataframe\">\n",
       "  <thead>\n",
       "    <tr style=\"text-align: right;\">\n",
       "      <th></th>\n",
       "      <th>created_at</th>\n",
       "      <th>negative</th>\n",
       "      <th>positive</th>\n",
       "    </tr>\n",
       "  </thead>\n",
       "  <tbody>\n",
       "    <tr>\n",
       "      <th>0</th>\n",
       "      <td>2014-01-01 03:59:03+00:00</td>\n",
       "      <td>0.109160</td>\n",
       "      <td>0.890840</td>\n",
       "    </tr>\n",
       "    <tr>\n",
       "      <th>1</th>\n",
       "      <td>2014-01-01 03:29:29+00:00</td>\n",
       "      <td>0.109160</td>\n",
       "      <td>0.890840</td>\n",
       "    </tr>\n",
       "    <tr>\n",
       "      <th>2</th>\n",
       "      <td>2014-01-01 18:08:47+00:00</td>\n",
       "      <td>0.512257</td>\n",
       "      <td>0.487743</td>\n",
       "    </tr>\n",
       "    <tr>\n",
       "      <th>3</th>\n",
       "      <td>2014-01-01 01:52:31+00:00</td>\n",
       "      <td>0.458988</td>\n",
       "      <td>0.541012</td>\n",
       "    </tr>\n",
       "    <tr>\n",
       "      <th>4</th>\n",
       "      <td>2014-01-01 01:18:36+00:00</td>\n",
       "      <td>0.109160</td>\n",
       "      <td>0.890840</td>\n",
       "    </tr>\n",
       "    <tr>\n",
       "      <th>5</th>\n",
       "      <td>2014-01-01 10:52:20+00:00</td>\n",
       "      <td>0.281334</td>\n",
       "      <td>0.718666</td>\n",
       "    </tr>\n",
       "    <tr>\n",
       "      <th>6</th>\n",
       "      <td>2014-01-01 15:01:12+00:00</td>\n",
       "      <td>0.910512</td>\n",
       "      <td>0.089488</td>\n",
       "    </tr>\n",
       "    <tr>\n",
       "      <th>7</th>\n",
       "      <td>2013-12-31 23:10:08+00:00</td>\n",
       "      <td>0.109160</td>\n",
       "      <td>0.890840</td>\n",
       "    </tr>\n",
       "  </tbody>\n",
       "</table>\n",
       "</div>"
      ],
      "text/plain": [
       "                 created_at  negative  positive\n",
       "0 2014-01-01 03:59:03+00:00  0.109160  0.890840\n",
       "1 2014-01-01 03:29:29+00:00  0.109160  0.890840\n",
       "2 2014-01-01 18:08:47+00:00  0.512257  0.487743\n",
       "3 2014-01-01 01:52:31+00:00  0.458988  0.541012\n",
       "4 2014-01-01 01:18:36+00:00  0.109160  0.890840\n",
       "5 2014-01-01 10:52:20+00:00  0.281334  0.718666\n",
       "6 2014-01-01 15:01:12+00:00  0.910512  0.089488\n",
       "7 2013-12-31 23:10:08+00:00  0.109160  0.890840"
      ]
     },
     "execution_count": 221,
     "metadata": {},
     "output_type": "execute_result"
    }
   ],
   "source": [
    "raw_sentiment= tweets['text'].apply(preprocessedAndtoSentimentScore).to_frame()\n",
    "tweets['negative'] = raw_sentiment['text'].apply(lambda x:x[0][0])\n",
    "tweets['positive'] = raw_sentiment['text'].apply(lambda x:x[0][1])\n",
    "cleaned_tweets = tweets[['created_at','negative','positive']]\n",
    "cleaned_tweets"
   ]
  },
  {
   "cell_type": "code",
   "execution_count": 219,
   "metadata": {},
   "outputs": [
    {
     "data": {
      "text/plain": [
       "'Apple Screwed Up Big Time http://t.co/Q2Pzk2VOMm $AMZN $AAPL'"
      ]
     },
     "execution_count": 219,
     "metadata": {},
     "output_type": "execute_result"
    }
   ],
   "source": [
    "tweets['text'][6]"
   ]
  },
  {
   "cell_type": "markdown",
   "metadata": {},
   "source": [
    "* The following functions automate the steps for indexing all the tweets in the directory"
   ]
  },
  {
   "cell_type": "code",
   "execution_count": 222,
   "metadata": {},
   "outputs": [],
   "source": [
    "def preprocessedAndtoSentimentScore(text):\n",
    "    return predict_fn({'inputs':[pre_process_document(text)]})['scores']\n",
    "def toScore(text):\n",
    "    return predict_fn({'inputs':[text]})['scores']\n",
    "def data_transformation(stock,filename):\n",
    "    tweets = pd.read_json(f'./datasets/stocknet-dataset/tweet/raw/{stock}/{filename}',lines=True)\n",
    "    raw_sentiment= tweets['text'].apply(toScore).to_frame()\n",
    "    tweets['negative_sentiment'] = raw_sentiment['text'].apply(lambda x:x[0][0])\n",
    "    tweets['positive_sentiment'] = raw_sentiment['text'].apply(lambda x:x[0][1])\n",
    "    cleaned_tweets = tweets[['created_at','negative_sentiment','positive_sentiment']]\n",
    "    return cleaned_tweets\n",
    "def data_preparation(stock):\n",
    "    import os,re\n",
    "    r = re.compile('.*-.*-.*')\n",
    "    aggregated_df = pd.DataFrame(columns=['timestamp','resource_name','asset_name','negative_sentiment','positive_sentiment'])\n",
    "    for filename in os.listdir(f'./datasets/stocknet-dataset/tweet/raw/{stock}'):\n",
    "        if r.match(filename):\n",
    "            result = data_transformation(stock,filename)\n",
    "            agg_result = pd.DataFrame({\n",
    "                'timestamp': [filename],\n",
    "                'resource_name': ['tweets'],\n",
    "                'asset_name': [stock],\n",
    "                'negative_sentiment': [result['negative_sentiment'].mean()],\n",
    "                'positive_sentiment': [result['positive_sentiment'].mean()]\n",
    "            })\n",
    "            aggregated_df = aggregated_df.append(agg_result, ignore_index=True)\n",
    "    pd.to_datetime(aggregated_df.timestamp)\n",
    "    aggregated_df.sort_values(by=['timestamp'], inplace=True)\n",
    "    aggregated_df = aggregated_df.reset_index(drop=True)\n",
    "    return aggregated_df\n",
    "\n",
    "cleaned_storage_path = lambda stock:f'./datasets/cashcowputer-dataset/{stock}.csv'"
   ]
  },
  {
   "cell_type": "code",
   "execution_count": 186,
   "metadata": {},
   "outputs": [],
   "source": [
    "stock = 'AAPL'\n",
    "stock_df = data_preparation(stock)\n",
    "stock_df.to_csv(cleaned_storage_path(stock),index=False)"
   ]
  },
  {
   "cell_type": "code",
   "execution_count": 196,
   "metadata": {},
   "outputs": [],
   "source": [
    "visited = list(map(lambda x: x.split('.')[0],os.listdir(f'./datasets/cashcowputer-dataset')))\n",
    "for stock in os.listdir(f'./datasets/stocknet-dataset/tweet/raw'):\n",
    "    if stock.isalpha() and stock not in visited:\n",
    "        data_preparation(stock).to_csv(cleaned_storage_path(stock),index=False)"
   ]
  },
  {
   "cell_type": "markdown",
   "metadata": {},
   "source": [
    "## News sentiment data"
   ]
  },
  {
   "cell_type": "code",
   "execution_count": 342,
   "metadata": {},
   "outputs": [],
   "source": [
    "news = pd.read_csv('./datasets/RedditNews.csv')"
   ]
  },
  {
   "cell_type": "code",
   "execution_count": 343,
   "metadata": {},
   "outputs": [
    {
     "data": {
      "text/html": [
       "<div>\n",
       "<style scoped>\n",
       "    .dataframe tbody tr th:only-of-type {\n",
       "        vertical-align: middle;\n",
       "    }\n",
       "\n",
       "    .dataframe tbody tr th {\n",
       "        vertical-align: top;\n",
       "    }\n",
       "\n",
       "    .dataframe thead th {\n",
       "        text-align: right;\n",
       "    }\n",
       "</style>\n",
       "<table border=\"1\" class=\"dataframe\">\n",
       "  <thead>\n",
       "    <tr style=\"text-align: right;\">\n",
       "      <th></th>\n",
       "      <th>Date</th>\n",
       "      <th>News</th>\n",
       "    </tr>\n",
       "  </thead>\n",
       "  <tbody>\n",
       "    <tr>\n",
       "      <th>73603</th>\n",
       "      <td>2008-06-08</td>\n",
       "      <td>b'Man goes berzerk in Akihabara and stabs ever...</td>\n",
       "    </tr>\n",
       "    <tr>\n",
       "      <th>73604</th>\n",
       "      <td>2008-06-08</td>\n",
       "      <td>b'Threat of world AIDS pandemic among heterose...</td>\n",
       "    </tr>\n",
       "    <tr>\n",
       "      <th>73605</th>\n",
       "      <td>2008-06-08</td>\n",
       "      <td>b'Angst in Ankara: Turkey Steers into a Danger...</td>\n",
       "    </tr>\n",
       "    <tr>\n",
       "      <th>73606</th>\n",
       "      <td>2008-06-08</td>\n",
       "      <td>b\"UK: Identity cards 'could be used to spy on ...</td>\n",
       "    </tr>\n",
       "    <tr>\n",
       "      <th>73607</th>\n",
       "      <td>2008-06-08</td>\n",
       "      <td>b'Marriage, they said, was reduced to the stat...</td>\n",
       "    </tr>\n",
       "  </tbody>\n",
       "</table>\n",
       "</div>"
      ],
      "text/plain": [
       "             Date                                               News\n",
       "73603  2008-06-08  b'Man goes berzerk in Akihabara and stabs ever...\n",
       "73604  2008-06-08  b'Threat of world AIDS pandemic among heterose...\n",
       "73605  2008-06-08  b'Angst in Ankara: Turkey Steers into a Danger...\n",
       "73606  2008-06-08  b\"UK: Identity cards 'could be used to spy on ...\n",
       "73607  2008-06-08  b'Marriage, they said, was reduced to the stat..."
      ]
     },
     "execution_count": 343,
     "metadata": {},
     "output_type": "execute_result"
    }
   ],
   "source": [
    "news.tail()"
   ]
  },
  {
   "cell_type": "code",
   "execution_count": 348,
   "metadata": {},
   "outputs": [],
   "source": [
    "def removeByteString(text):\n",
    "    if text.startswith('b\\'') or text.startswith('b\\\"'):\n",
    "        return text[1:]\n",
    "    return text\n",
    "news['News'] = news['News'].apply(removeByteString)"
   ]
  },
  {
   "cell_type": "code",
   "execution_count": 349,
   "metadata": {},
   "outputs": [
    {
     "data": {
      "text/html": [
       "<div>\n",
       "<style scoped>\n",
       "    .dataframe tbody tr th:only-of-type {\n",
       "        vertical-align: middle;\n",
       "    }\n",
       "\n",
       "    .dataframe tbody tr th {\n",
       "        vertical-align: top;\n",
       "    }\n",
       "\n",
       "    .dataframe thead th {\n",
       "        text-align: right;\n",
       "    }\n",
       "</style>\n",
       "<table border=\"1\" class=\"dataframe\">\n",
       "  <thead>\n",
       "    <tr style=\"text-align: right;\">\n",
       "      <th></th>\n",
       "      <th>Date</th>\n",
       "      <th>News</th>\n",
       "    </tr>\n",
       "  </thead>\n",
       "  <tbody>\n",
       "    <tr>\n",
       "      <th>73603</th>\n",
       "      <td>2008-06-08</td>\n",
       "      <td>'Man goes berzerk in Akihabara and stabs every...</td>\n",
       "    </tr>\n",
       "    <tr>\n",
       "      <th>73604</th>\n",
       "      <td>2008-06-08</td>\n",
       "      <td>'Threat of world AIDS pandemic among heterosex...</td>\n",
       "    </tr>\n",
       "    <tr>\n",
       "      <th>73605</th>\n",
       "      <td>2008-06-08</td>\n",
       "      <td>'Angst in Ankara: Turkey Steers into a Dangero...</td>\n",
       "    </tr>\n",
       "    <tr>\n",
       "      <th>73606</th>\n",
       "      <td>2008-06-08</td>\n",
       "      <td>\"UK: Identity cards 'could be used to spy on p...</td>\n",
       "    </tr>\n",
       "    <tr>\n",
       "      <th>73607</th>\n",
       "      <td>2008-06-08</td>\n",
       "      <td>'Marriage, they said, was reduced to the statu...</td>\n",
       "    </tr>\n",
       "  </tbody>\n",
       "</table>\n",
       "</div>"
      ],
      "text/plain": [
       "             Date                                               News\n",
       "73603  2008-06-08  'Man goes berzerk in Akihabara and stabs every...\n",
       "73604  2008-06-08  'Threat of world AIDS pandemic among heterosex...\n",
       "73605  2008-06-08  'Angst in Ankara: Turkey Steers into a Dangero...\n",
       "73606  2008-06-08  \"UK: Identity cards 'could be used to spy on p...\n",
       "73607  2008-06-08  'Marriage, they said, was reduced to the statu..."
      ]
     },
     "execution_count": 349,
     "metadata": {},
     "output_type": "execute_result"
    }
   ],
   "source": [
    "news.tail()"
   ]
  },
  {
   "cell_type": "code",
   "execution_count": 288,
   "metadata": {},
   "outputs": [
    {
     "data": {
      "text/plain": [
       "<matplotlib.axes._subplots.AxesSubplot at 0x1b4643b2b0>"
      ]
     },
     "execution_count": 288,
     "metadata": {},
     "output_type": "execute_result"
    },
    {
     "data": {
      "image/png": "[encoded data removed]",
      "text/plain": [
       "<Figure size 1296x1008 with 1 Axes>"
      ]
     },
     "metadata": {
      "needs_background": "light"
     },
     "output_type": "display_data"
    }
   ],
   "source": [
    "news['Date'].value_counts().plot(kind='line',figsize=(18,14))"
   ]
  },
  {
   "cell_type": "markdown",
   "metadata": {},
   "source": [
    "#### Possible EDA for next steps:\n",
    "1. Data cleaning\n",
    "2. Word frequency\n",
    "3. Topic modelling\n",
    "\n",
    "#### important questions:\n",
    "1. the news article count for each day\n",
    "2. the time coverage of this dataset\n",
    "\n",
    "#### interesting questions:\n",
    "1. what are the most frequent words for each month?\n",
    "2. what are the most frequent words for each season?\n",
    "3. what are the most frequent words for each year?\n",
    "4. what are the most popular topics for each month?\n",
    "5. what are the most popular topics for each season?\n",
    "6. what are the most popular topics for each year?"
   ]
  },
  {
   "cell_type": "markdown",
   "metadata": {},
   "source": [
    "## Time coverage"
   ]
  },
  {
   "cell_type": "code",
   "execution_count": 286,
   "metadata": {},
   "outputs": [
    {
     "data": {
      "text/plain": [
       "('2008-06-08', '2016-07-01')"
      ]
     },
     "execution_count": 286,
     "metadata": {},
     "output_type": "execute_result"
    }
   ],
   "source": [
    "all_dates = sorted(news['Date'].unique())\n",
    "start = all_dates[0]\n",
    "end = all_dates[-1]\n",
    "start,end"
   ]
  },
  {
   "cell_type": "markdown",
   "metadata": {},
   "source": [
    "## Word frequency exploration\n",
    "1. By month"
   ]
  },
  {
   "cell_type": "code",
   "execution_count": 350,
   "metadata": {},
   "outputs": [],
   "source": [
    "news['News'] = news['News'].apply(pre_process_document).to_frame()"
   ]
  },
  {
   "cell_type": "code",
   "execution_count": 351,
   "metadata": {},
   "outputs": [],
   "source": [
    "news['Date'] = pd.to_datetime(news['Date'])"
   ]
  },
  {
   "cell_type": "code",
   "execution_count": 352,
   "metadata": {},
   "outputs": [],
   "source": [
    "news_by_year = news.groupby(news.Date.dt.year)\n",
    "news_by_month = news.groupby([news.Date.dt.year,news.Date.dt.month])\n",
    "news_by_date = news.groupby(news.Date)"
   ]
  },
  {
   "cell_type": "code",
   "execution_count": 353,
   "metadata": {
    "scrolled": true
   },
   "outputs": [
    {
     "data": {
      "text/html": [
       "<div>\n",
       "<style scoped>\n",
       "    .dataframe tbody tr th:only-of-type {\n",
       "        vertical-align: middle;\n",
       "    }\n",
       "\n",
       "    .dataframe tbody tr th {\n",
       "        vertical-align: top;\n",
       "    }\n",
       "\n",
       "    .dataframe thead th {\n",
       "        text-align: right;\n",
       "    }\n",
       "</style>\n",
       "<table border=\"1\" class=\"dataframe\">\n",
       "  <thead>\n",
       "    <tr style=\"text-align: right;\">\n",
       "      <th></th>\n",
       "      <th>Date</th>\n",
       "      <th>News</th>\n",
       "    </tr>\n",
       "    <tr>\n",
       "      <th>Date</th>\n",
       "      <th></th>\n",
       "      <th></th>\n",
       "    </tr>\n",
       "  </thead>\n",
       "  <tbody>\n",
       "    <tr>\n",
       "      <th>2008</th>\n",
       "      <td>2008-12-31</td>\n",
       "      <td>former army employee pleads guilty to acting a...</td>\n",
       "    </tr>\n",
       "    <tr>\n",
       "      <th>2009</th>\n",
       "      <td>2009-12-31</td>\n",
       "      <td>czech republic decriminalizes all major drugs ...</td>\n",
       "    </tr>\n",
       "    <tr>\n",
       "      <th>2010</th>\n",
       "      <td>2010-12-31</td>\n",
       "      <td>julian assange threatens to name arab leaders ...</td>\n",
       "    </tr>\n",
       "    <tr>\n",
       "      <th>2011</th>\n",
       "      <td>2011-12-31</td>\n",
       "      <td>ultraorthodox jewish groups in israel would li...</td>\n",
       "    </tr>\n",
       "    <tr>\n",
       "      <th>2012</th>\n",
       "      <td>2012-12-31</td>\n",
       "      <td>a young nepali woman returning from saudi arab...</td>\n",
       "    </tr>\n",
       "    <tr>\n",
       "      <th>2013</th>\n",
       "      <td>2013-12-31</td>\n",
       "      <td>the japanese mob is hiring homeless people to ...</td>\n",
       "    </tr>\n",
       "    <tr>\n",
       "      <th>2014</th>\n",
       "      <td>2014-12-31</td>\n",
       "      <td>airasia flight found at the bottom of the java...</td>\n",
       "    </tr>\n",
       "    <tr>\n",
       "      <th>2015</th>\n",
       "      <td>2015-12-31</td>\n",
       "      <td>microsoft corp said on wednesday it will begin...</td>\n",
       "    </tr>\n",
       "    <tr>\n",
       "      <th>2016</th>\n",
       "      <td>2016-07-01</td>\n",
       "      <td>a yearold woman in mexico city finally receive...</td>\n",
       "    </tr>\n",
       "  </tbody>\n",
       "</table>\n",
       "</div>"
      ],
      "text/plain": [
       "           Date                                               News\n",
       "Date                                                              \n",
       "2008 2008-12-31  former army employee pleads guilty to acting a...\n",
       "2009 2009-12-31  czech republic decriminalizes all major drugs ...\n",
       "2010 2010-12-31  julian assange threatens to name arab leaders ...\n",
       "2011 2011-12-31  ultraorthodox jewish groups in israel would li...\n",
       "2012 2012-12-31  a young nepali woman returning from saudi arab...\n",
       "2013 2013-12-31  the japanese mob is hiring homeless people to ...\n",
       "2014 2014-12-31  airasia flight found at the bottom of the java...\n",
       "2015 2015-12-31  microsoft corp said on wednesday it will begin...\n",
       "2016 2016-07-01  a yearold woman in mexico city finally receive..."
      ]
     },
     "execution_count": 353,
     "metadata": {},
     "output_type": "execute_result"
    }
   ],
   "source": [
    "news_by_year.first()"
   ]
  },
  {
   "cell_type": "code",
   "execution_count": 354,
   "metadata": {},
   "outputs": [
    {
     "data": {
      "text/html": [
       "<div>\n",
       "<style scoped>\n",
       "    .dataframe tbody tr th:only-of-type {\n",
       "        vertical-align: middle;\n",
       "    }\n",
       "\n",
       "    .dataframe tbody tr th {\n",
       "        vertical-align: top;\n",
       "    }\n",
       "\n",
       "    .dataframe thead th {\n",
       "        text-align: right;\n",
       "    }\n",
       "</style>\n",
       "<table border=\"1\" class=\"dataframe\">\n",
       "  <thead>\n",
       "    <tr style=\"text-align: right;\">\n",
       "      <th></th>\n",
       "      <th></th>\n",
       "      <th>Date</th>\n",
       "      <th>News</th>\n",
       "    </tr>\n",
       "    <tr>\n",
       "      <th>Date</th>\n",
       "      <th>Date</th>\n",
       "      <th></th>\n",
       "      <th></th>\n",
       "    </tr>\n",
       "  </thead>\n",
       "  <tbody>\n",
       "    <tr>\n",
       "      <th rowspan=\"5\" valign=\"top\">2008</th>\n",
       "      <th>6</th>\n",
       "      <td>2008-06-30</td>\n",
       "      <td>president bush and vice president dick cheney ...</td>\n",
       "    </tr>\n",
       "    <tr>\n",
       "      <th>7</th>\n",
       "      <td>2008-07-31</td>\n",
       "      <td>the international olympic committee agreed to ...</td>\n",
       "    </tr>\n",
       "    <tr>\n",
       "      <th>8</th>\n",
       "      <td>2008-08-31</td>\n",
       "      <td>australian pastor who inspired hundreds of tho...</td>\n",
       "    </tr>\n",
       "    <tr>\n",
       "      <th>9</th>\n",
       "      <td>2008-09-30</td>\n",
       "      <td>gorbachev forms new russian party opposing putin</td>\n",
       "    </tr>\n",
       "    <tr>\n",
       "      <th>10</th>\n",
       "      <td>2008-10-31</td>\n",
       "      <td>british police ask for camera license</td>\n",
       "    </tr>\n",
       "    <tr>\n",
       "      <th>...</th>\n",
       "      <th>...</th>\n",
       "      <td>...</td>\n",
       "      <td>...</td>\n",
       "    </tr>\n",
       "    <tr>\n",
       "      <th rowspan=\"5\" valign=\"top\">2016</th>\n",
       "      <th>3</th>\n",
       "      <td>2016-03-31</td>\n",
       "      <td>amnesty int has accused qatar of using forced ...</td>\n",
       "    </tr>\n",
       "    <tr>\n",
       "      <th>4</th>\n",
       "      <td>2016-04-30</td>\n",
       "      <td>body of russian soldier who called in an airst...</td>\n",
       "    </tr>\n",
       "    <tr>\n",
       "      <th>5</th>\n",
       "      <td>2016-05-31</td>\n",
       "      <td>every reference to the great barrier reef remo...</td>\n",
       "    </tr>\n",
       "    <tr>\n",
       "      <th>6</th>\n",
       "      <td>2016-06-30</td>\n",
       "      <td>jamaica proposes marijuana dispensers for tour...</td>\n",
       "    </tr>\n",
       "    <tr>\n",
       "      <th>7</th>\n",
       "      <td>2016-07-01</td>\n",
       "      <td>a yearold woman in mexico city finally receive...</td>\n",
       "    </tr>\n",
       "  </tbody>\n",
       "</table>\n",
       "<p>98 rows × 2 columns</p>\n",
       "</div>"
      ],
      "text/plain": [
       "                Date                                               News\n",
       "Date Date                                                              \n",
       "2008 6    2008-06-30  president bush and vice president dick cheney ...\n",
       "     7    2008-07-31  the international olympic committee agreed to ...\n",
       "     8    2008-08-31  australian pastor who inspired hundreds of tho...\n",
       "     9    2008-09-30   gorbachev forms new russian party opposing putin\n",
       "     10   2008-10-31              british police ask for camera license\n",
       "...              ...                                                ...\n",
       "2016 3    2016-03-31  amnesty int has accused qatar of using forced ...\n",
       "     4    2016-04-30  body of russian soldier who called in an airst...\n",
       "     5    2016-05-31  every reference to the great barrier reef remo...\n",
       "     6    2016-06-30  jamaica proposes marijuana dispensers for tour...\n",
       "     7    2016-07-01  a yearold woman in mexico city finally receive...\n",
       "\n",
       "[98 rows x 2 columns]"
      ]
     },
     "execution_count": 354,
     "metadata": {},
     "output_type": "execute_result"
    }
   ],
   "source": [
    "news_by_month.first()"
   ]
  },
  {
   "cell_type": "code",
   "execution_count": 355,
   "metadata": {},
   "outputs": [
    {
     "data": {
      "text/html": [
       "<div>\n",
       "<style scoped>\n",
       "    .dataframe tbody tr th:only-of-type {\n",
       "        vertical-align: middle;\n",
       "    }\n",
       "\n",
       "    .dataframe tbody tr th {\n",
       "        vertical-align: top;\n",
       "    }\n",
       "\n",
       "    .dataframe thead th {\n",
       "        text-align: right;\n",
       "    }\n",
       "</style>\n",
       "<table border=\"1\" class=\"dataframe\">\n",
       "  <thead>\n",
       "    <tr style=\"text-align: right;\">\n",
       "      <th></th>\n",
       "      <th>News</th>\n",
       "    </tr>\n",
       "    <tr>\n",
       "      <th>Date</th>\n",
       "      <th></th>\n",
       "    </tr>\n",
       "  </thead>\n",
       "  <tbody>\n",
       "    <tr>\n",
       "      <th>2008-06-08</th>\n",
       "      <td>nim chimpsky the tragedy of the chimp who thou...</td>\n",
       "    </tr>\n",
       "    <tr>\n",
       "      <th>2008-06-09</th>\n",
       "      <td>united states quits human rights council</td>\n",
       "    </tr>\n",
       "    <tr>\n",
       "      <th>2008-06-10</th>\n",
       "      <td>oil shortage a myth says industry insider</td>\n",
       "    </tr>\n",
       "    <tr>\n",
       "      <th>2008-06-11</th>\n",
       "      <td>bbc uncovers lost iraq billions</td>\n",
       "    </tr>\n",
       "    <tr>\n",
       "      <th>2008-06-12</th>\n",
       "      <td>did us attack pakistan last night pakistan fur...</td>\n",
       "    </tr>\n",
       "    <tr>\n",
       "      <th>...</th>\n",
       "      <td>...</td>\n",
       "    </tr>\n",
       "    <tr>\n",
       "      <th>2016-06-27</th>\n",
       "      <td>barclays and rbs shares suspended from trading...</td>\n",
       "    </tr>\n",
       "    <tr>\n",
       "      <th>2016-06-28</th>\n",
       "      <td>scientists to australia if you want to save th...</td>\n",
       "    </tr>\n",
       "    <tr>\n",
       "      <th>2016-06-29</th>\n",
       "      <td>explosion at airport in istanbul</td>\n",
       "    </tr>\n",
       "    <tr>\n",
       "      <th>2016-06-30</th>\n",
       "      <td>jamaica proposes marijuana dispensers for tour...</td>\n",
       "    </tr>\n",
       "    <tr>\n",
       "      <th>2016-07-01</th>\n",
       "      <td>a yearold woman in mexico city finally receive...</td>\n",
       "    </tr>\n",
       "  </tbody>\n",
       "</table>\n",
       "<p>2943 rows × 1 columns</p>\n",
       "</div>"
      ],
      "text/plain": [
       "                                                         News\n",
       "Date                                                         \n",
       "2008-06-08  nim chimpsky the tragedy of the chimp who thou...\n",
       "2008-06-09           united states quits human rights council\n",
       "2008-06-10          oil shortage a myth says industry insider\n",
       "2008-06-11                    bbc uncovers lost iraq billions\n",
       "2008-06-12  did us attack pakistan last night pakistan fur...\n",
       "...                                                       ...\n",
       "2016-06-27  barclays and rbs shares suspended from trading...\n",
       "2016-06-28  scientists to australia if you want to save th...\n",
       "2016-06-29                   explosion at airport in istanbul\n",
       "2016-06-30  jamaica proposes marijuana dispensers for tour...\n",
       "2016-07-01  a yearold woman in mexico city finally receive...\n",
       "\n",
       "[2943 rows x 1 columns]"
      ]
     },
     "execution_count": 355,
     "metadata": {},
     "output_type": "execute_result"
    }
   ],
   "source": [
    "news_by_date.first()"
   ]
  },
  {
   "cell_type": "code",
   "execution_count": 416,
   "metadata": {},
   "outputs": [],
   "source": [
    "#a = datetime(2008,6,2)\n",
    "#for n in news_by_year.get_group(2008)['News']:\n",
    "#    print(n)"
   ]
  },
  {
   "cell_type": "code",
   "execution_count": 321,
   "metadata": {},
   "outputs": [
    {
     "name": "stdout",
     "output_type": "stream",
     "text": [
      "2008\n",
      "2009\n",
      "2010\n",
      "2011\n",
      "2012\n",
      "2013\n",
      "2014\n",
      "2015\n",
      "2016\n"
     ]
    }
   ],
   "source": [
    "for group_name, group_values in news_by_year:\n",
    "    print(group_name)"
   ]
  },
  {
   "cell_type": "markdown",
   "metadata": {},
   "source": [
    "## Word frequency"
   ]
  },
  {
   "cell_type": "markdown",
   "metadata": {},
   "source": [
    "### import necessary modules\n",
    "BoW using gensim module"
   ]
  },
  {
   "cell_type": "code",
   "execution_count": 380,
   "metadata": {},
   "outputs": [],
   "source": [
    "from nltk.tokenize import word_tokenize\n",
    "from nltk.corpus import stopwords\n",
    "from nltk.stem import WordNetLemmatizer\n",
    "from collections import Counter"
   ]
  },
  {
   "cell_type": "code",
   "execution_count": 382,
   "metadata": {},
   "outputs": [
    {
     "data": {
      "text/plain": [
       "179"
      ]
     },
     "execution_count": 382,
     "metadata": {},
     "output_type": "execute_result"
    }
   ],
   "source": [
    "len(stopwords.words('english'))"
   ]
  },
  {
   "cell_type": "markdown",
   "metadata": {},
   "source": [
    "### 2008"
   ]
  },
  {
   "cell_type": "code",
   "execution_count": 417,
   "metadata": {},
   "outputs": [],
   "source": [
    "all_words_2008 = [n for n in news_by_year.get_group(2008)['News']]\n",
    "all_words_2008 = ' '.join(all_words_2008)\n",
    "#all_words_2008"
   ]
  },
  {
   "cell_type": "code",
   "execution_count": 358,
   "metadata": {},
   "outputs": [
    {
     "data": {
      "text/plain": [
       "[('u', 373), ('war', 231)]"
      ]
     },
     "execution_count": 358,
     "metadata": {},
     "output_type": "execute_result"
    }
   ],
   "source": [
    "tokens = [w for w in word_tokenize(all_words_2008) if w.isalpha()]\n",
    "no_stops = [t for t in tokens if t not in stopwords.words('english')]\n",
    "wnl = WordNetLemmatizer()\n",
    "lemmatized = [wnl.lemmatize (t) for t in no_stops]\n",
    "Counter(lemmatized).most_common(2)"
   ]
  },
  {
   "cell_type": "code",
   "execution_count": 360,
   "metadata": {},
   "outputs": [
    {
     "data": {
      "text/plain": [
       "[('the', 2256), ('to', 1902)]"
      ]
     },
     "execution_count": 360,
     "metadata": {},
     "output_type": "execute_result"
    }
   ],
   "source": [
    "Counter(tokens).most_common(2)"
   ]
  },
  {
   "cell_type": "code",
   "execution_count": 369,
   "metadata": {},
   "outputs": [],
   "source": [
    "from wordcloud import WordCloud "
   ]
  },
  {
   "cell_type": "code",
   "execution_count": 373,
   "metadata": {},
   "outputs": [],
   "source": [
    "wordcloud = WordCloud(background_color=\"white\").generate(' '.join(no_stops))"
   ]
  },
  {
   "cell_type": "code",
   "execution_count": 374,
   "metadata": {},
   "outputs": [
    {
     "data": {
      "image/png": "[encoded data removed]",
      "text/plain": [
       "<Figure size 432x288 with 1 Axes>"
      ]
     },
     "metadata": {
      "needs_background": "light"
     },
     "output_type": "display_data"
    }
   ],
   "source": [
    "plt.imshow(wordcloud, interpolation='bilinear')\n",
    "plt.axis(\"off\")\n",
    "plt.show()"
   ]
  },
  {
   "cell_type": "markdown",
   "metadata": {},
   "source": [
    "try the stop words library from wordcloud"
   ]
  },
  {
   "cell_type": "code",
   "execution_count": 375,
   "metadata": {},
   "outputs": [],
   "source": [
    "from wordcloud import STOPWORDS"
   ]
  },
  {
   "cell_type": "code",
   "execution_count": 384,
   "metadata": {},
   "outputs": [
    {
     "data": {
      "text/plain": [
       "190"
      ]
     },
     "execution_count": 384,
     "metadata": {},
     "output_type": "execute_result"
    }
   ],
   "source": [
    "wc_stopwords = set(STOPWORDS)\n",
    "len(wc_stopwords)"
   ]
  },
  {
   "cell_type": "markdown",
   "metadata": {},
   "source": [
    "So it has 11 more stop words than the nltk one"
   ]
  },
  {
   "cell_type": "markdown",
   "metadata": {},
   "source": [
    "Now, let use the wordcloud's one and add more meaningless words to it, .e.g \"Say\""
   ]
  },
  {
   "cell_type": "code",
   "execution_count": 398,
   "metadata": {},
   "outputs": [],
   "source": [
    "wc_stopwords.add(\"say\")\n",
    "wc_stopwords.add(\"says\")\n",
    "wc_stopwords.add(\"year\")\n",
    "wc_stopwords.add(\"will\")"
   ]
  },
  {
   "cell_type": "code",
   "execution_count": 399,
   "metadata": {},
   "outputs": [],
   "source": [
    "new_tokens = [w for w in word_tokenize(all_words_2008) if w.isalpha()]\n",
    "new_no_stops = [t for t in new_tokens if t not in wc_stopwords]"
   ]
  },
  {
   "cell_type": "code",
   "execution_count": 400,
   "metadata": {},
   "outputs": [
    {
     "data": {
      "text/plain": [
       "[('us', 373), ('s', 264)]"
      ]
     },
     "execution_count": 400,
     "metadata": {},
     "output_type": "execute_result"
    }
   ],
   "source": [
    "Counter(new_no_stops).most_common(2)"
   ]
  },
  {
   "cell_type": "code",
   "execution_count": 401,
   "metadata": {},
   "outputs": [],
   "source": [
    "wordcloud1 = WordCloud(background_color=\"white\").generate(' '.join(new_no_stops))"
   ]
  },
  {
   "cell_type": "code",
   "execution_count": 402,
   "metadata": {},
   "outputs": [
    {
     "data": {
      "image/png": "[encoded data removed]",
      "text/plain": [
       "<Figure size 432x288 with 1 Axes>"
      ]
     },
     "metadata": {
      "needs_background": "light"
     },
     "output_type": "display_data"
    }
   ],
   "source": [
    "plt.imshow(wordcloud1, interpolation='bilinear')\n",
    "plt.axis(\"off\")\n",
    "plt.show()"
   ]
  },
  {
   "cell_type": "markdown",
   "metadata": {},
   "source": [
    "### 2010"
   ]
  },
  {
   "cell_type": "code",
   "execution_count": 418,
   "metadata": {},
   "outputs": [],
   "source": [
    "all_words_2010 = [n for n in news_by_year.get_group(2010)['News']]\n",
    "all_words_2010 = ' '.join(all_words_2010)\n",
    "#all_words_2010"
   ]
  },
  {
   "cell_type": "code",
   "execution_count": 405,
   "metadata": {},
   "outputs": [],
   "source": [
    "new_tokens = [w for w in word_tokenize(all_words_2010) if w.isalpha()]\n",
    "new_no_stops = [t for t in new_tokens if t not in wc_stopwords]"
   ]
  },
  {
   "cell_type": "code",
   "execution_count": 406,
   "metadata": {},
   "outputs": [],
   "source": [
    "wordcloud1 = WordCloud(background_color=\"white\").generate(' '.join(new_no_stops))"
   ]
  },
  {
   "cell_type": "code",
   "execution_count": 407,
   "metadata": {},
   "outputs": [
    {
     "data": {
      "image/png": "[encoded data removed]",
      "text/plain": [
       "<Figure size 432x288 with 1 Axes>"
      ]
     },
     "metadata": {
      "needs_background": "light"
     },
     "output_type": "display_data"
    }
   ],
   "source": [
    "plt.imshow(wordcloud1, interpolation='bilinear')\n",
    "plt.axis(\"off\")\n",
    "plt.show()"
   ]
  },
  {
   "cell_type": "markdown",
   "metadata": {},
   "source": [
    "## Sentiment Data Transformation\n",
    "'timestamp': Date,\n",
    "'resource_name': news,\n",
    "'asset_name': ,\n",
    "'negative_sentiment':\n",
    "'positive_sentiment': "
   ]
  },
  {
   "cell_type": "code",
   "execution_count": 409,
   "metadata": {},
   "outputs": [
    {
     "data": {
      "text/html": [
       "<div>\n",
       "<style scoped>\n",
       "    .dataframe tbody tr th:only-of-type {\n",
       "        vertical-align: middle;\n",
       "    }\n",
       "\n",
       "    .dataframe tbody tr th {\n",
       "        vertical-align: top;\n",
       "    }\n",
       "\n",
       "    .dataframe thead th {\n",
       "        text-align: right;\n",
       "    }\n",
       "</style>\n",
       "<table border=\"1\" class=\"dataframe\">\n",
       "  <thead>\n",
       "    <tr style=\"text-align: right;\">\n",
       "      <th></th>\n",
       "      <th>Date</th>\n",
       "      <th>News</th>\n",
       "    </tr>\n",
       "  </thead>\n",
       "  <tbody>\n",
       "    <tr>\n",
       "      <th>0</th>\n",
       "      <td>2016-07-01</td>\n",
       "      <td>a yearold woman in mexico city finally receive...</td>\n",
       "    </tr>\n",
       "    <tr>\n",
       "      <th>1</th>\n",
       "      <td>2016-07-01</td>\n",
       "      <td>imf chief backs athens as permanent olympic host</td>\n",
       "    </tr>\n",
       "    <tr>\n",
       "      <th>2</th>\n",
       "      <td>2016-07-01</td>\n",
       "      <td>the president of france says if brexit won so ...</td>\n",
       "    </tr>\n",
       "    <tr>\n",
       "      <th>3</th>\n",
       "      <td>2016-07-01</td>\n",
       "      <td>british man who must give police hours notice ...</td>\n",
       "    </tr>\n",
       "    <tr>\n",
       "      <th>4</th>\n",
       "      <td>2016-07-01</td>\n",
       "      <td>nobel laureates urge greenpeace to stop opposi...</td>\n",
       "    </tr>\n",
       "    <tr>\n",
       "      <th>...</th>\n",
       "      <td>...</td>\n",
       "      <td>...</td>\n",
       "    </tr>\n",
       "    <tr>\n",
       "      <th>73603</th>\n",
       "      <td>2008-06-08</td>\n",
       "      <td>man goes berzerk in akihabara and stabs everyo...</td>\n",
       "    </tr>\n",
       "    <tr>\n",
       "      <th>73604</th>\n",
       "      <td>2008-06-08</td>\n",
       "      <td>threat of world aids pandemic among heterosexu...</td>\n",
       "    </tr>\n",
       "    <tr>\n",
       "      <th>73605</th>\n",
       "      <td>2008-06-08</td>\n",
       "      <td>angst in ankara turkey steers into a dangerous...</td>\n",
       "    </tr>\n",
       "    <tr>\n",
       "      <th>73606</th>\n",
       "      <td>2008-06-08</td>\n",
       "      <td>uk identity cards could be used to spy on peop...</td>\n",
       "    </tr>\n",
       "    <tr>\n",
       "      <th>73607</th>\n",
       "      <td>2008-06-08</td>\n",
       "      <td>marriage they said was reduced to the status o...</td>\n",
       "    </tr>\n",
       "  </tbody>\n",
       "</table>\n",
       "<p>73608 rows × 2 columns</p>\n",
       "</div>"
      ],
      "text/plain": [
       "            Date                                               News\n",
       "0     2016-07-01  a yearold woman in mexico city finally receive...\n",
       "1     2016-07-01   imf chief backs athens as permanent olympic host\n",
       "2     2016-07-01  the president of france says if brexit won so ...\n",
       "3     2016-07-01  british man who must give police hours notice ...\n",
       "4     2016-07-01  nobel laureates urge greenpeace to stop opposi...\n",
       "...          ...                                                ...\n",
       "73603 2008-06-08  man goes berzerk in akihabara and stabs everyo...\n",
       "73604 2008-06-08  threat of world aids pandemic among heterosexu...\n",
       "73605 2008-06-08  angst in ankara turkey steers into a dangerous...\n",
       "73606 2008-06-08  uk identity cards could be used to spy on peop...\n",
       "73607 2008-06-08  marriage they said was reduced to the status o...\n",
       "\n",
       "[73608 rows x 2 columns]"
      ]
     },
     "execution_count": 409,
     "metadata": {},
     "output_type": "execute_result"
    }
   ],
   "source": [
    "news"
   ]
  },
  {
   "cell_type": "code",
   "execution_count": 410,
   "metadata": {},
   "outputs": [],
   "source": [
    "def toScore(text):\n",
    "    return predict_fn({'inputs':[text]})['scores']"
   ]
  },
  {
   "cell_type": "code",
   "execution_count": 411,
   "metadata": {},
   "outputs": [],
   "source": [
    "raw_sentiment= news['News'].apply(toScore).to_frame()\n",
    "news['news_negative_sentiment'] = raw_sentiment['News'].apply(lambda x:x[0][0])\n",
    "news['news_positive_sentiment'] = raw_sentiment['News'].apply(lambda x:x[0][1])"
   ]
  },
  {
   "cell_type": "code",
   "execution_count": 412,
   "metadata": {},
   "outputs": [
    {
     "data": {
      "text/html": [
       "<div>\n",
       "<style scoped>\n",
       "    .dataframe tbody tr th:only-of-type {\n",
       "        vertical-align: middle;\n",
       "    }\n",
       "\n",
       "    .dataframe tbody tr th {\n",
       "        vertical-align: top;\n",
       "    }\n",
       "\n",
       "    .dataframe thead th {\n",
       "        text-align: right;\n",
       "    }\n",
       "</style>\n",
       "<table border=\"1\" class=\"dataframe\">\n",
       "  <thead>\n",
       "    <tr style=\"text-align: right;\">\n",
       "      <th></th>\n",
       "      <th>Date</th>\n",
       "      <th>News</th>\n",
       "      <th>news_negative_sentiment</th>\n",
       "      <th>news_positive_sentiment</th>\n",
       "    </tr>\n",
       "  </thead>\n",
       "  <tbody>\n",
       "    <tr>\n",
       "      <th>0</th>\n",
       "      <td>2016-07-01</td>\n",
       "      <td>a yearold woman in mexico city finally receive...</td>\n",
       "      <td>0.797911</td>\n",
       "      <td>0.202089</td>\n",
       "    </tr>\n",
       "    <tr>\n",
       "      <th>1</th>\n",
       "      <td>2016-07-01</td>\n",
       "      <td>imf chief backs athens as permanent olympic host</td>\n",
       "      <td>0.742425</td>\n",
       "      <td>0.257575</td>\n",
       "    </tr>\n",
       "    <tr>\n",
       "      <th>2</th>\n",
       "      <td>2016-07-01</td>\n",
       "      <td>the president of france says if brexit won so ...</td>\n",
       "      <td>0.753448</td>\n",
       "      <td>0.246552</td>\n",
       "    </tr>\n",
       "    <tr>\n",
       "      <th>3</th>\n",
       "      <td>2016-07-01</td>\n",
       "      <td>british man who must give police hours notice ...</td>\n",
       "      <td>0.770651</td>\n",
       "      <td>0.229349</td>\n",
       "    </tr>\n",
       "    <tr>\n",
       "      <th>4</th>\n",
       "      <td>2016-07-01</td>\n",
       "      <td>nobel laureates urge greenpeace to stop opposi...</td>\n",
       "      <td>0.755080</td>\n",
       "      <td>0.244920</td>\n",
       "    </tr>\n",
       "  </tbody>\n",
       "</table>\n",
       "</div>"
      ],
      "text/plain": [
       "        Date                                               News  \\\n",
       "0 2016-07-01  a yearold woman in mexico city finally receive...   \n",
       "1 2016-07-01   imf chief backs athens as permanent olympic host   \n",
       "2 2016-07-01  the president of france says if brexit won so ...   \n",
       "3 2016-07-01  british man who must give police hours notice ...   \n",
       "4 2016-07-01  nobel laureates urge greenpeace to stop opposi...   \n",
       "\n",
       "   news_negative_sentiment  news_positive_sentiment  \n",
       "0                 0.797911                 0.202089  \n",
       "1                 0.742425                 0.257575  \n",
       "2                 0.753448                 0.246552  \n",
       "3                 0.770651                 0.229349  \n",
       "4                 0.755080                 0.244920  "
      ]
     },
     "execution_count": 412,
     "metadata": {},
     "output_type": "execute_result"
    }
   ],
   "source": [
    "news.head()"
   ]
  },
  {
   "cell_type": "markdown",
   "metadata": {},
   "source": [
    "# Data scope and schema"
   ]
  },
  {
   "cell_type": "markdown",
   "metadata": {},
   "source": [
    "* After discussing with groupmates, we have decided to consolidate all the datasets into one and keep one single source of data from this point onwards. The following combines all the data sources and store using consented schemas\n",
    "\n",
    "* Based on the data avabilable, we have chosen 7 stocks for analysis:\n",
    "\n",
    " 1. Apple (AAPL)\n",
    " 2. Google (GOOG)\n",
    " 3. Amazon (AMZN)\n",
    " 4. Microsoft (MSFT)\n",
    " 5. At&T (T)\n",
    " 6. Intel (INTC)\n",
    " 7. J.P. Morgan (JPM)\n",
    "\n",
    "\n",
    "* Time range: 2014-01-01 to 2016-12-31"
   ]
  },
  {
   "cell_type": "markdown",
   "metadata": {},
   "source": [
    "### 1a. News (title only)"
   ]
  },
  {
   "cell_type": "code",
   "execution_count": 481,
   "metadata": {},
   "outputs": [],
   "source": [
    "news['title'] = news['News']\n",
    "news['content'] = news['News']\n",
    "news['source'] = 'news_title_only'\n",
    "news['asset'] = 'NA'\n",
    "news['timestamp'] = news['Date']"
   ]
  },
  {
   "cell_type": "code",
   "execution_count": 482,
   "metadata": {},
   "outputs": [
    {
     "data": {
      "text/html": [
       "<div>\n",
       "<style scoped>\n",
       "    .dataframe tbody tr th:only-of-type {\n",
       "        vertical-align: middle;\n",
       "    }\n",
       "\n",
       "    .dataframe tbody tr th {\n",
       "        vertical-align: top;\n",
       "    }\n",
       "\n",
       "    .dataframe thead th {\n",
       "        text-align: right;\n",
       "    }\n",
       "</style>\n",
       "<table border=\"1\" class=\"dataframe\">\n",
       "  <thead>\n",
       "    <tr style=\"text-align: right;\">\n",
       "      <th></th>\n",
       "      <th>Date</th>\n",
       "      <th>News</th>\n",
       "      <th>news_negative_sentiment</th>\n",
       "      <th>news_positive_sentiment</th>\n",
       "      <th>title</th>\n",
       "      <th>content</th>\n",
       "      <th>source</th>\n",
       "      <th>asset</th>\n",
       "      <th>timestamp</th>\n",
       "    </tr>\n",
       "  </thead>\n",
       "  <tbody>\n",
       "    <tr>\n",
       "      <th>0</th>\n",
       "      <td>2016-07-01</td>\n",
       "      <td>a yearold woman in mexico city finally receive...</td>\n",
       "      <td>0.797911</td>\n",
       "      <td>0.202089</td>\n",
       "      <td>a yearold woman in mexico city finally receive...</td>\n",
       "      <td>a yearold woman in mexico city finally receive...</td>\n",
       "      <td>news_title_only</td>\n",
       "      <td>NA</td>\n",
       "      <td>2016-07-01</td>\n",
       "    </tr>\n",
       "    <tr>\n",
       "      <th>1</th>\n",
       "      <td>2016-07-01</td>\n",
       "      <td>imf chief backs athens as permanent olympic host</td>\n",
       "      <td>0.742425</td>\n",
       "      <td>0.257575</td>\n",
       "      <td>imf chief backs athens as permanent olympic host</td>\n",
       "      <td>imf chief backs athens as permanent olympic host</td>\n",
       "      <td>news_title_only</td>\n",
       "      <td>NA</td>\n",
       "      <td>2016-07-01</td>\n",
       "    </tr>\n",
       "    <tr>\n",
       "      <th>2</th>\n",
       "      <td>2016-07-01</td>\n",
       "      <td>the president of france says if brexit won so ...</td>\n",
       "      <td>0.753448</td>\n",
       "      <td>0.246552</td>\n",
       "      <td>the president of france says if brexit won so ...</td>\n",
       "      <td>the president of france says if brexit won so ...</td>\n",
       "      <td>news_title_only</td>\n",
       "      <td>NA</td>\n",
       "      <td>2016-07-01</td>\n",
       "    </tr>\n",
       "    <tr>\n",
       "      <th>3</th>\n",
       "      <td>2016-07-01</td>\n",
       "      <td>british man who must give police hours notice ...</td>\n",
       "      <td>0.770651</td>\n",
       "      <td>0.229349</td>\n",
       "      <td>british man who must give police hours notice ...</td>\n",
       "      <td>british man who must give police hours notice ...</td>\n",
       "      <td>news_title_only</td>\n",
       "      <td>NA</td>\n",
       "      <td>2016-07-01</td>\n",
       "    </tr>\n",
       "    <tr>\n",
       "      <th>4</th>\n",
       "      <td>2016-07-01</td>\n",
       "      <td>nobel laureates urge greenpeace to stop opposi...</td>\n",
       "      <td>0.755080</td>\n",
       "      <td>0.244920</td>\n",
       "      <td>nobel laureates urge greenpeace to stop opposi...</td>\n",
       "      <td>nobel laureates urge greenpeace to stop opposi...</td>\n",
       "      <td>news_title_only</td>\n",
       "      <td>NA</td>\n",
       "      <td>2016-07-01</td>\n",
       "    </tr>\n",
       "  </tbody>\n",
       "</table>\n",
       "</div>"
      ],
      "text/plain": [
       "        Date                                               News  \\\n",
       "0 2016-07-01  a yearold woman in mexico city finally receive...   \n",
       "1 2016-07-01   imf chief backs athens as permanent olympic host   \n",
       "2 2016-07-01  the president of france says if brexit won so ...   \n",
       "3 2016-07-01  british man who must give police hours notice ...   \n",
       "4 2016-07-01  nobel laureates urge greenpeace to stop opposi...   \n",
       "\n",
       "   news_negative_sentiment  news_positive_sentiment  \\\n",
       "0                 0.797911                 0.202089   \n",
       "1                 0.742425                 0.257575   \n",
       "2                 0.753448                 0.246552   \n",
       "3                 0.770651                 0.229349   \n",
       "4                 0.755080                 0.244920   \n",
       "\n",
       "                                               title  \\\n",
       "0  a yearold woman in mexico city finally receive...   \n",
       "1   imf chief backs athens as permanent olympic host   \n",
       "2  the president of france says if brexit won so ...   \n",
       "3  british man who must give police hours notice ...   \n",
       "4  nobel laureates urge greenpeace to stop opposi...   \n",
       "\n",
       "                                             content           source asset  \\\n",
       "0  a yearold woman in mexico city finally receive...  news_title_only    NA   \n",
       "1   imf chief backs athens as permanent olympic host  news_title_only    NA   \n",
       "2  the president of france says if brexit won so ...  news_title_only    NA   \n",
       "3  british man who must give police hours notice ...  news_title_only    NA   \n",
       "4  nobel laureates urge greenpeace to stop opposi...  news_title_only    NA   \n",
       "\n",
       "   timestamp  \n",
       "0 2016-07-01  \n",
       "1 2016-07-01  \n",
       "2 2016-07-01  \n",
       "3 2016-07-01  \n",
       "4 2016-07-01  "
      ]
     },
     "execution_count": 482,
     "metadata": {},
     "output_type": "execute_result"
    }
   ],
   "source": [
    "news.head()"
   ]
  },
  {
   "cell_type": "code",
   "execution_count": 483,
   "metadata": {},
   "outputs": [],
   "source": [
    "raw_cashcowputer_dataset = news[['timestamp','title','content','source','asset']]"
   ]
  },
  {
   "cell_type": "code",
   "execution_count": 484,
   "metadata": {},
   "outputs": [
    {
     "data": {
      "text/html": [
       "<div>\n",
       "<style scoped>\n",
       "    .dataframe tbody tr th:only-of-type {\n",
       "        vertical-align: middle;\n",
       "    }\n",
       "\n",
       "    .dataframe tbody tr th {\n",
       "        vertical-align: top;\n",
       "    }\n",
       "\n",
       "    .dataframe thead th {\n",
       "        text-align: right;\n",
       "    }\n",
       "</style>\n",
       "<table border=\"1\" class=\"dataframe\">\n",
       "  <thead>\n",
       "    <tr style=\"text-align: right;\">\n",
       "      <th></th>\n",
       "      <th>timestamp</th>\n",
       "      <th>title</th>\n",
       "      <th>content</th>\n",
       "      <th>source</th>\n",
       "      <th>asset</th>\n",
       "    </tr>\n",
       "  </thead>\n",
       "  <tbody>\n",
       "    <tr>\n",
       "      <th>0</th>\n",
       "      <td>2016-07-01</td>\n",
       "      <td>a yearold woman in mexico city finally receive...</td>\n",
       "      <td>a yearold woman in mexico city finally receive...</td>\n",
       "      <td>news_title_only</td>\n",
       "      <td>NA</td>\n",
       "    </tr>\n",
       "    <tr>\n",
       "      <th>1</th>\n",
       "      <td>2016-07-01</td>\n",
       "      <td>imf chief backs athens as permanent olympic host</td>\n",
       "      <td>imf chief backs athens as permanent olympic host</td>\n",
       "      <td>news_title_only</td>\n",
       "      <td>NA</td>\n",
       "    </tr>\n",
       "    <tr>\n",
       "      <th>2</th>\n",
       "      <td>2016-07-01</td>\n",
       "      <td>the president of france says if brexit won so ...</td>\n",
       "      <td>the president of france says if brexit won so ...</td>\n",
       "      <td>news_title_only</td>\n",
       "      <td>NA</td>\n",
       "    </tr>\n",
       "    <tr>\n",
       "      <th>3</th>\n",
       "      <td>2016-07-01</td>\n",
       "      <td>british man who must give police hours notice ...</td>\n",
       "      <td>british man who must give police hours notice ...</td>\n",
       "      <td>news_title_only</td>\n",
       "      <td>NA</td>\n",
       "    </tr>\n",
       "    <tr>\n",
       "      <th>4</th>\n",
       "      <td>2016-07-01</td>\n",
       "      <td>nobel laureates urge greenpeace to stop opposi...</td>\n",
       "      <td>nobel laureates urge greenpeace to stop opposi...</td>\n",
       "      <td>news_title_only</td>\n",
       "      <td>NA</td>\n",
       "    </tr>\n",
       "  </tbody>\n",
       "</table>\n",
       "</div>"
      ],
      "text/plain": [
       "   timestamp                                              title  \\\n",
       "0 2016-07-01  a yearold woman in mexico city finally receive...   \n",
       "1 2016-07-01   imf chief backs athens as permanent olympic host   \n",
       "2 2016-07-01  the president of france says if brexit won so ...   \n",
       "3 2016-07-01  british man who must give police hours notice ...   \n",
       "4 2016-07-01  nobel laureates urge greenpeace to stop opposi...   \n",
       "\n",
       "                                             content           source asset  \n",
       "0  a yearold woman in mexico city finally receive...  news_title_only    NA  \n",
       "1   imf chief backs athens as permanent olympic host  news_title_only    NA  \n",
       "2  the president of france says if brexit won so ...  news_title_only    NA  \n",
       "3  british man who must give police hours notice ...  news_title_only    NA  \n",
       "4  nobel laureates urge greenpeace to stop opposi...  news_title_only    NA  "
      ]
     },
     "execution_count": 484,
     "metadata": {},
     "output_type": "execute_result"
    }
   ],
   "source": [
    "raw_cashcowputer_dataset.head()"
   ]
  },
  {
   "cell_type": "markdown",
   "metadata": {},
   "source": [
    "### 1b. News (whole article) "
   ]
  },
  {
   "cell_type": "code",
   "execution_count": 535,
   "metadata": {},
   "outputs": [],
   "source": [
    "combined_news_data = pd.read_csv('./datasets/combined_newsdata.csv')"
   ]
  },
  {
   "cell_type": "code",
   "execution_count": 536,
   "metadata": {},
   "outputs": [],
   "source": [
    "combined_news_data.date_publish = pd.to_datetime(combined_news_data.date_publish)"
   ]
  },
  {
   "cell_type": "code",
   "execution_count": 537,
   "metadata": {},
   "outputs": [
    {
     "data": {
      "text/html": [
       "<div>\n",
       "<style scoped>\n",
       "    .dataframe tbody tr th:only-of-type {\n",
       "        vertical-align: middle;\n",
       "    }\n",
       "\n",
       "    .dataframe tbody tr th {\n",
       "        vertical-align: top;\n",
       "    }\n",
       "\n",
       "    .dataframe thead th {\n",
       "        text-align: right;\n",
       "    }\n",
       "</style>\n",
       "<table border=\"1\" class=\"dataframe\">\n",
       "  <thead>\n",
       "    <tr style=\"text-align: right;\">\n",
       "      <th></th>\n",
       "      <th>date_publish</th>\n",
       "      <th>title</th>\n",
       "      <th>text</th>\n",
       "    </tr>\n",
       "  </thead>\n",
       "  <tbody>\n",
       "    <tr>\n",
       "      <th>337764</th>\n",
       "      <td>2008-06-08</td>\n",
       "      <td>b'Man goes berzerk in Akihabara and stabs ever...</td>\n",
       "      <td>NaN</td>\n",
       "    </tr>\n",
       "    <tr>\n",
       "      <th>337765</th>\n",
       "      <td>2008-06-08</td>\n",
       "      <td>b'Threat of world AIDS pandemic among heterose...</td>\n",
       "      <td>NaN</td>\n",
       "    </tr>\n",
       "    <tr>\n",
       "      <th>337766</th>\n",
       "      <td>2008-06-08</td>\n",
       "      <td>b'Angst in Ankara: Turkey Steers into a Danger...</td>\n",
       "      <td>NaN</td>\n",
       "    </tr>\n",
       "    <tr>\n",
       "      <th>337767</th>\n",
       "      <td>2008-06-08</td>\n",
       "      <td>b\"UK: Identity cards 'could be used to spy on ...</td>\n",
       "      <td>NaN</td>\n",
       "    </tr>\n",
       "    <tr>\n",
       "      <th>337768</th>\n",
       "      <td>2008-06-08</td>\n",
       "      <td>b'Marriage, they said, was reduced to the stat...</td>\n",
       "      <td>NaN</td>\n",
       "    </tr>\n",
       "  </tbody>\n",
       "</table>\n",
       "</div>"
      ],
      "text/plain": [
       "       date_publish                                              title text\n",
       "337764   2008-06-08  b'Man goes berzerk in Akihabara and stabs ever...  NaN\n",
       "337765   2008-06-08  b'Threat of world AIDS pandemic among heterose...  NaN\n",
       "337766   2008-06-08  b'Angst in Ankara: Turkey Steers into a Danger...  NaN\n",
       "337767   2008-06-08  b\"UK: Identity cards 'could be used to spy on ...  NaN\n",
       "337768   2008-06-08  b'Marriage, they said, was reduced to the stat...  NaN"
      ]
     },
     "execution_count": 537,
     "metadata": {},
     "output_type": "execute_result"
    }
   ],
   "source": [
    "combined_news_data.tail()"
   ]
  },
  {
   "cell_type": "code",
   "execution_count": 538,
   "metadata": {},
   "outputs": [],
   "source": [
    "combined_news_data['timestamp'] = combined_news_data['date_publish'].dt.date"
   ]
  },
  {
   "cell_type": "code",
   "execution_count": 539,
   "metadata": {},
   "outputs": [
    {
     "data": {
      "text/html": [
       "<div>\n",
       "<style scoped>\n",
       "    .dataframe tbody tr th:only-of-type {\n",
       "        vertical-align: middle;\n",
       "    }\n",
       "\n",
       "    .dataframe tbody tr th {\n",
       "        vertical-align: top;\n",
       "    }\n",
       "\n",
       "    .dataframe thead th {\n",
       "        text-align: right;\n",
       "    }\n",
       "</style>\n",
       "<table border=\"1\" class=\"dataframe\">\n",
       "  <thead>\n",
       "    <tr style=\"text-align: right;\">\n",
       "      <th></th>\n",
       "      <th>date_publish</th>\n",
       "      <th>title</th>\n",
       "      <th>text</th>\n",
       "      <th>timestamp</th>\n",
       "    </tr>\n",
       "  </thead>\n",
       "  <tbody>\n",
       "    <tr>\n",
       "      <th>337764</th>\n",
       "      <td>2008-06-08</td>\n",
       "      <td>b'Man goes berzerk in Akihabara and stabs ever...</td>\n",
       "      <td>NaN</td>\n",
       "      <td>2008-06-08</td>\n",
       "    </tr>\n",
       "    <tr>\n",
       "      <th>337765</th>\n",
       "      <td>2008-06-08</td>\n",
       "      <td>b'Threat of world AIDS pandemic among heterose...</td>\n",
       "      <td>NaN</td>\n",
       "      <td>2008-06-08</td>\n",
       "    </tr>\n",
       "    <tr>\n",
       "      <th>337766</th>\n",
       "      <td>2008-06-08</td>\n",
       "      <td>b'Angst in Ankara: Turkey Steers into a Danger...</td>\n",
       "      <td>NaN</td>\n",
       "      <td>2008-06-08</td>\n",
       "    </tr>\n",
       "    <tr>\n",
       "      <th>337767</th>\n",
       "      <td>2008-06-08</td>\n",
       "      <td>b\"UK: Identity cards 'could be used to spy on ...</td>\n",
       "      <td>NaN</td>\n",
       "      <td>2008-06-08</td>\n",
       "    </tr>\n",
       "    <tr>\n",
       "      <th>337768</th>\n",
       "      <td>2008-06-08</td>\n",
       "      <td>b'Marriage, they said, was reduced to the stat...</td>\n",
       "      <td>NaN</td>\n",
       "      <td>2008-06-08</td>\n",
       "    </tr>\n",
       "  </tbody>\n",
       "</table>\n",
       "</div>"
      ],
      "text/plain": [
       "       date_publish                                              title text  \\\n",
       "337764   2008-06-08  b'Man goes berzerk in Akihabara and stabs ever...  NaN   \n",
       "337765   2008-06-08  b'Threat of world AIDS pandemic among heterose...  NaN   \n",
       "337766   2008-06-08  b'Angst in Ankara: Turkey Steers into a Danger...  NaN   \n",
       "337767   2008-06-08  b\"UK: Identity cards 'could be used to spy on ...  NaN   \n",
       "337768   2008-06-08  b'Marriage, they said, was reduced to the stat...  NaN   \n",
       "\n",
       "         timestamp  \n",
       "337764  2008-06-08  \n",
       "337765  2008-06-08  \n",
       "337766  2008-06-08  \n",
       "337767  2008-06-08  \n",
       "337768  2008-06-08  "
      ]
     },
     "execution_count": 539,
     "metadata": {},
     "output_type": "execute_result"
    }
   ],
   "source": [
    "combined_news_data.tail()"
   ]
  },
  {
   "cell_type": "code",
   "execution_count": 540,
   "metadata": {},
   "outputs": [
    {
     "data": {
      "text/html": [
       "<div>\n",
       "<style scoped>\n",
       "    .dataframe tbody tr th:only-of-type {\n",
       "        vertical-align: middle;\n",
       "    }\n",
       "\n",
       "    .dataframe tbody tr th {\n",
       "        vertical-align: top;\n",
       "    }\n",
       "\n",
       "    .dataframe thead th {\n",
       "        text-align: right;\n",
       "    }\n",
       "</style>\n",
       "<table border=\"1\" class=\"dataframe\">\n",
       "  <thead>\n",
       "    <tr style=\"text-align: right;\">\n",
       "      <th></th>\n",
       "      <th>date_publish</th>\n",
       "      <th>title</th>\n",
       "      <th>text</th>\n",
       "      <th>timestamp</th>\n",
       "    </tr>\n",
       "  </thead>\n",
       "  <tbody>\n",
       "    <tr>\n",
       "      <th>1878</th>\n",
       "      <td>2010-01-28 18:00:12</td>\n",
       "      <td>Brief: Tanami</td>\n",
       "      <td>NaN</td>\n",
       "      <td>2010-01-28</td>\n",
       "    </tr>\n",
       "    <tr>\n",
       "      <th>8471</th>\n",
       "      <td>2009-11-23 04:34:28</td>\n",
       "      <td>Brief: Quickstep Holdings</td>\n",
       "      <td>NaN</td>\n",
       "      <td>2009-11-23</td>\n",
       "    </tr>\n",
       "    <tr>\n",
       "      <th>9570</th>\n",
       "      <td>2017-07-07 00:00:00</td>\n",
       "      <td>Fairfax's Corbett on dollar, Abbott and Murdoc...</td>\n",
       "      <td>NaN</td>\n",
       "      <td>2017-07-07</td>\n",
       "    </tr>\n",
       "    <tr>\n",
       "      <th>15488</th>\n",
       "      <td>2015-08-20 00:00:00</td>\n",
       "      <td>Qantas results - forget cheap fares</td>\n",
       "      <td>NaN</td>\n",
       "      <td>2015-08-20</td>\n",
       "    </tr>\n",
       "    <tr>\n",
       "      <th>15644</th>\n",
       "      <td>2015-08-07 00:00:00</td>\n",
       "      <td>Virgin offloads Bali flights to Tiger</td>\n",
       "      <td>NaN</td>\n",
       "      <td>2015-08-07</td>\n",
       "    </tr>\n",
       "    <tr>\n",
       "      <th>...</th>\n",
       "      <td>...</td>\n",
       "      <td>...</td>\n",
       "      <td>...</td>\n",
       "      <td>...</td>\n",
       "    </tr>\n",
       "    <tr>\n",
       "      <th>337764</th>\n",
       "      <td>2008-06-08 00:00:00</td>\n",
       "      <td>b'Man goes berzerk in Akihabara and stabs ever...</td>\n",
       "      <td>NaN</td>\n",
       "      <td>2008-06-08</td>\n",
       "    </tr>\n",
       "    <tr>\n",
       "      <th>337765</th>\n",
       "      <td>2008-06-08 00:00:00</td>\n",
       "      <td>b'Threat of world AIDS pandemic among heterose...</td>\n",
       "      <td>NaN</td>\n",
       "      <td>2008-06-08</td>\n",
       "    </tr>\n",
       "    <tr>\n",
       "      <th>337766</th>\n",
       "      <td>2008-06-08 00:00:00</td>\n",
       "      <td>b'Angst in Ankara: Turkey Steers into a Danger...</td>\n",
       "      <td>NaN</td>\n",
       "      <td>2008-06-08</td>\n",
       "    </tr>\n",
       "    <tr>\n",
       "      <th>337767</th>\n",
       "      <td>2008-06-08 00:00:00</td>\n",
       "      <td>b\"UK: Identity cards 'could be used to spy on ...</td>\n",
       "      <td>NaN</td>\n",
       "      <td>2008-06-08</td>\n",
       "    </tr>\n",
       "    <tr>\n",
       "      <th>337768</th>\n",
       "      <td>2008-06-08 00:00:00</td>\n",
       "      <td>b'Marriage, they said, was reduced to the stat...</td>\n",
       "      <td>NaN</td>\n",
       "      <td>2008-06-08</td>\n",
       "    </tr>\n",
       "  </tbody>\n",
       "</table>\n",
       "<p>73665 rows × 4 columns</p>\n",
       "</div>"
      ],
      "text/plain": [
       "              date_publish                                              title  \\\n",
       "1878   2010-01-28 18:00:12                                      Brief: Tanami   \n",
       "8471   2009-11-23 04:34:28                          Brief: Quickstep Holdings   \n",
       "9570   2017-07-07 00:00:00  Fairfax's Corbett on dollar, Abbott and Murdoc...   \n",
       "15488  2015-08-20 00:00:00                Qantas results - forget cheap fares   \n",
       "15644  2015-08-07 00:00:00              Virgin offloads Bali flights to Tiger   \n",
       "...                    ...                                                ...   \n",
       "337764 2008-06-08 00:00:00  b'Man goes berzerk in Akihabara and stabs ever...   \n",
       "337765 2008-06-08 00:00:00  b'Threat of world AIDS pandemic among heterose...   \n",
       "337766 2008-06-08 00:00:00  b'Angst in Ankara: Turkey Steers into a Danger...   \n",
       "337767 2008-06-08 00:00:00  b\"UK: Identity cards 'could be used to spy on ...   \n",
       "337768 2008-06-08 00:00:00  b'Marriage, they said, was reduced to the stat...   \n",
       "\n",
       "       text   timestamp  \n",
       "1878    NaN  2010-01-28  \n",
       "8471    NaN  2009-11-23  \n",
       "9570    NaN  2017-07-07  \n",
       "15488   NaN  2015-08-20  \n",
       "15644   NaN  2015-08-07  \n",
       "...     ...         ...  \n",
       "337764  NaN  2008-06-08  \n",
       "337765  NaN  2008-06-08  \n",
       "337766  NaN  2008-06-08  \n",
       "337767  NaN  2008-06-08  \n",
       "337768  NaN  2008-06-08  \n",
       "\n",
       "[73665 rows x 4 columns]"
      ]
     },
     "execution_count": 540,
     "metadata": {},
     "output_type": "execute_result"
    }
   ],
   "source": [
    "combined_news_data[combined_news_data['text'].isna()]"
   ]
  },
  {
   "cell_type": "code",
   "execution_count": 513,
   "metadata": {},
   "outputs": [
    {
     "data": {
      "text/plain": [
       "0         adrian turner explains how tesla is beating do...\n",
       "1         afr business summit australian of the year mic...\n",
       "2         afr business summit day kenneth rogoff hamish ...\n",
       "3         afr business summit day how the summit wrapped up\n",
       "4         afr business summit dennis richardson on china...\n",
       "                                ...                        \n",
       "337764    bman goes berzerk in akihabara and stabs every...\n",
       "337765    bthreat of world aids pandemic among heterosex...\n",
       "337766    bangst in ankara turkey steers into a dangerou...\n",
       "337767    buk identity cards could be used to spy on peo...\n",
       "337768    bmarriage they said was reduced to the status ...\n",
       "Name: title, Length: 337769, dtype: object"
      ]
     },
     "execution_count": 513,
     "metadata": {},
     "output_type": "execute_result"
    }
   ],
   "source": [
    "combined_news_data['title'].apply(pre_process_news)"
   ]
  },
  {
   "cell_type": "code",
   "execution_count": 516,
   "metadata": {},
   "outputs": [
    {
     "data": {
      "text/plain": [
       "0         data chief executive adrian turner tells the a...\n",
       "1         australias leading quantum computing scientist...\n",
       "2         a question for the panel from the floor direct...\n",
       "3         and that is it for the financial review busine...\n",
       "4         dennis richardson former head of the departmen...\n",
       "                                ...                        \n",
       "337764                                                  nan\n",
       "337765                                                  nan\n",
       "337766                                                  nan\n",
       "337767                                                  nan\n",
       "337768                                                  nan\n",
       "Name: text, Length: 337769, dtype: object"
      ]
     },
     "execution_count": 516,
     "metadata": {},
     "output_type": "execute_result"
    }
   ],
   "source": [
    "combined_news_data['text'].apply(lambda x: pre_process_news(str(x)) if x != None else x)"
   ]
  },
  {
   "cell_type": "code",
   "execution_count": 541,
   "metadata": {},
   "outputs": [],
   "source": [
    "combined_news_data['source'] = combined_news_data['text'].apply(lambda x: 'news_title_only' if type(x) == float and np.isnan(x) else 'news_full')"
   ]
  },
  {
   "cell_type": "code",
   "execution_count": 542,
   "metadata": {},
   "outputs": [
    {
     "data": {
      "text/html": [
       "<div>\n",
       "<style scoped>\n",
       "    .dataframe tbody tr th:only-of-type {\n",
       "        vertical-align: middle;\n",
       "    }\n",
       "\n",
       "    .dataframe tbody tr th {\n",
       "        vertical-align: top;\n",
       "    }\n",
       "\n",
       "    .dataframe thead th {\n",
       "        text-align: right;\n",
       "    }\n",
       "</style>\n",
       "<table border=\"1\" class=\"dataframe\">\n",
       "  <thead>\n",
       "    <tr style=\"text-align: right;\">\n",
       "      <th></th>\n",
       "      <th>date_publish</th>\n",
       "      <th>title</th>\n",
       "      <th>text</th>\n",
       "      <th>timestamp</th>\n",
       "      <th>source</th>\n",
       "    </tr>\n",
       "  </thead>\n",
       "  <tbody>\n",
       "    <tr>\n",
       "      <th>337764</th>\n",
       "      <td>2008-06-08</td>\n",
       "      <td>b'Man goes berzerk in Akihabara and stabs ever...</td>\n",
       "      <td>NaN</td>\n",
       "      <td>2008-06-08</td>\n",
       "      <td>news_title_only</td>\n",
       "    </tr>\n",
       "    <tr>\n",
       "      <th>337765</th>\n",
       "      <td>2008-06-08</td>\n",
       "      <td>b'Threat of world AIDS pandemic among heterose...</td>\n",
       "      <td>NaN</td>\n",
       "      <td>2008-06-08</td>\n",
       "      <td>news_title_only</td>\n",
       "    </tr>\n",
       "    <tr>\n",
       "      <th>337766</th>\n",
       "      <td>2008-06-08</td>\n",
       "      <td>b'Angst in Ankara: Turkey Steers into a Danger...</td>\n",
       "      <td>NaN</td>\n",
       "      <td>2008-06-08</td>\n",
       "      <td>news_title_only</td>\n",
       "    </tr>\n",
       "    <tr>\n",
       "      <th>337767</th>\n",
       "      <td>2008-06-08</td>\n",
       "      <td>b\"UK: Identity cards 'could be used to spy on ...</td>\n",
       "      <td>NaN</td>\n",
       "      <td>2008-06-08</td>\n",
       "      <td>news_title_only</td>\n",
       "    </tr>\n",
       "    <tr>\n",
       "      <th>337768</th>\n",
       "      <td>2008-06-08</td>\n",
       "      <td>b'Marriage, they said, was reduced to the stat...</td>\n",
       "      <td>NaN</td>\n",
       "      <td>2008-06-08</td>\n",
       "      <td>news_title_only</td>\n",
       "    </tr>\n",
       "  </tbody>\n",
       "</table>\n",
       "</div>"
      ],
      "text/plain": [
       "       date_publish                                              title text  \\\n",
       "337764   2008-06-08  b'Man goes berzerk in Akihabara and stabs ever...  NaN   \n",
       "337765   2008-06-08  b'Threat of world AIDS pandemic among heterose...  NaN   \n",
       "337766   2008-06-08  b'Angst in Ankara: Turkey Steers into a Danger...  NaN   \n",
       "337767   2008-06-08  b\"UK: Identity cards 'could be used to spy on ...  NaN   \n",
       "337768   2008-06-08  b'Marriage, they said, was reduced to the stat...  NaN   \n",
       "\n",
       "         timestamp           source  \n",
       "337764  2008-06-08  news_title_only  \n",
       "337765  2008-06-08  news_title_only  \n",
       "337766  2008-06-08  news_title_only  \n",
       "337767  2008-06-08  news_title_only  \n",
       "337768  2008-06-08  news_title_only  "
      ]
     },
     "execution_count": 542,
     "metadata": {},
     "output_type": "execute_result"
    }
   ],
   "source": [
    "combined_news_data.tail()"
   ]
  },
  {
   "cell_type": "code",
   "execution_count": 543,
   "metadata": {},
   "outputs": [],
   "source": [
    "combined_news_data['title'] = combined_news_data['title'].apply(pre_process_news)"
   ]
  },
  {
   "cell_type": "code",
   "execution_count": 544,
   "metadata": {},
   "outputs": [],
   "source": [
    "combined_news_data['content'] = combined_news_data['text'].apply(lambda x: pre_process_news(str(x)) if x != None else x)"
   ]
  },
  {
   "cell_type": "code",
   "execution_count": 545,
   "metadata": {},
   "outputs": [
    {
     "data": {
      "text/html": [
       "<div>\n",
       "<style scoped>\n",
       "    .dataframe tbody tr th:only-of-type {\n",
       "        vertical-align: middle;\n",
       "    }\n",
       "\n",
       "    .dataframe tbody tr th {\n",
       "        vertical-align: top;\n",
       "    }\n",
       "\n",
       "    .dataframe thead th {\n",
       "        text-align: right;\n",
       "    }\n",
       "</style>\n",
       "<table border=\"1\" class=\"dataframe\">\n",
       "  <thead>\n",
       "    <tr style=\"text-align: right;\">\n",
       "      <th></th>\n",
       "      <th>date_publish</th>\n",
       "      <th>title</th>\n",
       "      <th>text</th>\n",
       "      <th>timestamp</th>\n",
       "      <th>source</th>\n",
       "      <th>content</th>\n",
       "    </tr>\n",
       "  </thead>\n",
       "  <tbody>\n",
       "    <tr>\n",
       "      <th>337764</th>\n",
       "      <td>2008-06-08</td>\n",
       "      <td>man goes berzerk in akihabara and stabs everyo...</td>\n",
       "      <td>NaN</td>\n",
       "      <td>2008-06-08</td>\n",
       "      <td>news_title_only</td>\n",
       "      <td>nan</td>\n",
       "    </tr>\n",
       "    <tr>\n",
       "      <th>337765</th>\n",
       "      <td>2008-06-08</td>\n",
       "      <td>threat of world aids pandemic among heterosexu...</td>\n",
       "      <td>NaN</td>\n",
       "      <td>2008-06-08</td>\n",
       "      <td>news_title_only</td>\n",
       "      <td>nan</td>\n",
       "    </tr>\n",
       "    <tr>\n",
       "      <th>337766</th>\n",
       "      <td>2008-06-08</td>\n",
       "      <td>angst in ankara turkey steers into a dangerous...</td>\n",
       "      <td>NaN</td>\n",
       "      <td>2008-06-08</td>\n",
       "      <td>news_title_only</td>\n",
       "      <td>nan</td>\n",
       "    </tr>\n",
       "    <tr>\n",
       "      <th>337767</th>\n",
       "      <td>2008-06-08</td>\n",
       "      <td>uk identity cards could be used to spy on peop...</td>\n",
       "      <td>NaN</td>\n",
       "      <td>2008-06-08</td>\n",
       "      <td>news_title_only</td>\n",
       "      <td>nan</td>\n",
       "    </tr>\n",
       "    <tr>\n",
       "      <th>337768</th>\n",
       "      <td>2008-06-08</td>\n",
       "      <td>marriage they said was reduced to the status o...</td>\n",
       "      <td>NaN</td>\n",
       "      <td>2008-06-08</td>\n",
       "      <td>news_title_only</td>\n",
       "      <td>nan</td>\n",
       "    </tr>\n",
       "  </tbody>\n",
       "</table>\n",
       "</div>"
      ],
      "text/plain": [
       "       date_publish                                              title text  \\\n",
       "337764   2008-06-08  man goes berzerk in akihabara and stabs everyo...  NaN   \n",
       "337765   2008-06-08  threat of world aids pandemic among heterosexu...  NaN   \n",
       "337766   2008-06-08  angst in ankara turkey steers into a dangerous...  NaN   \n",
       "337767   2008-06-08  uk identity cards could be used to spy on peop...  NaN   \n",
       "337768   2008-06-08  marriage they said was reduced to the status o...  NaN   \n",
       "\n",
       "         timestamp           source content  \n",
       "337764  2008-06-08  news_title_only     nan  \n",
       "337765  2008-06-08  news_title_only     nan  \n",
       "337766  2008-06-08  news_title_only     nan  \n",
       "337767  2008-06-08  news_title_only     nan  \n",
       "337768  2008-06-08  news_title_only     nan  "
      ]
     },
     "execution_count": 545,
     "metadata": {},
     "output_type": "execute_result"
    }
   ],
   "source": [
    "combined_news_data.tail()"
   ]
  },
  {
   "cell_type": "code",
   "execution_count": 546,
   "metadata": {},
   "outputs": [
    {
     "data": {
      "text/html": [
       "<div>\n",
       "<style scoped>\n",
       "    .dataframe tbody tr th:only-of-type {\n",
       "        vertical-align: middle;\n",
       "    }\n",
       "\n",
       "    .dataframe tbody tr th {\n",
       "        vertical-align: top;\n",
       "    }\n",
       "\n",
       "    .dataframe thead th {\n",
       "        text-align: right;\n",
       "    }\n",
       "</style>\n",
       "<table border=\"1\" class=\"dataframe\">\n",
       "  <thead>\n",
       "    <tr style=\"text-align: right;\">\n",
       "      <th></th>\n",
       "      <th>date_publish</th>\n",
       "      <th>title</th>\n",
       "      <th>text</th>\n",
       "      <th>timestamp</th>\n",
       "      <th>source</th>\n",
       "      <th>content</th>\n",
       "    </tr>\n",
       "  </thead>\n",
       "  <tbody>\n",
       "    <tr>\n",
       "      <th>0</th>\n",
       "      <td>2017-03-21 12:45:00</td>\n",
       "      <td>adrian turner explains how tesla is beating do...</td>\n",
       "      <td>Data 61 chief executive Adrian Turner tells Th...</td>\n",
       "      <td>2017-03-21</td>\n",
       "      <td>news_full</td>\n",
       "      <td>data chief executive adrian turner tells the a...</td>\n",
       "    </tr>\n",
       "    <tr>\n",
       "      <th>1</th>\n",
       "      <td>2018-02-16 04:07:09</td>\n",
       "      <td>afr business summit australian of the year mic...</td>\n",
       "      <td>Australia's leading quantum computing scientis...</td>\n",
       "      <td>2018-02-16</td>\n",
       "      <td>news_full</td>\n",
       "      <td>australias leading quantum computing scientist...</td>\n",
       "    </tr>\n",
       "    <tr>\n",
       "      <th>2</th>\n",
       "      <td>2018-03-05 02:42:00</td>\n",
       "      <td>afr business summit day kenneth rogoff hamish ...</td>\n",
       "      <td>A question for the panel from the floor; direc...</td>\n",
       "      <td>2018-03-05</td>\n",
       "      <td>news_full</td>\n",
       "      <td>a question for the panel from the floor direct...</td>\n",
       "    </tr>\n",
       "    <tr>\n",
       "      <th>3</th>\n",
       "      <td>2019-03-05 08:44:00</td>\n",
       "      <td>afr business summit day how the summit wrapped up</td>\n",
       "      <td>And that's it for the 2019 Financial Review Bu...</td>\n",
       "      <td>2019-03-05</td>\n",
       "      <td>news_full</td>\n",
       "      <td>and that is it for the financial review busine...</td>\n",
       "    </tr>\n",
       "    <tr>\n",
       "      <th>4</th>\n",
       "      <td>2018-03-19 12:00:00</td>\n",
       "      <td>afr business summit dennis richardson on china...</td>\n",
       "      <td>Dennis Richardson, former head of the Departme...</td>\n",
       "      <td>2018-03-19</td>\n",
       "      <td>news_full</td>\n",
       "      <td>dennis richardson former head of the departmen...</td>\n",
       "    </tr>\n",
       "  </tbody>\n",
       "</table>\n",
       "</div>"
      ],
      "text/plain": [
       "         date_publish                                              title  \\\n",
       "0 2017-03-21 12:45:00  adrian turner explains how tesla is beating do...   \n",
       "1 2018-02-16 04:07:09  afr business summit australian of the year mic...   \n",
       "2 2018-03-05 02:42:00  afr business summit day kenneth rogoff hamish ...   \n",
       "3 2019-03-05 08:44:00  afr business summit day how the summit wrapped up   \n",
       "4 2018-03-19 12:00:00  afr business summit dennis richardson on china...   \n",
       "\n",
       "                                                text   timestamp     source  \\\n",
       "0  Data 61 chief executive Adrian Turner tells Th...  2017-03-21  news_full   \n",
       "1  Australia's leading quantum computing scientis...  2018-02-16  news_full   \n",
       "2  A question for the panel from the floor; direc...  2018-03-05  news_full   \n",
       "3  And that's it for the 2019 Financial Review Bu...  2019-03-05  news_full   \n",
       "4  Dennis Richardson, former head of the Departme...  2018-03-19  news_full   \n",
       "\n",
       "                                             content  \n",
       "0  data chief executive adrian turner tells the a...  \n",
       "1  australias leading quantum computing scientist...  \n",
       "2  a question for the panel from the floor direct...  \n",
       "3  and that is it for the financial review busine...  \n",
       "4  dennis richardson former head of the departmen...  "
      ]
     },
     "execution_count": 546,
     "metadata": {},
     "output_type": "execute_result"
    }
   ],
   "source": [
    "combined_news_data.head()"
   ]
  },
  {
   "cell_type": "code",
   "execution_count": 562,
   "metadata": {},
   "outputs": [],
   "source": [
    "combined_news_data.sort_values(by=['timestamp'],inplace=True)"
   ]
  },
  {
   "cell_type": "code",
   "execution_count": 563,
   "metadata": {},
   "outputs": [],
   "source": [
    "to_store_combined_news_data = combined_news_data[['timestamp','title','content','source']]"
   ]
  },
  {
   "cell_type": "code",
   "execution_count": 564,
   "metadata": {},
   "outputs": [
    {
     "data": {
      "text/html": [
       "<div>\n",
       "<style scoped>\n",
       "    .dataframe tbody tr th:only-of-type {\n",
       "        vertical-align: middle;\n",
       "    }\n",
       "\n",
       "    .dataframe tbody tr th {\n",
       "        vertical-align: top;\n",
       "    }\n",
       "\n",
       "    .dataframe thead th {\n",
       "        text-align: right;\n",
       "    }\n",
       "</style>\n",
       "<table border=\"1\" class=\"dataframe\">\n",
       "  <thead>\n",
       "    <tr style=\"text-align: right;\">\n",
       "      <th></th>\n",
       "      <th>timestamp</th>\n",
       "      <th>title</th>\n",
       "      <th>content</th>\n",
       "      <th>source</th>\n",
       "    </tr>\n",
       "  </thead>\n",
       "  <tbody>\n",
       "    <tr>\n",
       "      <th>27100</th>\n",
       "      <td>1987-12-14</td>\n",
       "      <td>in the best of all possible worlds workers des...</td>\n",
       "      <td>beds must be provided to suit the peccadilloes...</td>\n",
       "      <td>news_full</td>\n",
       "    </tr>\n",
       "    <tr>\n",
       "      <th>32513</th>\n",
       "      <td>1988-01-08</td>\n",
       "      <td>regular shorts</td>\n",
       "      <td>greenies claim to votes a myth sir in the late...</td>\n",
       "      <td>news_full</td>\n",
       "    </tr>\n",
       "    <tr>\n",
       "      <th>26294</th>\n",
       "      <td>1988-04-06</td>\n",
       "      <td>for financial review letterbox for p edition l...</td>\n",
       "      <td>these pages are the opinion section of the aus...</td>\n",
       "      <td>news_full</td>\n",
       "    </tr>\n",
       "    <tr>\n",
       "      <th>23674</th>\n",
       "      <td>1988-09-23</td>\n",
       "      <td>annuities lousy investments</td>\n",
       "      <td>residual return bonus return bonus value guara...</td>\n",
       "      <td>news_full</td>\n",
       "    </tr>\n",
       "    <tr>\n",
       "      <th>27765</th>\n",
       "      <td>1989-10-31</td>\n",
       "      <td>the latest m buy australian campaign flogs a l...</td>\n",
       "      <td>the instruction to buy australian has a long b...</td>\n",
       "      <td>news_full</td>\n",
       "    </tr>\n",
       "  </tbody>\n",
       "</table>\n",
       "</div>"
      ],
      "text/plain": [
       "        timestamp                                              title  \\\n",
       "27100  1987-12-14  in the best of all possible worlds workers des...   \n",
       "32513  1988-01-08                                     regular shorts   \n",
       "26294  1988-04-06  for financial review letterbox for p edition l...   \n",
       "23674  1988-09-23                        annuities lousy investments   \n",
       "27765  1989-10-31  the latest m buy australian campaign flogs a l...   \n",
       "\n",
       "                                                 content     source  \n",
       "27100  beds must be provided to suit the peccadilloes...  news_full  \n",
       "32513  greenies claim to votes a myth sir in the late...  news_full  \n",
       "26294  these pages are the opinion section of the aus...  news_full  \n",
       "23674  residual return bonus return bonus value guara...  news_full  \n",
       "27765  the instruction to buy australian has a long b...  news_full  "
      ]
     },
     "execution_count": 564,
     "metadata": {},
     "output_type": "execute_result"
    }
   ],
   "source": [
    "to_store_combined_news_data.head()"
   ]
  },
  {
   "cell_type": "code",
   "execution_count": 569,
   "metadata": {},
   "outputs": [
    {
     "data": {
      "text/html": [
       "<div>\n",
       "<style scoped>\n",
       "    .dataframe tbody tr th:only-of-type {\n",
       "        vertical-align: middle;\n",
       "    }\n",
       "\n",
       "    .dataframe tbody tr th {\n",
       "        vertical-align: top;\n",
       "    }\n",
       "\n",
       "    .dataframe thead th {\n",
       "        text-align: right;\n",
       "    }\n",
       "</style>\n",
       "<table border=\"1\" class=\"dataframe\">\n",
       "  <thead>\n",
       "    <tr style=\"text-align: right;\">\n",
       "      <th></th>\n",
       "      <th>timestamp</th>\n",
       "      <th>title</th>\n",
       "      <th>content</th>\n",
       "      <th>source</th>\n",
       "    </tr>\n",
       "  </thead>\n",
       "  <tbody>\n",
       "    <tr>\n",
       "      <th>237911</th>\n",
       "      <td>2014-01-01</td>\n",
       "      <td>business insider</td>\n",
       "      <td>back in clement c moore published the classic ...</td>\n",
       "      <td>news_full</td>\n",
       "    </tr>\n",
       "    <tr>\n",
       "      <th>257605</th>\n",
       "      <td>2014-01-01</td>\n",
       "      <td>business insider</td>\n",
       "      <td>how much do million turkeys weigh that is the ...</td>\n",
       "      <td>news_full</td>\n",
       "    </tr>\n",
       "    <tr>\n",
       "      <th>240232</th>\n",
       "      <td>2014-01-01</td>\n",
       "      <td>business insider</td>\n",
       "      <td>it is thanksgiving week once again and here at...</td>\n",
       "      <td>news_full</td>\n",
       "    </tr>\n",
       "    <tr>\n",
       "      <th>140287</th>\n",
       "      <td>2014-01-01</td>\n",
       "      <td>business insider</td>\n",
       "      <td>if you take time to think about it the sun is ...</td>\n",
       "      <td>news_full</td>\n",
       "    </tr>\n",
       "    <tr>\n",
       "      <th>184880</th>\n",
       "      <td>2014-01-01</td>\n",
       "      <td>business insider</td>\n",
       "      <td>now that it is the day after thanksgiving when...</td>\n",
       "      <td>news_full</td>\n",
       "    </tr>\n",
       "    <tr>\n",
       "      <th>...</th>\n",
       "      <td>...</td>\n",
       "      <td>...</td>\n",
       "      <td>...</td>\n",
       "      <td>...</td>\n",
       "    </tr>\n",
       "    <tr>\n",
       "      <th>249557</th>\n",
       "      <td>2016-12-30</td>\n",
       "      <td>trump putin very smart for not responding to s...</td>\n",
       "      <td>donald trump ralph fresogetty images president...</td>\n",
       "      <td>news_full</td>\n",
       "    </tr>\n",
       "    <tr>\n",
       "      <th>184487</th>\n",
       "      <td>2016-12-30</td>\n",
       "      <td>inside the section of the white house where th...</td>\n",
       "      <td>the white house has provided a look at the exe...</td>\n",
       "      <td>news_full</td>\n",
       "    </tr>\n",
       "    <tr>\n",
       "      <th>209134</th>\n",
       "      <td>2016-12-31</td>\n",
       "      <td>obamas hesitant approach to foreign policy res...</td>\n",
       "      <td>you s president barack obama pauses during a n...</td>\n",
       "      <td>news_full</td>\n",
       "    </tr>\n",
       "    <tr>\n",
       "      <th>13283</th>\n",
       "      <td>2016-12-31</td>\n",
       "      <td>dick smiths demise leaves indelible mark on re...</td>\n",
       "      <td>at kogan com founder ruslan kogans decision to...</td>\n",
       "      <td>news_full</td>\n",
       "    </tr>\n",
       "    <tr>\n",
       "      <th>208953</th>\n",
       "      <td>2016-12-31</td>\n",
       "      <td>obamacare repeal and replace will not work</td>\n",
       "      <td>mitch mcconnell tim murphy paul ryan cliff owe...</td>\n",
       "      <td>news_full</td>\n",
       "    </tr>\n",
       "  </tbody>\n",
       "</table>\n",
       "<p>100091 rows × 4 columns</p>\n",
       "</div>"
      ],
      "text/plain": [
       "         timestamp                                              title  \\\n",
       "237911  2014-01-01                                   business insider   \n",
       "257605  2014-01-01                                   business insider   \n",
       "240232  2014-01-01                                   business insider   \n",
       "140287  2014-01-01                                   business insider   \n",
       "184880  2014-01-01                                   business insider   \n",
       "...            ...                                                ...   \n",
       "249557  2016-12-30  trump putin very smart for not responding to s...   \n",
       "184487  2016-12-30  inside the section of the white house where th...   \n",
       "209134  2016-12-31  obamas hesitant approach to foreign policy res...   \n",
       "13283   2016-12-31  dick smiths demise leaves indelible mark on re...   \n",
       "208953  2016-12-31         obamacare repeal and replace will not work   \n",
       "\n",
       "                                                  content     source  \n",
       "237911  back in clement c moore published the classic ...  news_full  \n",
       "257605  how much do million turkeys weigh that is the ...  news_full  \n",
       "240232  it is thanksgiving week once again and here at...  news_full  \n",
       "140287  if you take time to think about it the sun is ...  news_full  \n",
       "184880  now that it is the day after thanksgiving when...  news_full  \n",
       "...                                                   ...        ...  \n",
       "249557  donald trump ralph fresogetty images president...  news_full  \n",
       "184487  the white house has provided a look at the exe...  news_full  \n",
       "209134  you s president barack obama pauses during a n...  news_full  \n",
       "13283   at kogan com founder ruslan kogans decision to...  news_full  \n",
       "208953  mitch mcconnell tim murphy paul ryan cliff owe...  news_full  \n",
       "\n",
       "[100091 rows x 4 columns]"
      ]
     },
     "execution_count": 569,
     "metadata": {},
     "output_type": "execute_result"
    }
   ],
   "source": [
    "to_store_combined_news_data[(to_store_combined_news_data['timestamp'] > pd.to_datetime('2013-12-31')) & (to_store_combined_news_data['timestamp'] < pd.to_datetime('2017-01-01'))]"
   ]
  },
  {
   "cell_type": "code",
   "execution_count": 570,
   "metadata": {},
   "outputs": [],
   "source": [
    "to_store_combined_news_data[(to_store_combined_news_data['timestamp'] > pd.to_datetime('2013-12-31')) & (to_store_combined_news_data['timestamp'] < pd.to_datetime('2017-01-01'))].to_csv('./datasets/cashcowputer-dataset/preprocessed/news/news.csv',index=False)"
   ]
  },
  {
   "cell_type": "code",
   "execution_count": 571,
   "metadata": {},
   "outputs": [
    {
     "data": {
      "text/html": [
       "<div>\n",
       "<style scoped>\n",
       "    .dataframe tbody tr th:only-of-type {\n",
       "        vertical-align: middle;\n",
       "    }\n",
       "\n",
       "    .dataframe tbody tr th {\n",
       "        vertical-align: top;\n",
       "    }\n",
       "\n",
       "    .dataframe thead th {\n",
       "        text-align: right;\n",
       "    }\n",
       "</style>\n",
       "<table border=\"1\" class=\"dataframe\">\n",
       "  <thead>\n",
       "    <tr style=\"text-align: right;\">\n",
       "      <th></th>\n",
       "      <th>timestamp</th>\n",
       "      <th>title</th>\n",
       "      <th>content</th>\n",
       "      <th>source</th>\n",
       "    </tr>\n",
       "  </thead>\n",
       "  <tbody>\n",
       "    <tr>\n",
       "      <th>100086</th>\n",
       "      <td>2016-12-30</td>\n",
       "      <td>trump putin very smart for not responding to s...</td>\n",
       "      <td>donald trump ralph fresogetty images president...</td>\n",
       "      <td>news_full</td>\n",
       "    </tr>\n",
       "    <tr>\n",
       "      <th>100087</th>\n",
       "      <td>2016-12-30</td>\n",
       "      <td>inside the section of the white house where th...</td>\n",
       "      <td>the white house has provided a look at the exe...</td>\n",
       "      <td>news_full</td>\n",
       "    </tr>\n",
       "    <tr>\n",
       "      <th>100088</th>\n",
       "      <td>2016-12-31</td>\n",
       "      <td>obamas hesitant approach to foreign policy res...</td>\n",
       "      <td>you s president barack obama pauses during a n...</td>\n",
       "      <td>news_full</td>\n",
       "    </tr>\n",
       "    <tr>\n",
       "      <th>100089</th>\n",
       "      <td>2016-12-31</td>\n",
       "      <td>dick smiths demise leaves indelible mark on re...</td>\n",
       "      <td>at kogan com founder ruslan kogans decision to...</td>\n",
       "      <td>news_full</td>\n",
       "    </tr>\n",
       "    <tr>\n",
       "      <th>100090</th>\n",
       "      <td>2016-12-31</td>\n",
       "      <td>obamacare repeal and replace will not work</td>\n",
       "      <td>mitch mcconnell tim murphy paul ryan cliff owe...</td>\n",
       "      <td>news_full</td>\n",
       "    </tr>\n",
       "  </tbody>\n",
       "</table>\n",
       "</div>"
      ],
      "text/plain": [
       "         timestamp                                              title  \\\n",
       "100086  2016-12-30  trump putin very smart for not responding to s...   \n",
       "100087  2016-12-30  inside the section of the white house where th...   \n",
       "100088  2016-12-31  obamas hesitant approach to foreign policy res...   \n",
       "100089  2016-12-31  dick smiths demise leaves indelible mark on re...   \n",
       "100090  2016-12-31         obamacare repeal and replace will not work   \n",
       "\n",
       "                                                  content     source  \n",
       "100086  donald trump ralph fresogetty images president...  news_full  \n",
       "100087  the white house has provided a look at the exe...  news_full  \n",
       "100088  you s president barack obama pauses during a n...  news_full  \n",
       "100089  at kogan com founder ruslan kogans decision to...  news_full  \n",
       "100090  mitch mcconnell tim murphy paul ryan cliff owe...  news_full  "
      ]
     },
     "execution_count": 571,
     "metadata": {},
     "output_type": "execute_result"
    }
   ],
   "source": [
    "temp = pd.read_csv('./datasets/cashcowputer-dataset/preprocessed/news/news.csv')\n",
    "temp.tail()"
   ]
  },
  {
   "cell_type": "markdown",
   "metadata": {},
   "source": [
    "### 2. Tweets"
   ]
  },
  {
   "cell_type": "code",
   "execution_count": 423,
   "metadata": {},
   "outputs": [],
   "source": [
    "tweets = pd.read_json('./datasets/stocknet-dataset/tweet/raw/AAPL/2014-01-01',lines=True)"
   ]
  },
  {
   "cell_type": "code",
   "execution_count": 424,
   "metadata": {},
   "outputs": [
    {
     "data": {
      "text/html": [
       "<div>\n",
       "<style scoped>\n",
       "    .dataframe tbody tr th:only-of-type {\n",
       "        vertical-align: middle;\n",
       "    }\n",
       "\n",
       "    .dataframe tbody tr th {\n",
       "        vertical-align: top;\n",
       "    }\n",
       "\n",
       "    .dataframe thead th {\n",
       "        text-align: right;\n",
       "    }\n",
       "</style>\n",
       "<table border=\"1\" class=\"dataframe\">\n",
       "  <thead>\n",
       "    <tr style=\"text-align: right;\">\n",
       "      <th></th>\n",
       "      <th>created_at</th>\n",
       "      <th>id</th>\n",
       "      <th>id_str</th>\n",
       "      <th>text</th>\n",
       "      <th>source</th>\n",
       "      <th>truncated</th>\n",
       "      <th>in_reply_to_status_id</th>\n",
       "      <th>in_reply_to_status_id_str</th>\n",
       "      <th>in_reply_to_user_id</th>\n",
       "      <th>in_reply_to_user_id_str</th>\n",
       "      <th>...</th>\n",
       "      <th>contributors</th>\n",
       "      <th>retweeted_status</th>\n",
       "      <th>retweet_count</th>\n",
       "      <th>favorite_count</th>\n",
       "      <th>entities</th>\n",
       "      <th>favorited</th>\n",
       "      <th>retweeted</th>\n",
       "      <th>filter_level</th>\n",
       "      <th>lang</th>\n",
       "      <th>possibly_sensitive</th>\n",
       "    </tr>\n",
       "  </thead>\n",
       "  <tbody>\n",
       "    <tr>\n",
       "      <th>0</th>\n",
       "      <td>2014-01-01 03:59:03+00:00</td>\n",
       "      <td>418229860210057216</td>\n",
       "      <td>418229860210057216</td>\n",
       "      <td>RT @philstockworld: Summary of Yesterday's Web...</td>\n",
       "      <td>web</td>\n",
       "      <td>False</td>\n",
       "      <td>NaN</td>\n",
       "      <td>NaN</td>\n",
       "      <td>NaN</td>\n",
       "      <td>NaN</td>\n",
       "      <td>...</td>\n",
       "      <td>NaN</td>\n",
       "      <td>{'created_at': 'Tue Dec 31 12:33:51 +0000 2013...</td>\n",
       "      <td>0</td>\n",
       "      <td>0</td>\n",
       "      <td>{'hashtags': [{'text': 'TraderEducation', 'ind...</td>\n",
       "      <td>False</td>\n",
       "      <td>False</td>\n",
       "      <td>medium</td>\n",
       "      <td>en</td>\n",
       "      <td>NaN</td>\n",
       "    </tr>\n",
       "    <tr>\n",
       "      <th>1</th>\n",
       "      <td>2014-01-01 03:29:29+00:00</td>\n",
       "      <td>418222419485421568</td>\n",
       "      <td>418222419485421568</td>\n",
       "      <td>RT @philstockworld: Summary of Yesterday's Web...</td>\n",
       "      <td>web</td>\n",
       "      <td>False</td>\n",
       "      <td>NaN</td>\n",
       "      <td>NaN</td>\n",
       "      <td>NaN</td>\n",
       "      <td>NaN</td>\n",
       "      <td>...</td>\n",
       "      <td>NaN</td>\n",
       "      <td>{'created_at': 'Tue Dec 31 12:33:51 +0000 2013...</td>\n",
       "      <td>0</td>\n",
       "      <td>0</td>\n",
       "      <td>{'hashtags': [{'text': 'TraderEducation', 'ind...</td>\n",
       "      <td>False</td>\n",
       "      <td>False</td>\n",
       "      <td>medium</td>\n",
       "      <td>en</td>\n",
       "      <td>NaN</td>\n",
       "    </tr>\n",
       "    <tr>\n",
       "      <th>2</th>\n",
       "      <td>2014-01-01 18:08:47+00:00</td>\n",
       "      <td>418443702579654656</td>\n",
       "      <td>418443702579654656</td>\n",
       "      <td>iTV Will Boost Apple http://t.co/8dup4cQc08 $A...</td>\n",
       "      <td>&lt;a href=\"http://seekingalpha.com\" rel=\"nofollo...</td>\n",
       "      <td>False</td>\n",
       "      <td>NaN</td>\n",
       "      <td>NaN</td>\n",
       "      <td>NaN</td>\n",
       "      <td>NaN</td>\n",
       "      <td>...</td>\n",
       "      <td>NaN</td>\n",
       "      <td>NaN</td>\n",
       "      <td>0</td>\n",
       "      <td>0</td>\n",
       "      <td>{'hashtags': [{'text': 'APPLE', 'indices': [50...</td>\n",
       "      <td>False</td>\n",
       "      <td>False</td>\n",
       "      <td>medium</td>\n",
       "      <td>en</td>\n",
       "      <td>0.0</td>\n",
       "    </tr>\n",
       "    <tr>\n",
       "      <th>3</th>\n",
       "      <td>2014-01-01 01:52:31+00:00</td>\n",
       "      <td>418198017015959552</td>\n",
       "      <td>418198017015959552</td>\n",
       "      <td>#iPhone users are more intelligent than #Samsu...</td>\n",
       "      <td>web</td>\n",
       "      <td>False</td>\n",
       "      <td>NaN</td>\n",
       "      <td>NaN</td>\n",
       "      <td>NaN</td>\n",
       "      <td>NaN</td>\n",
       "      <td>...</td>\n",
       "      <td>NaN</td>\n",
       "      <td>NaN</td>\n",
       "      <td>0</td>\n",
       "      <td>0</td>\n",
       "      <td>{'hashtags': [{'text': 'iPhone', 'indices': [0...</td>\n",
       "      <td>False</td>\n",
       "      <td>False</td>\n",
       "      <td>medium</td>\n",
       "      <td>en</td>\n",
       "      <td>0.0</td>\n",
       "    </tr>\n",
       "    <tr>\n",
       "      <th>4</th>\n",
       "      <td>2014-01-01 01:18:36+00:00</td>\n",
       "      <td>418189481607696384</td>\n",
       "      <td>418189481607696384</td>\n",
       "      <td>RT @philstockworld: Summary of Yesterday's Web...</td>\n",
       "      <td>web</td>\n",
       "      <td>False</td>\n",
       "      <td>NaN</td>\n",
       "      <td>NaN</td>\n",
       "      <td>NaN</td>\n",
       "      <td>NaN</td>\n",
       "      <td>...</td>\n",
       "      <td>NaN</td>\n",
       "      <td>{'created_at': 'Tue Dec 31 12:33:51 +0000 2013...</td>\n",
       "      <td>0</td>\n",
       "      <td>0</td>\n",
       "      <td>{'hashtags': [{'text': 'TraderEducation', 'ind...</td>\n",
       "      <td>False</td>\n",
       "      <td>False</td>\n",
       "      <td>medium</td>\n",
       "      <td>en</td>\n",
       "      <td>NaN</td>\n",
       "    </tr>\n",
       "  </tbody>\n",
       "</table>\n",
       "<p>5 rows × 25 columns</p>\n",
       "</div>"
      ],
      "text/plain": [
       "                 created_at                  id              id_str  \\\n",
       "0 2014-01-01 03:59:03+00:00  418229860210057216  418229860210057216   \n",
       "1 2014-01-01 03:29:29+00:00  418222419485421568  418222419485421568   \n",
       "2 2014-01-01 18:08:47+00:00  418443702579654656  418443702579654656   \n",
       "3 2014-01-01 01:52:31+00:00  418198017015959552  418198017015959552   \n",
       "4 2014-01-01 01:18:36+00:00  418189481607696384  418189481607696384   \n",
       "\n",
       "                                                text  \\\n",
       "0  RT @philstockworld: Summary of Yesterday's Web...   \n",
       "1  RT @philstockworld: Summary of Yesterday's Web...   \n",
       "2  iTV Will Boost Apple http://t.co/8dup4cQc08 $A...   \n",
       "3  #iPhone users are more intelligent than #Samsu...   \n",
       "4  RT @philstockworld: Summary of Yesterday's Web...   \n",
       "\n",
       "                                              source  truncated  \\\n",
       "0                                                web      False   \n",
       "1                                                web      False   \n",
       "2  <a href=\"http://seekingalpha.com\" rel=\"nofollo...      False   \n",
       "3                                                web      False   \n",
       "4                                                web      False   \n",
       "\n",
       "   in_reply_to_status_id  in_reply_to_status_id_str  in_reply_to_user_id  \\\n",
       "0                    NaN                        NaN                  NaN   \n",
       "1                    NaN                        NaN                  NaN   \n",
       "2                    NaN                        NaN                  NaN   \n",
       "3                    NaN                        NaN                  NaN   \n",
       "4                    NaN                        NaN                  NaN   \n",
       "\n",
       "   in_reply_to_user_id_str  ...  contributors  \\\n",
       "0                      NaN  ...           NaN   \n",
       "1                      NaN  ...           NaN   \n",
       "2                      NaN  ...           NaN   \n",
       "3                      NaN  ...           NaN   \n",
       "4                      NaN  ...           NaN   \n",
       "\n",
       "                                    retweeted_status  retweet_count  \\\n",
       "0  {'created_at': 'Tue Dec 31 12:33:51 +0000 2013...              0   \n",
       "1  {'created_at': 'Tue Dec 31 12:33:51 +0000 2013...              0   \n",
       "2                                                NaN              0   \n",
       "3                                                NaN              0   \n",
       "4  {'created_at': 'Tue Dec 31 12:33:51 +0000 2013...              0   \n",
       "\n",
       "   favorite_count                                           entities  \\\n",
       "0               0  {'hashtags': [{'text': 'TraderEducation', 'ind...   \n",
       "1               0  {'hashtags': [{'text': 'TraderEducation', 'ind...   \n",
       "2               0  {'hashtags': [{'text': 'APPLE', 'indices': [50...   \n",
       "3               0  {'hashtags': [{'text': 'iPhone', 'indices': [0...   \n",
       "4               0  {'hashtags': [{'text': 'TraderEducation', 'ind...   \n",
       "\n",
       "   favorited retweeted  filter_level  lang possibly_sensitive  \n",
       "0      False     False        medium    en                NaN  \n",
       "1      False     False        medium    en                NaN  \n",
       "2      False     False        medium    en                0.0  \n",
       "3      False     False        medium    en                0.0  \n",
       "4      False     False        medium    en                NaN  \n",
       "\n",
       "[5 rows x 25 columns]"
      ]
     },
     "execution_count": 424,
     "metadata": {},
     "output_type": "execute_result"
    }
   ],
   "source": [
    "tweets.head()"
   ]
  },
  {
   "cell_type": "code",
   "execution_count": 444,
   "metadata": {},
   "outputs": [],
   "source": [
    "def data_transformation_for_storage(stock,filename):\n",
    "    tweets = pd.read_json(f'./datasets/stocknet-dataset/tweet/raw/{stock}/{filename}',lines=True)\n",
    "    raw_sentiment= tweets['text'].apply(pre_process_document).to_frame()\n",
    "    return raw_sentiment\n",
    "def data_preparation_for_storage(stock):\n",
    "    import os,re\n",
    "    r = re.compile('.*-.*-.*')\n",
    "    aggregated_df = pd.DataFrame(columns=['timestamp','source','asset','title','content'])\n",
    "    for filename in os.listdir(f'./datasets/stocknet-dataset/tweet/raw/{stock}'):\n",
    "        if r.match(filename):\n",
    "            result = data_transformation_for_storage(stock,filename)\n",
    "            result['timestamp'] = filename\n",
    "            result['title'] = result['content'] = result['text']\n",
    "            result['source'] = 'tweet'\n",
    "            result['asset'] = stock\n",
    "            aggregated_df = aggregated_df.append(result, ignore_index=True)\n",
    "    pd.to_datetime(aggregated_df.timestamp)\n",
    "    aggregated_df.sort_values(by=['timestamp'], inplace=True)\n",
    "    aggregated_df = aggregated_df.reset_index(drop=True)\n",
    "    return aggregated_df[['timestamp','source','asset','title','content']]"
   ]
  },
  {
   "cell_type": "code",
   "execution_count": 445,
   "metadata": {},
   "outputs": [],
   "source": [
    "dummy = data_preparation_for_storage('AAPL')"
   ]
  },
  {
   "cell_type": "code",
   "execution_count": 446,
   "metadata": {},
   "outputs": [
    {
     "data": {
      "text/html": [
       "<div>\n",
       "<style scoped>\n",
       "    .dataframe tbody tr th:only-of-type {\n",
       "        vertical-align: middle;\n",
       "    }\n",
       "\n",
       "    .dataframe tbody tr th {\n",
       "        vertical-align: top;\n",
       "    }\n",
       "\n",
       "    .dataframe thead th {\n",
       "        text-align: right;\n",
       "    }\n",
       "</style>\n",
       "<table border=\"1\" class=\"dataframe\">\n",
       "  <thead>\n",
       "    <tr style=\"text-align: right;\">\n",
       "      <th></th>\n",
       "      <th>timestamp</th>\n",
       "      <th>source</th>\n",
       "      <th>asset</th>\n",
       "      <th>title</th>\n",
       "      <th>content</th>\n",
       "    </tr>\n",
       "  </thead>\n",
       "  <tbody>\n",
       "    <tr>\n",
       "      <th>0</th>\n",
       "      <td>2014-01-01</td>\n",
       "      <td>tweet</td>\n",
       "      <td>AAPL</td>\n",
       "      <td>rt philstockworld summary of yesterdays webcas...</td>\n",
       "      <td>rt philstockworld summary of yesterdays webcas...</td>\n",
       "    </tr>\n",
       "    <tr>\n",
       "      <th>1</th>\n",
       "      <td>2014-01-01</td>\n",
       "      <td>tweet</td>\n",
       "      <td>AAPL</td>\n",
       "      <td>apple screwed up big time amzn aapl</td>\n",
       "      <td>apple screwed up big time amzn aapl</td>\n",
       "    </tr>\n",
       "    <tr>\n",
       "      <th>2</th>\n",
       "      <td>2014-01-01</td>\n",
       "      <td>tweet</td>\n",
       "      <td>AAPL</td>\n",
       "      <td>wrapup and trading set review part iii aapl ap...</td>\n",
       "      <td>wrapup and trading set review part iii aapl ap...</td>\n",
       "    </tr>\n",
       "    <tr>\n",
       "      <th>3</th>\n",
       "      <td>2014-01-01</td>\n",
       "      <td>tweet</td>\n",
       "      <td>AAPL</td>\n",
       "      <td>rt philstockworld summary of yesterdays webcas...</td>\n",
       "      <td>rt philstockworld summary of yesterdays webcas...</td>\n",
       "    </tr>\n",
       "    <tr>\n",
       "      <th>4</th>\n",
       "      <td>2014-01-01</td>\n",
       "      <td>tweet</td>\n",
       "      <td>AAPL</td>\n",
       "      <td>iphone users are more intelligent than samsung...</td>\n",
       "      <td>iphone users are more intelligent than samsung...</td>\n",
       "    </tr>\n",
       "  </tbody>\n",
       "</table>\n",
       "</div>"
      ],
      "text/plain": [
       "    timestamp source asset                                              title  \\\n",
       "0  2014-01-01  tweet  AAPL  rt philstockworld summary of yesterdays webcas...   \n",
       "1  2014-01-01  tweet  AAPL                apple screwed up big time amzn aapl   \n",
       "2  2014-01-01  tweet  AAPL  wrapup and trading set review part iii aapl ap...   \n",
       "3  2014-01-01  tweet  AAPL  rt philstockworld summary of yesterdays webcas...   \n",
       "4  2014-01-01  tweet  AAPL  iphone users are more intelligent than samsung...   \n",
       "\n",
       "                                             content  \n",
       "0  rt philstockworld summary of yesterdays webcas...  \n",
       "1                apple screwed up big time amzn aapl  \n",
       "2  wrapup and trading set review part iii aapl ap...  \n",
       "3  rt philstockworld summary of yesterdays webcas...  \n",
       "4  iphone users are more intelligent than samsung...  "
      ]
     },
     "execution_count": 446,
     "metadata": {},
     "output_type": "execute_result"
    }
   ],
   "source": [
    "dummy.head()"
   ]
  },
  {
   "cell_type": "code",
   "execution_count": 458,
   "metadata": {},
   "outputs": [],
   "source": [
    "target = ['AAPL','GOOG','AMZN','MSFT','T','INTC','JPM']\n",
    "temp = pd.DataFrame(columns=['timestamp','source','asset','title','content'])\n",
    "for stock in target:\n",
    "    tempDf = data_preparation_for_storage(stock)\n",
    "    temp = temp.append(tempDf,ignore_index=True)"
   ]
  },
  {
   "cell_type": "code",
   "execution_count": 460,
   "metadata": {},
   "outputs": [
    {
     "data": {
      "text/html": [
       "<div>\n",
       "<style scoped>\n",
       "    .dataframe tbody tr th:only-of-type {\n",
       "        vertical-align: middle;\n",
       "    }\n",
       "\n",
       "    .dataframe tbody tr th {\n",
       "        vertical-align: top;\n",
       "    }\n",
       "\n",
       "    .dataframe thead th {\n",
       "        text-align: right;\n",
       "    }\n",
       "</style>\n",
       "<table border=\"1\" class=\"dataframe\">\n",
       "  <thead>\n",
       "    <tr style=\"text-align: right;\">\n",
       "      <th></th>\n",
       "      <th>timestamp</th>\n",
       "      <th>source</th>\n",
       "      <th>asset</th>\n",
       "      <th>title</th>\n",
       "      <th>content</th>\n",
       "    </tr>\n",
       "  </thead>\n",
       "  <tbody>\n",
       "    <tr>\n",
       "      <th>49055</th>\n",
       "      <td>2016-03-30</td>\n",
       "      <td>tweet</td>\n",
       "      <td>JPM</td>\n",
       "      <td>commented on jpmorgan chase a bargain in banki...</td>\n",
       "      <td>commented on jpmorgan chase a bargain in banki...</td>\n",
       "    </tr>\n",
       "    <tr>\n",
       "      <th>49056</th>\n",
       "      <td>2016-03-30</td>\n",
       "      <td>tweet</td>\n",
       "      <td>JPM</td>\n",
       "      <td>jpmorgan chase co s buy rating reiterated at d...</td>\n",
       "      <td>jpmorgan chase co s buy rating reiterated at d...</td>\n",
       "    </tr>\n",
       "    <tr>\n",
       "      <th>49057</th>\n",
       "      <td>2016-03-30</td>\n",
       "      <td>tweet</td>\n",
       "      <td>JPM</td>\n",
       "      <td>options maxpain chart for jpm option invest mo...</td>\n",
       "      <td>options maxpain chart for jpm option invest mo...</td>\n",
       "    </tr>\n",
       "    <tr>\n",
       "      <th>49058</th>\n",
       "      <td>2016-03-30</td>\n",
       "      <td>tweet</td>\n",
       "      <td>JPM</td>\n",
       "      <td>commented on jpmorgan chase a bargain in banki...</td>\n",
       "      <td>commented on jpmorgan chase a bargain in banki...</td>\n",
       "    </tr>\n",
       "    <tr>\n",
       "      <th>49059</th>\n",
       "      <td>2016-03-31</td>\n",
       "      <td>tweet</td>\n",
       "      <td>JPM</td>\n",
       "      <td>large put buying sbgi jpm mcd wuba fngn lyv pp...</td>\n",
       "      <td>large put buying sbgi jpm mcd wuba fngn lyv pp...</td>\n",
       "    </tr>\n",
       "  </tbody>\n",
       "</table>\n",
       "</div>"
      ],
      "text/plain": [
       "        timestamp source asset  \\\n",
       "49055  2016-03-30  tweet   JPM   \n",
       "49056  2016-03-30  tweet   JPM   \n",
       "49057  2016-03-30  tweet   JPM   \n",
       "49058  2016-03-30  tweet   JPM   \n",
       "49059  2016-03-31  tweet   JPM   \n",
       "\n",
       "                                                   title  \\\n",
       "49055  commented on jpmorgan chase a bargain in banki...   \n",
       "49056  jpmorgan chase co s buy rating reiterated at d...   \n",
       "49057  options maxpain chart for jpm option invest mo...   \n",
       "49058  commented on jpmorgan chase a bargain in banki...   \n",
       "49059  large put buying sbgi jpm mcd wuba fngn lyv pp...   \n",
       "\n",
       "                                                 content  \n",
       "49055  commented on jpmorgan chase a bargain in banki...  \n",
       "49056  jpmorgan chase co s buy rating reiterated at d...  \n",
       "49057  options maxpain chart for jpm option invest mo...  \n",
       "49058  commented on jpmorgan chase a bargain in banki...  \n",
       "49059  large put buying sbgi jpm mcd wuba fngn lyv pp...  "
      ]
     },
     "execution_count": 460,
     "metadata": {},
     "output_type": "execute_result"
    }
   ],
   "source": [
    "temp.tail()"
   ]
  },
  {
   "cell_type": "code",
   "execution_count": 477,
   "metadata": {},
   "outputs": [],
   "source": [
    "temp[['timestamp','source','asset','content']].to_csv('./datasets/cashcowputer-dataset/preprocessed/tweets/tweets.csv',index=False)"
   ]
  },
  {
   "cell_type": "code",
   "execution_count": 478,
   "metadata": {},
   "outputs": [],
   "source": [
    "temp1 = pd.read_csv('./datasets/cashcowputer-dataset/preprocessed/tweets/tweets.csv')"
   ]
  },
  {
   "cell_type": "code",
   "execution_count": 479,
   "metadata": {},
   "outputs": [
    {
     "data": {
      "text/html": [
       "<div>\n",
       "<style scoped>\n",
       "    .dataframe tbody tr th:only-of-type {\n",
       "        vertical-align: middle;\n",
       "    }\n",
       "\n",
       "    .dataframe tbody tr th {\n",
       "        vertical-align: top;\n",
       "    }\n",
       "\n",
       "    .dataframe thead th {\n",
       "        text-align: right;\n",
       "    }\n",
       "</style>\n",
       "<table border=\"1\" class=\"dataframe\">\n",
       "  <thead>\n",
       "    <tr style=\"text-align: right;\">\n",
       "      <th></th>\n",
       "      <th>timestamp</th>\n",
       "      <th>source</th>\n",
       "      <th>asset</th>\n",
       "      <th>content</th>\n",
       "    </tr>\n",
       "  </thead>\n",
       "  <tbody>\n",
       "    <tr>\n",
       "      <th>49055</th>\n",
       "      <td>2016-03-30</td>\n",
       "      <td>tweet</td>\n",
       "      <td>JPM</td>\n",
       "      <td>commented on jpmorgan chase a bargain in banki...</td>\n",
       "    </tr>\n",
       "    <tr>\n",
       "      <th>49056</th>\n",
       "      <td>2016-03-30</td>\n",
       "      <td>tweet</td>\n",
       "      <td>JPM</td>\n",
       "      <td>jpmorgan chase co s buy rating reiterated at d...</td>\n",
       "    </tr>\n",
       "    <tr>\n",
       "      <th>49057</th>\n",
       "      <td>2016-03-30</td>\n",
       "      <td>tweet</td>\n",
       "      <td>JPM</td>\n",
       "      <td>options maxpain chart for jpm option invest mo...</td>\n",
       "    </tr>\n",
       "    <tr>\n",
       "      <th>49058</th>\n",
       "      <td>2016-03-30</td>\n",
       "      <td>tweet</td>\n",
       "      <td>JPM</td>\n",
       "      <td>commented on jpmorgan chase a bargain in banki...</td>\n",
       "    </tr>\n",
       "    <tr>\n",
       "      <th>49059</th>\n",
       "      <td>2016-03-31</td>\n",
       "      <td>tweet</td>\n",
       "      <td>JPM</td>\n",
       "      <td>large put buying sbgi jpm mcd wuba fngn lyv pp...</td>\n",
       "    </tr>\n",
       "  </tbody>\n",
       "</table>\n",
       "</div>"
      ],
      "text/plain": [
       "        timestamp source asset  \\\n",
       "49055  2016-03-30  tweet   JPM   \n",
       "49056  2016-03-30  tweet   JPM   \n",
       "49057  2016-03-30  tweet   JPM   \n",
       "49058  2016-03-30  tweet   JPM   \n",
       "49059  2016-03-31  tweet   JPM   \n",
       "\n",
       "                                                 content  \n",
       "49055  commented on jpmorgan chase a bargain in banki...  \n",
       "49056  jpmorgan chase co s buy rating reiterated at d...  \n",
       "49057  options maxpain chart for jpm option invest mo...  \n",
       "49058  commented on jpmorgan chase a bargain in banki...  \n",
       "49059  large put buying sbgi jpm mcd wuba fngn lyv pp...  "
      ]
     },
     "execution_count": 479,
     "metadata": {},
     "output_type": "execute_result"
    }
   ],
   "source": [
    "temp1.tail()"
   ]
  },
  {
   "cell_type": "markdown",
   "metadata": {},
   "source": [
    "## Price data\n",
    "After preparing the sentiment data "
   ]
  },
  {
   "cell_type": "code",
   "execution_count": 572,
   "metadata": {},
   "outputs": [],
   "source": [
    "price = pd.read_csv('./datasets/stocknet-dataset/price/raw/AAPL.csv')"
   ]
  },
  {
   "cell_type": "code",
   "execution_count": 573,
   "metadata": {},
   "outputs": [
    {
     "data": {
      "text/html": [
       "<div>\n",
       "<style scoped>\n",
       "    .dataframe tbody tr th:only-of-type {\n",
       "        vertical-align: middle;\n",
       "    }\n",
       "\n",
       "    .dataframe tbody tr th {\n",
       "        vertical-align: top;\n",
       "    }\n",
       "\n",
       "    .dataframe thead th {\n",
       "        text-align: right;\n",
       "    }\n",
       "</style>\n",
       "<table border=\"1\" class=\"dataframe\">\n",
       "  <thead>\n",
       "    <tr style=\"text-align: right;\">\n",
       "      <th></th>\n",
       "      <th>Date</th>\n",
       "      <th>Open</th>\n",
       "      <th>High</th>\n",
       "      <th>Low</th>\n",
       "      <th>Close</th>\n",
       "      <th>Adj Close</th>\n",
       "      <th>Volume</th>\n",
       "    </tr>\n",
       "  </thead>\n",
       "  <tbody>\n",
       "    <tr>\n",
       "      <th>0</th>\n",
       "      <td>2012-09-04</td>\n",
       "      <td>95.108574</td>\n",
       "      <td>96.448570</td>\n",
       "      <td>94.928574</td>\n",
       "      <td>96.424286</td>\n",
       "      <td>87.121140</td>\n",
       "      <td>91973000</td>\n",
       "    </tr>\n",
       "    <tr>\n",
       "      <th>1</th>\n",
       "      <td>2012-09-05</td>\n",
       "      <td>96.510002</td>\n",
       "      <td>96.621429</td>\n",
       "      <td>95.657143</td>\n",
       "      <td>95.747147</td>\n",
       "      <td>86.509338</td>\n",
       "      <td>84093800</td>\n",
       "    </tr>\n",
       "    <tr>\n",
       "      <th>2</th>\n",
       "      <td>2012-09-06</td>\n",
       "      <td>96.167145</td>\n",
       "      <td>96.898575</td>\n",
       "      <td>95.828575</td>\n",
       "      <td>96.610001</td>\n",
       "      <td>87.288956</td>\n",
       "      <td>97799100</td>\n",
       "    </tr>\n",
       "    <tr>\n",
       "      <th>3</th>\n",
       "      <td>2012-09-07</td>\n",
       "      <td>96.864288</td>\n",
       "      <td>97.497147</td>\n",
       "      <td>96.538574</td>\n",
       "      <td>97.205711</td>\n",
       "      <td>87.827171</td>\n",
       "      <td>82416600</td>\n",
       "    </tr>\n",
       "    <tr>\n",
       "      <th>4</th>\n",
       "      <td>2012-09-10</td>\n",
       "      <td>97.207146</td>\n",
       "      <td>97.612854</td>\n",
       "      <td>94.585716</td>\n",
       "      <td>94.677139</td>\n",
       "      <td>85.542564</td>\n",
       "      <td>121999500</td>\n",
       "    </tr>\n",
       "  </tbody>\n",
       "</table>\n",
       "</div>"
      ],
      "text/plain": [
       "         Date       Open       High        Low      Close  Adj Close  \\\n",
       "0  2012-09-04  95.108574  96.448570  94.928574  96.424286  87.121140   \n",
       "1  2012-09-05  96.510002  96.621429  95.657143  95.747147  86.509338   \n",
       "2  2012-09-06  96.167145  96.898575  95.828575  96.610001  87.288956   \n",
       "3  2012-09-07  96.864288  97.497147  96.538574  97.205711  87.827171   \n",
       "4  2012-09-10  97.207146  97.612854  94.585716  94.677139  85.542564   \n",
       "\n",
       "      Volume  \n",
       "0   91973000  \n",
       "1   84093800  \n",
       "2   97799100  \n",
       "3   82416600  \n",
       "4  121999500  "
      ]
     },
     "execution_count": 573,
     "metadata": {},
     "output_type": "execute_result"
    }
   ],
   "source": [
    "price.head()"
   ]
  },
  {
   "cell_type": "code",
   "execution_count": 574,
   "metadata": {},
   "outputs": [],
   "source": [
    "price['Date'] = pd.to_datetime(price['Date'])"
   ]
  },
  {
   "cell_type": "code",
   "execution_count": 575,
   "metadata": {},
   "outputs": [
    {
     "data": {
      "text/html": [
       "<div>\n",
       "<style scoped>\n",
       "    .dataframe tbody tr th:only-of-type {\n",
       "        vertical-align: middle;\n",
       "    }\n",
       "\n",
       "    .dataframe tbody tr th {\n",
       "        vertical-align: top;\n",
       "    }\n",
       "\n",
       "    .dataframe thead th {\n",
       "        text-align: right;\n",
       "    }\n",
       "</style>\n",
       "<table border=\"1\" class=\"dataframe\">\n",
       "  <thead>\n",
       "    <tr style=\"text-align: right;\">\n",
       "      <th></th>\n",
       "      <th>Date</th>\n",
       "      <th>Open</th>\n",
       "      <th>High</th>\n",
       "      <th>Low</th>\n",
       "      <th>Close</th>\n",
       "      <th>Adj Close</th>\n",
       "      <th>Volume</th>\n",
       "    </tr>\n",
       "  </thead>\n",
       "  <tbody>\n",
       "    <tr>\n",
       "      <th>333</th>\n",
       "      <td>2014-01-02</td>\n",
       "      <td>79.382858</td>\n",
       "      <td>79.575714</td>\n",
       "      <td>78.860001</td>\n",
       "      <td>79.018570</td>\n",
       "      <td>73.522530</td>\n",
       "      <td>58671200</td>\n",
       "    </tr>\n",
       "    <tr>\n",
       "      <th>334</th>\n",
       "      <td>2014-01-03</td>\n",
       "      <td>78.980003</td>\n",
       "      <td>79.099998</td>\n",
       "      <td>77.204285</td>\n",
       "      <td>77.282860</td>\n",
       "      <td>71.907555</td>\n",
       "      <td>98116900</td>\n",
       "    </tr>\n",
       "    <tr>\n",
       "      <th>335</th>\n",
       "      <td>2014-01-06</td>\n",
       "      <td>76.778572</td>\n",
       "      <td>78.114288</td>\n",
       "      <td>76.228569</td>\n",
       "      <td>77.704285</td>\n",
       "      <td>72.299644</td>\n",
       "      <td>103152700</td>\n",
       "    </tr>\n",
       "    <tr>\n",
       "      <th>336</th>\n",
       "      <td>2014-01-07</td>\n",
       "      <td>77.760002</td>\n",
       "      <td>77.994286</td>\n",
       "      <td>76.845711</td>\n",
       "      <td>77.148575</td>\n",
       "      <td>71.782608</td>\n",
       "      <td>79302300</td>\n",
       "    </tr>\n",
       "    <tr>\n",
       "      <th>337</th>\n",
       "      <td>2014-01-08</td>\n",
       "      <td>76.972855</td>\n",
       "      <td>77.937141</td>\n",
       "      <td>76.955711</td>\n",
       "      <td>77.637146</td>\n",
       "      <td>72.237190</td>\n",
       "      <td>64632400</td>\n",
       "    </tr>\n",
       "    <tr>\n",
       "      <th>...</th>\n",
       "      <td>...</td>\n",
       "      <td>...</td>\n",
       "      <td>...</td>\n",
       "      <td>...</td>\n",
       "      <td>...</td>\n",
       "      <td>...</td>\n",
       "      <td>...</td>\n",
       "    </tr>\n",
       "    <tr>\n",
       "      <th>1084</th>\n",
       "      <td>2016-12-23</td>\n",
       "      <td>115.589996</td>\n",
       "      <td>116.519997</td>\n",
       "      <td>115.589996</td>\n",
       "      <td>116.519997</td>\n",
       "      <td>115.088142</td>\n",
       "      <td>14181200</td>\n",
       "    </tr>\n",
       "    <tr>\n",
       "      <th>1085</th>\n",
       "      <td>2016-12-27</td>\n",
       "      <td>116.519997</td>\n",
       "      <td>117.800003</td>\n",
       "      <td>116.489998</td>\n",
       "      <td>117.260002</td>\n",
       "      <td>115.819054</td>\n",
       "      <td>18296900</td>\n",
       "    </tr>\n",
       "    <tr>\n",
       "      <th>1086</th>\n",
       "      <td>2016-12-28</td>\n",
       "      <td>117.519997</td>\n",
       "      <td>118.019997</td>\n",
       "      <td>116.199997</td>\n",
       "      <td>116.760002</td>\n",
       "      <td>115.325203</td>\n",
       "      <td>20905900</td>\n",
       "    </tr>\n",
       "    <tr>\n",
       "      <th>1087</th>\n",
       "      <td>2016-12-29</td>\n",
       "      <td>116.449997</td>\n",
       "      <td>117.110001</td>\n",
       "      <td>116.400002</td>\n",
       "      <td>116.730003</td>\n",
       "      <td>115.295570</td>\n",
       "      <td>15039500</td>\n",
       "    </tr>\n",
       "    <tr>\n",
       "      <th>1088</th>\n",
       "      <td>2016-12-30</td>\n",
       "      <td>116.650002</td>\n",
       "      <td>117.199997</td>\n",
       "      <td>115.430000</td>\n",
       "      <td>115.820000</td>\n",
       "      <td>114.396751</td>\n",
       "      <td>30586300</td>\n",
       "    </tr>\n",
       "  </tbody>\n",
       "</table>\n",
       "<p>756 rows × 7 columns</p>\n",
       "</div>"
      ],
      "text/plain": [
       "           Date        Open        High         Low       Close   Adj Close  \\\n",
       "333  2014-01-02   79.382858   79.575714   78.860001   79.018570   73.522530   \n",
       "334  2014-01-03   78.980003   79.099998   77.204285   77.282860   71.907555   \n",
       "335  2014-01-06   76.778572   78.114288   76.228569   77.704285   72.299644   \n",
       "336  2014-01-07   77.760002   77.994286   76.845711   77.148575   71.782608   \n",
       "337  2014-01-08   76.972855   77.937141   76.955711   77.637146   72.237190   \n",
       "...         ...         ...         ...         ...         ...         ...   \n",
       "1084 2016-12-23  115.589996  116.519997  115.589996  116.519997  115.088142   \n",
       "1085 2016-12-27  116.519997  117.800003  116.489998  117.260002  115.819054   \n",
       "1086 2016-12-28  117.519997  118.019997  116.199997  116.760002  115.325203   \n",
       "1087 2016-12-29  116.449997  117.110001  116.400002  116.730003  115.295570   \n",
       "1088 2016-12-30  116.650002  117.199997  115.430000  115.820000  114.396751   \n",
       "\n",
       "         Volume  \n",
       "333    58671200  \n",
       "334    98116900  \n",
       "335   103152700  \n",
       "336    79302300  \n",
       "337    64632400  \n",
       "...         ...  \n",
       "1084   14181200  \n",
       "1085   18296900  \n",
       "1086   20905900  \n",
       "1087   15039500  \n",
       "1088   30586300  \n",
       "\n",
       "[756 rows x 7 columns]"
      ]
     },
     "execution_count": 575,
     "metadata": {},
     "output_type": "execute_result"
    }
   ],
   "source": [
    "price[(price['Date'] > pd.to_datetime('2013-12-31')) & (price['Date'] < pd.to_datetime('2017-01-01'))]"
   ]
  },
  {
   "cell_type": "code",
   "execution_count": 577,
   "metadata": {},
   "outputs": [],
   "source": [
    "target = ['AAPL','GOOG','AMZN','MSFT','T','INTC','JPM']\n",
    "temp = pd.DataFrame(columns=['timestamp','asset','Open','Close','Volume'])\n",
    "for stock in target:\n",
    "    price = pd.read_csv(f'./datasets/stocknet-dataset/price/raw/{stock}.csv')\n",
    "    price['asset'] = stock\n",
    "    price['Date'] = pd.to_datetime(price['Date'])\n",
    "    price['timestamp'] = price['Date']\n",
    "    price_filtered = price[(price['Date'] > pd.to_datetime('2013-12-31')) & (price['Date'] < pd.to_datetime('2017-01-01'))]\n",
    "    temp = temp.append(price_filtered[['timestamp','asset','Open','Close','Volume']],ignore_index=True)"
   ]
  },
  {
   "cell_type": "code",
   "execution_count": 580,
   "metadata": {},
   "outputs": [
    {
     "data": {
      "text/html": [
       "<div>\n",
       "<style scoped>\n",
       "    .dataframe tbody tr th:only-of-type {\n",
       "        vertical-align: middle;\n",
       "    }\n",
       "\n",
       "    .dataframe tbody tr th {\n",
       "        vertical-align: top;\n",
       "    }\n",
       "\n",
       "    .dataframe thead th {\n",
       "        text-align: right;\n",
       "    }\n",
       "</style>\n",
       "<table border=\"1\" class=\"dataframe\">\n",
       "  <thead>\n",
       "    <tr style=\"text-align: right;\">\n",
       "      <th></th>\n",
       "      <th>timestamp</th>\n",
       "      <th>asset</th>\n",
       "      <th>Open</th>\n",
       "      <th>Close</th>\n",
       "      <th>Volume</th>\n",
       "    </tr>\n",
       "  </thead>\n",
       "  <tbody>\n",
       "    <tr>\n",
       "      <th>5287</th>\n",
       "      <td>2016-12-23</td>\n",
       "      <td>JPM</td>\n",
       "      <td>87.000000</td>\n",
       "      <td>87.050003</td>\n",
       "      <td>10725000</td>\n",
       "    </tr>\n",
       "    <tr>\n",
       "      <th>5288</th>\n",
       "      <td>2016-12-27</td>\n",
       "      <td>JPM</td>\n",
       "      <td>87.050003</td>\n",
       "      <td>87.129997</td>\n",
       "      <td>6946400</td>\n",
       "    </tr>\n",
       "    <tr>\n",
       "      <th>5289</th>\n",
       "      <td>2016-12-28</td>\n",
       "      <td>JPM</td>\n",
       "      <td>87.160004</td>\n",
       "      <td>86.500000</td>\n",
       "      <td>9455600</td>\n",
       "    </tr>\n",
       "    <tr>\n",
       "      <th>5290</th>\n",
       "      <td>2016-12-29</td>\n",
       "      <td>JPM</td>\n",
       "      <td>86.580002</td>\n",
       "      <td>85.889999</td>\n",
       "      <td>14689000</td>\n",
       "    </tr>\n",
       "    <tr>\n",
       "      <th>5291</th>\n",
       "      <td>2016-12-30</td>\n",
       "      <td>JPM</td>\n",
       "      <td>86.099998</td>\n",
       "      <td>86.290001</td>\n",
       "      <td>13617800</td>\n",
       "    </tr>\n",
       "  </tbody>\n",
       "</table>\n",
       "</div>"
      ],
      "text/plain": [
       "      timestamp asset       Open      Close    Volume\n",
       "5287 2016-12-23   JPM  87.000000  87.050003  10725000\n",
       "5288 2016-12-27   JPM  87.050003  87.129997   6946400\n",
       "5289 2016-12-28   JPM  87.160004  86.500000   9455600\n",
       "5290 2016-12-29   JPM  86.580002  85.889999  14689000\n",
       "5291 2016-12-30   JPM  86.099998  86.290001  13617800"
      ]
     },
     "execution_count": 580,
     "metadata": {},
     "output_type": "execute_result"
    }
   ],
   "source": [
    "temp.tail()"
   ]
  },
  {
   "cell_type": "code",
   "execution_count": 583,
   "metadata": {},
   "outputs": [],
   "source": [
    "temp.to_csv('./datasets/cashcowputer-dataset/preprocessed/price/price.csv',index=False)"
   ]
  },
  {
   "cell_type": "code",
   "execution_count": null,
   "metadata": {},
   "outputs": [],
   "source": []
  }
 ],
 "metadata": {
  "kernelspec": {
   "display_name": "project",
   "language": "python",
   "name": "project"
  },
  "language_info": {
   "codemirror_mode": {
    "name": "ipython",
    "version": 3
   },
   "file_extension": ".py",
   "mimetype": "text/x-python",
   "name": "python",
   "nbconvert_exporter": "python",
   "pygments_lexer": "ipython3",
   "version": "3.6.7"
  }
 },
 "nbformat": 4,
 "nbformat_minor": 2
}
