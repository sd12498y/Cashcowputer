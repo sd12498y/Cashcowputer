{
  "nbformat": 4,
  "nbformat_minor": 0,
  "metadata": {
    "colab": {
      "name": "Stock Analysis.ipynb",
      "provenance": [],
      "machine_shape": "hm"
    },
    "kernelspec": {
      "name": "python3",
      "display_name": "Python 3"
    },
    "accelerator": "GPU"
  },
  "cells": [
    {
      "cell_type": "code",
      "metadata": {
        "id": "A5PMUdLlmh94",
        "colab_type": "code",
        "outputId": "ce3b90f1-7d48-4f7e-c2a8-a663a95271a3",
        "colab": {
          "base_uri": "https://localhost:8080/",
          "height": 127
        }
      },
      "source": [
        "from google.colab import drive\n",
        "drive.mount('/content/drive')"
      ],
      "execution_count": 1,
      "outputs": [
        {
          "output_type": "stream",
          "text": [
            "Go to this URL in a browser: https://accounts.google.com/o/oauth2/auth?client_id=947318989803-6bn6qk8qdgf4n4g3pfee6491hc0brc4i.apps.googleusercontent.com&redirect_uri=urn%3aietf%3awg%3aoauth%3a2.0%3aoob&response_type=code&scope=email%20https%3a%2f%2fwww.googleapis.com%2fauth%2fdocs.test%20https%3a%2f%2fwww.googleapis.com%2fauth%2fdrive%20https%3a%2f%2fwww.googleapis.com%2fauth%2fdrive.photos.readonly%20https%3a%2f%2fwww.googleapis.com%2fauth%2fpeopleapi.readonly\n",
            "\n",
            "Enter your authorization code:\n",
            "··········\n",
            "Mounted at /content/drive\n"
          ],
          "name": "stdout"
        }
      ]
    },
    {
      "cell_type": "code",
      "metadata": {
        "id": "TBc-rz5znwQO",
        "colab_type": "code",
        "colab": {}
      },
      "source": [
        "WORK_DIR = '/content/drive/My Drive/FINA4350'\n",
        "DATA_DIR = f'{WORK_DIR}/datasets/cashcowputer-dataset'"
      ],
      "execution_count": 0,
      "outputs": []
    },
    {
      "cell_type": "code",
      "metadata": {
        "id": "KIVv6lrknUXv",
        "colab_type": "code",
        "outputId": "21872ae7-1c7a-41bf-a70a-4723886a430a",
        "colab": {
          "base_uri": "https://localhost:8080/",
          "height": 35
        }
      },
      "source": [
        "%tensorflow_version 2.x"
      ],
      "execution_count": 3,
      "outputs": [
        {
          "output_type": "stream",
          "text": [
            "TensorFlow 2.x selected.\n"
          ],
          "name": "stdout"
        }
      ]
    },
    {
      "cell_type": "markdown",
      "metadata": {
        "id": "pUQcThJyGBQX",
        "colab_type": "text"
      },
      "source": [
        "## Libraries and General functions"
      ]
    },
    {
      "cell_type": "code",
      "metadata": {
        "colab_type": "code",
        "id": "_hKaJbyEExdJ",
        "colab": {}
      },
      "source": [
        "import numpy as np\n",
        "import pandas as pd"
      ],
      "execution_count": 0,
      "outputs": []
    },
    {
      "cell_type": "code",
      "metadata": {
        "colab_type": "code",
        "id": "E5hYWr2tFgij",
        "colab": {}
      },
      "source": [
        "import datetime\n",
        "combined_data = pd.read_csv(f'{DATA_DIR}/analysis/combined_price_tweets.csv')\n",
        "all_stock_price = pd.read_csv(f'{DATA_DIR}/preprocessed/price/all_stock_price.csv')\n",
        "price_days = list(combined_data['timestamp'].unique()) \n",
        "work_days = list(all_stock_price['timestamp'].unique())\n",
        "end = pd.to_datetime('2016-04-01')\n",
        "next_work_day_map = dict()\n",
        "for i in range(len(price_days)):\n",
        "  date = price_days[i]\n",
        "  next_work_day = pd.to_datetime(date) + datetime.timedelta(days=1)\n",
        "  #print(next_work_day)\n",
        "  decay = 0\n",
        "  while next_work_day.strftime('%Y-%m-%d') not in work_days or next_work_day.strftime('%Y-%m-%d') not in price_days:\n",
        "      if(next_work_day > end): break\n",
        "      next_work_day += datetime.timedelta(days=1)\n",
        "      decay += 1\n",
        "  next_work_day_map[str(date)] = next_work_day.strftime('%Y-%m-%d')\n",
        "stock_return_map = dict()\n",
        "for i,row in combined_data.iterrows():\n",
        "  stock_return_map[(str(row['timestamp']),row['asset'])] = row['return']"
      ],
      "execution_count": 0,
      "outputs": []
    },
    {
      "cell_type": "code",
      "metadata": {
        "colab_type": "code",
        "id": "iY6s8FPpFiPT",
        "colab": {
          "base_uri": "https://localhost:8080/",
          "height": 172
        },
        "outputId": "8dd25f21-aab9-4d1e-d416-0859622b49df"
      },
      "source": [
        "assert(stock_return_map[('2014-01-09','VZ')]==-0.020618556701030966)"
      ],
      "execution_count": 180,
      "outputs": [
        {
          "output_type": "error",
          "ename": "AssertionError",
          "evalue": "ignored",
          "traceback": [
            "\u001b[0;31m---------------------------------------------------------------------------\u001b[0m",
            "\u001b[0;31mAssertionError\u001b[0m                            Traceback (most recent call last)",
            "\u001b[0;32m<ipython-input-180-1c1d46019e43>\u001b[0m in \u001b[0;36m<module>\u001b[0;34m()\u001b[0m\n\u001b[0;32m----> 1\u001b[0;31m \u001b[0;32massert\u001b[0m\u001b[0;34m(\u001b[0m\u001b[0mstock_return_map\u001b[0m\u001b[0;34m[\u001b[0m\u001b[0;34m(\u001b[0m\u001b[0;34m'2014-01-09'\u001b[0m\u001b[0;34m,\u001b[0m\u001b[0;34m'VZ'\u001b[0m\u001b[0;34m)\u001b[0m\u001b[0;34m]\u001b[0m\u001b[0;34m==\u001b[0m\u001b[0;34m-\u001b[0m\u001b[0;36m0.020618556701030966\u001b[0m\u001b[0;34m)\u001b[0m\u001b[0;34m\u001b[0m\u001b[0;34m\u001b[0m\u001b[0m\n\u001b[0m",
            "\u001b[0;31mAssertionError\u001b[0m: "
          ]
        }
      ]
    },
    {
      "cell_type": "code",
      "metadata": {
        "colab_type": "code",
        "id": "0R8F_fVcFj4a",
        "colab": {}
      },
      "source": [
        "assert(next_work_day_map['2014-01-16']=='2014-01-21')"
      ],
      "execution_count": 0,
      "outputs": []
    },
    {
      "cell_type": "code",
      "metadata": {
        "colab_type": "code",
        "id": "6PwT7HMpFrGj",
        "colab": {}
      },
      "source": [
        "def next_n_working_day(date,n):\n",
        "  cur = date\n",
        "  while n > 0:\n",
        "    next_work_day = next_work_day_map[cur]\n",
        "    cur = next_work_day\n",
        "    if cur not in price_days:\n",
        "      return cur\n",
        "    n-=1\n",
        "  return cur\n",
        "def generate_day_n_dataset(n):\n",
        "  temp = []\n",
        "  for stock, df in combined_data.groupby(combined_data.asset):\n",
        "    all_dates = set(df['timestamp'].values)\n",
        "    for i,row in df.iterrows():\n",
        "      date = row['timestamp']\n",
        "      next_n_day = next_n_working_day(date,n)\n",
        "      sentiment = row['sentiment']\n",
        "      if next_n_day in all_dates:\n",
        "        temp.append([row['timestamp'],stock_return_map[(str(next_n_day),stock)],stock,sentiment])\n",
        "  return pd.DataFrame(temp, columns=['timestamp','return','asset','sentiment'])"
      ],
      "execution_count": 0,
      "outputs": []
    },
    {
      "cell_type": "markdown",
      "metadata": {
        "id": "QNhvsVM3EKd8",
        "colab_type": "text"
      },
      "source": [
        "## Dataset Indexing"
      ]
    },
    {
      "cell_type": "code",
      "metadata": {
        "id": "OvYoumpgndqr",
        "colab_type": "code",
        "colab": {}
      },
      "source": [
        "import tensorflow.keras.layers as layers\n",
        "from tensorflow.keras.models import Model\n",
        "from tensorflow.keras import backend as K\n",
        "import tensorflow as tf\n",
        "import tensorflow_hub as hub"
      ],
      "execution_count": 0,
      "outputs": []
    },
    {
      "cell_type": "code",
      "metadata": {
        "id": "fS5KSU5vpUHU",
        "colab_type": "code",
        "outputId": "6d9e188c-0cd4-4193-804f-8f239b551d52",
        "colab": {
          "base_uri": "https://localhost:8080/",
          "height": 179
        }
      },
      "source": [
        "import json\n",
        "with open(f'{WORK_DIR}/models/new-2-DNN-keras_args.json') as f:\n",
        "  args = json.load(f)\n",
        "args"
      ],
      "execution_count": 126,
      "outputs": [
        {
          "output_type": "execute_result",
          "data": {
            "text/plain": [
              "{'activation': 'relu',\n",
              " 'batch_size': 256,\n",
              " 'embed_size': 512,\n",
              " 'epochs': 20,\n",
              " 'loss': 'binary_crossentropy',\n",
              " 'model_name': 'new-2-DNN-keras',\n",
              " 'numberOfOutputClasses': 1,\n",
              " 'optimizer': 'adam',\n",
              " 'output_acitivation': 'sigmoid'}"
            ]
          },
          "metadata": {
            "tags": []
          },
          "execution_count": 126
        }
      ]
    },
    {
      "cell_type": "code",
      "metadata": {
        "id": "52pGfPe_oaro",
        "colab_type": "code",
        "colab": {}
      },
      "source": [
        "module_path = 'https://tfhub.dev/google/universal-sentence-encoder-large/4'\n",
        "embed = hub.load(module_path)\n",
        "def UniversalEmbedding(x):\n",
        "    return embed(tf.squeeze(tf.cast(x, tf.string)))['outputs']"
      ],
      "execution_count": 0,
      "outputs": []
    },
    {
      "cell_type": "code",
      "metadata": {
        "id": "9poQ5bk6mlBv",
        "colab_type": "code",
        "colab": {}
      },
      "source": [
        "def create_model():\n",
        "  input_text = layers.Input(shape=(1,), dtype=tf.string)\n",
        "  embedding = layers.Lambda(UniversalEmbedding, output_shape=(args['embed_size'],))(input_text)\n",
        "  dropout = layers.Dropout(0.1)(embedding)\n",
        "  dense = layers.Dense(256, activation=args['activation'])(dropout)\n",
        "  dropout1 = layers.Dropout(0.1)(dense)\n",
        "  pred = layers.Dense(args['numberOfOutputClasses'], args['output_acitivation'])(dropout1)\n",
        "  model = Model(inputs=[input_text], outputs=pred)\n",
        "  model.compile(loss=args['loss'], optimizer=args['optimizer'], metrics=['accuracy'])\n",
        "  return model"
      ],
      "execution_count": 0,
      "outputs": []
    },
    {
      "cell_type": "code",
      "metadata": {
        "id": "IYmGwjpkniGw",
        "colab_type": "code",
        "colab": {}
      },
      "source": [
        "WEIGHTS_PATH = f'{WORK_DIR}/models/new-2-DNN-keras.h5'\n",
        "model = create_model()\n",
        "model.load_weights(WEIGHTS_PATH)"
      ],
      "execution_count": 0,
      "outputs": []
    },
    {
      "cell_type": "code",
      "metadata": {
        "id": "njovK_mnrDuB",
        "colab_type": "code",
        "colab": {}
      },
      "source": [
        "import numpy as np\n",
        "import pandas as pd"
      ],
      "execution_count": 0,
      "outputs": []
    },
    {
      "cell_type": "code",
      "metadata": {
        "id": "4Z0FLJw6nmtA",
        "colab_type": "code",
        "outputId": "40f2f244-8ef2-472b-d668-7c25868ec34d",
        "colab": {
          "base_uri": "https://localhost:8080/",
          "height": 73
        }
      },
      "source": [
        "x_test = np.asarray(\n",
        "    ['I am happy I am happy I am happy I am happy I am happy I am happy I am happy I am happy I am happy I am happy I am happy I am happy I am happy I am happy I am happy I am happy I am happy I am happy I am happy I am happy I am happy I am happy I am happy I am happy I am happy I am happy I am happy I am happy I am happy I am happy I am happy I am happy I am happy I am happy I am happy I am happy I am happy I am happy I am happy I am happy I am happy I am happy I am happy I am happy I am happy I am happy I am happy I am happy I hate you'])\n",
        "x_test"
      ],
      "execution_count": 0,
      "outputs": [
        {
          "output_type": "execute_result",
          "data": {
            "text/plain": [
              "array(['I am happy I am happy I am happy I am happy I am happy I am happy I am happy I am happy I am happy I am happy I am happy I am happy I am happy I am happy I am happy I am happy I am happy I am happy I am happy I am happy I am happy I am happy I am happy I am happy I am happy I am happy I am happy I am happy I am happy I am happy I am happy I am happy I am happy I am happy I am happy I am happy I am happy I am happy I am happy I am happy I am happy I am happy I am happy I am happy I am happy I am happy I am happy I am happy I hate you'],\n",
              "      dtype='<U538')"
            ]
          },
          "metadata": {
            "tags": []
          },
          "execution_count": 30
        }
      ]
    },
    {
      "cell_type": "code",
      "metadata": {
        "id": "3xL3pYdCreYu",
        "colab_type": "code",
        "colab": {}
      },
      "source": [
        "all_stock_tweets = pd.read_csv(f'{DATA_DIR}/preprocessed/tweets/all_indexed_stock_tweets.csv')"
      ],
      "execution_count": 0,
      "outputs": []
    },
    {
      "cell_type": "code",
      "metadata": {
        "id": "4KNn3o6YrwJl",
        "colab_type": "code",
        "outputId": "1467d779-b07f-4c0c-baac-a7fffd0095d7",
        "colab": {
          "base_uri": "https://localhost:8080/",
          "height": 204
        }
      },
      "source": [
        "all_stock_tweets.head()"
      ],
      "execution_count": 0,
      "outputs": [
        {
          "output_type": "execute_result",
          "data": {
            "text/html": [
              "<div>\n",
              "<style scoped>\n",
              "    .dataframe tbody tr th:only-of-type {\n",
              "        vertical-align: middle;\n",
              "    }\n",
              "\n",
              "    .dataframe tbody tr th {\n",
              "        vertical-align: top;\n",
              "    }\n",
              "\n",
              "    .dataframe thead th {\n",
              "        text-align: right;\n",
              "    }\n",
              "</style>\n",
              "<table border=\"1\" class=\"dataframe\">\n",
              "  <thead>\n",
              "    <tr style=\"text-align: right;\">\n",
              "      <th></th>\n",
              "      <th>timestamp</th>\n",
              "      <th>source</th>\n",
              "      <th>asset</th>\n",
              "      <th>cleaned_text</th>\n",
              "    </tr>\n",
              "  </thead>\n",
              "  <tbody>\n",
              "    <tr>\n",
              "      <th>0</th>\n",
              "      <td>2014-01-03</td>\n",
              "      <td>tweet</td>\n",
              "      <td>VZ</td>\n",
              "      <td>weekly dow hashtag stocks hashtag trend dis wm...</td>\n",
              "    </tr>\n",
              "    <tr>\n",
              "      <th>1</th>\n",
              "      <td>2014-01-03</td>\n",
              "      <td>tweet</td>\n",
              "      <td>VZ</td>\n",
              "      <td>vz a new year means time for new dogs of the d...</td>\n",
              "    </tr>\n",
              "    <tr>\n",
              "      <th>2</th>\n",
              "      <td>2014-01-05</td>\n",
              "      <td>tweet</td>\n",
              "      <td>VZ</td>\n",
              "      <td>vz the s ps worst sectors in number url</td>\n",
              "    </tr>\n",
              "    <tr>\n",
              "      <th>3</th>\n",
              "      <td>2014-01-09</td>\n",
              "      <td>tweet</td>\n",
              "      <td>VZ</td>\n",
              "      <td>vz why t mobile bought verizons spectrum url</td>\n",
              "    </tr>\n",
              "    <tr>\n",
              "      <th>4</th>\n",
              "      <td>2014-01-10</td>\n",
              "      <td>tweet</td>\n",
              "      <td>VZ</td>\n",
              "      <td>hashtag video hashtag hashtag accumulation dis...</td>\n",
              "    </tr>\n",
              "  </tbody>\n",
              "</table>\n",
              "</div>"
            ],
            "text/plain": [
              "    timestamp source asset                                       cleaned_text\n",
              "0  2014-01-03  tweet    VZ  weekly dow hashtag stocks hashtag trend dis wm...\n",
              "1  2014-01-03  tweet    VZ  vz a new year means time for new dogs of the d...\n",
              "2  2014-01-05  tweet    VZ            vz the s ps worst sectors in number url\n",
              "3  2014-01-09  tweet    VZ       vz why t mobile bought verizons spectrum url\n",
              "4  2014-01-10  tweet    VZ  hashtag video hashtag hashtag accumulation dis..."
            ]
          },
          "metadata": {
            "tags": []
          },
          "execution_count": 34
        }
      ]
    },
    {
      "cell_type": "code",
      "metadata": {
        "id": "1HidXZ8ury0P",
        "colab_type": "code",
        "colab": {}
      },
      "source": [
        "x = all_stock_tweets.cleaned_text.values"
      ],
      "execution_count": 0,
      "outputs": []
    },
    {
      "cell_type": "code",
      "metadata": {
        "id": "IqWs_qqWrCIv",
        "colab_type": "code",
        "colab": {}
      },
      "source": [
        "preds = model.predict(x)"
      ],
      "execution_count": 0,
      "outputs": []
    },
    {
      "cell_type": "code",
      "metadata": {
        "id": "98NcJu6kr95v",
        "colab_type": "code",
        "colab": {}
      },
      "source": [
        "all_stock_tweets['sentiment'] = preds"
      ],
      "execution_count": 0,
      "outputs": []
    },
    {
      "cell_type": "code",
      "metadata": {
        "id": "9_gJBePWstCd",
        "colab_type": "code",
        "outputId": "b541ac8d-afa6-4c02-db67-4121d48939f6",
        "colab": {
          "base_uri": "https://localhost:8080/",
          "height": 204
        }
      },
      "source": [
        "all_stock_tweets.tail()"
      ],
      "execution_count": 0,
      "outputs": [
        {
          "output_type": "execute_result",
          "data": {
            "text/html": [
              "<div>\n",
              "<style scoped>\n",
              "    .dataframe tbody tr th:only-of-type {\n",
              "        vertical-align: middle;\n",
              "    }\n",
              "\n",
              "    .dataframe tbody tr th {\n",
              "        vertical-align: top;\n",
              "    }\n",
              "\n",
              "    .dataframe thead th {\n",
              "        text-align: right;\n",
              "    }\n",
              "</style>\n",
              "<table border=\"1\" class=\"dataframe\">\n",
              "  <thead>\n",
              "    <tr style=\"text-align: right;\">\n",
              "      <th></th>\n",
              "      <th>timestamp</th>\n",
              "      <th>source</th>\n",
              "      <th>asset</th>\n",
              "      <th>cleaned_text</th>\n",
              "      <th>sentiment</th>\n",
              "    </tr>\n",
              "  </thead>\n",
              "  <tbody>\n",
              "    <tr>\n",
              "      <th>105556</th>\n",
              "      <td>2015-10-06</td>\n",
              "      <td>tweet</td>\n",
              "      <td>CODI</td>\n",
              "      <td>codi received a new alert find out why at url</td>\n",
              "      <td>0.454480</td>\n",
              "    </tr>\n",
              "    <tr>\n",
              "      <th>105557</th>\n",
              "      <td>2015-10-07</td>\n",
              "      <td>tweet</td>\n",
              "      <td>CODI</td>\n",
              "      <td>codi is rated buy percent upside by wall stree...</td>\n",
              "      <td>0.492932</td>\n",
              "    </tr>\n",
              "    <tr>\n",
              "      <th>105558</th>\n",
              "      <td>2015-11-11</td>\n",
              "      <td>tweet</td>\n",
              "      <td>CODI</td>\n",
              "      <td>compass diversified holdings stock rating reaf...</td>\n",
              "      <td>0.712209</td>\n",
              "    </tr>\n",
              "    <tr>\n",
              "      <th>105559</th>\n",
              "      <td>2015-11-13</td>\n",
              "      <td>tweet</td>\n",
              "      <td>CODI</td>\n",
              "      <td>codi compass diversified holdings nyse codi st...</td>\n",
              "      <td>0.286823</td>\n",
              "    </tr>\n",
              "    <tr>\n",
              "      <th>105560</th>\n",
              "      <td>2016-01-20</td>\n",
              "      <td>tweet</td>\n",
              "      <td>CODI</td>\n",
              "      <td>this stock has a percent yield and sells for l...</td>\n",
              "      <td>0.563455</td>\n",
              "    </tr>\n",
              "  </tbody>\n",
              "</table>\n",
              "</div>"
            ],
            "text/plain": [
              "         timestamp  ... sentiment\n",
              "105556  2015-10-06  ...  0.454480\n",
              "105557  2015-10-07  ...  0.492932\n",
              "105558  2015-11-11  ...  0.712209\n",
              "105559  2015-11-13  ...  0.286823\n",
              "105560  2016-01-20  ...  0.563455\n",
              "\n",
              "[5 rows x 5 columns]"
            ]
          },
          "metadata": {
            "tags": []
          },
          "execution_count": 41
        }
      ]
    },
    {
      "cell_type": "code",
      "metadata": {
        "id": "1T2MMUTJtHmn",
        "colab_type": "code",
        "outputId": "c94ec077-0010-47b0-d5d1-a8f5ebeafea5",
        "colab": {
          "base_uri": "https://localhost:8080/",
          "height": 73
        }
      },
      "source": [
        "x_test = ['I am happy I am happy I am happy I am happy I am happy I am happy I am happy I am happy I am happy I am happy I am happy I am happy I am happy I am happy I am happy I am happy I am happy I am happy I am happy I am happy I am happy I am happy I am happy I am happy I am happy I am happy I am happy I am happy I am happy I am happy I am happy I am happy I am happy I am happy I am happy I am happy I am happy I am happy I am happy I am happy I am happy I am happy I am happy I am happy I am happy I am happy I am happy I am happy hate rubbish rubbish','hi']\n",
        "x_test =np.asarray(x_test,dtype='object')\n",
        "x_test"
      ],
      "execution_count": 0,
      "outputs": [
        {
          "output_type": "execute_result",
          "data": {
            "text/plain": [
              "array(['I am happy I am happy I am happy I am happy I am happy I am happy I am happy I am happy I am happy I am happy I am happy I am happy I am happy I am happy I am happy I am happy I am happy I am happy I am happy I am happy I am happy I am happy I am happy I am happy I am happy I am happy I am happy I am happy I am happy I am happy I am happy I am happy I am happy I am happy I am happy I am happy I am happy I am happy I am happy I am happy I am happy I am happy I am happy I am happy I am happy I am happy I am happy I am happy hate rubbish rubbish',\n",
              "       'hi'], dtype=object)"
            ]
          },
          "metadata": {
            "tags": []
          },
          "execution_count": 54
        }
      ]
    },
    {
      "cell_type": "code",
      "metadata": {
        "id": "cP0Ot6nas9Z8",
        "colab_type": "code",
        "outputId": "551fd1d7-de73-4e93-c384-db895897029f",
        "colab": {
          "base_uri": "https://localhost:8080/",
          "height": 53
        }
      },
      "source": [
        "model.predict(x_test)"
      ],
      "execution_count": 0,
      "outputs": [
        {
          "output_type": "execute_result",
          "data": {
            "text/plain": [
              "array([[0.94497925],\n",
              "       [0.6760514 ]], dtype=float32)"
            ]
          },
          "metadata": {
            "tags": []
          },
          "execution_count": 55
        }
      ]
    },
    {
      "cell_type": "code",
      "metadata": {
        "id": "U3ijG0BJtV1J",
        "colab_type": "code",
        "colab": {}
      },
      "source": [
        "all_stock_tweets.to_csv(f'{DATA_DIR}/indexed/tweets/new_indexed_tweets.csv',index=False)"
      ],
      "execution_count": 0,
      "outputs": []
    },
    {
      "cell_type": "code",
      "metadata": {
        "id": "jC7KioyCuQ6H",
        "colab_type": "code",
        "colab": {}
      },
      "source": [
        "news = pd.read_csv(f'{DATA_DIR}/preprocessed/news/news.csv')"
      ],
      "execution_count": 0,
      "outputs": []
    },
    {
      "cell_type": "code",
      "metadata": {
        "id": "cGiJQ72yudLd",
        "colab_type": "code",
        "colab": {}
      },
      "source": [
        "news['combined_title_content'] = news[['title','content']].apply(lambda x:' '.join(x.dropna()), axis=1)"
      ],
      "execution_count": 0,
      "outputs": []
    },
    {
      "cell_type": "code",
      "metadata": {
        "id": "qQ3hQ407umRy",
        "colab_type": "code",
        "colab": {}
      },
      "source": [
        "news.drop_duplicates(keep='first',inplace=True)"
      ],
      "execution_count": 0,
      "outputs": []
    },
    {
      "cell_type": "code",
      "metadata": {
        "id": "HJeJKGK4upWS",
        "colab_type": "code",
        "outputId": "89848fc3-26ea-4d73-8c91-ab955c172eae",
        "colab": {
          "base_uri": "https://localhost:8080/",
          "height": 204
        }
      },
      "source": [
        "news.head()"
      ],
      "execution_count": 0,
      "outputs": [
        {
          "output_type": "execute_result",
          "data": {
            "text/html": [
              "<div>\n",
              "<style scoped>\n",
              "    .dataframe tbody tr th:only-of-type {\n",
              "        vertical-align: middle;\n",
              "    }\n",
              "\n",
              "    .dataframe tbody tr th {\n",
              "        vertical-align: top;\n",
              "    }\n",
              "\n",
              "    .dataframe thead th {\n",
              "        text-align: right;\n",
              "    }\n",
              "</style>\n",
              "<table border=\"1\" class=\"dataframe\">\n",
              "  <thead>\n",
              "    <tr style=\"text-align: right;\">\n",
              "      <th></th>\n",
              "      <th>timestamp</th>\n",
              "      <th>title</th>\n",
              "      <th>content</th>\n",
              "      <th>source</th>\n",
              "      <th>combined_title_content</th>\n",
              "    </tr>\n",
              "  </thead>\n",
              "  <tbody>\n",
              "    <tr>\n",
              "      <th>0</th>\n",
              "      <td>2014-01-01</td>\n",
              "      <td>business insider</td>\n",
              "      <td>back in clement c moore published the classic ...</td>\n",
              "      <td>news_full</td>\n",
              "      <td>business insider back in clement c moore publi...</td>\n",
              "    </tr>\n",
              "    <tr>\n",
              "      <th>1</th>\n",
              "      <td>2014-01-01</td>\n",
              "      <td>business insider</td>\n",
              "      <td>how much do million turkeys weigh that is the ...</td>\n",
              "      <td>news_full</td>\n",
              "      <td>business insider how much do million turkeys w...</td>\n",
              "    </tr>\n",
              "    <tr>\n",
              "      <th>2</th>\n",
              "      <td>2014-01-01</td>\n",
              "      <td>business insider</td>\n",
              "      <td>it is thanksgiving week once again and here at...</td>\n",
              "      <td>news_full</td>\n",
              "      <td>business insider it is thanksgiving week once ...</td>\n",
              "    </tr>\n",
              "    <tr>\n",
              "      <th>3</th>\n",
              "      <td>2014-01-01</td>\n",
              "      <td>business insider</td>\n",
              "      <td>if you take time to think about it the sun is ...</td>\n",
              "      <td>news_full</td>\n",
              "      <td>business insider if you take time to think abo...</td>\n",
              "    </tr>\n",
              "    <tr>\n",
              "      <th>4</th>\n",
              "      <td>2014-01-01</td>\n",
              "      <td>business insider</td>\n",
              "      <td>now that it is the day after thanksgiving when...</td>\n",
              "      <td>news_full</td>\n",
              "      <td>business insider now that it is the day after ...</td>\n",
              "    </tr>\n",
              "  </tbody>\n",
              "</table>\n",
              "</div>"
            ],
            "text/plain": [
              "    timestamp  ...                             combined_title_content\n",
              "0  2014-01-01  ...  business insider back in clement c moore publi...\n",
              "1  2014-01-01  ...  business insider how much do million turkeys w...\n",
              "2  2014-01-01  ...  business insider it is thanksgiving week once ...\n",
              "3  2014-01-01  ...  business insider if you take time to think abo...\n",
              "4  2014-01-01  ...  business insider now that it is the day after ...\n",
              "\n",
              "[5 rows x 5 columns]"
            ]
          },
          "metadata": {
            "tags": []
          },
          "execution_count": 15
        }
      ]
    },
    {
      "cell_type": "code",
      "metadata": {
        "id": "PSM-ijXtuy5y",
        "colab_type": "code",
        "colab": {}
      },
      "source": [
        "x = news.combined_title_content.values"
      ],
      "execution_count": 0,
      "outputs": []
    },
    {
      "cell_type": "code",
      "metadata": {
        "id": "oYxmZVyCvqAY",
        "colab_type": "code",
        "outputId": "8f876999-a871-4894-c6cf-3b931be624d7",
        "colab": {
          "base_uri": "https://localhost:8080/",
          "height": 73
        }
      },
      "source": [
        "x[:1]"
      ],
      "execution_count": 0,
      "outputs": [
        {
          "output_type": "execute_result",
          "data": {
            "text/plain": [
              "array(['business insider back in clement c moore published the classic christmas poem twas the night before christmas which convinced the world once and for all time that saint nicholas perhaps now better known as santa claus traveled the world in a miniature sleigh pulled by eight tiny reindeer did you ever wonder what that sleigh looked like to find out what a sleigh in clement moores time might have looked like we turned to the you s patent office since many inventions like sleighs really represent the results of the cumulative incremental improvements of things that already exist by going to the earliest sleighrelated patents we should be able to get a good sense of what they looked like in that early era the oldest patent for a sleigh in the united states that we could find is represented in you s patent which was issued to daniel carpenter of nelson new york on september as you can see it is really more of a sled but it really gives a good idea of what the suspension for a sleigh was like in the earlys superrigid santa would definitely have been in for a rough experience on his ride the next oldest patent we found also gives some insight into the sleighriding experience heres you s patent which looks a lot more like the sleigh we would expect santa to drive the invention incorporated into this sleigh design by moses miller of fort ann new york is the screen for keeping snow out of the sleighs coach what that tells us is some twenty years earlier the typical sleigh riding experience frequently involved having snow kicked up into the cab which means that in addition to a very bumpy ride santa was likely also cold damp and miserable which perhaps explains his girth moore describes st nicholas as chubby and plump which of course would provide him with the necessary insulation to cope with the cold our next sleigh patent takes us years further into the future as david s barber almon thompson and de algeroy thompson were awarded you s patent for their improvement in sleighs on may their innovation retractable wheels now think about this the rails of a sleigh are meant for traveling over snow but what good are they when they run out of snow and ice to run upon santas rough ride would get a lot rougher unless he could quickly convert his sleigh into a wagon the next sleigh invention we will feature starts going off in a very different direction charles h hudsons you s patent is the earliest selfpropelled sleigh we came across in our search of the you s patent offices records which would eliminate those eight tiny reindeer that worked as santas propulsion system but that is not the main innovation here for the first time we see that a large spring has been incorporated under the seat of the sleigh which would make this one of the first sleighs we can see to have some kind of shock absorption capability not that it was used for that it was really part of the selfpropulsion system for this sleigh design where the driver would throw their weight onto the seat which would then compress before springing back the momentum of which was converted into forward motion although left unstated in the patent that method of locomotion would also address the issue of santas chubbiness because going anywhere on this sleigh would be a real workout the next sleigh patent we will consider was invented by john zbornik of old mission iowa who thought to incorporate leaf springs between the runners and the coach of the sleigh to work as true shock absorbers in you s patent it would be another years before sleigh designs really advanced thanks to willie n snow of snowville new hampshire who would invent a more robust and simpler suspension system for sleighs in you s patent on april as you can imagine it would not be long after this point in time that the new you s automotive industry would begin to influence sleigh inventions but not before steam power was first tried that innovation was the focus of you s patent which was issued to joseph raymond tibbets of delmar new york on march looks a bit like a world war i tank but then that is pretty close to what it was considering the era in which it was invented still with reindeer human and steam power being what they are american inventors finally turned to the internal combustion engine from automobiles to propel their sleigh inventions but since we are now into the brand new age of airplanes why not throw in some propellers too as samuel weinberg did in you s patent now we are even getting close to a flying sleigh but you will notice that sleigh riders are still exposed to the cold eugene e lesher addressed that shortcoming in you s patent for his motorsleigh invention which was issued on october do you feel it we are almost ready to fly you s patent issued to ole frederickson of great falls montana on february covers the aerial sleigh which was designed to fly at very low altitudes above snow and ice and no magical cornfed reindeer were required and that really covers the history of the sleigh in you s patents from a functional standpoint the snowmobile has replaced the sleigh very early versions of what we would recognize modern snowmobiles are shown in you s patent and you s patent and as a result sleighs as a means of transportation have fallen by the wayside of history but then why would a little something like that ever stop st nick this is a man after all who was flying sleighs over years before the aerial sleigh was even invented merry christmas we will be back in read more posts on political calculations'],\n",
              "      dtype=object)"
            ]
          },
          "metadata": {
            "tags": []
          },
          "execution_count": 17
        }
      ]
    },
    {
      "cell_type": "code",
      "metadata": {
        "id": "oTf5skByu5yq",
        "colab_type": "code",
        "outputId": "4379b1f8-7762-44a8-bc97-dd944b3ca628",
        "colab": {
          "base_uri": "https://localhost:8080/",
          "height": 540
        }
      },
      "source": [
        "preds = model.predict(x, batch_size=2)"
      ],
      "execution_count": 0,
      "outputs": [
        {
          "output_type": "error",
          "ename": "ResourceExhaustedError",
          "evalue": "ignored",
          "traceback": [
            "\u001b[0;31m---------------------------------------------------------------------------\u001b[0m",
            "\u001b[0;31mResourceExhaustedError\u001b[0m                    Traceback (most recent call last)",
            "\u001b[0;32m<ipython-input-17-1fa8fb962702>\u001b[0m in \u001b[0;36m<module>\u001b[0;34m()\u001b[0m\n\u001b[0;32m----> 1\u001b[0;31m \u001b[0mpreds\u001b[0m \u001b[0;34m=\u001b[0m \u001b[0mmodel\u001b[0m\u001b[0;34m.\u001b[0m\u001b[0mpredict\u001b[0m\u001b[0;34m(\u001b[0m\u001b[0mx\u001b[0m\u001b[0;34m,\u001b[0m \u001b[0mbatch_size\u001b[0m\u001b[0;34m=\u001b[0m\u001b[0;36m2\u001b[0m\u001b[0;34m)\u001b[0m\u001b[0;34m\u001b[0m\u001b[0;34m\u001b[0m\u001b[0m\n\u001b[0m",
            "\u001b[0;32m/tensorflow-2.0.0/python3.6/tensorflow_core/python/keras/engine/training.py\u001b[0m in \u001b[0;36mpredict\u001b[0;34m(self, x, batch_size, verbose, steps, callbacks, max_queue_size, workers, use_multiprocessing)\u001b[0m\n\u001b[1;32m    907\u001b[0m         \u001b[0mmax_queue_size\u001b[0m\u001b[0;34m=\u001b[0m\u001b[0mmax_queue_size\u001b[0m\u001b[0;34m,\u001b[0m\u001b[0;34m\u001b[0m\u001b[0;34m\u001b[0m\u001b[0m\n\u001b[1;32m    908\u001b[0m         \u001b[0mworkers\u001b[0m\u001b[0;34m=\u001b[0m\u001b[0mworkers\u001b[0m\u001b[0;34m,\u001b[0m\u001b[0;34m\u001b[0m\u001b[0;34m\u001b[0m\u001b[0m\n\u001b[0;32m--> 909\u001b[0;31m         use_multiprocessing=use_multiprocessing)\n\u001b[0m\u001b[1;32m    910\u001b[0m \u001b[0;34m\u001b[0m\u001b[0m\n\u001b[1;32m    911\u001b[0m   \u001b[0;32mdef\u001b[0m \u001b[0mreset_metrics\u001b[0m\u001b[0;34m(\u001b[0m\u001b[0mself\u001b[0m\u001b[0;34m)\u001b[0m\u001b[0;34m:\u001b[0m\u001b[0;34m\u001b[0m\u001b[0;34m\u001b[0m\u001b[0m\n",
            "\u001b[0;32m/tensorflow-2.0.0/python3.6/tensorflow_core/python/keras/engine/training_v2.py\u001b[0m in \u001b[0;36mpredict\u001b[0;34m(self, model, x, batch_size, verbose, steps, callbacks, **kwargs)\u001b[0m\n\u001b[1;32m    460\u001b[0m     return self._model_iteration(\n\u001b[1;32m    461\u001b[0m         \u001b[0mmodel\u001b[0m\u001b[0;34m,\u001b[0m \u001b[0mModeKeys\u001b[0m\u001b[0;34m.\u001b[0m\u001b[0mPREDICT\u001b[0m\u001b[0;34m,\u001b[0m \u001b[0mx\u001b[0m\u001b[0;34m=\u001b[0m\u001b[0mx\u001b[0m\u001b[0;34m,\u001b[0m \u001b[0mbatch_size\u001b[0m\u001b[0;34m=\u001b[0m\u001b[0mbatch_size\u001b[0m\u001b[0;34m,\u001b[0m \u001b[0mverbose\u001b[0m\u001b[0;34m=\u001b[0m\u001b[0mverbose\u001b[0m\u001b[0;34m,\u001b[0m\u001b[0;34m\u001b[0m\u001b[0;34m\u001b[0m\u001b[0m\n\u001b[0;32m--> 462\u001b[0;31m         steps=steps, callbacks=callbacks, **kwargs)\n\u001b[0m\u001b[1;32m    463\u001b[0m \u001b[0;34m\u001b[0m\u001b[0m\n\u001b[1;32m    464\u001b[0m \u001b[0;34m\u001b[0m\u001b[0m\n",
            "\u001b[0;32m/tensorflow-2.0.0/python3.6/tensorflow_core/python/keras/engine/training_v2.py\u001b[0m in \u001b[0;36m_model_iteration\u001b[0;34m(self, model, mode, x, y, batch_size, verbose, sample_weight, steps, callbacks, **kwargs)\u001b[0m\n\u001b[1;32m    442\u001b[0m               \u001b[0mmode\u001b[0m\u001b[0;34m=\u001b[0m\u001b[0mmode\u001b[0m\u001b[0;34m,\u001b[0m\u001b[0;34m\u001b[0m\u001b[0;34m\u001b[0m\u001b[0m\n\u001b[1;32m    443\u001b[0m               \u001b[0mtraining_context\u001b[0m\u001b[0;34m=\u001b[0m\u001b[0mtraining_context\u001b[0m\u001b[0;34m,\u001b[0m\u001b[0;34m\u001b[0m\u001b[0;34m\u001b[0m\u001b[0m\n\u001b[0;32m--> 444\u001b[0;31m               total_epochs=1)\n\u001b[0m\u001b[1;32m    445\u001b[0m           \u001b[0mcbks\u001b[0m\u001b[0;34m.\u001b[0m\u001b[0mmake_logs\u001b[0m\u001b[0;34m(\u001b[0m\u001b[0mmodel\u001b[0m\u001b[0;34m,\u001b[0m \u001b[0mepoch_logs\u001b[0m\u001b[0;34m,\u001b[0m \u001b[0mresult\u001b[0m\u001b[0;34m,\u001b[0m \u001b[0mmode\u001b[0m\u001b[0;34m)\u001b[0m\u001b[0;34m\u001b[0m\u001b[0;34m\u001b[0m\u001b[0m\n\u001b[1;32m    446\u001b[0m \u001b[0;34m\u001b[0m\u001b[0m\n",
            "\u001b[0;32m/tensorflow-2.0.0/python3.6/tensorflow_core/python/keras/engine/training_v2.py\u001b[0m in \u001b[0;36mrun_one_epoch\u001b[0;34m(model, iterator, execution_function, dataset_size, batch_size, strategy, steps_per_epoch, num_samples, mode, training_context, total_epochs)\u001b[0m\n\u001b[1;32m    121\u001b[0m         step=step, mode=mode, size=current_batch_size) as batch_logs:\n\u001b[1;32m    122\u001b[0m       \u001b[0;32mtry\u001b[0m\u001b[0;34m:\u001b[0m\u001b[0;34m\u001b[0m\u001b[0;34m\u001b[0m\u001b[0m\n\u001b[0;32m--> 123\u001b[0;31m         \u001b[0mbatch_outs\u001b[0m \u001b[0;34m=\u001b[0m \u001b[0mexecution_function\u001b[0m\u001b[0;34m(\u001b[0m\u001b[0miterator\u001b[0m\u001b[0;34m)\u001b[0m\u001b[0;34m\u001b[0m\u001b[0;34m\u001b[0m\u001b[0m\n\u001b[0m\u001b[1;32m    124\u001b[0m       \u001b[0;32mexcept\u001b[0m \u001b[0;34m(\u001b[0m\u001b[0mStopIteration\u001b[0m\u001b[0;34m,\u001b[0m \u001b[0merrors\u001b[0m\u001b[0;34m.\u001b[0m\u001b[0mOutOfRangeError\u001b[0m\u001b[0;34m)\u001b[0m\u001b[0;34m:\u001b[0m\u001b[0;34m\u001b[0m\u001b[0;34m\u001b[0m\u001b[0m\n\u001b[1;32m    125\u001b[0m         \u001b[0;31m# TODO(kaftan): File bug about tf function and errors.OutOfRangeError?\u001b[0m\u001b[0;34m\u001b[0m\u001b[0;34m\u001b[0m\u001b[0;34m\u001b[0m\u001b[0m\n",
            "\u001b[0;32m/tensorflow-2.0.0/python3.6/tensorflow_core/python/keras/engine/training_v2_utils.py\u001b[0m in \u001b[0;36mexecution_function\u001b[0;34m(input_fn)\u001b[0m\n\u001b[1;32m     84\u001b[0m     \u001b[0;31m# `numpy` translates Tensors to values in Eager mode.\u001b[0m\u001b[0;34m\u001b[0m\u001b[0;34m\u001b[0m\u001b[0;34m\u001b[0m\u001b[0m\n\u001b[1;32m     85\u001b[0m     return nest.map_structure(_non_none_constant_value,\n\u001b[0;32m---> 86\u001b[0;31m                               distributed_function(input_fn))\n\u001b[0m\u001b[1;32m     87\u001b[0m \u001b[0;34m\u001b[0m\u001b[0m\n\u001b[1;32m     88\u001b[0m   \u001b[0;32mreturn\u001b[0m \u001b[0mexecution_function\u001b[0m\u001b[0;34m\u001b[0m\u001b[0;34m\u001b[0m\u001b[0m\n",
            "\u001b[0;32m/tensorflow-2.0.0/python3.6/tensorflow_core/python/eager/def_function.py\u001b[0m in \u001b[0;36m__call__\u001b[0;34m(self, *args, **kwds)\u001b[0m\n\u001b[1;32m    455\u001b[0m \u001b[0;34m\u001b[0m\u001b[0m\n\u001b[1;32m    456\u001b[0m     \u001b[0mtracing_count\u001b[0m \u001b[0;34m=\u001b[0m \u001b[0mself\u001b[0m\u001b[0;34m.\u001b[0m\u001b[0m_get_tracing_count\u001b[0m\u001b[0;34m(\u001b[0m\u001b[0;34m)\u001b[0m\u001b[0;34m\u001b[0m\u001b[0;34m\u001b[0m\u001b[0m\n\u001b[0;32m--> 457\u001b[0;31m     \u001b[0mresult\u001b[0m \u001b[0;34m=\u001b[0m \u001b[0mself\u001b[0m\u001b[0;34m.\u001b[0m\u001b[0m_call\u001b[0m\u001b[0;34m(\u001b[0m\u001b[0;34m*\u001b[0m\u001b[0margs\u001b[0m\u001b[0;34m,\u001b[0m \u001b[0;34m**\u001b[0m\u001b[0mkwds\u001b[0m\u001b[0;34m)\u001b[0m\u001b[0;34m\u001b[0m\u001b[0;34m\u001b[0m\u001b[0m\n\u001b[0m\u001b[1;32m    458\u001b[0m     \u001b[0;32mif\u001b[0m \u001b[0mtracing_count\u001b[0m \u001b[0;34m==\u001b[0m \u001b[0mself\u001b[0m\u001b[0;34m.\u001b[0m\u001b[0m_get_tracing_count\u001b[0m\u001b[0;34m(\u001b[0m\u001b[0;34m)\u001b[0m\u001b[0;34m:\u001b[0m\u001b[0;34m\u001b[0m\u001b[0;34m\u001b[0m\u001b[0m\n\u001b[1;32m    459\u001b[0m       \u001b[0mself\u001b[0m\u001b[0;34m.\u001b[0m\u001b[0m_call_counter\u001b[0m\u001b[0;34m.\u001b[0m\u001b[0mcalled_without_tracing\u001b[0m\u001b[0;34m(\u001b[0m\u001b[0;34m)\u001b[0m\u001b[0;34m\u001b[0m\u001b[0;34m\u001b[0m\u001b[0m\n",
            "\u001b[0;32m/tensorflow-2.0.0/python3.6/tensorflow_core/python/eager/def_function.py\u001b[0m in \u001b[0;36m_call\u001b[0;34m(self, *args, **kwds)\u001b[0m\n\u001b[1;32m    492\u001b[0m       \u001b[0;31m# In this case we have not created variables on the first call. So we can\u001b[0m\u001b[0;34m\u001b[0m\u001b[0;34m\u001b[0m\u001b[0;34m\u001b[0m\u001b[0m\n\u001b[1;32m    493\u001b[0m       \u001b[0;31m# run the first trace but we should fail if variables are created.\u001b[0m\u001b[0;34m\u001b[0m\u001b[0;34m\u001b[0m\u001b[0;34m\u001b[0m\u001b[0m\n\u001b[0;32m--> 494\u001b[0;31m       \u001b[0mresults\u001b[0m \u001b[0;34m=\u001b[0m \u001b[0mself\u001b[0m\u001b[0;34m.\u001b[0m\u001b[0m_stateful_fn\u001b[0m\u001b[0;34m(\u001b[0m\u001b[0;34m*\u001b[0m\u001b[0margs\u001b[0m\u001b[0;34m,\u001b[0m \u001b[0;34m**\u001b[0m\u001b[0mkwds\u001b[0m\u001b[0;34m)\u001b[0m\u001b[0;34m\u001b[0m\u001b[0;34m\u001b[0m\u001b[0m\n\u001b[0m\u001b[1;32m    495\u001b[0m       \u001b[0;32mif\u001b[0m \u001b[0mself\u001b[0m\u001b[0;34m.\u001b[0m\u001b[0m_created_variables\u001b[0m\u001b[0;34m:\u001b[0m\u001b[0;34m\u001b[0m\u001b[0;34m\u001b[0m\u001b[0m\n\u001b[1;32m    496\u001b[0m         raise ValueError(\"Creating variables on a non-first call to a function\"\n",
            "\u001b[0;32m/tensorflow-2.0.0/python3.6/tensorflow_core/python/eager/function.py\u001b[0m in \u001b[0;36m__call__\u001b[0;34m(self, *args, **kwargs)\u001b[0m\n\u001b[1;32m   1821\u001b[0m     \u001b[0;34m\"\"\"Calls a graph function specialized to the inputs.\"\"\"\u001b[0m\u001b[0;34m\u001b[0m\u001b[0;34m\u001b[0m\u001b[0m\n\u001b[1;32m   1822\u001b[0m     \u001b[0mgraph_function\u001b[0m\u001b[0;34m,\u001b[0m \u001b[0margs\u001b[0m\u001b[0;34m,\u001b[0m \u001b[0mkwargs\u001b[0m \u001b[0;34m=\u001b[0m \u001b[0mself\u001b[0m\u001b[0;34m.\u001b[0m\u001b[0m_maybe_define_function\u001b[0m\u001b[0;34m(\u001b[0m\u001b[0margs\u001b[0m\u001b[0;34m,\u001b[0m \u001b[0mkwargs\u001b[0m\u001b[0;34m)\u001b[0m\u001b[0;34m\u001b[0m\u001b[0;34m\u001b[0m\u001b[0m\n\u001b[0;32m-> 1823\u001b[0;31m     \u001b[0;32mreturn\u001b[0m \u001b[0mgraph_function\u001b[0m\u001b[0;34m.\u001b[0m\u001b[0m_filtered_call\u001b[0m\u001b[0;34m(\u001b[0m\u001b[0margs\u001b[0m\u001b[0;34m,\u001b[0m \u001b[0mkwargs\u001b[0m\u001b[0;34m)\u001b[0m  \u001b[0;31m# pylint: disable=protected-access\u001b[0m\u001b[0;34m\u001b[0m\u001b[0;34m\u001b[0m\u001b[0m\n\u001b[0m\u001b[1;32m   1824\u001b[0m \u001b[0;34m\u001b[0m\u001b[0m\n\u001b[1;32m   1825\u001b[0m   \u001b[0;34m@\u001b[0m\u001b[0mproperty\u001b[0m\u001b[0;34m\u001b[0m\u001b[0;34m\u001b[0m\u001b[0m\n",
            "\u001b[0;32m/tensorflow-2.0.0/python3.6/tensorflow_core/python/eager/function.py\u001b[0m in \u001b[0;36m_filtered_call\u001b[0;34m(self, args, kwargs)\u001b[0m\n\u001b[1;32m   1139\u001b[0m          if isinstance(t, (ops.Tensor,\n\u001b[1;32m   1140\u001b[0m                            resource_variable_ops.BaseResourceVariable))),\n\u001b[0;32m-> 1141\u001b[0;31m         self.captured_inputs)\n\u001b[0m\u001b[1;32m   1142\u001b[0m \u001b[0;34m\u001b[0m\u001b[0m\n\u001b[1;32m   1143\u001b[0m   \u001b[0;32mdef\u001b[0m \u001b[0m_call_flat\u001b[0m\u001b[0;34m(\u001b[0m\u001b[0mself\u001b[0m\u001b[0;34m,\u001b[0m \u001b[0margs\u001b[0m\u001b[0;34m,\u001b[0m \u001b[0mcaptured_inputs\u001b[0m\u001b[0;34m,\u001b[0m \u001b[0mcancellation_manager\u001b[0m\u001b[0;34m=\u001b[0m\u001b[0;32mNone\u001b[0m\u001b[0;34m)\u001b[0m\u001b[0;34m:\u001b[0m\u001b[0;34m\u001b[0m\u001b[0;34m\u001b[0m\u001b[0m\n",
            "\u001b[0;32m/tensorflow-2.0.0/python3.6/tensorflow_core/python/eager/function.py\u001b[0m in \u001b[0;36m_call_flat\u001b[0;34m(self, args, captured_inputs, cancellation_manager)\u001b[0m\n\u001b[1;32m   1222\u001b[0m     \u001b[0;32mif\u001b[0m \u001b[0mexecuting_eagerly\u001b[0m\u001b[0;34m:\u001b[0m\u001b[0;34m\u001b[0m\u001b[0;34m\u001b[0m\u001b[0m\n\u001b[1;32m   1223\u001b[0m       flat_outputs = forward_function.call(\n\u001b[0;32m-> 1224\u001b[0;31m           ctx, args, cancellation_manager=cancellation_manager)\n\u001b[0m\u001b[1;32m   1225\u001b[0m     \u001b[0;32melse\u001b[0m\u001b[0;34m:\u001b[0m\u001b[0;34m\u001b[0m\u001b[0;34m\u001b[0m\u001b[0m\n\u001b[1;32m   1226\u001b[0m       \u001b[0mgradient_name\u001b[0m \u001b[0;34m=\u001b[0m \u001b[0mself\u001b[0m\u001b[0;34m.\u001b[0m\u001b[0m_delayed_rewrite_functions\u001b[0m\u001b[0;34m.\u001b[0m\u001b[0mregister\u001b[0m\u001b[0;34m(\u001b[0m\u001b[0;34m)\u001b[0m\u001b[0;34m\u001b[0m\u001b[0;34m\u001b[0m\u001b[0m\n",
            "\u001b[0;32m/tensorflow-2.0.0/python3.6/tensorflow_core/python/eager/function.py\u001b[0m in \u001b[0;36mcall\u001b[0;34m(self, ctx, args, cancellation_manager)\u001b[0m\n\u001b[1;32m    509\u001b[0m               \u001b[0minputs\u001b[0m\u001b[0;34m=\u001b[0m\u001b[0margs\u001b[0m\u001b[0;34m,\u001b[0m\u001b[0;34m\u001b[0m\u001b[0;34m\u001b[0m\u001b[0m\n\u001b[1;32m    510\u001b[0m               \u001b[0mattrs\u001b[0m\u001b[0;34m=\u001b[0m\u001b[0;34m(\u001b[0m\u001b[0;34m\"executor_type\"\u001b[0m\u001b[0;34m,\u001b[0m \u001b[0mexecutor_type\u001b[0m\u001b[0;34m,\u001b[0m \u001b[0;34m\"config_proto\"\u001b[0m\u001b[0;34m,\u001b[0m \u001b[0mconfig\u001b[0m\u001b[0;34m)\u001b[0m\u001b[0;34m,\u001b[0m\u001b[0;34m\u001b[0m\u001b[0;34m\u001b[0m\u001b[0m\n\u001b[0;32m--> 511\u001b[0;31m               ctx=ctx)\n\u001b[0m\u001b[1;32m    512\u001b[0m         \u001b[0;32melse\u001b[0m\u001b[0;34m:\u001b[0m\u001b[0;34m\u001b[0m\u001b[0;34m\u001b[0m\u001b[0m\n\u001b[1;32m    513\u001b[0m           outputs = execute.execute_with_cancellation(\n",
            "\u001b[0;32m/tensorflow-2.0.0/python3.6/tensorflow_core/python/eager/execute.py\u001b[0m in \u001b[0;36mquick_execute\u001b[0;34m(op_name, num_outputs, inputs, attrs, ctx, name)\u001b[0m\n\u001b[1;32m     65\u001b[0m     \u001b[0;32melse\u001b[0m\u001b[0;34m:\u001b[0m\u001b[0;34m\u001b[0m\u001b[0;34m\u001b[0m\u001b[0m\n\u001b[1;32m     66\u001b[0m       \u001b[0mmessage\u001b[0m \u001b[0;34m=\u001b[0m \u001b[0me\u001b[0m\u001b[0;34m.\u001b[0m\u001b[0mmessage\u001b[0m\u001b[0;34m\u001b[0m\u001b[0;34m\u001b[0m\u001b[0m\n\u001b[0;32m---> 67\u001b[0;31m     \u001b[0msix\u001b[0m\u001b[0;34m.\u001b[0m\u001b[0mraise_from\u001b[0m\u001b[0;34m(\u001b[0m\u001b[0mcore\u001b[0m\u001b[0;34m.\u001b[0m\u001b[0m_status_to_exception\u001b[0m\u001b[0;34m(\u001b[0m\u001b[0me\u001b[0m\u001b[0;34m.\u001b[0m\u001b[0mcode\u001b[0m\u001b[0;34m,\u001b[0m \u001b[0mmessage\u001b[0m\u001b[0;34m)\u001b[0m\u001b[0;34m,\u001b[0m \u001b[0;32mNone\u001b[0m\u001b[0;34m)\u001b[0m\u001b[0;34m\u001b[0m\u001b[0;34m\u001b[0m\u001b[0m\n\u001b[0m\u001b[1;32m     68\u001b[0m   \u001b[0;32mexcept\u001b[0m \u001b[0mTypeError\u001b[0m \u001b[0;32mas\u001b[0m \u001b[0me\u001b[0m\u001b[0;34m:\u001b[0m\u001b[0;34m\u001b[0m\u001b[0;34m\u001b[0m\u001b[0m\n\u001b[1;32m     69\u001b[0m     keras_symbolic_tensors = [\n",
            "\u001b[0;32m/usr/local/lib/python3.6/dist-packages/six.py\u001b[0m in \u001b[0;36mraise_from\u001b[0;34m(value, from_value)\u001b[0m\n",
            "\u001b[0;31mResourceExhaustedError\u001b[0m: 2 root error(s) found.\n  (0) Resource exhausted:  OOM when allocating tensor with shape[2,8,14846,14846] and type float on /job:localhost/replica:0/task:0/device:GPU:0 by allocator GPU_0_bfc\n\t [[{{node model/lambda/StatefulPartitionedCall/StatefulPartitionedCall/StatefulPartitionedCall/EncoderTransformer/Transformer/SparseTransformerEncode/Layer_0/SelfAttention/SparseMultiheadAttention/DotProductAttention/MatMul}}]]\nHint: If you want to see a list of allocated tensors when OOM happens, add report_tensor_allocations_upon_oom to RunOptions for current allocation info.\n\n\t [[model/lambda/StatefulPartitionedCall/StatefulPartitionedCall/StatefulPartitionedCall/EncoderTransformer/Transformer/layer_prepostprocess/layer_norm/add_1/_272]]\nHint: If you want to see a list of allocated tensors when OOM happens, add report_tensor_allocations_upon_oom to RunOptions for current allocation info.\n\n  (1) Resource exhausted:  OOM when allocating tensor with shape[2,8,14846,14846] and type float on /job:localhost/replica:0/task:0/device:GPU:0 by allocator GPU_0_bfc\n\t [[{{node model/lambda/StatefulPartitionedCall/StatefulPartitionedCall/StatefulPartitionedCall/EncoderTransformer/Transformer/SparseTransformerEncode/Layer_0/SelfAttention/SparseMultiheadAttention/DotProductAttention/MatMul}}]]\nHint: If you want to see a list of allocated tensors when OOM happens, add report_tensor_allocations_upon_oom to RunOptions for current allocation info.\n\n0 successful operations.\n0 derived errors ignored. [Op:__inference_distributed_function_91613]\n\nFunction call stack:\ndistributed_function -> distributed_function\n"
          ]
        }
      ]
    },
    {
      "cell_type": "code",
      "metadata": {
        "id": "l2exaPfb9hIg",
        "colab_type": "code",
        "colab": {}
      },
      "source": [
        "from tensorflow.keras.models import model_from_json\n",
        "import json\n",
        "with open(f'{WORK_DIR}/models/DAN-2-DNN-keras.json') as f:\n",
        "  json_model = json.load(f)"
      ],
      "execution_count": 0,
      "outputs": []
    },
    {
      "cell_type": "code",
      "metadata": {
        "id": "IjUOn7GE94_Y",
        "colab_type": "code",
        "colab": {
          "base_uri": "https://localhost:8080/",
          "height": 226
        },
        "outputId": "3cf31e77-ef36-493f-830e-069500207760"
      },
      "source": [
        "module_path = 'https://tfhub.dev/google/universal-sentence-encoder/3'\n",
        "embed = hub.load(module_path)\n",
        "def UniversalEmbedding(x):\n",
        "    return embed(tf.squeeze(tf.cast(x, tf.string)))['outputs']"
      ],
      "execution_count": 124,
      "outputs": [
        {
          "output_type": "error",
          "ename": "NameError",
          "evalue": "ignored",
          "traceback": [
            "\u001b[0;31m---------------------------------------------------------------------------\u001b[0m",
            "\u001b[0;31mNameError\u001b[0m                                 Traceback (most recent call last)",
            "\u001b[0;32m<ipython-input-124-2daec9312763>\u001b[0m in \u001b[0;36m<module>\u001b[0;34m()\u001b[0m\n\u001b[1;32m      1\u001b[0m \u001b[0mmodule_path\u001b[0m \u001b[0;34m=\u001b[0m \u001b[0;34m'https://tfhub.dev/google/universal-sentence-encoder/3'\u001b[0m\u001b[0;34m\u001b[0m\u001b[0;34m\u001b[0m\u001b[0m\n\u001b[0;32m----> 2\u001b[0;31m \u001b[0membed\u001b[0m \u001b[0;34m=\u001b[0m \u001b[0mhub\u001b[0m\u001b[0;34m.\u001b[0m\u001b[0mload\u001b[0m\u001b[0;34m(\u001b[0m\u001b[0mmodule_path\u001b[0m\u001b[0;34m)\u001b[0m\u001b[0;34m\u001b[0m\u001b[0;34m\u001b[0m\u001b[0m\n\u001b[0m\u001b[1;32m      3\u001b[0m \u001b[0;32mdef\u001b[0m \u001b[0mUniversalEmbedding\u001b[0m\u001b[0;34m(\u001b[0m\u001b[0mx\u001b[0m\u001b[0;34m)\u001b[0m\u001b[0;34m:\u001b[0m\u001b[0;34m\u001b[0m\u001b[0;34m\u001b[0m\u001b[0m\n\u001b[1;32m      4\u001b[0m     \u001b[0;32mreturn\u001b[0m \u001b[0membed\u001b[0m\u001b[0;34m(\u001b[0m\u001b[0mtf\u001b[0m\u001b[0;34m.\u001b[0m\u001b[0msqueeze\u001b[0m\u001b[0;34m(\u001b[0m\u001b[0mtf\u001b[0m\u001b[0;34m.\u001b[0m\u001b[0mcast\u001b[0m\u001b[0;34m(\u001b[0m\u001b[0mx\u001b[0m\u001b[0;34m,\u001b[0m \u001b[0mtf\u001b[0m\u001b[0;34m.\u001b[0m\u001b[0mstring\u001b[0m\u001b[0;34m)\u001b[0m\u001b[0;34m)\u001b[0m\u001b[0;34m)\u001b[0m\u001b[0;34m[\u001b[0m\u001b[0;34m'outputs'\u001b[0m\u001b[0;34m]\u001b[0m\u001b[0;34m\u001b[0m\u001b[0;34m\u001b[0m\u001b[0m\n",
            "\u001b[0;31mNameError\u001b[0m: name 'hub' is not defined"
          ]
        }
      ]
    },
    {
      "cell_type": "code",
      "metadata": {
        "id": "nO0in_sq9vDo",
        "colab_type": "code",
        "colab": {}
      },
      "source": [
        "model_for_news = model_from_json(json_model)"
      ],
      "execution_count": 0,
      "outputs": []
    },
    {
      "cell_type": "code",
      "metadata": {
        "id": "1Sgm6e1v-QT9",
        "colab_type": "code",
        "colab": {}
      },
      "source": [
        "preds = model_for_news.predict(x)"
      ],
      "execution_count": 0,
      "outputs": []
    },
    {
      "cell_type": "code",
      "metadata": {
        "id": "kwxMupKv_YjA",
        "colab_type": "code",
        "colab": {}
      },
      "source": [
        "news['sentiment'] = preds"
      ],
      "execution_count": 0,
      "outputs": []
    },
    {
      "cell_type": "code",
      "metadata": {
        "id": "eGtAA98A_hyU",
        "colab_type": "code",
        "outputId": "7f447d70-c05b-4c3a-c2ac-64a95939bac7",
        "colab": {
          "base_uri": "https://localhost:8080/",
          "height": 204
        }
      },
      "source": [
        "news.head()"
      ],
      "execution_count": 0,
      "outputs": [
        {
          "output_type": "execute_result",
          "data": {
            "text/html": [
              "<div>\n",
              "<style scoped>\n",
              "    .dataframe tbody tr th:only-of-type {\n",
              "        vertical-align: middle;\n",
              "    }\n",
              "\n",
              "    .dataframe tbody tr th {\n",
              "        vertical-align: top;\n",
              "    }\n",
              "\n",
              "    .dataframe thead th {\n",
              "        text-align: right;\n",
              "    }\n",
              "</style>\n",
              "<table border=\"1\" class=\"dataframe\">\n",
              "  <thead>\n",
              "    <tr style=\"text-align: right;\">\n",
              "      <th></th>\n",
              "      <th>timestamp</th>\n",
              "      <th>title</th>\n",
              "      <th>content</th>\n",
              "      <th>source</th>\n",
              "      <th>combined_title_content</th>\n",
              "      <th>sentiment</th>\n",
              "    </tr>\n",
              "  </thead>\n",
              "  <tbody>\n",
              "    <tr>\n",
              "      <th>0</th>\n",
              "      <td>2014-01-01</td>\n",
              "      <td>business insider</td>\n",
              "      <td>back in clement c moore published the classic ...</td>\n",
              "      <td>news_full</td>\n",
              "      <td>business insider back in clement c moore publi...</td>\n",
              "      <td>0.481818</td>\n",
              "    </tr>\n",
              "    <tr>\n",
              "      <th>1</th>\n",
              "      <td>2014-01-01</td>\n",
              "      <td>business insider</td>\n",
              "      <td>how much do million turkeys weigh that is the ...</td>\n",
              "      <td>news_full</td>\n",
              "      <td>business insider how much do million turkeys w...</td>\n",
              "      <td>0.488750</td>\n",
              "    </tr>\n",
              "    <tr>\n",
              "      <th>2</th>\n",
              "      <td>2014-01-01</td>\n",
              "      <td>business insider</td>\n",
              "      <td>it is thanksgiving week once again and here at...</td>\n",
              "      <td>news_full</td>\n",
              "      <td>business insider it is thanksgiving week once ...</td>\n",
              "      <td>0.484320</td>\n",
              "    </tr>\n",
              "    <tr>\n",
              "      <th>3</th>\n",
              "      <td>2014-01-01</td>\n",
              "      <td>business insider</td>\n",
              "      <td>if you take time to think about it the sun is ...</td>\n",
              "      <td>news_full</td>\n",
              "      <td>business insider if you take time to think abo...</td>\n",
              "      <td>0.480509</td>\n",
              "    </tr>\n",
              "    <tr>\n",
              "      <th>4</th>\n",
              "      <td>2014-01-01</td>\n",
              "      <td>business insider</td>\n",
              "      <td>now that it is the day after thanksgiving when...</td>\n",
              "      <td>news_full</td>\n",
              "      <td>business insider now that it is the day after ...</td>\n",
              "      <td>0.488783</td>\n",
              "    </tr>\n",
              "  </tbody>\n",
              "</table>\n",
              "</div>"
            ],
            "text/plain": [
              "    timestamp  ... sentiment\n",
              "0  2014-01-01  ...  0.481818\n",
              "1  2014-01-01  ...  0.488750\n",
              "2  2014-01-01  ...  0.484320\n",
              "3  2014-01-01  ...  0.480509\n",
              "4  2014-01-01  ...  0.488783\n",
              "\n",
              "[5 rows x 6 columns]"
            ]
          },
          "metadata": {
            "tags": []
          },
          "execution_count": 22
        }
      ]
    },
    {
      "cell_type": "code",
      "metadata": {
        "id": "jvm-8zHg_oSE",
        "colab_type": "code",
        "outputId": "33f68573-74a0-403e-92a6-5182d3489823",
        "colab": {
          "base_uri": "https://localhost:8080/",
          "height": 35
        }
      },
      "source": [
        "news.sentiment.mean()"
      ],
      "execution_count": 0,
      "outputs": [
        {
          "output_type": "execute_result",
          "data": {
            "text/plain": [
              "0.4763179123401642"
            ]
          },
          "metadata": {
            "tags": []
          },
          "execution_count": 31
        }
      ]
    },
    {
      "cell_type": "code",
      "metadata": {
        "id": "qwOgz9YPvBTc",
        "colab_type": "code",
        "colab": {}
      },
      "source": [
        "news[['timestamp','combined_title_content','sentiment']].to_csv(f'{DATA_DIR}/indexed/news/new_indexed_tweets.csv',index=False)"
      ],
      "execution_count": 0,
      "outputs": []
    },
    {
      "cell_type": "code",
      "metadata": {
        "id": "XZB-qZt5Vtq1",
        "colab_type": "code",
        "colab": {
          "base_uri": "https://localhost:8080/",
          "height": 35
        },
        "outputId": "949c914d-1ac0-43c3-ba58-0e3ab436071a"
      },
      "source": [
        "news_title_only = news[news['source']!='news_full']\n",
        "news_title_values = news_title_only.title.values\n",
        "news_title_values.shape"
      ],
      "execution_count": 132,
      "outputs": [
        {
          "output_type": "execute_result",
          "data": {
            "text/plain": [
              "(22808,)"
            ]
          },
          "metadata": {
            "tags": []
          },
          "execution_count": 132
        }
      ]
    },
    {
      "cell_type": "code",
      "metadata": {
        "id": "7L-AuQCeWt6o",
        "colab_type": "code",
        "colab": {}
      },
      "source": [
        "preds = model.predict(news_title_values)"
      ],
      "execution_count": 0,
      "outputs": []
    },
    {
      "cell_type": "code",
      "metadata": {
        "id": "5xFScNbqW9gL",
        "colab_type": "code",
        "colab": {
          "base_uri": "https://localhost:8080/",
          "height": 312
        },
        "outputId": "1d8e928e-eba7-40f5-de06-429669cd38c3"
      },
      "source": [
        "news_title_only['sentiment'] = preds\n",
        "news_title_only.head()"
      ],
      "execution_count": 134,
      "outputs": [
        {
          "output_type": "stream",
          "text": [
            "/usr/local/lib/python3.6/dist-packages/ipykernel_launcher.py:1: SettingWithCopyWarning: \n",
            "A value is trying to be set on a copy of a slice from a DataFrame.\n",
            "Try using .loc[row_indexer,col_indexer] = value instead\n",
            "\n",
            "See the caveats in the documentation: http://pandas.pydata.org/pandas-docs/stable/user_guide/indexing.html#returning-a-view-versus-a-copy\n",
            "  \"\"\"Entry point for launching an IPython kernel.\n"
          ],
          "name": "stderr"
        },
        {
          "output_type": "execute_result",
          "data": {
            "text/html": [
              "<div>\n",
              "<style scoped>\n",
              "    .dataframe tbody tr th:only-of-type {\n",
              "        vertical-align: middle;\n",
              "    }\n",
              "\n",
              "    .dataframe tbody tr th {\n",
              "        vertical-align: top;\n",
              "    }\n",
              "\n",
              "    .dataframe thead th {\n",
              "        text-align: right;\n",
              "    }\n",
              "</style>\n",
              "<table border=\"1\" class=\"dataframe\">\n",
              "  <thead>\n",
              "    <tr style=\"text-align: right;\">\n",
              "      <th></th>\n",
              "      <th>timestamp</th>\n",
              "      <th>title</th>\n",
              "      <th>content</th>\n",
              "      <th>source</th>\n",
              "      <th>sentiment</th>\n",
              "    </tr>\n",
              "  </thead>\n",
              "  <tbody>\n",
              "    <tr>\n",
              "      <th>5</th>\n",
              "      <td>2014-01-01</td>\n",
              "      <td>the daily dot the nsa leaks you need to unders...</td>\n",
              "      <td>NaN</td>\n",
              "      <td>news_title_only</td>\n",
              "      <td>0.824581</td>\n",
              "    </tr>\n",
              "    <tr>\n",
              "      <th>7</th>\n",
              "      <td>2014-01-01</td>\n",
              "      <td>hadron collider upgrade will lead to highest e...</td>\n",
              "      <td>NaN</td>\n",
              "      <td>news_title_only</td>\n",
              "      <td>0.818177</td>\n",
              "    </tr>\n",
              "    <tr>\n",
              "      <th>15</th>\n",
              "      <td>2014-01-01</td>\n",
              "      <td>egypt says journalists will be held more days</td>\n",
              "      <td>NaN</td>\n",
              "      <td>news_title_only</td>\n",
              "      <td>0.260239</td>\n",
              "    </tr>\n",
              "    <tr>\n",
              "      <th>16</th>\n",
              "      <td>2014-01-01</td>\n",
              "      <td>latvia becomes th eurozone member</td>\n",
              "      <td>NaN</td>\n",
              "      <td>news_title_only</td>\n",
              "      <td>0.783358</td>\n",
              "    </tr>\n",
              "    <tr>\n",
              "      <th>19</th>\n",
              "      <td>2014-01-01</td>\n",
              "      <td>most australians want google to stop giving da...</td>\n",
              "      <td>NaN</td>\n",
              "      <td>news_title_only</td>\n",
              "      <td>0.457299</td>\n",
              "    </tr>\n",
              "  </tbody>\n",
              "</table>\n",
              "</div>"
            ],
            "text/plain": [
              "     timestamp  ... sentiment\n",
              "5   2014-01-01  ...  0.824581\n",
              "7   2014-01-01  ...  0.818177\n",
              "15  2014-01-01  ...  0.260239\n",
              "16  2014-01-01  ...  0.783358\n",
              "19  2014-01-01  ...  0.457299\n",
              "\n",
              "[5 rows x 5 columns]"
            ]
          },
          "metadata": {
            "tags": []
          },
          "execution_count": 134
        }
      ]
    },
    {
      "cell_type": "code",
      "metadata": {
        "id": "_9a-F6IYXIX1",
        "colab_type": "code",
        "colab": {}
      },
      "source": [
        "news_title_only[['timestamp','title','sentiment']].to_csv(f'{DATA_DIR}/indexed/news/indexed_news_title_only_.csv',index=False)"
      ],
      "execution_count": 0,
      "outputs": []
    },
    {
      "cell_type": "code",
      "metadata": {
        "id": "LDQ0Q3JcNguM",
        "colab_type": "code",
        "colab": {}
      },
      "source": [
        "import pandas as pd"
      ],
      "execution_count": 0,
      "outputs": []
    },
    {
      "cell_type": "code",
      "metadata": {
        "id": "JQEOvTDPAlSZ",
        "colab_type": "code",
        "colab": {}
      },
      "source": [
        "indexed_tweets = pd.read_csv(f'{DATA_DIR}/indexed/tweets/new_indexed_tweets.csv')"
      ],
      "execution_count": 0,
      "outputs": []
    },
    {
      "cell_type": "code",
      "metadata": {
        "id": "bf-fPtS-M-Qz",
        "colab_type": "code",
        "colab": {}
      },
      "source": [
        "indexed_news = pd.read_csv(f'{DATA_DIR}/indexed/news/new_indexed_news.csv')"
      ],
      "execution_count": 0,
      "outputs": []
    },
    {
      "cell_type": "code",
      "metadata": {
        "id": "p2nAzZg3MpRt",
        "colab_type": "code",
        "colab": {}
      },
      "source": [
        "all_stock_price = pd.read_csv(f'{DATA_DIR}/preprocessed/price/all_stock_price.csv')"
      ],
      "execution_count": 0,
      "outputs": []
    },
    {
      "cell_type": "code",
      "metadata": {
        "id": "rht1IzT9OERv",
        "colab_type": "code",
        "outputId": "65c7e86d-4a69-47ac-c09d-a4e3ba042027",
        "colab": {
          "base_uri": "https://localhost:8080/",
          "height": 204
        }
      },
      "source": [
        "indexed_tweets.head()"
      ],
      "execution_count": 0,
      "outputs": [
        {
          "output_type": "execute_result",
          "data": {
            "text/html": [
              "<div>\n",
              "<style scoped>\n",
              "    .dataframe tbody tr th:only-of-type {\n",
              "        vertical-align: middle;\n",
              "    }\n",
              "\n",
              "    .dataframe tbody tr th {\n",
              "        vertical-align: top;\n",
              "    }\n",
              "\n",
              "    .dataframe thead th {\n",
              "        text-align: right;\n",
              "    }\n",
              "</style>\n",
              "<table border=\"1\" class=\"dataframe\">\n",
              "  <thead>\n",
              "    <tr style=\"text-align: right;\">\n",
              "      <th></th>\n",
              "      <th>timestamp</th>\n",
              "      <th>source</th>\n",
              "      <th>asset</th>\n",
              "      <th>cleaned_text</th>\n",
              "      <th>sentiment</th>\n",
              "    </tr>\n",
              "  </thead>\n",
              "  <tbody>\n",
              "    <tr>\n",
              "      <th>0</th>\n",
              "      <td>2014-01-03</td>\n",
              "      <td>tweet</td>\n",
              "      <td>VZ</td>\n",
              "      <td>weekly dow hashtag stocks hashtag trend dis wm...</td>\n",
              "      <td>0.756567</td>\n",
              "    </tr>\n",
              "    <tr>\n",
              "      <th>1</th>\n",
              "      <td>2014-01-03</td>\n",
              "      <td>tweet</td>\n",
              "      <td>VZ</td>\n",
              "      <td>vz a new year means time for new dogs of the d...</td>\n",
              "      <td>0.960307</td>\n",
              "    </tr>\n",
              "    <tr>\n",
              "      <th>2</th>\n",
              "      <td>2014-01-05</td>\n",
              "      <td>tweet</td>\n",
              "      <td>VZ</td>\n",
              "      <td>vz the s ps worst sectors in number url</td>\n",
              "      <td>0.144544</td>\n",
              "    </tr>\n",
              "    <tr>\n",
              "      <th>3</th>\n",
              "      <td>2014-01-09</td>\n",
              "      <td>tweet</td>\n",
              "      <td>VZ</td>\n",
              "      <td>vz why t mobile bought verizons spectrum url</td>\n",
              "      <td>0.076772</td>\n",
              "    </tr>\n",
              "    <tr>\n",
              "      <th>4</th>\n",
              "      <td>2014-01-10</td>\n",
              "      <td>tweet</td>\n",
              "      <td>VZ</td>\n",
              "      <td>hashtag video hashtag hashtag accumulation dis...</td>\n",
              "      <td>0.648278</td>\n",
              "    </tr>\n",
              "  </tbody>\n",
              "</table>\n",
              "</div>"
            ],
            "text/plain": [
              "    timestamp  ... sentiment\n",
              "0  2014-01-03  ...  0.756567\n",
              "1  2014-01-03  ...  0.960307\n",
              "2  2014-01-05  ...  0.144544\n",
              "3  2014-01-09  ...  0.076772\n",
              "4  2014-01-10  ...  0.648278\n",
              "\n",
              "[5 rows x 5 columns]"
            ]
          },
          "metadata": {
            "tags": []
          },
          "execution_count": 17
        }
      ]
    },
    {
      "cell_type": "code",
      "metadata": {
        "id": "7zx8xpeIO85o",
        "colab_type": "code",
        "outputId": "5e7e273e-77f1-4999-f4c4-f2fa19a41a75",
        "colab": {
          "base_uri": "https://localhost:8080/",
          "height": 35
        }
      },
      "source": [
        "work_days = list(all_stock_price['timestamp'].unique())\n",
        "len(work_days)"
      ],
      "execution_count": 0,
      "outputs": [
        {
          "output_type": "execute_result",
          "data": {
            "text/plain": [
              "756"
            ]
          },
          "metadata": {
            "tags": []
          },
          "execution_count": 22
        }
      ]
    },
    {
      "cell_type": "code",
      "metadata": {
        "id": "fK0k8k7LPEOd",
        "colab_type": "code",
        "outputId": "bdb9a8cb-3136-4ce1-b8ab-1d062199451f",
        "colab": {
          "base_uri": "https://localhost:8080/",
          "height": 35
        }
      },
      "source": [
        "tweets_days = list(indexed_tweets['timestamp'].unique())\n",
        "len(tweets_days)"
      ],
      "execution_count": 0,
      "outputs": [
        {
          "output_type": "execute_result",
          "data": {
            "text/plain": [
              "786"
            ]
          },
          "metadata": {
            "tags": []
          },
          "execution_count": 9
        }
      ]
    },
    {
      "cell_type": "code",
      "metadata": {
        "id": "dJads0tWPKt9",
        "colab_type": "code",
        "outputId": "3ee7c357-73dc-4a05-9f96-065a59d6d68f",
        "colab": {
          "base_uri": "https://localhost:8080/",
          "height": 35
        }
      },
      "source": [
        "news_days = list(indexed_news['timestamp'].unique())\n",
        "len(news_days)"
      ],
      "execution_count": 0,
      "outputs": [
        {
          "output_type": "execute_result",
          "data": {
            "text/plain": [
              "1096"
            ]
          },
          "metadata": {
            "tags": []
          },
          "execution_count": 10
        }
      ]
    },
    {
      "cell_type": "code",
      "metadata": {
        "id": "yZlW7WotPUhq",
        "colab_type": "code",
        "colab": {}
      },
      "source": [
        "import datetime\n",
        "next_work_day_map = dict()\n",
        "for date in tweets_days:\n",
        "    next_work_day = pd.to_datetime(date)\n",
        "    decay = 0\n",
        "    while next_work_day.strftime('%Y-%m-%d') not in work_days:\n",
        "        next_work_day += datetime.timedelta(days=1)\n",
        "        decay += 1\n",
        "    next_work_day_map[date] = (next_work_day.strftime('%Y-%m-%d'),decay)"
      ],
      "execution_count": 0,
      "outputs": []
    },
    {
      "cell_type": "code",
      "metadata": {
        "id": "Nw_x0-UJPYOR",
        "colab_type": "code",
        "colab": {}
      },
      "source": [
        "indexed_tweets.loc[:,'next_work_day'] = indexed_tweets['timestamp'].apply(lambda x: next_work_day_map[x][0])\n",
        "indexed_tweets.loc[:,'decay'] = indexed_tweets['timestamp'].apply(lambda x: next_work_day_map[x][1])"
      ],
      "execution_count": 0,
      "outputs": []
    },
    {
      "cell_type": "code",
      "metadata": {
        "id": "ys13X3s0PhQT",
        "colab_type": "code",
        "outputId": "a9230870-f398-493d-f82a-336a9eafded9",
        "colab": {
          "base_uri": "https://localhost:8080/",
          "height": 204
        }
      },
      "source": [
        "indexed_tweets.head()"
      ],
      "execution_count": 0,
      "outputs": [
        {
          "output_type": "execute_result",
          "data": {
            "text/html": [
              "<div>\n",
              "<style scoped>\n",
              "    .dataframe tbody tr th:only-of-type {\n",
              "        vertical-align: middle;\n",
              "    }\n",
              "\n",
              "    .dataframe tbody tr th {\n",
              "        vertical-align: top;\n",
              "    }\n",
              "\n",
              "    .dataframe thead th {\n",
              "        text-align: right;\n",
              "    }\n",
              "</style>\n",
              "<table border=\"1\" class=\"dataframe\">\n",
              "  <thead>\n",
              "    <tr style=\"text-align: right;\">\n",
              "      <th></th>\n",
              "      <th>timestamp</th>\n",
              "      <th>source</th>\n",
              "      <th>asset</th>\n",
              "      <th>cleaned_text</th>\n",
              "      <th>sentiment</th>\n",
              "      <th>next_work_day</th>\n",
              "      <th>decay</th>\n",
              "    </tr>\n",
              "  </thead>\n",
              "  <tbody>\n",
              "    <tr>\n",
              "      <th>0</th>\n",
              "      <td>2014-01-03</td>\n",
              "      <td>tweet</td>\n",
              "      <td>VZ</td>\n",
              "      <td>weekly dow hashtag stocks hashtag trend dis wm...</td>\n",
              "      <td>0.756567</td>\n",
              "      <td>2014-01-03</td>\n",
              "      <td>0</td>\n",
              "    </tr>\n",
              "    <tr>\n",
              "      <th>1</th>\n",
              "      <td>2014-01-03</td>\n",
              "      <td>tweet</td>\n",
              "      <td>VZ</td>\n",
              "      <td>vz a new year means time for new dogs of the d...</td>\n",
              "      <td>0.960307</td>\n",
              "      <td>2014-01-03</td>\n",
              "      <td>0</td>\n",
              "    </tr>\n",
              "    <tr>\n",
              "      <th>2</th>\n",
              "      <td>2014-01-05</td>\n",
              "      <td>tweet</td>\n",
              "      <td>VZ</td>\n",
              "      <td>vz the s ps worst sectors in number url</td>\n",
              "      <td>0.144544</td>\n",
              "      <td>2014-01-06</td>\n",
              "      <td>1</td>\n",
              "    </tr>\n",
              "    <tr>\n",
              "      <th>3</th>\n",
              "      <td>2014-01-09</td>\n",
              "      <td>tweet</td>\n",
              "      <td>VZ</td>\n",
              "      <td>vz why t mobile bought verizons spectrum url</td>\n",
              "      <td>0.076772</td>\n",
              "      <td>2014-01-09</td>\n",
              "      <td>0</td>\n",
              "    </tr>\n",
              "    <tr>\n",
              "      <th>4</th>\n",
              "      <td>2014-01-10</td>\n",
              "      <td>tweet</td>\n",
              "      <td>VZ</td>\n",
              "      <td>hashtag video hashtag hashtag accumulation dis...</td>\n",
              "      <td>0.648278</td>\n",
              "      <td>2014-01-10</td>\n",
              "      <td>0</td>\n",
              "    </tr>\n",
              "  </tbody>\n",
              "</table>\n",
              "</div>"
            ],
            "text/plain": [
              "    timestamp source asset  ... sentiment  next_work_day decay\n",
              "0  2014-01-03  tweet    VZ  ...  0.756567     2014-01-03     0\n",
              "1  2014-01-03  tweet    VZ  ...  0.960307     2014-01-03     0\n",
              "2  2014-01-05  tweet    VZ  ...  0.144544     2014-01-06     1\n",
              "3  2014-01-09  tweet    VZ  ...  0.076772     2014-01-09     0\n",
              "4  2014-01-10  tweet    VZ  ...  0.648278     2014-01-10     0\n",
              "\n",
              "[5 rows x 7 columns]"
            ]
          },
          "metadata": {
            "tags": []
          },
          "execution_count": 26
        }
      ]
    },
    {
      "cell_type": "code",
      "metadata": {
        "id": "7_CQEGIsP47k",
        "colab_type": "code",
        "colab": {}
      },
      "source": [
        "indexed_tweets_by_day = indexed_tweets.groupby(indexed_tweets.timestamp)"
      ],
      "execution_count": 0,
      "outputs": []
    },
    {
      "cell_type": "code",
      "metadata": {
        "id": "H11mz5_nRdoD",
        "colab_type": "code",
        "colab": {}
      },
      "source": [
        "indexed_tweets_by_stock = indexed_tweets.groupby(indexed_tweets.asset)"
      ],
      "execution_count": 0,
      "outputs": []
    },
    {
      "cell_type": "code",
      "metadata": {
        "id": "3NFh7oHWR9iI",
        "colab_type": "code",
        "colab": {}
      },
      "source": [
        "temp = []\n",
        "for stock_name,v in indexed_tweets_by_stock:\n",
        "    stock_by_day = v.groupby(v.timestamp)\n",
        "    for group_name,group_values in stock_by_day:\n",
        "      avg_sentiment = group_values['sentiment'].mean()\n",
        "      next_work_day = next_work_day_map[group_name][0]\n",
        "      decay = next_work_day_map[group_name][1]\n",
        "      asset = stock_name\n",
        "      temp.append([group_name,asset,avg_sentiment,next_work_day,decay])\n",
        "average_indexed_tweets = pd.DataFrame(np.array(temp),columns=['timestamp','asset','sentiment','next_work_day','decay'])"
      ],
      "execution_count": 0,
      "outputs": []
    },
    {
      "cell_type": "code",
      "metadata": {
        "id": "bR0XbouUSxVy",
        "colab_type": "code",
        "outputId": "bd961670-eb54-4184-fe2d-22873252b733",
        "colab": {
          "base_uri": "https://localhost:8080/",
          "height": 204
        }
      },
      "source": [
        "average_indexed_tweets.tail()"
      ],
      "execution_count": 0,
      "outputs": [
        {
          "output_type": "execute_result",
          "data": {
            "text/html": [
              "<div>\n",
              "<style scoped>\n",
              "    .dataframe tbody tr th:only-of-type {\n",
              "        vertical-align: middle;\n",
              "    }\n",
              "\n",
              "    .dataframe tbody tr th {\n",
              "        vertical-align: top;\n",
              "    }\n",
              "\n",
              "    .dataframe thead th {\n",
              "        text-align: right;\n",
              "    }\n",
              "</style>\n",
              "<table border=\"1\" class=\"dataframe\">\n",
              "  <thead>\n",
              "    <tr style=\"text-align: right;\">\n",
              "      <th></th>\n",
              "      <th>timestamp</th>\n",
              "      <th>asset</th>\n",
              "      <th>sentiment</th>\n",
              "      <th>next_work_day</th>\n",
              "      <th>decay</th>\n",
              "    </tr>\n",
              "  </thead>\n",
              "  <tbody>\n",
              "    <tr>\n",
              "      <th>29245</th>\n",
              "      <td>2016-03-25</td>\n",
              "      <td>XOM</td>\n",
              "      <td>0.56379793</td>\n",
              "      <td>2016-03-28</td>\n",
              "      <td>3</td>\n",
              "    </tr>\n",
              "    <tr>\n",
              "      <th>29246</th>\n",
              "      <td>2016-03-28</td>\n",
              "      <td>XOM</td>\n",
              "      <td>0.6580716999999999</td>\n",
              "      <td>2016-03-28</td>\n",
              "      <td>0</td>\n",
              "    </tr>\n",
              "    <tr>\n",
              "      <th>29247</th>\n",
              "      <td>2016-03-29</td>\n",
              "      <td>XOM</td>\n",
              "      <td>0.42856015500000005</td>\n",
              "      <td>2016-03-29</td>\n",
              "      <td>0</td>\n",
              "    </tr>\n",
              "    <tr>\n",
              "      <th>29248</th>\n",
              "      <td>2016-03-30</td>\n",
              "      <td>XOM</td>\n",
              "      <td>0.6625677320000001</td>\n",
              "      <td>2016-03-30</td>\n",
              "      <td>0</td>\n",
              "    </tr>\n",
              "    <tr>\n",
              "      <th>29249</th>\n",
              "      <td>2016-03-31</td>\n",
              "      <td>XOM</td>\n",
              "      <td>0.52135225</td>\n",
              "      <td>2016-03-31</td>\n",
              "      <td>0</td>\n",
              "    </tr>\n",
              "  </tbody>\n",
              "</table>\n",
              "</div>"
            ],
            "text/plain": [
              "        timestamp asset            sentiment next_work_day decay\n",
              "29245  2016-03-25   XOM           0.56379793    2016-03-28     3\n",
              "29246  2016-03-28   XOM   0.6580716999999999    2016-03-28     0\n",
              "29247  2016-03-29   XOM  0.42856015500000005    2016-03-29     0\n",
              "29248  2016-03-30   XOM   0.6625677320000001    2016-03-30     0\n",
              "29249  2016-03-31   XOM           0.52135225    2016-03-31     0"
            ]
          },
          "metadata": {
            "tags": []
          },
          "execution_count": 45
        }
      ]
    },
    {
      "cell_type": "markdown",
      "metadata": {
        "id": "idY1KUquQYbQ",
        "colab_type": "text"
      },
      "source": [
        "### Weighted average decay"
      ]
    },
    {
      "cell_type": "code",
      "metadata": {
        "id": "o_CzjqxQNeqY",
        "colab_type": "code",
        "colab": {}
      },
      "source": [
        "temp = []\n",
        "decayed_sen = []\n",
        "for i,row in average_indexed_tweets.iterrows():\n",
        "    decayed_sen.append(float(row['sentiment']))\n",
        "    if int(row['decay']) == 0:\n",
        "        sentiment = 0\n",
        "        total_weight = 0\n",
        "        for i in range(len(decayed_sen)):\n",
        "          weight = pow((1/2),i)\n",
        "          total_weight += weight\n",
        "          sentiment += weight*decayed_sen[i]\n",
        "        sentiment /= total_weight\n",
        "        temp.append([row['timestamp'],sentiment])\n",
        "decayed_stock_tweets = pd.DataFrame(temp, columns=['timestamp','sentiment'])"
      ],
      "execution_count": 0,
      "outputs": []
    },
    {
      "cell_type": "code",
      "metadata": {
        "id": "y036-JSJTIUj",
        "colab_type": "code",
        "colab": {}
      },
      "source": [
        "average_indexed_tweets_by_stock = average_indexed_tweets.groupby(average_indexed_tweets.asset)"
      ],
      "execution_count": 0,
      "outputs": []
    },
    {
      "cell_type": "code",
      "metadata": {
        "id": "KaP9QgD2TF1y",
        "colab_type": "code",
        "colab": {}
      },
      "source": [
        "temp = []\n",
        "for stock_name,v in average_indexed_tweets_by_stock:\n",
        "  decayed_sen = []\n",
        "  for i,row in v.iterrows():\n",
        "    decayed_sen.append(float(row['sentiment']))\n",
        "    if int(row['decay']) == 0:\n",
        "        sentiment = 0\n",
        "        total_weight = 0\n",
        "        for i in range(len(decayed_sen)):\n",
        "          weight = pow((1/2),i)\n",
        "          total_weight += weight\n",
        "          sentiment += weight*decayed_sen[i]\n",
        "        sentiment /= total_weight\n",
        "        temp.append([row['timestamp'],stock_name,sentiment])\n",
        "        decayed_sen = []\n",
        "decayed_stock_tweets = pd.DataFrame(temp, columns=['timestamp','asset','sentiment'])"
      ],
      "execution_count": 0,
      "outputs": []
    },
    {
      "cell_type": "code",
      "metadata": {
        "id": "5s6IjrA_RBLR",
        "colab_type": "code",
        "outputId": "6c59862a-e2b3-484c-a79c-1a46f61ff4db",
        "colab": {
          "base_uri": "https://localhost:8080/",
          "height": 204
        }
      },
      "source": [
        "decayed_stock_tweets.tail()"
      ],
      "execution_count": 0,
      "outputs": [
        {
          "output_type": "execute_result",
          "data": {
            "text/html": [
              "<div>\n",
              "<style scoped>\n",
              "    .dataframe tbody tr th:only-of-type {\n",
              "        vertical-align: middle;\n",
              "    }\n",
              "\n",
              "    .dataframe tbody tr th {\n",
              "        vertical-align: top;\n",
              "    }\n",
              "\n",
              "    .dataframe thead th {\n",
              "        text-align: right;\n",
              "    }\n",
              "</style>\n",
              "<table border=\"1\" class=\"dataframe\">\n",
              "  <thead>\n",
              "    <tr style=\"text-align: right;\">\n",
              "      <th></th>\n",
              "      <th>timestamp</th>\n",
              "      <th>asset</th>\n",
              "      <th>sentiment</th>\n",
              "    </tr>\n",
              "  </thead>\n",
              "  <tbody>\n",
              "    <tr>\n",
              "      <th>22017</th>\n",
              "      <td>2016-03-24</td>\n",
              "      <td>XOM</td>\n",
              "      <td>0.540336</td>\n",
              "    </tr>\n",
              "    <tr>\n",
              "      <th>22018</th>\n",
              "      <td>2016-03-28</td>\n",
              "      <td>XOM</td>\n",
              "      <td>0.595223</td>\n",
              "    </tr>\n",
              "    <tr>\n",
              "      <th>22019</th>\n",
              "      <td>2016-03-29</td>\n",
              "      <td>XOM</td>\n",
              "      <td>0.428560</td>\n",
              "    </tr>\n",
              "    <tr>\n",
              "      <th>22020</th>\n",
              "      <td>2016-03-30</td>\n",
              "      <td>XOM</td>\n",
              "      <td>0.662568</td>\n",
              "    </tr>\n",
              "    <tr>\n",
              "      <th>22021</th>\n",
              "      <td>2016-03-31</td>\n",
              "      <td>XOM</td>\n",
              "      <td>0.521352</td>\n",
              "    </tr>\n",
              "  </tbody>\n",
              "</table>\n",
              "</div>"
            ],
            "text/plain": [
              "        timestamp asset  sentiment\n",
              "22017  2016-03-24   XOM   0.540336\n",
              "22018  2016-03-28   XOM   0.595223\n",
              "22019  2016-03-29   XOM   0.428560\n",
              "22020  2016-03-30   XOM   0.662568\n",
              "22021  2016-03-31   XOM   0.521352"
            ]
          },
          "metadata": {
            "tags": []
          },
          "execution_count": 50
        }
      ]
    },
    {
      "cell_type": "code",
      "metadata": {
        "id": "wBklrjCWREmi",
        "colab_type": "code",
        "outputId": "d01725b6-e02b-4245-e6dc-25dced2d5f79",
        "colab": {
          "base_uri": "https://localhost:8080/",
          "height": 35
        }
      },
      "source": [
        "print(len(decayed_stock_tweets.timestamp.unique()))"
      ],
      "execution_count": 0,
      "outputs": [
        {
          "output_type": "stream",
          "text": [
            "540\n"
          ],
          "name": "stdout"
        }
      ]
    },
    {
      "cell_type": "code",
      "metadata": {
        "id": "12SKlb7FUrD8",
        "colab_type": "code",
        "colab": {}
      },
      "source": [
        "decayed_stock_tweets.to_csv(f'{DATA_DIR}/analysis/weighted_decayed_tweet_sentiment.csv',index=False)"
      ],
      "execution_count": 0,
      "outputs": []
    },
    {
      "cell_type": "code",
      "metadata": {
        "id": "uQZWGDEnVtm0",
        "colab_type": "code",
        "outputId": "aadc2f66-f913-4a1c-8f9e-fca304a20d6b",
        "colab": {
          "base_uri": "https://localhost:8080/",
          "height": 204
        }
      },
      "source": [
        "all_stock_price.head()"
      ],
      "execution_count": 26,
      "outputs": [
        {
          "output_type": "execute_result",
          "data": {
            "text/html": [
              "<div>\n",
              "<style scoped>\n",
              "    .dataframe tbody tr th:only-of-type {\n",
              "        vertical-align: middle;\n",
              "    }\n",
              "\n",
              "    .dataframe tbody tr th {\n",
              "        vertical-align: top;\n",
              "    }\n",
              "\n",
              "    .dataframe thead th {\n",
              "        text-align: right;\n",
              "    }\n",
              "</style>\n",
              "<table border=\"1\" class=\"dataframe\">\n",
              "  <thead>\n",
              "    <tr style=\"text-align: right;\">\n",
              "      <th></th>\n",
              "      <th>timestamp</th>\n",
              "      <th>asset</th>\n",
              "      <th>Open</th>\n",
              "      <th>Close</th>\n",
              "      <th>Volume</th>\n",
              "    </tr>\n",
              "  </thead>\n",
              "  <tbody>\n",
              "    <tr>\n",
              "      <th>0</th>\n",
              "      <td>2014-01-02</td>\n",
              "      <td>VZ</td>\n",
              "      <td>49.080002</td>\n",
              "      <td>49.000000</td>\n",
              "      <td>9270200.0</td>\n",
              "    </tr>\n",
              "    <tr>\n",
              "      <th>1</th>\n",
              "      <td>2014-01-03</td>\n",
              "      <td>VZ</td>\n",
              "      <td>49.330002</td>\n",
              "      <td>48.419998</td>\n",
              "      <td>12022200.0</td>\n",
              "    </tr>\n",
              "    <tr>\n",
              "      <th>2</th>\n",
              "      <td>2014-01-06</td>\n",
              "      <td>VZ</td>\n",
              "      <td>48.770000</td>\n",
              "      <td>48.689999</td>\n",
              "      <td>16054800.0</td>\n",
              "    </tr>\n",
              "    <tr>\n",
              "      <th>3</th>\n",
              "      <td>2014-01-07</td>\n",
              "      <td>VZ</td>\n",
              "      <td>49.119999</td>\n",
              "      <td>49.299999</td>\n",
              "      <td>17594600.0</td>\n",
              "    </tr>\n",
              "    <tr>\n",
              "      <th>4</th>\n",
              "      <td>2014-01-08</td>\n",
              "      <td>VZ</td>\n",
              "      <td>48.689999</td>\n",
              "      <td>48.500000</td>\n",
              "      <td>13110700.0</td>\n",
              "    </tr>\n",
              "  </tbody>\n",
              "</table>\n",
              "</div>"
            ],
            "text/plain": [
              "    timestamp asset       Open      Close      Volume\n",
              "0  2014-01-02    VZ  49.080002  49.000000   9270200.0\n",
              "1  2014-01-03    VZ  49.330002  48.419998  12022200.0\n",
              "2  2014-01-06    VZ  48.770000  48.689999  16054800.0\n",
              "3  2014-01-07    VZ  49.119999  49.299999  17594600.0\n",
              "4  2014-01-08    VZ  48.689999  48.500000  13110700.0"
            ]
          },
          "metadata": {
            "tags": []
          },
          "execution_count": 26
        }
      ]
    },
    {
      "cell_type": "code",
      "metadata": {
        "id": "JVipGZbWVcE9",
        "colab_type": "code",
        "outputId": "67615d40-f4ab-46a0-ceec-fd634e05ec94",
        "colab": {
          "base_uri": "https://localhost:8080/",
          "height": 233
        }
      },
      "source": [
        "data = []\n",
        "all_stock_price_by_stock = all_stock_price.groupby(all_stock_price.asset)\n",
        "for stock, df in all_stock_price_by_stock :\n",
        "  df.loc[:,'return'] = df['Close'].pct_change()\n",
        "  data.append(df.values.tolist())"
      ],
      "execution_count": 27,
      "outputs": [
        {
          "output_type": "stream",
          "text": [
            "/usr/local/lib/python3.6/dist-packages/pandas/core/indexing.py:376: SettingWithCopyWarning: \n",
            "A value is trying to be set on a copy of a slice from a DataFrame.\n",
            "Try using .loc[row_indexer,col_indexer] = value instead\n",
            "\n",
            "See the caveats in the documentation: http://pandas.pydata.org/pandas-docs/stable/user_guide/indexing.html#returning-a-view-versus-a-copy\n",
            "  self.obj[key] = _infer_fill_value(value)\n",
            "/usr/local/lib/python3.6/dist-packages/pandas/core/indexing.py:494: SettingWithCopyWarning: \n",
            "A value is trying to be set on a copy of a slice from a DataFrame.\n",
            "Try using .loc[row_indexer,col_indexer] = value instead\n",
            "\n",
            "See the caveats in the documentation: http://pandas.pydata.org/pandas-docs/stable/user_guide/indexing.html#returning-a-view-versus-a-copy\n",
            "  self.obj[item] = s\n"
          ],
          "name": "stderr"
        }
      ]
    },
    {
      "cell_type": "code",
      "metadata": {
        "id": "vO2_D_aduJoZ",
        "colab_type": "code",
        "colab": {}
      },
      "source": [
        "flat_list = []\n",
        "for sublist in data:\n",
        "    for item in sublist:\n",
        "        flat_list.append(item)"
      ],
      "execution_count": 0,
      "outputs": []
    },
    {
      "cell_type": "code",
      "metadata": {
        "id": "j9-Re70dv7YI",
        "colab_type": "code",
        "colab": {}
      },
      "source": [
        "import numpy as np\n",
        "all_stock_price_change = pd.DataFrame(np.asarray(flat_list),columns=['timestamp','asset','Open','Close','Volume','return'])"
      ],
      "execution_count": 0,
      "outputs": []
    },
    {
      "cell_type": "code",
      "metadata": {
        "id": "uyLtN-W4Vu7q",
        "colab_type": "code",
        "outputId": "48b67049-c296-4e87-d72c-8c476c477dc8",
        "colab": {
          "base_uri": "https://localhost:8080/",
          "height": 204
        }
      },
      "source": [
        "all_stock_price_change.head()"
      ],
      "execution_count": 31,
      "outputs": [
        {
          "output_type": "execute_result",
          "data": {
            "text/html": [
              "<div>\n",
              "<style scoped>\n",
              "    .dataframe tbody tr th:only-of-type {\n",
              "        vertical-align: middle;\n",
              "    }\n",
              "\n",
              "    .dataframe tbody tr th {\n",
              "        vertical-align: top;\n",
              "    }\n",
              "\n",
              "    .dataframe thead th {\n",
              "        text-align: right;\n",
              "    }\n",
              "</style>\n",
              "<table border=\"1\" class=\"dataframe\">\n",
              "  <thead>\n",
              "    <tr style=\"text-align: right;\">\n",
              "      <th></th>\n",
              "      <th>timestamp</th>\n",
              "      <th>asset</th>\n",
              "      <th>Open</th>\n",
              "      <th>Close</th>\n",
              "      <th>Volume</th>\n",
              "      <th>return</th>\n",
              "    </tr>\n",
              "  </thead>\n",
              "  <tbody>\n",
              "    <tr>\n",
              "      <th>0</th>\n",
              "      <td>2014-01-02</td>\n",
              "      <td>AAPL</td>\n",
              "      <td>79.382858</td>\n",
              "      <td>79.01857</td>\n",
              "      <td>58671200.0</td>\n",
              "      <td>nan</td>\n",
              "    </tr>\n",
              "    <tr>\n",
              "      <th>1</th>\n",
              "      <td>2014-01-03</td>\n",
              "      <td>AAPL</td>\n",
              "      <td>78.980003</td>\n",
              "      <td>77.28286</td>\n",
              "      <td>98116900.0</td>\n",
              "      <td>-0.021965849293400286</td>\n",
              "    </tr>\n",
              "    <tr>\n",
              "      <th>2</th>\n",
              "      <td>2014-01-06</td>\n",
              "      <td>AAPL</td>\n",
              "      <td>76.778572</td>\n",
              "      <td>77.704285</td>\n",
              "      <td>103152700.0</td>\n",
              "      <td>0.005453020242780937</td>\n",
              "    </tr>\n",
              "    <tr>\n",
              "      <th>3</th>\n",
              "      <td>2014-01-07</td>\n",
              "      <td>AAPL</td>\n",
              "      <td>77.760002</td>\n",
              "      <td>77.148575</td>\n",
              "      <td>79302300.0</td>\n",
              "      <td>-0.007151600455496232</td>\n",
              "    </tr>\n",
              "    <tr>\n",
              "      <th>4</th>\n",
              "      <td>2014-01-08</td>\n",
              "      <td>AAPL</td>\n",
              "      <td>76.97285500000002</td>\n",
              "      <td>77.637146</td>\n",
              "      <td>64632400.0</td>\n",
              "      <td>0.00633285838396902</td>\n",
              "    </tr>\n",
              "  </tbody>\n",
              "</table>\n",
              "</div>"
            ],
            "text/plain": [
              "    timestamp asset  ...       Volume                 return\n",
              "0  2014-01-02  AAPL  ...   58671200.0                    nan\n",
              "1  2014-01-03  AAPL  ...   98116900.0  -0.021965849293400286\n",
              "2  2014-01-06  AAPL  ...  103152700.0   0.005453020242780937\n",
              "3  2014-01-07  AAPL  ...   79302300.0  -0.007151600455496232\n",
              "4  2014-01-08  AAPL  ...   64632400.0    0.00633285838396902\n",
              "\n",
              "[5 rows x 6 columns]"
            ]
          },
          "metadata": {
            "tags": []
          },
          "execution_count": 31
        }
      ]
    },
    {
      "cell_type": "code",
      "metadata": {
        "id": "geh0e8zIwlmo",
        "colab_type": "code",
        "colab": {}
      },
      "source": [
        "decayed_stock_tweets = pd.read_csv(f'{DATA_DIR}/analysis/weighted_decayed_tweet_sentiment.csv')"
      ],
      "execution_count": 0,
      "outputs": []
    },
    {
      "cell_type": "code",
      "metadata": {
        "id": "ccL57x8hVwge",
        "colab_type": "code",
        "outputId": "5a806789-0ffe-4192-c4a5-80ee73166330",
        "colab": {
          "base_uri": "https://localhost:8080/",
          "height": 204
        }
      },
      "source": [
        "combined_data = all_stock_price_change.merge(decayed_stock_tweets, on=['timestamp','asset'])\n",
        "combined_data.head()"
      ],
      "execution_count": 34,
      "outputs": [
        {
          "output_type": "execute_result",
          "data": {
            "text/html": [
              "<div>\n",
              "<style scoped>\n",
              "    .dataframe tbody tr th:only-of-type {\n",
              "        vertical-align: middle;\n",
              "    }\n",
              "\n",
              "    .dataframe tbody tr th {\n",
              "        vertical-align: top;\n",
              "    }\n",
              "\n",
              "    .dataframe thead th {\n",
              "        text-align: right;\n",
              "    }\n",
              "</style>\n",
              "<table border=\"1\" class=\"dataframe\">\n",
              "  <thead>\n",
              "    <tr style=\"text-align: right;\">\n",
              "      <th></th>\n",
              "      <th>timestamp</th>\n",
              "      <th>asset</th>\n",
              "      <th>Open</th>\n",
              "      <th>Close</th>\n",
              "      <th>Volume</th>\n",
              "      <th>return</th>\n",
              "      <th>sentiment</th>\n",
              "    </tr>\n",
              "  </thead>\n",
              "  <tbody>\n",
              "    <tr>\n",
              "      <th>0</th>\n",
              "      <td>2014-01-02</td>\n",
              "      <td>AAPL</td>\n",
              "      <td>79.382858</td>\n",
              "      <td>79.01857</td>\n",
              "      <td>58671200.0</td>\n",
              "      <td>nan</td>\n",
              "      <td>0.565564</td>\n",
              "    </tr>\n",
              "    <tr>\n",
              "      <th>1</th>\n",
              "      <td>2014-01-03</td>\n",
              "      <td>AAPL</td>\n",
              "      <td>78.980003</td>\n",
              "      <td>77.28286</td>\n",
              "      <td>98116900.0</td>\n",
              "      <td>-0.021965849293400286</td>\n",
              "      <td>0.601761</td>\n",
              "    </tr>\n",
              "    <tr>\n",
              "      <th>2</th>\n",
              "      <td>2014-01-06</td>\n",
              "      <td>AAPL</td>\n",
              "      <td>76.778572</td>\n",
              "      <td>77.704285</td>\n",
              "      <td>103152700.0</td>\n",
              "      <td>0.005453020242780937</td>\n",
              "      <td>0.691132</td>\n",
              "    </tr>\n",
              "    <tr>\n",
              "      <th>3</th>\n",
              "      <td>2014-01-07</td>\n",
              "      <td>AAPL</td>\n",
              "      <td>77.760002</td>\n",
              "      <td>77.148575</td>\n",
              "      <td>79302300.0</td>\n",
              "      <td>-0.007151600455496232</td>\n",
              "      <td>0.669051</td>\n",
              "    </tr>\n",
              "    <tr>\n",
              "      <th>4</th>\n",
              "      <td>2014-01-08</td>\n",
              "      <td>AAPL</td>\n",
              "      <td>76.97285500000002</td>\n",
              "      <td>77.637146</td>\n",
              "      <td>64632400.0</td>\n",
              "      <td>0.00633285838396902</td>\n",
              "      <td>0.691764</td>\n",
              "    </tr>\n",
              "  </tbody>\n",
              "</table>\n",
              "</div>"
            ],
            "text/plain": [
              "    timestamp asset  ...                 return sentiment\n",
              "0  2014-01-02  AAPL  ...                    nan  0.565564\n",
              "1  2014-01-03  AAPL  ...  -0.021965849293400286  0.601761\n",
              "2  2014-01-06  AAPL  ...   0.005453020242780937  0.691132\n",
              "3  2014-01-07  AAPL  ...  -0.007151600455496232  0.669051\n",
              "4  2014-01-08  AAPL  ...    0.00633285838396902  0.691764\n",
              "\n",
              "[5 rows x 7 columns]"
            ]
          },
          "metadata": {
            "tags": []
          },
          "execution_count": 34
        }
      ]
    },
    {
      "cell_type": "code",
      "metadata": {
        "id": "zX2ImLCOWAjO",
        "colab_type": "code",
        "colab": {}
      },
      "source": [
        "combined_data.to_csv(f'{DATA_DIR}/analysis/combined_price_tweets.csv',index=False)"
      ],
      "execution_count": 0,
      "outputs": []
    },
    {
      "cell_type": "code",
      "metadata": {
        "id": "_tLre3ftjTpq",
        "colab_type": "code",
        "colab": {}
      },
      "source": [
        "import pandas as pd\n",
        "combined_data = pd.read_csv(f'{DATA_DIR}/analysis/day_0.csv')"
      ],
      "execution_count": 0,
      "outputs": []
    },
    {
      "cell_type": "code",
      "metadata": {
        "id": "FU8Yl75Sjvqg",
        "colab_type": "code",
        "outputId": "b59ed4cd-d623-4a7b-ba00-451c06fcfe4d",
        "colab": {
          "base_uri": "https://localhost:8080/",
          "height": 204
        }
      },
      "source": [
        "combined_data.head()"
      ],
      "execution_count": 0,
      "outputs": [
        {
          "output_type": "execute_result",
          "data": {
            "text/html": [
              "<div>\n",
              "<style scoped>\n",
              "    .dataframe tbody tr th:only-of-type {\n",
              "        vertical-align: middle;\n",
              "    }\n",
              "\n",
              "    .dataframe tbody tr th {\n",
              "        vertical-align: top;\n",
              "    }\n",
              "\n",
              "    .dataframe thead th {\n",
              "        text-align: right;\n",
              "    }\n",
              "</style>\n",
              "<table border=\"1\" class=\"dataframe\">\n",
              "  <thead>\n",
              "    <tr style=\"text-align: right;\">\n",
              "      <th></th>\n",
              "      <th>timestamp</th>\n",
              "      <th>asset</th>\n",
              "      <th>Open</th>\n",
              "      <th>Close</th>\n",
              "      <th>Volume</th>\n",
              "      <th>return</th>\n",
              "      <th>sentiment</th>\n",
              "    </tr>\n",
              "  </thead>\n",
              "  <tbody>\n",
              "    <tr>\n",
              "      <th>0</th>\n",
              "      <td>2014-01-03</td>\n",
              "      <td>VZ</td>\n",
              "      <td>49.330002</td>\n",
              "      <td>48.419998</td>\n",
              "      <td>12022200.0</td>\n",
              "      <td>-0.011837</td>\n",
              "      <td>0.858437</td>\n",
              "    </tr>\n",
              "    <tr>\n",
              "      <th>1</th>\n",
              "      <td>2014-01-09</td>\n",
              "      <td>VZ</td>\n",
              "      <td>48.430000</td>\n",
              "      <td>47.500000</td>\n",
              "      <td>14567000.0</td>\n",
              "      <td>-0.020619</td>\n",
              "      <td>0.121953</td>\n",
              "    </tr>\n",
              "    <tr>\n",
              "      <th>2</th>\n",
              "      <td>2014-01-10</td>\n",
              "      <td>VZ</td>\n",
              "      <td>47.840000</td>\n",
              "      <td>47.750000</td>\n",
              "      <td>11445900.0</td>\n",
              "      <td>0.005263</td>\n",
              "      <td>0.493868</td>\n",
              "    </tr>\n",
              "    <tr>\n",
              "      <th>3</th>\n",
              "      <td>2014-01-13</td>\n",
              "      <td>VZ</td>\n",
              "      <td>47.650002</td>\n",
              "      <td>47.029999</td>\n",
              "      <td>18784000.0</td>\n",
              "      <td>-0.015079</td>\n",
              "      <td>0.566625</td>\n",
              "    </tr>\n",
              "    <tr>\n",
              "      <th>4</th>\n",
              "      <td>2014-01-14</td>\n",
              "      <td>VZ</td>\n",
              "      <td>47.040001</td>\n",
              "      <td>47.080002</td>\n",
              "      <td>19270700.0</td>\n",
              "      <td>0.001063</td>\n",
              "      <td>0.028749</td>\n",
              "    </tr>\n",
              "  </tbody>\n",
              "</table>\n",
              "</div>"
            ],
            "text/plain": [
              "    timestamp asset       Open      Close      Volume    return  sentiment\n",
              "0  2014-01-03    VZ  49.330002  48.419998  12022200.0 -0.011837   0.858437\n",
              "1  2014-01-09    VZ  48.430000  47.500000  14567000.0 -0.020619   0.121953\n",
              "2  2014-01-10    VZ  47.840000  47.750000  11445900.0  0.005263   0.493868\n",
              "3  2014-01-13    VZ  47.650002  47.029999  18784000.0 -0.015079   0.566625\n",
              "4  2014-01-14    VZ  47.040001  47.080002  19270700.0  0.001063   0.028749"
            ]
          },
          "metadata": {
            "tags": []
          },
          "execution_count": 13
        }
      ]
    },
    {
      "cell_type": "code",
      "metadata": {
        "id": "TmIBMXjFxkzM",
        "colab_type": "code",
        "colab": {}
      },
      "source": [
        "combined_data['return']= combined_data['return'].apply(lambda x:float(x))"
      ],
      "execution_count": 0,
      "outputs": []
    },
    {
      "cell_type": "markdown",
      "metadata": {
        "id": "PA21vhliEjVJ",
        "colab_type": "text"
      },
      "source": [
        "## Section 1: Stock return v Abs. Sentiment score of Tweets"
      ]
    },
    {
      "cell_type": "markdown",
      "metadata": {
        "id": "KrmIVB_P1KlH",
        "colab_type": "text"
      },
      "source": [
        "### Day-0 test (extra)"
      ]
    },
    {
      "cell_type": "code",
      "metadata": {
        "id": "sGwdeA1zWq88",
        "colab_type": "code",
        "colab": {}
      },
      "source": [
        "combined_data_day_0 = combined_data.dropna(axis=0)"
      ],
      "execution_count": 0,
      "outputs": []
    },
    {
      "cell_type": "code",
      "metadata": {
        "id": "-r0mbdwvzHFL",
        "colab_type": "code",
        "colab": {
          "base_uri": "https://localhost:8080/",
          "height": 204
        },
        "outputId": "baabe656-699e-48ad-9e7b-4fec819220a8"
      },
      "source": [
        "combined_data_day_0.head()"
      ],
      "execution_count": 57,
      "outputs": [
        {
          "output_type": "execute_result",
          "data": {
            "text/html": [
              "<div>\n",
              "<style scoped>\n",
              "    .dataframe tbody tr th:only-of-type {\n",
              "        vertical-align: middle;\n",
              "    }\n",
              "\n",
              "    .dataframe tbody tr th {\n",
              "        vertical-align: top;\n",
              "    }\n",
              "\n",
              "    .dataframe thead th {\n",
              "        text-align: right;\n",
              "    }\n",
              "</style>\n",
              "<table border=\"1\" class=\"dataframe\">\n",
              "  <thead>\n",
              "    <tr style=\"text-align: right;\">\n",
              "      <th></th>\n",
              "      <th>timestamp</th>\n",
              "      <th>asset</th>\n",
              "      <th>Open</th>\n",
              "      <th>Close</th>\n",
              "      <th>Volume</th>\n",
              "      <th>return</th>\n",
              "      <th>sentiment</th>\n",
              "    </tr>\n",
              "  </thead>\n",
              "  <tbody>\n",
              "    <tr>\n",
              "      <th>1</th>\n",
              "      <td>2014-01-03</td>\n",
              "      <td>AAPL</td>\n",
              "      <td>78.980003</td>\n",
              "      <td>77.28286</td>\n",
              "      <td>98116900.0</td>\n",
              "      <td>-0.021966</td>\n",
              "      <td>0.601761</td>\n",
              "    </tr>\n",
              "    <tr>\n",
              "      <th>2</th>\n",
              "      <td>2014-01-06</td>\n",
              "      <td>AAPL</td>\n",
              "      <td>76.778572</td>\n",
              "      <td>77.704285</td>\n",
              "      <td>103152700.0</td>\n",
              "      <td>0.005453</td>\n",
              "      <td>0.691132</td>\n",
              "    </tr>\n",
              "    <tr>\n",
              "      <th>3</th>\n",
              "      <td>2014-01-07</td>\n",
              "      <td>AAPL</td>\n",
              "      <td>77.760002</td>\n",
              "      <td>77.148575</td>\n",
              "      <td>79302300.0</td>\n",
              "      <td>-0.007152</td>\n",
              "      <td>0.669051</td>\n",
              "    </tr>\n",
              "    <tr>\n",
              "      <th>4</th>\n",
              "      <td>2014-01-08</td>\n",
              "      <td>AAPL</td>\n",
              "      <td>76.97285500000002</td>\n",
              "      <td>77.637146</td>\n",
              "      <td>64632400.0</td>\n",
              "      <td>0.006333</td>\n",
              "      <td>0.691764</td>\n",
              "    </tr>\n",
              "    <tr>\n",
              "      <th>5</th>\n",
              "      <td>2014-01-09</td>\n",
              "      <td>AAPL</td>\n",
              "      <td>78.114288</td>\n",
              "      <td>76.645714</td>\n",
              "      <td>69787200.0</td>\n",
              "      <td>-0.012770</td>\n",
              "      <td>0.512157</td>\n",
              "    </tr>\n",
              "  </tbody>\n",
              "</table>\n",
              "</div>"
            ],
            "text/plain": [
              "    timestamp asset               Open  ...       Volume    return  sentiment\n",
              "1  2014-01-03  AAPL          78.980003  ...   98116900.0 -0.021966   0.601761\n",
              "2  2014-01-06  AAPL          76.778572  ...  103152700.0  0.005453   0.691132\n",
              "3  2014-01-07  AAPL          77.760002  ...   79302300.0 -0.007152   0.669051\n",
              "4  2014-01-08  AAPL  76.97285500000002  ...   64632400.0  0.006333   0.691764\n",
              "5  2014-01-09  AAPL          78.114288  ...   69787200.0 -0.012770   0.512157\n",
              "\n",
              "[5 rows x 7 columns]"
            ]
          },
          "metadata": {
            "tags": []
          },
          "execution_count": 57
        }
      ]
    },
    {
      "cell_type": "code",
      "metadata": {
        "id": "O-2bLgfuWbvN",
        "colab_type": "code",
        "colab": {}
      },
      "source": [
        "returns = combined_data_day_0['return'].values\n",
        "sentiments = combined_data_day_0['sentiment'].values"
      ],
      "execution_count": 0,
      "outputs": []
    },
    {
      "cell_type": "code",
      "metadata": {
        "id": "KN59BZ_GW2ti",
        "colab_type": "code",
        "outputId": "0fd1542b-bc2b-44d1-8fee-d9aa5992da37",
        "colab": {
          "base_uri": "https://localhost:8080/",
          "height": 35
        }
      },
      "source": [
        "returns.shape,sentiments.shape"
      ],
      "execution_count": 59,
      "outputs": [
        {
          "output_type": "execute_result",
          "data": {
            "text/plain": [
              "((21953,), (21953,))"
            ]
          },
          "metadata": {
            "tags": []
          },
          "execution_count": 59
        }
      ]
    },
    {
      "cell_type": "code",
      "metadata": {
        "id": "tkZWauiVXTnY",
        "colab_type": "code",
        "colab": {}
      },
      "source": [
        "sentiments = sentiments.reshape(-1, 1)"
      ],
      "execution_count": 0,
      "outputs": []
    },
    {
      "cell_type": "code",
      "metadata": {
        "id": "8wsTLf9SW361",
        "colab_type": "code",
        "colab": {}
      },
      "source": [
        "from sklearn.model_selection import train_test_split\n",
        "x_train, x_test, y_train, y_test = train_test_split(sentiments, returns, test_size=.1)"
      ],
      "execution_count": 0,
      "outputs": []
    },
    {
      "cell_type": "code",
      "metadata": {
        "id": "kaYGwwwfW566",
        "colab_type": "code",
        "outputId": "b8e2d72a-348e-47c9-a3cf-266b9572067e",
        "colab": {
          "base_uri": "https://localhost:8080/",
          "height": 143
        }
      },
      "source": [
        "# Import the model we are using\n",
        "from sklearn.ensemble import RandomForestRegressor\n",
        "# Instantiate model with 1000 decision trees\n",
        "rf = RandomForestRegressor(n_estimators = 1000, random_state = 42)\n",
        "# Train the model on training data\n",
        "rf.fit(x_train, y_train)"
      ],
      "execution_count": 62,
      "outputs": [
        {
          "output_type": "execute_result",
          "data": {
            "text/plain": [
              "RandomForestRegressor(bootstrap=True, criterion='mse', max_depth=None,\n",
              "                      max_features='auto', max_leaf_nodes=None,\n",
              "                      min_impurity_decrease=0.0, min_impurity_split=None,\n",
              "                      min_samples_leaf=1, min_samples_split=2,\n",
              "                      min_weight_fraction_leaf=0.0, n_estimators=1000,\n",
              "                      n_jobs=None, oob_score=False, random_state=42, verbose=0,\n",
              "                      warm_start=False)"
            ]
          },
          "metadata": {
            "tags": []
          },
          "execution_count": 62
        }
      ]
    },
    {
      "cell_type": "code",
      "metadata": {
        "id": "5fHoR2WWYVh1",
        "colab_type": "code",
        "colab": {}
      },
      "source": [
        "# Use the forest's predict method on the test data\n",
        "predictions = rf.predict(x_test)"
      ],
      "execution_count": 0,
      "outputs": []
    },
    {
      "cell_type": "code",
      "metadata": {
        "id": "oTWoD2fEYZZ7",
        "colab_type": "code",
        "outputId": "ca5e20a9-9c8c-49e0-8785-3990ce2728ee",
        "colab": {
          "base_uri": "https://localhost:8080/",
          "height": 71
        }
      },
      "source": [
        "from sklearn.metrics import r2_score,explained_variance_score,mean_squared_error\n",
        "print(r2_score(y_test,predictions))\n",
        "print(explained_variance_score(y_test,predictions))\n",
        "print(mean_squared_error(y_test,predictions))"
      ],
      "execution_count": 64,
      "outputs": [
        {
          "output_type": "stream",
          "text": [
            "-0.3964323679509809\n",
            "-0.395603085931872\n",
            "0.00033775682560039847\n"
          ],
          "name": "stdout"
        }
      ]
    },
    {
      "cell_type": "code",
      "metadata": {
        "id": "1SluMRmNYdWt",
        "colab_type": "code",
        "outputId": "5c415752-ef25-4eb7-96eb-62ba0b9fead3",
        "colab": {
          "base_uri": "https://localhost:8080/",
          "height": 312
        }
      },
      "source": [
        "import matplotlib.pyplot as plt\n",
        "# Plot the actual values\n",
        "plt.plot(range(predictions.shape[0]), y_test, 'b-', label = 'actual')\n",
        "# Plot the predicted values\n",
        "plt.plot(range(predictions.shape[0]),predictions, 'r-', label = 'prediction')\n",
        "plt.xticks(rotation = '60'); \n",
        "plt.legend()\n",
        "# Graph labels\n",
        "plt.xlabel('timestamp'); plt.ylabel('Stock return'); plt.title('Actual and Predicted Values');"
      ],
      "execution_count": 66,
      "outputs": [
        {
          "output_type": "display_data",
          "data": {
            "image/png": "[encoded data removed]",
            "text/plain": [
              "<Figure size 432x288 with 1 Axes>"
            ]
          },
          "metadata": {
            "tags": []
          }
        }
      ]
    },
    {
      "cell_type": "code",
      "metadata": {
        "id": "Y_mSqv19XEvb",
        "colab_type": "code",
        "outputId": "59f048b2-86ae-43a4-ac8d-dd92420ad414",
        "colab": {
          "base_uri": "https://localhost:8080/",
          "height": 35
        }
      },
      "source": [
        "from sklearn.linear_model import LinearRegression\n",
        "reg = LinearRegression().fit(x_train, y_train)\n",
        "reg.score(x_test, y_test)"
      ],
      "execution_count": 67,
      "outputs": [
        {
          "output_type": "execute_result",
          "data": {
            "text/plain": [
              "-0.0009239542340739871"
            ]
          },
          "metadata": {
            "tags": []
          },
          "execution_count": 67
        }
      ]
    },
    {
      "cell_type": "markdown",
      "metadata": {
        "id": "gjRx1h0L1RRW",
        "colab_type": "text"
      },
      "source": [
        "### Day-1 Test"
      ]
    },
    {
      "cell_type": "code",
      "metadata": {
        "id": "Ln1bhKAiYK6k",
        "colab_type": "code",
        "colab": {}
      },
      "source": [
        "import datetime\n",
        "price_days = list(combined_data['timestamp'].unique()) \n",
        "work_days = list(all_stock_price['timestamp'].unique())\n",
        "end = pd.to_datetime('2016-04-01')\n",
        "next_work_day_map = dict()\n",
        "for i in range(len(price_days)):\n",
        "  date = price_days[i]\n",
        "  next_work_day = pd.to_datetime(date) + datetime.timedelta(days=1)\n",
        "  #print(next_work_day)\n",
        "  decay = 0\n",
        "  while next_work_day.strftime('%Y-%m-%d') not in work_days or next_work_day.strftime('%Y-%m-%d') not in price_days:\n",
        "      if(next_work_day > end): break\n",
        "      next_work_day += datetime.timedelta(days=1)\n",
        "      decay += 1\n",
        "  next_work_day_map[str(date)] = next_work_day.strftime('%Y-%m-%d')\n",
        "stock_return_map = dict()\n",
        "for i,row in combined_data.iterrows():\n",
        "  stock_return_map[(str(row['timestamp']),row['asset'])] = row['return']"
      ],
      "execution_count": 0,
      "outputs": []
    },
    {
      "cell_type": "code",
      "metadata": {
        "id": "dZMpj2p-cvDF",
        "colab_type": "code",
        "colab": {}
      },
      "source": [
        "assert(stock_return_map[('2014-01-09','VZ')]==-0.020618556701030966)"
      ],
      "execution_count": 0,
      "outputs": []
    },
    {
      "cell_type": "code",
      "metadata": {
        "id": "l7GH6Kg3fXDb",
        "colab_type": "code",
        "colab": {}
      },
      "source": [
        "assert(next_work_day_map['2014-01-16']=='2014-01-21')"
      ],
      "execution_count": 0,
      "outputs": []
    },
    {
      "cell_type": "code",
      "metadata": {
        "id": "ie1qZuK6cUJe",
        "colab_type": "code",
        "colab": {}
      },
      "source": [
        "def next_n_working_day(date,n):\n",
        "  cur = date\n",
        "  while n > 0:\n",
        "    next_work_day = next_work_day_map[cur]\n",
        "    cur = next_work_day\n",
        "    if cur not in price_days:\n",
        "      return cur\n",
        "    n-=1\n",
        "  return cur\n",
        "def generate_day_n_dataset(n):\n",
        "  temp = []\n",
        "  for stock, df in combined_data.groupby(combined_data.asset):\n",
        "    all_dates = set(df['timestamp'].values)\n",
        "    for i,row in df.iterrows():\n",
        "      date = row['timestamp']\n",
        "      next_n_day = next_n_working_day(date,n)\n",
        "      sentiment = row['sentiment']\n",
        "      if next_n_day in all_dates:\n",
        "        temp.append([row['timestamp'],stock_return_map[(str(next_n_day),stock)],stock,sentiment])\n",
        "  return pd.DataFrame(temp, columns=['timestamp','return','asset','sentiment'])"
      ],
      "execution_count": 0,
      "outputs": []
    },
    {
      "cell_type": "code",
      "metadata": {
        "id": "KvmaoRW3dSfh",
        "colab_type": "code",
        "colab": {}
      },
      "source": [
        "combined_data_day_1 = generate_day_n_dataset(1)"
      ],
      "execution_count": 0,
      "outputs": []
    },
    {
      "cell_type": "code",
      "metadata": {
        "id": "zfdGOWKaddhp",
        "colab_type": "code",
        "colab": {}
      },
      "source": [
        "combined_data_day_1.dropna(axis=0,inplace=True)"
      ],
      "execution_count": 0,
      "outputs": []
    },
    {
      "cell_type": "code",
      "metadata": {
        "id": "Q1Z9KMohthYQ",
        "colab_type": "code",
        "outputId": "49f15db1-28ee-4564-8275-c8c883e65ce2",
        "colab": {
          "base_uri": "https://localhost:8080/",
          "height": 35
        }
      },
      "source": [
        "combined_data_day_1.shape"
      ],
      "execution_count": 151,
      "outputs": [
        {
          "output_type": "execute_result",
          "data": {
            "text/plain": [
              "(15569, 4)"
            ]
          },
          "metadata": {
            "tags": []
          },
          "execution_count": 151
        }
      ]
    },
    {
      "cell_type": "code",
      "metadata": {
        "id": "RUrFeEwsto8O",
        "colab_type": "code",
        "outputId": "f2fc79fb-4157-417d-8ca3-598a5b8f6cf8",
        "colab": {
          "base_uri": "https://localhost:8080/",
          "height": 204
        }
      },
      "source": [
        "combined_data_day_1.head()"
      ],
      "execution_count": 75,
      "outputs": [
        {
          "output_type": "execute_result",
          "data": {
            "text/html": [
              "<div>\n",
              "<style scoped>\n",
              "    .dataframe tbody tr th:only-of-type {\n",
              "        vertical-align: middle;\n",
              "    }\n",
              "\n",
              "    .dataframe tbody tr th {\n",
              "        vertical-align: top;\n",
              "    }\n",
              "\n",
              "    .dataframe thead th {\n",
              "        text-align: right;\n",
              "    }\n",
              "</style>\n",
              "<table border=\"1\" class=\"dataframe\">\n",
              "  <thead>\n",
              "    <tr style=\"text-align: right;\">\n",
              "      <th></th>\n",
              "      <th>timestamp</th>\n",
              "      <th>return</th>\n",
              "      <th>asset</th>\n",
              "      <th>sentiment</th>\n",
              "    </tr>\n",
              "  </thead>\n",
              "  <tbody>\n",
              "    <tr>\n",
              "      <th>0</th>\n",
              "      <td>2014-01-02</td>\n",
              "      <td>-0.021966</td>\n",
              "      <td>AAPL</td>\n",
              "      <td>0.565564</td>\n",
              "    </tr>\n",
              "    <tr>\n",
              "      <th>1</th>\n",
              "      <td>2014-01-03</td>\n",
              "      <td>0.005453</td>\n",
              "      <td>AAPL</td>\n",
              "      <td>0.601761</td>\n",
              "    </tr>\n",
              "    <tr>\n",
              "      <th>2</th>\n",
              "      <td>2014-01-06</td>\n",
              "      <td>-0.007152</td>\n",
              "      <td>AAPL</td>\n",
              "      <td>0.691132</td>\n",
              "    </tr>\n",
              "    <tr>\n",
              "      <th>3</th>\n",
              "      <td>2014-01-07</td>\n",
              "      <td>0.006333</td>\n",
              "      <td>AAPL</td>\n",
              "      <td>0.669051</td>\n",
              "    </tr>\n",
              "    <tr>\n",
              "      <th>4</th>\n",
              "      <td>2014-01-08</td>\n",
              "      <td>-0.012770</td>\n",
              "      <td>AAPL</td>\n",
              "      <td>0.691764</td>\n",
              "    </tr>\n",
              "  </tbody>\n",
              "</table>\n",
              "</div>"
            ],
            "text/plain": [
              "    timestamp    return asset  sentiment\n",
              "0  2014-01-02 -0.021966  AAPL   0.565564\n",
              "1  2014-01-03  0.005453  AAPL   0.601761\n",
              "2  2014-01-06 -0.007152  AAPL   0.691132\n",
              "3  2014-01-07  0.006333  AAPL   0.669051\n",
              "4  2014-01-08 -0.012770  AAPL   0.691764"
            ]
          },
          "metadata": {
            "tags": []
          },
          "execution_count": 75
        }
      ]
    },
    {
      "cell_type": "code",
      "metadata": {
        "id": "UmEO9Eifehbv",
        "colab_type": "code",
        "outputId": "a23ccc90-d4c2-4746-e27a-c630e4f1dc0e",
        "colab": {
          "base_uri": "https://localhost:8080/",
          "height": 204
        }
      },
      "source": [
        "combined_data_day_1.head()"
      ],
      "execution_count": 0,
      "outputs": [
        {
          "output_type": "execute_result",
          "data": {
            "text/html": [
              "<div>\n",
              "<style scoped>\n",
              "    .dataframe tbody tr th:only-of-type {\n",
              "        vertical-align: middle;\n",
              "    }\n",
              "\n",
              "    .dataframe tbody tr th {\n",
              "        vertical-align: top;\n",
              "    }\n",
              "\n",
              "    .dataframe thead th {\n",
              "        text-align: right;\n",
              "    }\n",
              "</style>\n",
              "<table border=\"1\" class=\"dataframe\">\n",
              "  <thead>\n",
              "    <tr style=\"text-align: right;\">\n",
              "      <th></th>\n",
              "      <th>timestamp</th>\n",
              "      <th>return</th>\n",
              "      <th>asset</th>\n",
              "      <th>sentiment</th>\n",
              "    </tr>\n",
              "  </thead>\n",
              "  <tbody>\n",
              "    <tr>\n",
              "      <th>0</th>\n",
              "      <td>2014-01-02</td>\n",
              "      <td>-0.021966</td>\n",
              "      <td>AAPL</td>\n",
              "      <td>0.565564</td>\n",
              "    </tr>\n",
              "    <tr>\n",
              "      <th>1</th>\n",
              "      <td>2014-01-03</td>\n",
              "      <td>0.005453</td>\n",
              "      <td>AAPL</td>\n",
              "      <td>0.601761</td>\n",
              "    </tr>\n",
              "    <tr>\n",
              "      <th>2</th>\n",
              "      <td>2014-01-06</td>\n",
              "      <td>-0.007152</td>\n",
              "      <td>AAPL</td>\n",
              "      <td>0.691132</td>\n",
              "    </tr>\n",
              "    <tr>\n",
              "      <th>3</th>\n",
              "      <td>2014-01-07</td>\n",
              "      <td>0.006333</td>\n",
              "      <td>AAPL</td>\n",
              "      <td>0.669051</td>\n",
              "    </tr>\n",
              "    <tr>\n",
              "      <th>4</th>\n",
              "      <td>2014-01-08</td>\n",
              "      <td>-0.012770</td>\n",
              "      <td>AAPL</td>\n",
              "      <td>0.691764</td>\n",
              "    </tr>\n",
              "  </tbody>\n",
              "</table>\n",
              "</div>"
            ],
            "text/plain": [
              "    timestamp    return asset  sentiment\n",
              "0  2014-01-02 -0.021966  AAPL   0.565564\n",
              "1  2014-01-03  0.005453  AAPL   0.601761\n",
              "2  2014-01-06 -0.007152  AAPL   0.691132\n",
              "3  2014-01-07  0.006333  AAPL   0.669051\n",
              "4  2014-01-08 -0.012770  AAPL   0.691764"
            ]
          },
          "metadata": {
            "tags": []
          },
          "execution_count": 35
        }
      ]
    },
    {
      "cell_type": "code",
      "metadata": {
        "id": "fzE06Wx4hMam",
        "colab_type": "code",
        "colab": {}
      },
      "source": [
        "combined_data_day_1.dropna(axis=0,inplace=True)"
      ],
      "execution_count": 0,
      "outputs": []
    },
    {
      "cell_type": "markdown",
      "metadata": {
        "id": "PFSfxdJ91bmv",
        "colab_type": "text"
      },
      "source": [
        "#### Percentage change"
      ]
    },
    {
      "cell_type": "code",
      "metadata": {
        "id": "HbdN3J4Hhcfo",
        "colab_type": "code",
        "colab": {}
      },
      "source": [
        "returns = combined_data_day_1['return'].values\n",
        "sentiments = combined_data_day_1['sentiment'].values.reshape(-1,1)"
      ],
      "execution_count": 0,
      "outputs": []
    },
    {
      "cell_type": "code",
      "metadata": {
        "id": "S39Pe918hi_k",
        "colab_type": "code",
        "colab": {}
      },
      "source": [
        "x_train, x_test, y_train, y_test = train_test_split(sentiments, returns, test_size=.1)"
      ],
      "execution_count": 0,
      "outputs": []
    },
    {
      "cell_type": "code",
      "metadata": {
        "id": "1vELU9UThlsZ",
        "colab_type": "code",
        "outputId": "668ec4d1-9736-4e70-8d74-468624d58790",
        "colab": {
          "base_uri": "https://localhost:8080/",
          "height": 143
        }
      },
      "source": [
        "# Import the model we are using\n",
        "from sklearn.ensemble import RandomForestRegressor\n",
        "# Instantiate model with 1000 decision trees\n",
        "rf = RandomForestRegressor(n_estimators = 1000, random_state = 42)\n",
        "# Train the model on training data\n",
        "rf.fit(x_train, y_train)"
      ],
      "execution_count": 78,
      "outputs": [
        {
          "output_type": "execute_result",
          "data": {
            "text/plain": [
              "RandomForestRegressor(bootstrap=True, criterion='mse', max_depth=None,\n",
              "                      max_features='auto', max_leaf_nodes=None,\n",
              "                      min_impurity_decrease=0.0, min_impurity_split=None,\n",
              "                      min_samples_leaf=1, min_samples_split=2,\n",
              "                      min_weight_fraction_leaf=0.0, n_estimators=1000,\n",
              "                      n_jobs=None, oob_score=False, random_state=42, verbose=0,\n",
              "                      warm_start=False)"
            ]
          },
          "metadata": {
            "tags": []
          },
          "execution_count": 78
        }
      ]
    },
    {
      "cell_type": "code",
      "metadata": {
        "id": "eB5Ywn7NhvIB",
        "colab_type": "code",
        "outputId": "199c7094-5371-487a-c1b7-79f99d5ccc32",
        "colab": {
          "base_uri": "https://localhost:8080/",
          "height": 71
        }
      },
      "source": [
        "from sklearn.metrics import r2_score,explained_variance_score,mean_squared_error\n",
        "# Use the forest's predict method on the test data\n",
        "predictions = rf.predict(x_test)\n",
        "print(r2_score(y_test,predictions))\n",
        "print(explained_variance_score(y_test,predictions))\n",
        "print(mean_squared_error(y_test,predictions))"
      ],
      "execution_count": 80,
      "outputs": [
        {
          "output_type": "stream",
          "text": [
            "-0.4549996523471025\n",
            "-0.4536163558094717\n",
            "0.0003353674211696234\n"
          ],
          "name": "stdout"
        }
      ]
    },
    {
      "cell_type": "code",
      "metadata": {
        "id": "xNbXIHwchxne",
        "colab_type": "code",
        "outputId": "34d03553-6b5a-41fe-9038-f023beec7c44",
        "colab": {
          "base_uri": "https://localhost:8080/",
          "height": 312
        }
      },
      "source": [
        "import matplotlib.pyplot as plt\n",
        "# Plot the actual values\n",
        "plt.plot(range(predictions.shape[0]), y_test, 'b-', label = 'actual')\n",
        "# Plot the predicted values\n",
        "plt.plot(range(predictions.shape[0]),predictions, 'r-', label = 'prediction')\n",
        "plt.xticks(rotation = '60'); \n",
        "plt.legend()\n",
        "# Graph labels\n",
        "plt.xlabel('timestamp'); plt.ylabel('Stock return'); plt.title('Actual and Predicted Values');"
      ],
      "execution_count": 81,
      "outputs": [
        {
          "output_type": "display_data",
          "data": {
            "image/png": "[encoded data removed]",
            "text/plain": [
              "<Figure size 432x288 with 1 Axes>"
            ]
          },
          "metadata": {
            "tags": []
          }
        }
      ]
    },
    {
      "cell_type": "code",
      "metadata": {
        "id": "mUeaA0prh4tk",
        "colab_type": "code",
        "colab": {}
      },
      "source": [
        "from sklearn.linear_model import LinearRegression\n",
        "reg = LinearRegression().fit(x_train, y_train)"
      ],
      "execution_count": 0,
      "outputs": []
    },
    {
      "cell_type": "code",
      "metadata": {
        "colab_type": "code",
        "outputId": "432c172e-3b2d-4e95-f0cc-81d81060751f",
        "id": "GYZii8Tv3BTh",
        "colab": {
          "base_uri": "https://localhost:8080/",
          "height": 71
        }
      },
      "source": [
        "predictions = reg.predict(x_test)\n",
        "print(r2_score(y_test,predictions))\n",
        "print(explained_variance_score(y_test,predictions))\n",
        "print(mean_squared_error(y_test,predictions))"
      ],
      "execution_count": 179,
      "outputs": [
        {
          "output_type": "stream",
          "text": [
            "-0.00017126256350175062\n",
            "0.0002071178536473539\n",
            "0.00022556408284618367\n"
          ],
          "name": "stdout"
        }
      ]
    },
    {
      "cell_type": "code",
      "metadata": {
        "id": "dhWyq6w5Iy1a",
        "colab_type": "code",
        "colab": {
          "base_uri": "https://localhost:8080/",
          "height": 312
        },
        "outputId": "cbcf96b9-f8a5-466e-aee5-44b4786467d3"
      },
      "source": [
        "import matplotlib.pyplot as plt\n",
        "# Plot the actual values\n",
        "plt.plot(range(predictions.shape[0]), y_test, 'b-', label = 'actual')\n",
        "# Plot the predicted values\n",
        "plt.plot(range(predictions.shape[0]),predictions, 'r-', label = 'prediction')\n",
        "plt.xticks(rotation = '60'); \n",
        "plt.legend()\n",
        "# Graph labels\n",
        "plt.xlabel('timestamp'); plt.ylabel('Stock return'); plt.title('Actual and Predicted Values');"
      ],
      "execution_count": 180,
      "outputs": [
        {
          "output_type": "display_data",
          "data": {
            "image/png": "[encoded data removed]",
            "text/plain": [
              "<Figure size 432x288 with 1 Axes>"
            ]
          },
          "metadata": {
            "tags": []
          }
        }
      ]
    },
    {
      "cell_type": "markdown",
      "metadata": {
        "id": "A-bxeNsM1feb",
        "colab_type": "text"
      },
      "source": [
        "#### Directionality"
      ]
    },
    {
      "cell_type": "code",
      "metadata": {
        "id": "eb25vc4w1h9i",
        "colab_type": "code",
        "colab": {}
      },
      "source": [
        "combined_data_day_1['direction'] = combined_data_day_1['return'].apply(lambda x: 0 if x<0 else 1) #0=down 1=up"
      ],
      "execution_count": 0,
      "outputs": []
    },
    {
      "cell_type": "code",
      "metadata": {
        "id": "jEAHoqLf1xhI",
        "colab_type": "code",
        "colab": {
          "base_uri": "https://localhost:8080/",
          "height": 204
        },
        "outputId": "49295114-882f-408a-94e7-acbb87d20d51"
      },
      "source": [
        "combined_data_day_1.head()"
      ],
      "execution_count": 153,
      "outputs": [
        {
          "output_type": "execute_result",
          "data": {
            "text/html": [
              "<div>\n",
              "<style scoped>\n",
              "    .dataframe tbody tr th:only-of-type {\n",
              "        vertical-align: middle;\n",
              "    }\n",
              "\n",
              "    .dataframe tbody tr th {\n",
              "        vertical-align: top;\n",
              "    }\n",
              "\n",
              "    .dataframe thead th {\n",
              "        text-align: right;\n",
              "    }\n",
              "</style>\n",
              "<table border=\"1\" class=\"dataframe\">\n",
              "  <thead>\n",
              "    <tr style=\"text-align: right;\">\n",
              "      <th></th>\n",
              "      <th>timestamp</th>\n",
              "      <th>return</th>\n",
              "      <th>asset</th>\n",
              "      <th>sentiment</th>\n",
              "      <th>direction</th>\n",
              "    </tr>\n",
              "  </thead>\n",
              "  <tbody>\n",
              "    <tr>\n",
              "      <th>0</th>\n",
              "      <td>2014-01-02</td>\n",
              "      <td>-0.021966</td>\n",
              "      <td>AAPL</td>\n",
              "      <td>0.565564</td>\n",
              "      <td>0</td>\n",
              "    </tr>\n",
              "    <tr>\n",
              "      <th>1</th>\n",
              "      <td>2014-01-03</td>\n",
              "      <td>0.005453</td>\n",
              "      <td>AAPL</td>\n",
              "      <td>0.601761</td>\n",
              "      <td>1</td>\n",
              "    </tr>\n",
              "    <tr>\n",
              "      <th>2</th>\n",
              "      <td>2014-01-06</td>\n",
              "      <td>-0.007152</td>\n",
              "      <td>AAPL</td>\n",
              "      <td>0.691132</td>\n",
              "      <td>0</td>\n",
              "    </tr>\n",
              "    <tr>\n",
              "      <th>3</th>\n",
              "      <td>2014-01-07</td>\n",
              "      <td>0.006333</td>\n",
              "      <td>AAPL</td>\n",
              "      <td>0.669051</td>\n",
              "      <td>1</td>\n",
              "    </tr>\n",
              "    <tr>\n",
              "      <th>4</th>\n",
              "      <td>2014-01-08</td>\n",
              "      <td>-0.012770</td>\n",
              "      <td>AAPL</td>\n",
              "      <td>0.691764</td>\n",
              "      <td>0</td>\n",
              "    </tr>\n",
              "  </tbody>\n",
              "</table>\n",
              "</div>"
            ],
            "text/plain": [
              "    timestamp    return asset  sentiment  direction\n",
              "0  2014-01-02 -0.021966  AAPL   0.565564          0\n",
              "1  2014-01-03  0.005453  AAPL   0.601761          1\n",
              "2  2014-01-06 -0.007152  AAPL   0.691132          0\n",
              "3  2014-01-07  0.006333  AAPL   0.669051          1\n",
              "4  2014-01-08 -0.012770  AAPL   0.691764          0"
            ]
          },
          "metadata": {
            "tags": []
          },
          "execution_count": 153
        }
      ]
    },
    {
      "cell_type": "code",
      "metadata": {
        "id": "eUUcKufB15vd",
        "colab_type": "code",
        "colab": {}
      },
      "source": [
        "directions = combined_data_day_1['direction'].values\n",
        "sentiments = combined_data_day_1['sentiment'].values.reshape(-1,1)"
      ],
      "execution_count": 0,
      "outputs": []
    },
    {
      "cell_type": "code",
      "metadata": {
        "id": "PbRuaFO92ACQ",
        "colab_type": "code",
        "colab": {}
      },
      "source": [
        "x_train, x_test, y_train, y_test = train_test_split(sentiments, directions, test_size=.1)"
      ],
      "execution_count": 0,
      "outputs": []
    },
    {
      "cell_type": "code",
      "metadata": {
        "colab_type": "code",
        "outputId": "ff78daf0-bc3c-483f-dd3b-bdba19b52475",
        "id": "GDO2TQ212GvJ",
        "colab": {
          "base_uri": "https://localhost:8080/",
          "height": 143
        }
      },
      "source": [
        "# Import the model we are using\n",
        "from sklearn.ensemble import RandomForestRegressor\n",
        "# Instantiate model with 1000 decision trees\n",
        "rf = RandomForestRegressor(n_estimators = 1000, random_state = 42)\n",
        "# Train the model on training data\n",
        "rf.fit(x_train, y_train)"
      ],
      "execution_count": 88,
      "outputs": [
        {
          "output_type": "execute_result",
          "data": {
            "text/plain": [
              "RandomForestRegressor(bootstrap=True, criterion='mse', max_depth=None,\n",
              "                      max_features='auto', max_leaf_nodes=None,\n",
              "                      min_impurity_decrease=0.0, min_impurity_split=None,\n",
              "                      min_samples_leaf=1, min_samples_split=2,\n",
              "                      min_weight_fraction_leaf=0.0, n_estimators=1000,\n",
              "                      n_jobs=None, oob_score=False, random_state=42, verbose=0,\n",
              "                      warm_start=False)"
            ]
          },
          "metadata": {
            "tags": []
          },
          "execution_count": 88
        }
      ]
    },
    {
      "cell_type": "code",
      "metadata": {
        "colab_type": "code",
        "outputId": "9459eb4e-465d-4878-9139-25b5411e0e95",
        "id": "siOLmn6q2Rs_",
        "colab": {
          "base_uri": "https://localhost:8080/",
          "height": 71
        }
      },
      "source": [
        "from sklearn.metrics import r2_score,explained_variance_score,mean_squared_error\n",
        "# Use the forest's predict method on the test data\n",
        "predictions = rf.predict(x_test)\n",
        "print(r2_score(y_test,predictions))\n",
        "print(explained_variance_score(y_test,predictions))\n",
        "print(mean_squared_error(y_test,predictions))"
      ],
      "execution_count": 89,
      "outputs": [
        {
          "output_type": "stream",
          "text": [
            "-0.5009618338607185\n",
            "-0.5001529860108394\n",
            "0.3735339398465978\n"
          ],
          "name": "stdout"
        }
      ]
    },
    {
      "cell_type": "code",
      "metadata": {
        "id": "heWuMfsN2DIT",
        "colab_type": "code",
        "colab": {
          "base_uri": "https://localhost:8080/",
          "height": 312
        },
        "outputId": "c3d23e09-779d-4ff4-985c-0ff11239057e"
      },
      "source": [
        "import matplotlib.pyplot as plt\n",
        "# Plot the actual values\n",
        "plt.plot(range(predictions.shape[0]), y_test, 'b-', label = 'actual')\n",
        "# Plot the predicted values\n",
        "plt.plot(range(predictions.shape[0]),predictions, 'r-', label = 'prediction')\n",
        "plt.xticks(rotation = '60'); \n",
        "plt.legend()\n",
        "# Graph labels\n",
        "plt.xlabel('timestamp'); plt.ylabel('Stock return'); plt.title('Actual and Predicted Values');"
      ],
      "execution_count": 90,
      "outputs": [
        {
          "output_type": "display_data",
          "data": {
            "image/png": "[encoded data removed]",
            "text/plain": [
              "<Figure size 432x288 with 1 Axes>"
            ]
          },
          "metadata": {
            "tags": []
          }
        }
      ]
    },
    {
      "cell_type": "code",
      "metadata": {
        "id": "vd-5_0oV2hLM",
        "colab_type": "code",
        "colab": {
          "base_uri": "https://localhost:8080/",
          "height": 73
        },
        "outputId": "3cb36b51-be56-4ce5-9706-2136e3b1c285"
      },
      "source": [
        "from sklearn.linear_model import LogisticRegression\n",
        "reg = LogisticRegression(random_state=42).fit(x_train, y_train)"
      ],
      "execution_count": 158,
      "outputs": [
        {
          "output_type": "stream",
          "text": [
            "/usr/local/lib/python3.6/dist-packages/sklearn/linear_model/logistic.py:432: FutureWarning: Default solver will be changed to 'lbfgs' in 0.22. Specify a solver to silence this warning.\n",
            "  FutureWarning)\n"
          ],
          "name": "stderr"
        }
      ]
    },
    {
      "cell_type": "code",
      "metadata": {
        "id": "B7I8Ti1b2oAc",
        "colab_type": "code",
        "colab": {
          "base_uri": "https://localhost:8080/",
          "height": 71
        },
        "outputId": "44d65724-bc1c-4fb4-9683-061deaed9256"
      },
      "source": [
        "predictions = reg.predict(x_test)\n",
        "print(r2_score(y_test,predictions))\n",
        "print(explained_variance_score(y_test,predictions))\n",
        "print(mean_squared_error(y_test,predictions))"
      ],
      "execution_count": 159,
      "outputs": [
        {
          "output_type": "stream",
          "text": [
            "-0.938978829389788\n",
            "0.0\n",
            "0.4842646114322415\n"
          ],
          "name": "stdout"
        }
      ]
    },
    {
      "cell_type": "code",
      "metadata": {
        "id": "3tKTRK1ELDEa",
        "colab_type": "code",
        "colab": {
          "base_uri": "https://localhost:8080/",
          "height": 312
        },
        "outputId": "0a4c0ce5-491a-417a-fbec-7383c8726ca6"
      },
      "source": [
        "import matplotlib.pyplot as plt\n",
        "# Plot the actual values\n",
        "plt.plot(range(predictions.shape[0]), y_test, 'b-', label = 'actual')\n",
        "# Plot the predicted values\n",
        "plt.plot(range(predictions.shape[0]),predictions, 'r-', label = 'prediction')\n",
        "plt.xticks(rotation = '60'); \n",
        "plt.legend()\n",
        "# Graph labels\n",
        "plt.xlabel('timestamp'); plt.ylabel('Stock return'); plt.title('Actual and Predicted Values');"
      ],
      "execution_count": 160,
      "outputs": [
        {
          "output_type": "display_data",
          "data": {
            "image/png": "[encoded data removed]",
            "text/plain": [
              "<Figure size 432x288 with 1 Axes>"
            ]
          },
          "metadata": {
            "tags": []
          }
        }
      ]
    },
    {
      "cell_type": "markdown",
      "metadata": {
        "id": "nzquGvwd1B3a",
        "colab_type": "text"
      },
      "source": [
        "### Legacy"
      ]
    },
    {
      "cell_type": "code",
      "metadata": {
        "id": "bbMdoxHbmL_Z",
        "colab_type": "code",
        "colab": {}
      },
      "source": [
        "combined_data_day_2 = generate_day_n_dataset(2)"
      ],
      "execution_count": 0,
      "outputs": []
    },
    {
      "cell_type": "code",
      "metadata": {
        "id": "nmEF_FXZtCZF",
        "colab_type": "code",
        "outputId": "a8989c86-6e27-46db-93d5-a48be6f8d506",
        "colab": {
          "base_uri": "https://localhost:8080/",
          "height": 35
        }
      },
      "source": [
        "combined_data_day_2.shape"
      ],
      "execution_count": 0,
      "outputs": [
        {
          "output_type": "execute_result",
          "data": {
            "text/plain": [
              "(15306, 4)"
            ]
          },
          "metadata": {
            "tags": []
          },
          "execution_count": 109
        }
      ]
    },
    {
      "cell_type": "code",
      "metadata": {
        "id": "K7d_99QMmWQ7",
        "colab_type": "code",
        "colab": {}
      },
      "source": [
        "combined_data_day_2.dropna(axis=0,inplace=True)"
      ],
      "execution_count": 0,
      "outputs": []
    },
    {
      "cell_type": "code",
      "metadata": {
        "id": "e22278h3rm2Q",
        "colab_type": "code",
        "colab": {}
      },
      "source": [
        "returns = combined_data_day_2['return'].values\n",
        "sentiments = combined_data_day_2['sentiment'].values.reshape(-1,1)"
      ],
      "execution_count": 0,
      "outputs": []
    },
    {
      "cell_type": "code",
      "metadata": {
        "id": "HzHXLjCKseqU",
        "colab_type": "code",
        "colab": {}
      },
      "source": [
        "from sklearn.model_selection import train_test_split\n",
        "x_train, x_test, y_train, y_test = train_test_split(sentiments, returns, test_size=.1)"
      ],
      "execution_count": 0,
      "outputs": []
    },
    {
      "cell_type": "code",
      "metadata": {
        "id": "BibtxYVPrqnU",
        "colab_type": "code",
        "outputId": "9d03cbbe-7d08-4606-fd20-22aa6b9b0fa0",
        "colab": {
          "base_uri": "https://localhost:8080/",
          "height": 143
        }
      },
      "source": [
        "# Import the model we are using\n",
        "from sklearn.ensemble import RandomForestRegressor\n",
        "# Instantiate model with 1000 decision trees\n",
        "rf = RandomForestRegressor(n_estimators = 1000, random_state = 42)\n",
        "# Train the model on training data\n",
        "rf.fit(x_train, y_train)"
      ],
      "execution_count": 0,
      "outputs": [
        {
          "output_type": "execute_result",
          "data": {
            "text/plain": [
              "RandomForestRegressor(bootstrap=True, criterion='mse', max_depth=None,\n",
              "                      max_features='auto', max_leaf_nodes=None,\n",
              "                      min_impurity_decrease=0.0, min_impurity_split=None,\n",
              "                      min_samples_leaf=1, min_samples_split=2,\n",
              "                      min_weight_fraction_leaf=0.0, n_estimators=1000,\n",
              "                      n_jobs=None, oob_score=False, random_state=42, verbose=0,\n",
              "                      warm_start=False)"
            ]
          },
          "metadata": {
            "tags": []
          },
          "execution_count": 96
        }
      ]
    },
    {
      "cell_type": "code",
      "metadata": {
        "id": "f4BTYj8Oruk3",
        "colab_type": "code",
        "outputId": "716fe8ae-1592-4f6d-8b3a-b66e7df2c80b",
        "colab": {
          "base_uri": "https://localhost:8080/",
          "height": 71
        }
      },
      "source": [
        "# Use the forest's predict method on the test data\n",
        "predictions = rf.predict(x_test)\n",
        "from sklearn.metrics import r2_score,explained_variance_score,mean_squared_error\n",
        "print(r2_score(y_test,predictions))\n",
        "print(explained_variance_score(y_test,predictions))\n",
        "print(mean_squared_error(y_test,predictions))"
      ],
      "execution_count": 0,
      "outputs": [
        {
          "output_type": "stream",
          "text": [
            "-0.42281153158026274\n",
            "-0.4227383821480952\n",
            "0.0003796767918317302\n"
          ],
          "name": "stdout"
        }
      ]
    },
    {
      "cell_type": "code",
      "metadata": {
        "id": "KqEhsUsLr1aE",
        "colab_type": "code",
        "outputId": "efa3d9b9-7890-40d7-8551-0a8959a623d3",
        "colab": {
          "base_uri": "https://localhost:8080/",
          "height": 312
        }
      },
      "source": [
        "import matplotlib.pyplot as plt\n",
        "# Plot the actual values\n",
        "plt.plot(range(1531), y_test, 'b-', label = 'actual')\n",
        "# Plot the predicted values\n",
        "plt.plot(range(1531),predictions, 'r-', label = 'prediction')\n",
        "plt.xticks(rotation = '60'); \n",
        "plt.legend()\n",
        "# Graph labels\n",
        "plt.xlabel('timestamp'); plt.ylabel('Stock return'); plt.title('Actual and Predicted Values');"
      ],
      "execution_count": 0,
      "outputs": [
        {
          "output_type": "display_data",
          "data": {
            "image/png": "[encoded data removed]",
            "text/plain": [
              "<Figure size 432x288 with 1 Axes>"
            ]
          },
          "metadata": {
            "tags": []
          }
        }
      ]
    },
    {
      "cell_type": "code",
      "metadata": {
        "id": "yqbg9zGxr3im",
        "colab_type": "code",
        "outputId": "357db93f-d3c9-4316-ad68-fd8b8b0c3943",
        "colab": {
          "base_uri": "https://localhost:8080/",
          "height": 35
        }
      },
      "source": [
        "from sklearn.linear_model import LinearRegression\n",
        "reg = LinearRegression().fit(x_train, y_train)\n",
        "reg.score(x_test, y_test)"
      ],
      "execution_count": 0,
      "outputs": [
        {
          "output_type": "execute_result",
          "data": {
            "text/plain": [
              "-0.0002934152632418918"
            ]
          },
          "metadata": {
            "tags": []
          },
          "execution_count": 100
        }
      ]
    },
    {
      "cell_type": "code",
      "metadata": {
        "id": "m12c_b5ir85U",
        "colab_type": "code",
        "colab": {}
      },
      "source": [
        "combined_data_day_3 = generate_day_n_dataset(3)"
      ],
      "execution_count": 0,
      "outputs": []
    },
    {
      "cell_type": "code",
      "metadata": {
        "id": "0ZTvxxX5s6QO",
        "colab_type": "code",
        "outputId": "778e845a-2781-4bc8-b137-809ebd5d89c9",
        "colab": {
          "base_uri": "https://localhost:8080/",
          "height": 35
        }
      },
      "source": [
        "combined_data_day_3.shape"
      ],
      "execution_count": 0,
      "outputs": [
        {
          "output_type": "execute_result",
          "data": {
            "text/plain": [
              "(15256, 4)"
            ]
          },
          "metadata": {
            "tags": []
          },
          "execution_count": 106
        }
      ]
    },
    {
      "cell_type": "code",
      "metadata": {
        "id": "a717g1VXsATX",
        "colab_type": "code",
        "colab": {}
      },
      "source": [
        "combined_data_day_3.dropna(axis=0,inplace=True)"
      ],
      "execution_count": 0,
      "outputs": []
    },
    {
      "cell_type": "code",
      "metadata": {
        "id": "AZvecssIsDjI",
        "colab_type": "code",
        "colab": {}
      },
      "source": [
        "returns = combined_data_day_3['return'].values\n",
        "sentiments = combined_data_day_3['sentiment'].values.reshape(-1,1)"
      ],
      "execution_count": 0,
      "outputs": []
    },
    {
      "cell_type": "code",
      "metadata": {
        "id": "0zgzAt5osZvC",
        "colab_type": "code",
        "colab": {}
      },
      "source": [
        "from sklearn.model_selection import train_test_split\n",
        "x_train, x_test, y_train, y_test = train_test_split(sentiments, returns, test_size=.1)"
      ],
      "execution_count": 0,
      "outputs": []
    },
    {
      "cell_type": "code",
      "metadata": {
        "id": "Z3tUkOALsGEE",
        "colab_type": "code",
        "outputId": "6dabbe9a-9b8d-4d0e-e938-3d4f8feacafd",
        "colab": {
          "base_uri": "https://localhost:8080/",
          "height": 143
        }
      },
      "source": [
        "# Import the model we are using\n",
        "from sklearn.ensemble import RandomForestRegressor\n",
        "# Instantiate model with 1000 decision trees\n",
        "rf = RandomForestRegressor(n_estimators = 1000, random_state = 42)\n",
        "# Train the model on training data\n",
        "rf.fit(x_train, y_train)"
      ],
      "execution_count": 0,
      "outputs": [
        {
          "output_type": "execute_result",
          "data": {
            "text/plain": [
              "RandomForestRegressor(bootstrap=True, criterion='mse', max_depth=None,\n",
              "                      max_features='auto', max_leaf_nodes=None,\n",
              "                      min_impurity_decrease=0.0, min_impurity_split=None,\n",
              "                      min_samples_leaf=1, min_samples_split=2,\n",
              "                      min_weight_fraction_leaf=0.0, n_estimators=1000,\n",
              "                      n_jobs=None, oob_score=False, random_state=42, verbose=0,\n",
              "                      warm_start=False)"
            ]
          },
          "metadata": {
            "tags": []
          },
          "execution_count": 103
        }
      ]
    },
    {
      "cell_type": "code",
      "metadata": {
        "id": "vGwWeAq4sJkd",
        "colab_type": "code",
        "outputId": "72ecdf25-a565-458d-f2a8-72c50325795d",
        "colab": {
          "base_uri": "https://localhost:8080/",
          "height": 71
        }
      },
      "source": [
        "# Use the forest's predict method on the test data\n",
        "predictions = rf.predict(x_test)\n",
        "from sklearn.metrics import r2_score,explained_variance_score,mean_squared_error\n",
        "print(r2_score(y_test,predictions))\n",
        "print(explained_variance_score(y_test,predictions))\n",
        "print(mean_squared_error(y_test,predictions))"
      ],
      "execution_count": 0,
      "outputs": [
        {
          "output_type": "stream",
          "text": [
            "-0.4395178761209624\n",
            "-0.43925260854534587\n",
            "0.0003378585134213496\n"
          ],
          "name": "stdout"
        }
      ]
    },
    {
      "cell_type": "code",
      "metadata": {
        "id": "6mdr1O5ZsL--",
        "colab_type": "code",
        "outputId": "8e4a7e5d-c95f-4883-9ab3-376a98616069",
        "colab": {
          "base_uri": "https://localhost:8080/",
          "height": 312
        }
      },
      "source": [
        "import matplotlib.pyplot as plt\n",
        "# Plot the actual values\n",
        "plt.plot(range(1526), y_test, 'b-', label = 'actual')\n",
        "# Plot the predicted values\n",
        "plt.plot(range(1526),predictions, 'r-', label = 'prediction')\n",
        "plt.xticks(rotation = '60'); \n",
        "plt.legend()\n",
        "# Graph labels\n",
        "plt.xlabel('timestamp'); plt.ylabel('Stock return'); plt.title('Actual and Predicted Values');"
      ],
      "execution_count": 0,
      "outputs": [
        {
          "output_type": "display_data",
          "data": {
            "image/png": "[encoded data removed]",
            "text/plain": [
              "<Figure size 432x288 with 1 Axes>"
            ]
          },
          "metadata": {
            "tags": []
          }
        }
      ]
    },
    {
      "cell_type": "code",
      "metadata": {
        "id": "hWwe5ZSVsO2o",
        "colab_type": "code",
        "outputId": "c623a1d2-8aad-4b18-a7ac-7f1a5027bb46",
        "colab": {
          "base_uri": "https://localhost:8080/",
          "height": 35
        }
      },
      "source": [
        "from sklearn.linear_model import LinearRegression\n",
        "reg = LinearRegression().fit(x_train, y_train)\n",
        "reg.score(x_test, y_test)"
      ],
      "execution_count": 0,
      "outputs": [
        {
          "output_type": "execute_result",
          "data": {
            "text/plain": [
              "-0.0006436370997764396"
            ]
          },
          "metadata": {
            "tags": []
          },
          "execution_count": 108
        }
      ]
    },
    {
      "cell_type": "markdown",
      "metadata": {
        "id": "xKj8ZurqSXAI",
        "colab_type": "text"
      },
      "source": [
        "## Section 2: Stock return v sentiment z-score of Tweets"
      ]
    },
    {
      "cell_type": "markdown",
      "metadata": {
        "id": "VA3_tLCQDp8a",
        "colab_type": "text"
      },
      "source": [
        "### Preprocessing"
      ]
    },
    {
      "cell_type": "code",
      "metadata": {
        "id": "ab96p9D9UmiW",
        "colab_type": "code",
        "colab": {}
      },
      "source": [
        "combined_data = pd.read_csv(f'{DATA_DIR}/analysis/combined_price_tweets.csv')"
      ],
      "execution_count": 0,
      "outputs": []
    },
    {
      "cell_type": "code",
      "metadata": {
        "id": "zCybtJ3wsTTT",
        "colab_type": "code",
        "outputId": "17fd113a-fe67-4b06-97c1-21b7cebc2fb8",
        "colab": {
          "base_uri": "https://localhost:8080/",
          "height": 204
        }
      },
      "source": [
        "combined_data.head()"
      ],
      "execution_count": 0,
      "outputs": [
        {
          "output_type": "execute_result",
          "data": {
            "text/html": [
              "<div>\n",
              "<style scoped>\n",
              "    .dataframe tbody tr th:only-of-type {\n",
              "        vertical-align: middle;\n",
              "    }\n",
              "\n",
              "    .dataframe tbody tr th {\n",
              "        vertical-align: top;\n",
              "    }\n",
              "\n",
              "    .dataframe thead th {\n",
              "        text-align: right;\n",
              "    }\n",
              "</style>\n",
              "<table border=\"1\" class=\"dataframe\">\n",
              "  <thead>\n",
              "    <tr style=\"text-align: right;\">\n",
              "      <th></th>\n",
              "      <th>timestamp</th>\n",
              "      <th>asset</th>\n",
              "      <th>Open</th>\n",
              "      <th>Close</th>\n",
              "      <th>Volume</th>\n",
              "      <th>return</th>\n",
              "      <th>sentiment</th>\n",
              "    </tr>\n",
              "  </thead>\n",
              "  <tbody>\n",
              "    <tr>\n",
              "      <th>0</th>\n",
              "      <td>2014-01-03</td>\n",
              "      <td>VZ</td>\n",
              "      <td>49.330002</td>\n",
              "      <td>48.419998</td>\n",
              "      <td>12022200.0</td>\n",
              "      <td>-0.011837</td>\n",
              "      <td>0.858437</td>\n",
              "    </tr>\n",
              "    <tr>\n",
              "      <th>1</th>\n",
              "      <td>2014-01-09</td>\n",
              "      <td>VZ</td>\n",
              "      <td>48.430000</td>\n",
              "      <td>47.500000</td>\n",
              "      <td>14567000.0</td>\n",
              "      <td>-0.020619</td>\n",
              "      <td>0.121953</td>\n",
              "    </tr>\n",
              "    <tr>\n",
              "      <th>2</th>\n",
              "      <td>2014-01-10</td>\n",
              "      <td>VZ</td>\n",
              "      <td>47.840000</td>\n",
              "      <td>47.750000</td>\n",
              "      <td>11445900.0</td>\n",
              "      <td>0.005263</td>\n",
              "      <td>0.493868</td>\n",
              "    </tr>\n",
              "    <tr>\n",
              "      <th>3</th>\n",
              "      <td>2014-01-13</td>\n",
              "      <td>VZ</td>\n",
              "      <td>47.650002</td>\n",
              "      <td>47.029999</td>\n",
              "      <td>18784000.0</td>\n",
              "      <td>-0.015079</td>\n",
              "      <td>0.566625</td>\n",
              "    </tr>\n",
              "    <tr>\n",
              "      <th>4</th>\n",
              "      <td>2014-01-14</td>\n",
              "      <td>VZ</td>\n",
              "      <td>47.040001</td>\n",
              "      <td>47.080002</td>\n",
              "      <td>19270700.0</td>\n",
              "      <td>0.001063</td>\n",
              "      <td>0.028749</td>\n",
              "    </tr>\n",
              "  </tbody>\n",
              "</table>\n",
              "</div>"
            ],
            "text/plain": [
              "    timestamp asset       Open      Close      Volume    return  sentiment\n",
              "0  2014-01-03    VZ  49.330002  48.419998  12022200.0 -0.011837   0.858437\n",
              "1  2014-01-09    VZ  48.430000  47.500000  14567000.0 -0.020619   0.121953\n",
              "2  2014-01-10    VZ  47.840000  47.750000  11445900.0  0.005263   0.493868\n",
              "3  2014-01-13    VZ  47.650002  47.029999  18784000.0 -0.015079   0.566625\n",
              "4  2014-01-14    VZ  47.040001  47.080002  19270700.0  0.001063   0.028749"
            ]
          },
          "metadata": {
            "tags": []
          },
          "execution_count": 19
        }
      ]
    },
    {
      "cell_type": "code",
      "metadata": {
        "id": "uqe7ID48SG8A",
        "colab_type": "code",
        "colab": {}
      },
      "source": [
        "combined_data_by_stock = combined_data.groupby(combined_data.asset)"
      ],
      "execution_count": 0,
      "outputs": []
    },
    {
      "cell_type": "code",
      "metadata": {
        "id": "d9LoYhsaVUMY",
        "colab_type": "code",
        "colab": {}
      },
      "source": [
        "from scipy import stats"
      ],
      "execution_count": 0,
      "outputs": []
    },
    {
      "cell_type": "code",
      "metadata": {
        "id": "pgxcjC-1SJ6j",
        "colab_type": "code",
        "outputId": "9710eed8-7a69-41a8-d85a-6dd95135c069",
        "colab": {
          "base_uri": "https://localhost:8080/",
          "height": 233
        }
      },
      "source": [
        "#dfObj = pd.DataFrame(columns=['timestemp', 'asset', 'Open','Close','Volume','return','sentiment','sentiment_zscore'])\n",
        "data = []\n",
        "for stock, df in combined_data_by_stock:\n",
        "  df.loc[:,'sentiment_zscore'] = stats.zscore(df['sentiment'])\n",
        "  data.append(df.values.tolist())"
      ],
      "execution_count": 99,
      "outputs": [
        {
          "output_type": "stream",
          "text": [
            "/usr/local/lib/python3.6/dist-packages/pandas/core/indexing.py:376: SettingWithCopyWarning: \n",
            "A value is trying to be set on a copy of a slice from a DataFrame.\n",
            "Try using .loc[row_indexer,col_indexer] = value instead\n",
            "\n",
            "See the caveats in the documentation: http://pandas.pydata.org/pandas-docs/stable/user_guide/indexing.html#returning-a-view-versus-a-copy\n",
            "  self.obj[key] = _infer_fill_value(value)\n",
            "/usr/local/lib/python3.6/dist-packages/pandas/core/indexing.py:494: SettingWithCopyWarning: \n",
            "A value is trying to be set on a copy of a slice from a DataFrame.\n",
            "Try using .loc[row_indexer,col_indexer] = value instead\n",
            "\n",
            "See the caveats in the documentation: http://pandas.pydata.org/pandas-docs/stable/user_guide/indexing.html#returning-a-view-versus-a-copy\n",
            "  self.obj[item] = s\n"
          ],
          "name": "stderr"
        }
      ]
    },
    {
      "cell_type": "code",
      "metadata": {
        "id": "HBru51hYa5yf",
        "colab_type": "code",
        "colab": {}
      },
      "source": [
        "flat_list = []\n",
        "for sublist in data:\n",
        "    for item in sublist:\n",
        "        flat_list.append(item)    "
      ],
      "execution_count": 0,
      "outputs": []
    },
    {
      "cell_type": "code",
      "metadata": {
        "id": "uwiwaOtrbdMN",
        "colab_type": "code",
        "outputId": "2b7e1d98-1042-42c6-b87d-2ca21e7b2412",
        "colab": {
          "base_uri": "https://localhost:8080/",
          "height": 161
        }
      },
      "source": [
        "flat_list[0]"
      ],
      "execution_count": 0,
      "outputs": [
        {
          "output_type": "execute_result",
          "data": {
            "text/plain": [
              "['2014-01-02',\n",
              " 'AAPL',\n",
              " 79.382858,\n",
              " 79.01857,\n",
              " 58671200.0,\n",
              " -0.14795587983514946,\n",
              " 0.5655639938,\n",
              " -1.1380818498155505]"
            ]
          },
          "metadata": {
            "tags": []
          },
          "execution_count": 56
        }
      ]
    },
    {
      "cell_type": "code",
      "metadata": {
        "id": "4LcS8NOKXyBP",
        "colab_type": "code",
        "colab": {}
      },
      "source": [
        "z_score_df = pd.DataFrame(np.asarray(flat_list), columns=['timestamp', 'asset', 'Open','Close','Volume','return','sentiment','sentiment_zscore'])"
      ],
      "execution_count": 0,
      "outputs": []
    },
    {
      "cell_type": "code",
      "metadata": {
        "id": "TbO5j-x6dkBg",
        "colab_type": "code",
        "outputId": "18d9d718-dd7e-4381-e330-147f5e7f00b0",
        "colab": {
          "base_uri": "https://localhost:8080/",
          "height": 204
        }
      },
      "source": [
        "z_score_df.head()"
      ],
      "execution_count": 114,
      "outputs": [
        {
          "output_type": "execute_result",
          "data": {
            "text/html": [
              "<div>\n",
              "<style scoped>\n",
              "    .dataframe tbody tr th:only-of-type {\n",
              "        vertical-align: middle;\n",
              "    }\n",
              "\n",
              "    .dataframe tbody tr th {\n",
              "        vertical-align: top;\n",
              "    }\n",
              "\n",
              "    .dataframe thead th {\n",
              "        text-align: right;\n",
              "    }\n",
              "</style>\n",
              "<table border=\"1\" class=\"dataframe\">\n",
              "  <thead>\n",
              "    <tr style=\"text-align: right;\">\n",
              "      <th></th>\n",
              "      <th>timestamp</th>\n",
              "      <th>asset</th>\n",
              "      <th>Open</th>\n",
              "      <th>Close</th>\n",
              "      <th>Volume</th>\n",
              "      <th>return</th>\n",
              "      <th>sentiment</th>\n",
              "      <th>sentiment_zscore</th>\n",
              "    </tr>\n",
              "  </thead>\n",
              "  <tbody>\n",
              "    <tr>\n",
              "      <th>0</th>\n",
              "      <td>2014-01-02</td>\n",
              "      <td>AAPL</td>\n",
              "      <td>79.382858</td>\n",
              "      <td>79.01857</td>\n",
              "      <td>58671200.0</td>\n",
              "      <td>nan</td>\n",
              "      <td>0.5655639938</td>\n",
              "      <td>-1.1380818498155505</td>\n",
              "    </tr>\n",
              "    <tr>\n",
              "      <th>1</th>\n",
              "      <td>2014-01-03</td>\n",
              "      <td>AAPL</td>\n",
              "      <td>78.980003</td>\n",
              "      <td>77.28286</td>\n",
              "      <td>98116900.0</td>\n",
              "      <td>-0.021965849293400286</td>\n",
              "      <td>0.6017606199999999</td>\n",
              "      <td>-0.5444055848367247</td>\n",
              "    </tr>\n",
              "    <tr>\n",
              "      <th>2</th>\n",
              "      <td>2014-01-06</td>\n",
              "      <td>AAPL</td>\n",
              "      <td>76.778572</td>\n",
              "      <td>77.704285</td>\n",
              "      <td>103152700.0</td>\n",
              "      <td>0.005453020242780937</td>\n",
              "      <td>0.691131798</td>\n",
              "      <td>0.9214091255905716</td>\n",
              "    </tr>\n",
              "    <tr>\n",
              "      <th>3</th>\n",
              "      <td>2014-01-07</td>\n",
              "      <td>AAPL</td>\n",
              "      <td>77.760002</td>\n",
              "      <td>77.148575</td>\n",
              "      <td>79302300.0</td>\n",
              "      <td>-0.007151600455496232</td>\n",
              "      <td>0.6690509193103449</td>\n",
              "      <td>0.559251240612743</td>\n",
              "    </tr>\n",
              "    <tr>\n",
              "      <th>4</th>\n",
              "      <td>2014-01-08</td>\n",
              "      <td>AAPL</td>\n",
              "      <td>76.97285500000002</td>\n",
              "      <td>77.637146</td>\n",
              "      <td>64632400.0</td>\n",
              "      <td>0.00633285838396902</td>\n",
              "      <td>0.6917643979999999</td>\n",
              "      <td>0.9317846673095822</td>\n",
              "    </tr>\n",
              "  </tbody>\n",
              "</table>\n",
              "</div>"
            ],
            "text/plain": [
              "    timestamp asset  ...           sentiment     sentiment_zscore\n",
              "0  2014-01-02  AAPL  ...        0.5655639938  -1.1380818498155505\n",
              "1  2014-01-03  AAPL  ...  0.6017606199999999  -0.5444055848367247\n",
              "2  2014-01-06  AAPL  ...         0.691131798   0.9214091255905716\n",
              "3  2014-01-07  AAPL  ...  0.6690509193103449    0.559251240612743\n",
              "4  2014-01-08  AAPL  ...  0.6917643979999999   0.9317846673095822\n",
              "\n",
              "[5 rows x 8 columns]"
            ]
          },
          "metadata": {
            "tags": []
          },
          "execution_count": 114
        }
      ]
    },
    {
      "cell_type": "code",
      "metadata": {
        "id": "S_3rFjbr3lJY",
        "colab_type": "code",
        "colab": {}
      },
      "source": [
        "z_score_df.to_csv(f'{DATA_DIR}/analysis/combined_price_tweets_zscore.csv',index=False)"
      ],
      "execution_count": 0,
      "outputs": []
    },
    {
      "cell_type": "markdown",
      "metadata": {
        "id": "fNbODAxiSo5J",
        "colab_type": "text"
      },
      "source": [
        "### Day-1 Test"
      ]
    },
    {
      "cell_type": "markdown",
      "metadata": {
        "id": "52tzk1W9DtqO",
        "colab_type": "text"
      },
      "source": [
        "#### Percentage"
      ]
    },
    {
      "cell_type": "code",
      "metadata": {
        "id": "sMQzjsMhGVZT",
        "colab_type": "code",
        "colab": {}
      },
      "source": [
        "combined_data_z_score = pd.read_csv(f'{DATA_DIR}/analysis/combined_price_tweets_zscore.csv')"
      ],
      "execution_count": 0,
      "outputs": []
    },
    {
      "cell_type": "code",
      "metadata": {
        "id": "05heH2OKHWS8",
        "colab_type": "code",
        "colab": {
          "base_uri": "https://localhost:8080/",
          "height": 204
        },
        "outputId": "cc52e546-c21f-4f9f-95c2-5b6f463eb48c"
      },
      "source": [
        "combined_data_z_score.head()"
      ],
      "execution_count": 7,
      "outputs": [
        {
          "output_type": "execute_result",
          "data": {
            "text/html": [
              "<div>\n",
              "<style scoped>\n",
              "    .dataframe tbody tr th:only-of-type {\n",
              "        vertical-align: middle;\n",
              "    }\n",
              "\n",
              "    .dataframe tbody tr th {\n",
              "        vertical-align: top;\n",
              "    }\n",
              "\n",
              "    .dataframe thead th {\n",
              "        text-align: right;\n",
              "    }\n",
              "</style>\n",
              "<table border=\"1\" class=\"dataframe\">\n",
              "  <thead>\n",
              "    <tr style=\"text-align: right;\">\n",
              "      <th></th>\n",
              "      <th>timestamp</th>\n",
              "      <th>asset</th>\n",
              "      <th>Open</th>\n",
              "      <th>Close</th>\n",
              "      <th>Volume</th>\n",
              "      <th>return</th>\n",
              "      <th>sentiment</th>\n",
              "      <th>sentiment_zscore</th>\n",
              "    </tr>\n",
              "  </thead>\n",
              "  <tbody>\n",
              "    <tr>\n",
              "      <th>0</th>\n",
              "      <td>2014-01-02</td>\n",
              "      <td>AAPL</td>\n",
              "      <td>79.382858</td>\n",
              "      <td>79.018570</td>\n",
              "      <td>58671200.0</td>\n",
              "      <td>NaN</td>\n",
              "      <td>0.565564</td>\n",
              "      <td>-1.138082</td>\n",
              "    </tr>\n",
              "    <tr>\n",
              "      <th>1</th>\n",
              "      <td>2014-01-03</td>\n",
              "      <td>AAPL</td>\n",
              "      <td>78.980003</td>\n",
              "      <td>77.282860</td>\n",
              "      <td>98116900.0</td>\n",
              "      <td>-0.021966</td>\n",
              "      <td>0.601761</td>\n",
              "      <td>-0.544406</td>\n",
              "    </tr>\n",
              "    <tr>\n",
              "      <th>2</th>\n",
              "      <td>2014-01-06</td>\n",
              "      <td>AAPL</td>\n",
              "      <td>76.778572</td>\n",
              "      <td>77.704285</td>\n",
              "      <td>103152700.0</td>\n",
              "      <td>0.005453</td>\n",
              "      <td>0.691132</td>\n",
              "      <td>0.921409</td>\n",
              "    </tr>\n",
              "    <tr>\n",
              "      <th>3</th>\n",
              "      <td>2014-01-07</td>\n",
              "      <td>AAPL</td>\n",
              "      <td>77.760002</td>\n",
              "      <td>77.148575</td>\n",
              "      <td>79302300.0</td>\n",
              "      <td>-0.007152</td>\n",
              "      <td>0.669051</td>\n",
              "      <td>0.559251</td>\n",
              "    </tr>\n",
              "    <tr>\n",
              "      <th>4</th>\n",
              "      <td>2014-01-08</td>\n",
              "      <td>AAPL</td>\n",
              "      <td>76.972855</td>\n",
              "      <td>77.637146</td>\n",
              "      <td>64632400.0</td>\n",
              "      <td>0.006333</td>\n",
              "      <td>0.691764</td>\n",
              "      <td>0.931785</td>\n",
              "    </tr>\n",
              "  </tbody>\n",
              "</table>\n",
              "</div>"
            ],
            "text/plain": [
              "    timestamp asset       Open  ...    return  sentiment  sentiment_zscore\n",
              "0  2014-01-02  AAPL  79.382858  ...       NaN   0.565564         -1.138082\n",
              "1  2014-01-03  AAPL  78.980003  ... -0.021966   0.601761         -0.544406\n",
              "2  2014-01-06  AAPL  76.778572  ...  0.005453   0.691132          0.921409\n",
              "3  2014-01-07  AAPL  77.760002  ... -0.007152   0.669051          0.559251\n",
              "4  2014-01-08  AAPL  76.972855  ...  0.006333   0.691764          0.931785\n",
              "\n",
              "[5 rows x 8 columns]"
            ]
          },
          "metadata": {
            "tags": []
          },
          "execution_count": 7
        }
      ]
    },
    {
      "cell_type": "code",
      "metadata": {
        "id": "sfttvDk-G2Ac",
        "colab_type": "code",
        "colab": {}
      },
      "source": [
        "def generate_day_n_dataset_with_z_score(n):\n",
        "  temp = []\n",
        "  for stock, df in combined_data_z_score.groupby(combined_data_z_score.asset):\n",
        "    all_dates = set(df['timestamp'].values)\n",
        "    for i,row in df.iterrows():\n",
        "      date = row['timestamp']\n",
        "      next_n_day = next_n_working_day(date,n)\n",
        "      #sentiment = row['sentiment']\n",
        "      sentiment_zscore = row['sentiment_zscore']\n",
        "      if next_n_day in all_dates:\n",
        "        temp.append([row['timestamp'],stock_return_map[(str(next_n_day),stock)],stock,sentiment_zscore])\n",
        "  return pd.DataFrame(temp, columns=['timestamp','return','asset','sentiment_zscore'])"
      ],
      "execution_count": 0,
      "outputs": []
    },
    {
      "cell_type": "code",
      "metadata": {
        "id": "nRcDJkvjSVs1",
        "colab_type": "code",
        "outputId": "e96b97a2-eefb-43db-a795-1671c4f9e8c7",
        "colab": {
          "base_uri": "https://localhost:8080/",
          "height": 204
        }
      },
      "source": [
        "combined_data_day_1 = generate_day_n_dataset_with_z_score(1)\n",
        "combined_data_day_1.head()"
      ],
      "execution_count": 20,
      "outputs": [
        {
          "output_type": "execute_result",
          "data": {
            "text/html": [
              "<div>\n",
              "<style scoped>\n",
              "    .dataframe tbody tr th:only-of-type {\n",
              "        vertical-align: middle;\n",
              "    }\n",
              "\n",
              "    .dataframe tbody tr th {\n",
              "        vertical-align: top;\n",
              "    }\n",
              "\n",
              "    .dataframe thead th {\n",
              "        text-align: right;\n",
              "    }\n",
              "</style>\n",
              "<table border=\"1\" class=\"dataframe\">\n",
              "  <thead>\n",
              "    <tr style=\"text-align: right;\">\n",
              "      <th></th>\n",
              "      <th>timestamp</th>\n",
              "      <th>return</th>\n",
              "      <th>asset</th>\n",
              "      <th>sentiment_zscore</th>\n",
              "    </tr>\n",
              "  </thead>\n",
              "  <tbody>\n",
              "    <tr>\n",
              "      <th>0</th>\n",
              "      <td>2014-01-02</td>\n",
              "      <td>-0.021966</td>\n",
              "      <td>AAPL</td>\n",
              "      <td>-1.138082</td>\n",
              "    </tr>\n",
              "    <tr>\n",
              "      <th>1</th>\n",
              "      <td>2014-01-03</td>\n",
              "      <td>0.005453</td>\n",
              "      <td>AAPL</td>\n",
              "      <td>-0.544406</td>\n",
              "    </tr>\n",
              "    <tr>\n",
              "      <th>2</th>\n",
              "      <td>2014-01-06</td>\n",
              "      <td>-0.007152</td>\n",
              "      <td>AAPL</td>\n",
              "      <td>0.921409</td>\n",
              "    </tr>\n",
              "    <tr>\n",
              "      <th>3</th>\n",
              "      <td>2014-01-07</td>\n",
              "      <td>0.006333</td>\n",
              "      <td>AAPL</td>\n",
              "      <td>0.559251</td>\n",
              "    </tr>\n",
              "    <tr>\n",
              "      <th>4</th>\n",
              "      <td>2014-01-08</td>\n",
              "      <td>-0.012770</td>\n",
              "      <td>AAPL</td>\n",
              "      <td>0.931785</td>\n",
              "    </tr>\n",
              "  </tbody>\n",
              "</table>\n",
              "</div>"
            ],
            "text/plain": [
              "    timestamp    return asset  sentiment_zscore\n",
              "0  2014-01-02 -0.021966  AAPL         -1.138082\n",
              "1  2014-01-03  0.005453  AAPL         -0.544406\n",
              "2  2014-01-06 -0.007152  AAPL          0.921409\n",
              "3  2014-01-07  0.006333  AAPL          0.559251\n",
              "4  2014-01-08 -0.012770  AAPL          0.931785"
            ]
          },
          "metadata": {
            "tags": []
          },
          "execution_count": 20
        }
      ]
    },
    {
      "cell_type": "code",
      "metadata": {
        "id": "Omt5HCrbTpvT",
        "colab_type": "code",
        "outputId": "b44b93a8-3588-4581-dcc4-77e6ec3e5e75",
        "colab": {
          "base_uri": "https://localhost:8080/",
          "height": 204
        }
      },
      "source": [
        "combined_data_day_1.tail()"
      ],
      "execution_count": 122,
      "outputs": [
        {
          "output_type": "execute_result",
          "data": {
            "text/html": [
              "<div>\n",
              "<style scoped>\n",
              "    .dataframe tbody tr th:only-of-type {\n",
              "        vertical-align: middle;\n",
              "    }\n",
              "\n",
              "    .dataframe tbody tr th {\n",
              "        vertical-align: top;\n",
              "    }\n",
              "\n",
              "    .dataframe thead th {\n",
              "        text-align: right;\n",
              "    }\n",
              "</style>\n",
              "<table border=\"1\" class=\"dataframe\">\n",
              "  <thead>\n",
              "    <tr style=\"text-align: right;\">\n",
              "      <th></th>\n",
              "      <th>timestamp</th>\n",
              "      <th>return</th>\n",
              "      <th>asset</th>\n",
              "      <th>sentiment</th>\n",
              "      <th>sentiment_zscore</th>\n",
              "    </tr>\n",
              "  </thead>\n",
              "  <tbody>\n",
              "    <tr>\n",
              "      <th>15564</th>\n",
              "      <td>2016-03-23</td>\n",
              "      <td>0.002746</td>\n",
              "      <td>XOM</td>\n",
              "      <td>0.417376</td>\n",
              "      <td>-0.869828</td>\n",
              "    </tr>\n",
              "    <tr>\n",
              "      <th>15565</th>\n",
              "      <td>2016-03-24</td>\n",
              "      <td>0.002858</td>\n",
              "      <td>XOM</td>\n",
              "      <td>0.540336</td>\n",
              "      <td>-0.164592</td>\n",
              "    </tr>\n",
              "    <tr>\n",
              "      <th>15566</th>\n",
              "      <td>2016-03-28</td>\n",
              "      <td>0.003681</td>\n",
              "      <td>XOM</td>\n",
              "      <td>0.595223</td>\n",
              "      <td>0.150214</td>\n",
              "    </tr>\n",
              "    <tr>\n",
              "      <th>15567</th>\n",
              "      <td>2016-03-29</td>\n",
              "      <td>-0.000118</td>\n",
              "      <td>XOM</td>\n",
              "      <td>0.428560</td>\n",
              "      <td>-0.805684</td>\n",
              "    </tr>\n",
              "    <tr>\n",
              "      <th>15568</th>\n",
              "      <td>2016-03-30</td>\n",
              "      <td>-0.011003</td>\n",
              "      <td>XOM</td>\n",
              "      <td>0.662568</td>\n",
              "      <td>0.536475</td>\n",
              "    </tr>\n",
              "  </tbody>\n",
              "</table>\n",
              "</div>"
            ],
            "text/plain": [
              "        timestamp    return asset  sentiment  sentiment_zscore\n",
              "15564  2016-03-23  0.002746   XOM   0.417376         -0.869828\n",
              "15565  2016-03-24  0.002858   XOM   0.540336         -0.164592\n",
              "15566  2016-03-28  0.003681   XOM   0.595223          0.150214\n",
              "15567  2016-03-29 -0.000118   XOM   0.428560         -0.805684\n",
              "15568  2016-03-30 -0.011003   XOM   0.662568          0.536475"
            ]
          },
          "metadata": {
            "tags": []
          },
          "execution_count": 122
        }
      ]
    },
    {
      "cell_type": "code",
      "metadata": {
        "id": "WWhutfrASzZ7",
        "colab_type": "code",
        "colab": {}
      },
      "source": [
        "returns = combined_data_day_1['return'].values\n",
        "sentiments = combined_data_day_1[['sentiment_zscore']].values.reshape(-1,1)"
      ],
      "execution_count": 0,
      "outputs": []
    },
    {
      "cell_type": "code",
      "metadata": {
        "id": "WFn7CPhBTEKj",
        "colab_type": "code",
        "colab": {}
      },
      "source": [
        "from sklearn.model_selection import train_test_split\n",
        "x_train, x_test, y_train, y_test = train_test_split(sentiments, returns, test_size=.1)"
      ],
      "execution_count": 0,
      "outputs": []
    },
    {
      "cell_type": "code",
      "metadata": {
        "id": "fqe6iAZKTOJx",
        "colab_type": "code",
        "outputId": "4fe75435-3f5f-413f-912e-a0ffc154ebdb",
        "colab": {
          "base_uri": "https://localhost:8080/",
          "height": 143
        }
      },
      "source": [
        "# Import the model we are using\n",
        "from sklearn.ensemble import RandomForestRegressor\n",
        "# Instantiate model with 1000 decision trees\n",
        "rf = RandomForestRegressor(n_estimators = 1000, random_state = 42)\n",
        "# Train the model on training data\n",
        "rf.fit(x_train, y_train)"
      ],
      "execution_count": 23,
      "outputs": [
        {
          "output_type": "execute_result",
          "data": {
            "text/plain": [
              "RandomForestRegressor(bootstrap=True, criterion='mse', max_depth=None,\n",
              "                      max_features='auto', max_leaf_nodes=None,\n",
              "                      min_impurity_decrease=0.0, min_impurity_split=None,\n",
              "                      min_samples_leaf=1, min_samples_split=2,\n",
              "                      min_weight_fraction_leaf=0.0, n_estimators=1000,\n",
              "                      n_jobs=None, oob_score=False, random_state=42, verbose=0,\n",
              "                      warm_start=False)"
            ]
          },
          "metadata": {
            "tags": []
          },
          "execution_count": 23
        }
      ]
    },
    {
      "cell_type": "code",
      "metadata": {
        "id": "8HgUMrTfTQ3M",
        "colab_type": "code",
        "outputId": "9308e010-7fca-4aad-89e8-b1c95457ee38",
        "colab": {
          "base_uri": "https://localhost:8080/",
          "height": 71
        }
      },
      "source": [
        "# Use the forest's predict method on the test data\n",
        "predictions = rf.predict(x_test)\n",
        "from sklearn.metrics import r2_score,explained_variance_score,mean_squared_error\n",
        "print(r2_score(y_test,predictions))\n",
        "print(explained_variance_score(y_test,predictions))\n",
        "print(mean_squared_error(y_test,predictions))"
      ],
      "execution_count": 24,
      "outputs": [
        {
          "output_type": "stream",
          "text": [
            "-0.5437618858352002\n",
            "-0.5436336693917916\n",
            "0.0003273144088498452\n"
          ],
          "name": "stdout"
        }
      ]
    },
    {
      "cell_type": "code",
      "metadata": {
        "id": "XATD1XceIU1Z",
        "colab_type": "code",
        "colab": {
          "base_uri": "https://localhost:8080/",
          "height": 312
        },
        "outputId": "7197b95e-e98b-4e9a-a53e-6a7e2ad52c4c"
      },
      "source": [
        "import matplotlib.pyplot as plt\n",
        "# Plot the actual values\n",
        "plt.plot(range(predictions.shape[0]), y_test, 'b-', label = 'actual')\n",
        "# Plot the predicted values\n",
        "plt.plot(range(predictions.shape[0]),predictions, 'r-', label = 'prediction')\n",
        "plt.xticks(rotation = '60'); \n",
        "plt.legend()\n",
        "# Graph labels\n",
        "plt.xlabel('timestamp'); plt.ylabel('Stock return'); plt.title('Actual and Predicted Values');"
      ],
      "execution_count": 25,
      "outputs": [
        {
          "output_type": "display_data",
          "data": {
            "image/png": "[encoded data removed]",
            "text/plain": [
              "<Figure size 432x288 with 1 Axes>"
            ]
          },
          "metadata": {
            "tags": []
          }
        }
      ]
    },
    {
      "cell_type": "code",
      "metadata": {
        "id": "4GeFVhFwTgK8",
        "colab_type": "code",
        "colab": {}
      },
      "source": [
        "from sklearn.linear_model import LinearRegression\n",
        "reg = LinearRegression().fit(x_train, y_train)"
      ],
      "execution_count": 0,
      "outputs": []
    },
    {
      "cell_type": "code",
      "metadata": {
        "id": "3DF3SsFGeTL7",
        "colab_type": "code",
        "outputId": "dd767400-7226-4fde-8e68-ba25ad105536",
        "colab": {
          "base_uri": "https://localhost:8080/",
          "height": 71
        }
      },
      "source": [
        "from sklearn.metrics import r2_score,explained_variance_score,mean_squared_error\n",
        "predictions = reg.predict(x_test)\n",
        "print(r2_score(y_test,predictions))\n",
        "print(explained_variance_score(y_test,predictions))\n",
        "print(mean_squared_error(y_test,predictions))"
      ],
      "execution_count": 27,
      "outputs": [
        {
          "output_type": "stream",
          "text": [
            "-0.0018324571688677072\n",
            "-0.0017893724785997822\n",
            "0.0002124124202661014\n"
          ],
          "name": "stdout"
        }
      ]
    },
    {
      "cell_type": "code",
      "metadata": {
        "id": "vYChYsUteUk6",
        "colab_type": "code",
        "colab": {
          "base_uri": "https://localhost:8080/",
          "height": 312
        },
        "outputId": "0a200821-1283-446f-f788-70768c351cac"
      },
      "source": [
        "import matplotlib.pyplot as plt\n",
        "# Plot the actual values\n",
        "plt.plot(range(predictions.shape[0]), y_test, 'b-', label = 'actual')\n",
        "# Plot the predicted values\n",
        "plt.plot(range(predictions.shape[0]),predictions, 'r-', label = 'prediction')\n",
        "plt.xticks(rotation = '60'); \n",
        "plt.legend()\n",
        "# Graph labels\n",
        "plt.xlabel('timestamp'); plt.ylabel('Stock return'); plt.title('Actual and Predicted Values');"
      ],
      "execution_count": 28,
      "outputs": [
        {
          "output_type": "display_data",
          "data": {
            "image/png": "[encoded data removed]",
            "text/plain": [
              "<Figure size 432x288 with 1 Axes>"
            ]
          },
          "metadata": {
            "tags": []
          }
        }
      ]
    },
    {
      "cell_type": "markdown",
      "metadata": {
        "id": "DNKLYJgaDyl7",
        "colab_type": "text"
      },
      "source": [
        "#### Directionality"
      ]
    },
    {
      "cell_type": "code",
      "metadata": {
        "id": "CAPH2NDCIdDW",
        "colab_type": "code",
        "colab": {}
      },
      "source": [
        "combined_data_day_1['direction'] = combined_data_day_1['return'].apply(lambda x: 0 if x<0 else 1) #0=down 1=up"
      ],
      "execution_count": 0,
      "outputs": []
    },
    {
      "cell_type": "code",
      "metadata": {
        "id": "IQz5HmNWI_Lk",
        "colab_type": "code",
        "colab": {
          "base_uri": "https://localhost:8080/",
          "height": 204
        },
        "outputId": "678817f6-fdf7-4802-e38f-f4d48178b61f"
      },
      "source": [
        "combined_data_day_1.head()"
      ],
      "execution_count": 133,
      "outputs": [
        {
          "output_type": "execute_result",
          "data": {
            "text/html": [
              "<div>\n",
              "<style scoped>\n",
              "    .dataframe tbody tr th:only-of-type {\n",
              "        vertical-align: middle;\n",
              "    }\n",
              "\n",
              "    .dataframe tbody tr th {\n",
              "        vertical-align: top;\n",
              "    }\n",
              "\n",
              "    .dataframe thead th {\n",
              "        text-align: right;\n",
              "    }\n",
              "</style>\n",
              "<table border=\"1\" class=\"dataframe\">\n",
              "  <thead>\n",
              "    <tr style=\"text-align: right;\">\n",
              "      <th></th>\n",
              "      <th>timestamp</th>\n",
              "      <th>return</th>\n",
              "      <th>asset</th>\n",
              "      <th>sentiment</th>\n",
              "      <th>sentiment_zscore</th>\n",
              "      <th>direction</th>\n",
              "    </tr>\n",
              "  </thead>\n",
              "  <tbody>\n",
              "    <tr>\n",
              "      <th>0</th>\n",
              "      <td>2014-01-02</td>\n",
              "      <td>-0.021966</td>\n",
              "      <td>AAPL</td>\n",
              "      <td>0.565564</td>\n",
              "      <td>-1.138082</td>\n",
              "      <td>0</td>\n",
              "    </tr>\n",
              "    <tr>\n",
              "      <th>1</th>\n",
              "      <td>2014-01-03</td>\n",
              "      <td>0.005453</td>\n",
              "      <td>AAPL</td>\n",
              "      <td>0.601761</td>\n",
              "      <td>-0.544406</td>\n",
              "      <td>1</td>\n",
              "    </tr>\n",
              "    <tr>\n",
              "      <th>2</th>\n",
              "      <td>2014-01-06</td>\n",
              "      <td>-0.007152</td>\n",
              "      <td>AAPL</td>\n",
              "      <td>0.691132</td>\n",
              "      <td>0.921409</td>\n",
              "      <td>0</td>\n",
              "    </tr>\n",
              "    <tr>\n",
              "      <th>3</th>\n",
              "      <td>2014-01-07</td>\n",
              "      <td>0.006333</td>\n",
              "      <td>AAPL</td>\n",
              "      <td>0.669051</td>\n",
              "      <td>0.559251</td>\n",
              "      <td>1</td>\n",
              "    </tr>\n",
              "    <tr>\n",
              "      <th>4</th>\n",
              "      <td>2014-01-08</td>\n",
              "      <td>-0.012770</td>\n",
              "      <td>AAPL</td>\n",
              "      <td>0.691764</td>\n",
              "      <td>0.931785</td>\n",
              "      <td>0</td>\n",
              "    </tr>\n",
              "  </tbody>\n",
              "</table>\n",
              "</div>"
            ],
            "text/plain": [
              "    timestamp    return asset  sentiment  sentiment_zscore  direction\n",
              "0  2014-01-02 -0.021966  AAPL   0.565564         -1.138082          0\n",
              "1  2014-01-03  0.005453  AAPL   0.601761         -0.544406          1\n",
              "2  2014-01-06 -0.007152  AAPL   0.691132          0.921409          0\n",
              "3  2014-01-07  0.006333  AAPL   0.669051          0.559251          1\n",
              "4  2014-01-08 -0.012770  AAPL   0.691764          0.931785          0"
            ]
          },
          "metadata": {
            "tags": []
          },
          "execution_count": 133
        }
      ]
    },
    {
      "cell_type": "code",
      "metadata": {
        "id": "IqcNNKNSJAxP",
        "colab_type": "code",
        "colab": {}
      },
      "source": [
        "directions = combined_data_day_1['direction'].values\n",
        "sentiments = combined_data_day_1['sentiment_zscore'].values.reshape(-1, 1)\n",
        "#sentiments = combined_data_day_1[['sentiment','sentiment_zscore']].values"
      ],
      "execution_count": 0,
      "outputs": []
    },
    {
      "cell_type": "code",
      "metadata": {
        "id": "QA8YYwv1JMA1",
        "colab_type": "code",
        "colab": {}
      },
      "source": [
        "from sklearn.model_selection import train_test_split\n",
        "x_train, x_test, y_train, y_test = train_test_split(sentiments, directions, test_size=.1)"
      ],
      "execution_count": 0,
      "outputs": []
    },
    {
      "cell_type": "code",
      "metadata": {
        "id": "aOG8-pTbJQXT",
        "colab_type": "code",
        "colab": {
          "base_uri": "https://localhost:8080/",
          "height": 143
        },
        "outputId": "fd64b004-78e2-408f-ee78-46a32100a4fe"
      },
      "source": [
        "# Import the model we are using\n",
        "from sklearn.ensemble import RandomForestRegressor\n",
        "# Instantiate model with 1000 decision trees\n",
        "rf = RandomForestRegressor(n_estimators = 1000, random_state = 42)\n",
        "# Train the model on training data\n",
        "rf.fit(x_train, y_train)"
      ],
      "execution_count": 32,
      "outputs": [
        {
          "output_type": "execute_result",
          "data": {
            "text/plain": [
              "RandomForestRegressor(bootstrap=True, criterion='mse', max_depth=None,\n",
              "                      max_features='auto', max_leaf_nodes=None,\n",
              "                      min_impurity_decrease=0.0, min_impurity_split=None,\n",
              "                      min_samples_leaf=1, min_samples_split=2,\n",
              "                      min_weight_fraction_leaf=0.0, n_estimators=1000,\n",
              "                      n_jobs=None, oob_score=False, random_state=42, verbose=0,\n",
              "                      warm_start=False)"
            ]
          },
          "metadata": {
            "tags": []
          },
          "execution_count": 32
        }
      ]
    },
    {
      "cell_type": "code",
      "metadata": {
        "id": "9GkMv4DyJU1x",
        "colab_type": "code",
        "colab": {
          "base_uri": "https://localhost:8080/",
          "height": 71
        },
        "outputId": "8d0f50ed-26b0-4398-eba1-b9ca8d3cefa8"
      },
      "source": [
        "# Use the forest's predict method on the test data\n",
        "predictions = rf.predict(x_test)\n",
        "from sklearn.metrics import r2_score,explained_variance_score,mean_squared_error\n",
        "print(r2_score(y_test,predictions))\n",
        "print(explained_variance_score(y_test,predictions))\n",
        "print(mean_squared_error(y_test,predictions))"
      ],
      "execution_count": 33,
      "outputs": [
        {
          "output_type": "stream",
          "text": [
            "-0.47228955328109845\n",
            "-0.46876943365511425\n",
            "0.36584945336705943\n"
          ],
          "name": "stdout"
        }
      ]
    },
    {
      "cell_type": "code",
      "metadata": {
        "id": "7A4eDE6LJfat",
        "colab_type": "code",
        "colab": {
          "base_uri": "https://localhost:8080/",
          "height": 312
        },
        "outputId": "b807ae15-20f0-4ff6-941d-5620152d217e"
      },
      "source": [
        "import matplotlib.pyplot as plt\n",
        "# Plot the actual values\n",
        "plt.plot(range(predictions.shape[0]), y_test, 'b-', label = 'actual')\n",
        "# Plot the predicted values\n",
        "plt.plot(range(predictions.shape[0]),predictions, 'r-', label = 'prediction')\n",
        "plt.xticks(rotation = '60'); \n",
        "plt.legend()\n",
        "# Graph labels\n",
        "plt.xlabel('timestamp'); plt.ylabel('Stock return'); plt.title('Actual and Predicted Values');"
      ],
      "execution_count": 34,
      "outputs": [
        {
          "output_type": "display_data",
          "data": {
            "image/png": "[encoded data removed]",
            "text/plain": [
              "<Figure size 432x288 with 1 Axes>"
            ]
          },
          "metadata": {
            "tags": []
          }
        }
      ]
    },
    {
      "cell_type": "code",
      "metadata": {
        "id": "kdMz_WXIJhP_",
        "colab_type": "code",
        "colab": {
          "base_uri": "https://localhost:8080/",
          "height": 73
        },
        "outputId": "94662f41-3d4f-4a47-fbca-accc4c73e7ef"
      },
      "source": [
        "from sklearn.linear_model import LogisticRegression\n",
        "reg = LogisticRegression(random_state=42).fit(x_train, y_train)"
      ],
      "execution_count": 35,
      "outputs": [
        {
          "output_type": "stream",
          "text": [
            "/usr/local/lib/python3.6/dist-packages/sklearn/linear_model/logistic.py:432: FutureWarning: Default solver will be changed to 'lbfgs' in 0.22. Specify a solver to silence this warning.\n",
            "  FutureWarning)\n"
          ],
          "name": "stderr"
        }
      ]
    },
    {
      "cell_type": "code",
      "metadata": {
        "id": "GwegWfPBJoUn",
        "colab_type": "code",
        "colab": {
          "base_uri": "https://localhost:8080/",
          "height": 71
        },
        "outputId": "c5eb8252-b495-42ad-c1ce-903016a8ff8e"
      },
      "source": [
        "from sklearn.metrics import r2_score,explained_variance_score,mean_squared_error\n",
        "predictions = reg.predict(x_test)\n",
        "print(r2_score(y_test,predictions))\n",
        "print(explained_variance_score(y_test,predictions))\n",
        "print(mean_squared_error(y_test,predictions))"
      ],
      "execution_count": 36,
      "outputs": [
        {
          "output_type": "stream",
          "text": [
            "-0.8531960385257682\n",
            "0.00020252256798591883\n",
            "0.4605009633911368\n"
          ],
          "name": "stdout"
        }
      ]
    },
    {
      "cell_type": "code",
      "metadata": {
        "id": "Lsk_SqVNJuI_",
        "colab_type": "code",
        "colab": {
          "base_uri": "https://localhost:8080/",
          "height": 312
        },
        "outputId": "270fc0f3-c653-4403-be8d-db7bab35f634"
      },
      "source": [
        "import matplotlib.pyplot as plt\n",
        "# Plot the actual values\n",
        "plt.plot(range(predictions.shape[0]), y_test, 'b-', label = 'actual')\n",
        "# Plot the predicted values\n",
        "plt.plot(range(predictions.shape[0]),predictions, 'r-', label = 'prediction')\n",
        "plt.xticks(rotation = '60'); \n",
        "plt.legend()\n",
        "# Graph labels\n",
        "plt.xlabel('timestamp'); plt.ylabel('Stock return'); plt.title('Actual and Predicted Values');"
      ],
      "execution_count": 37,
      "outputs": [
        {
          "output_type": "display_data",
          "data": {
            "image/png": "[encoded data removed]",
            "text/plain": [
              "<Figure size 432x288 with 1 Axes>"
            ]
          },
          "metadata": {
            "tags": []
          }
        }
      ]
    },
    {
      "cell_type": "markdown",
      "metadata": {
        "id": "L84ihRYBIa3d",
        "colab_type": "text"
      },
      "source": [
        "## Section 3: Stock return v sentiment change Tweets"
      ]
    },
    {
      "cell_type": "markdown",
      "metadata": {
        "id": "mnalCsnTMkPX",
        "colab_type": "text"
      },
      "source": [
        "### Preprocessing"
      ]
    },
    {
      "cell_type": "code",
      "metadata": {
        "id": "-EO_zVoKJ1S9",
        "colab_type": "code",
        "colab": {}
      },
      "source": [
        "combined_data = pd.read_csv(f'{DATA_DIR}/analysis/combined_price_tweets.csv')\n",
        "combined_data_by_stock = combined_data.groupby(combined_data.asset)"
      ],
      "execution_count": 0,
      "outputs": []
    },
    {
      "cell_type": "code",
      "metadata": {
        "id": "ROF1uAunIpSZ",
        "colab_type": "code",
        "colab": {
          "base_uri": "https://localhost:8080/",
          "height": 233
        },
        "outputId": "c5fa073d-50de-4f86-c454-bc9961f850b5"
      },
      "source": [
        "data = []\n",
        "for stock, df in combined_data_by_stock:\n",
        "  df.loc[:,'sentiment_pct_change'] = df['sentiment'].pct_change()\n",
        "  data.append(df.values.tolist())"
      ],
      "execution_count": 46,
      "outputs": [
        {
          "output_type": "stream",
          "text": [
            "/usr/local/lib/python3.6/dist-packages/pandas/core/indexing.py:376: SettingWithCopyWarning: \n",
            "A value is trying to be set on a copy of a slice from a DataFrame.\n",
            "Try using .loc[row_indexer,col_indexer] = value instead\n",
            "\n",
            "See the caveats in the documentation: http://pandas.pydata.org/pandas-docs/stable/user_guide/indexing.html#returning-a-view-versus-a-copy\n",
            "  self.obj[key] = _infer_fill_value(value)\n",
            "/usr/local/lib/python3.6/dist-packages/pandas/core/indexing.py:494: SettingWithCopyWarning: \n",
            "A value is trying to be set on a copy of a slice from a DataFrame.\n",
            "Try using .loc[row_indexer,col_indexer] = value instead\n",
            "\n",
            "See the caveats in the documentation: http://pandas.pydata.org/pandas-docs/stable/user_guide/indexing.html#returning-a-view-versus-a-copy\n",
            "  self.obj[item] = s\n"
          ],
          "name": "stderr"
        }
      ]
    },
    {
      "cell_type": "code",
      "metadata": {
        "id": "WLocMkchIt-0",
        "colab_type": "code",
        "colab": {}
      },
      "source": [
        "flat_list = []\n",
        "for sublist in data:\n",
        "    for item in sublist:\n",
        "        flat_list.append(item)"
      ],
      "execution_count": 0,
      "outputs": []
    },
    {
      "cell_type": "code",
      "metadata": {
        "id": "GQ2y2u1qIwlO",
        "colab_type": "code",
        "colab": {}
      },
      "source": [
        "pct_df = pd.DataFrame(np.asarray(flat_list), columns=['timestamp', 'asset', 'Open','Close','Volume','return','sentiment','sentiment_pct_change'])"
      ],
      "execution_count": 0,
      "outputs": []
    },
    {
      "cell_type": "code",
      "metadata": {
        "id": "mENbSz1WIzTY",
        "colab_type": "code",
        "colab": {
          "base_uri": "https://localhost:8080/",
          "height": 204
        },
        "outputId": "e2071cc0-4a66-4454-d16a-76005bdb66c0"
      },
      "source": [
        "pct_df.head()"
      ],
      "execution_count": 50,
      "outputs": [
        {
          "output_type": "execute_result",
          "data": {
            "text/html": [
              "<div>\n",
              "<style scoped>\n",
              "    .dataframe tbody tr th:only-of-type {\n",
              "        vertical-align: middle;\n",
              "    }\n",
              "\n",
              "    .dataframe tbody tr th {\n",
              "        vertical-align: top;\n",
              "    }\n",
              "\n",
              "    .dataframe thead th {\n",
              "        text-align: right;\n",
              "    }\n",
              "</style>\n",
              "<table border=\"1\" class=\"dataframe\">\n",
              "  <thead>\n",
              "    <tr style=\"text-align: right;\">\n",
              "      <th></th>\n",
              "      <th>timestamp</th>\n",
              "      <th>asset</th>\n",
              "      <th>Open</th>\n",
              "      <th>Close</th>\n",
              "      <th>Volume</th>\n",
              "      <th>return</th>\n",
              "      <th>sentiment</th>\n",
              "      <th>sentiment_pct_change</th>\n",
              "    </tr>\n",
              "  </thead>\n",
              "  <tbody>\n",
              "    <tr>\n",
              "      <th>0</th>\n",
              "      <td>2014-01-02</td>\n",
              "      <td>AAPL</td>\n",
              "      <td>79.382858</td>\n",
              "      <td>79.01857</td>\n",
              "      <td>58671200.0</td>\n",
              "      <td>nan</td>\n",
              "      <td>0.5655639938</td>\n",
              "      <td>nan</td>\n",
              "    </tr>\n",
              "    <tr>\n",
              "      <th>1</th>\n",
              "      <td>2014-01-03</td>\n",
              "      <td>AAPL</td>\n",
              "      <td>78.980003</td>\n",
              "      <td>77.28286</td>\n",
              "      <td>98116900.0</td>\n",
              "      <td>-0.021965849293400286</td>\n",
              "      <td>0.6017606199999999</td>\n",
              "      <td>0.06400093817287811</td>\n",
              "    </tr>\n",
              "    <tr>\n",
              "      <th>2</th>\n",
              "      <td>2014-01-06</td>\n",
              "      <td>AAPL</td>\n",
              "      <td>76.778572</td>\n",
              "      <td>77.704285</td>\n",
              "      <td>103152700.0</td>\n",
              "      <td>0.005453020242780937</td>\n",
              "      <td>0.691131798</td>\n",
              "      <td>0.14851616245675925</td>\n",
              "    </tr>\n",
              "    <tr>\n",
              "      <th>3</th>\n",
              "      <td>2014-01-07</td>\n",
              "      <td>AAPL</td>\n",
              "      <td>77.760002</td>\n",
              "      <td>77.148575</td>\n",
              "      <td>79302300.0</td>\n",
              "      <td>-0.007151600455496231</td>\n",
              "      <td>0.6690509193103449</td>\n",
              "      <td>-0.031948868151563725</td>\n",
              "    </tr>\n",
              "    <tr>\n",
              "      <th>4</th>\n",
              "      <td>2014-01-08</td>\n",
              "      <td>AAPL</td>\n",
              "      <td>76.97285500000002</td>\n",
              "      <td>77.637146</td>\n",
              "      <td>64632400.0</td>\n",
              "      <td>0.00633285838396902</td>\n",
              "      <td>0.6917643979999999</td>\n",
              "      <td>0.03394880424507596</td>\n",
              "    </tr>\n",
              "  </tbody>\n",
              "</table>\n",
              "</div>"
            ],
            "text/plain": [
              "    timestamp asset  ...           sentiment   sentiment_pct_change\n",
              "0  2014-01-02  AAPL  ...        0.5655639938                    nan\n",
              "1  2014-01-03  AAPL  ...  0.6017606199999999    0.06400093817287811\n",
              "2  2014-01-06  AAPL  ...         0.691131798    0.14851616245675925\n",
              "3  2014-01-07  AAPL  ...  0.6690509193103449  -0.031948868151563725\n",
              "4  2014-01-08  AAPL  ...  0.6917643979999999    0.03394880424507596\n",
              "\n",
              "[5 rows x 8 columns]"
            ]
          },
          "metadata": {
            "tags": []
          },
          "execution_count": 50
        }
      ]
    },
    {
      "cell_type": "code",
      "metadata": {
        "id": "O8TS6W9eJTnO",
        "colab_type": "code",
        "colab": {}
      },
      "source": [
        "pct_df.to_csv(f'{DATA_DIR}/analysis/combined_price_tweets_pct')"
      ],
      "execution_count": 0,
      "outputs": []
    },
    {
      "cell_type": "code",
      "metadata": {
        "id": "GKzNRG3mI2so",
        "colab_type": "code",
        "colab": {}
      },
      "source": [
        "def generate_day_n_dataset_with_pct_change(n):\n",
        "  temp = []\n",
        "  for stock, df in pct_df.groupby(pct_df.asset):\n",
        "    all_dates = set(df['timestamp'].values)\n",
        "    for i,row in df.iterrows():\n",
        "      date = row['timestamp']\n",
        "      next_n_day = next_n_working_day(date,n)\n",
        "      #sentiment = row['sentiment']\n",
        "      sentiment_pct_change = row['sentiment_pct_change']\n",
        "      if next_n_day in all_dates:\n",
        "        temp.append([row['timestamp'],stock_return_map[(str(next_n_day),stock)],stock,sentiment_pct_change])\n",
        "  return pd.DataFrame(temp, columns=['timestamp','return','asset','sentiment_pct_change'])"
      ],
      "execution_count": 0,
      "outputs": []
    },
    {
      "cell_type": "markdown",
      "metadata": {
        "id": "S-JNsnmXMolq",
        "colab_type": "text"
      },
      "source": [
        "### Percentage change"
      ]
    },
    {
      "cell_type": "code",
      "metadata": {
        "id": "Wz8eO7O5JxFM",
        "colab_type": "code",
        "colab": {
          "base_uri": "https://localhost:8080/",
          "height": 204
        },
        "outputId": "6f301dba-633d-4a5c-8219-e011dfcc348b"
      },
      "source": [
        "combined_data_day_1 = generate_day_n_dataset_with_pct_change(1)\n",
        "combined_data_day_1.head()"
      ],
      "execution_count": 53,
      "outputs": [
        {
          "output_type": "execute_result",
          "data": {
            "text/html": [
              "<div>\n",
              "<style scoped>\n",
              "    .dataframe tbody tr th:only-of-type {\n",
              "        vertical-align: middle;\n",
              "    }\n",
              "\n",
              "    .dataframe tbody tr th {\n",
              "        vertical-align: top;\n",
              "    }\n",
              "\n",
              "    .dataframe thead th {\n",
              "        text-align: right;\n",
              "    }\n",
              "</style>\n",
              "<table border=\"1\" class=\"dataframe\">\n",
              "  <thead>\n",
              "    <tr style=\"text-align: right;\">\n",
              "      <th></th>\n",
              "      <th>timestamp</th>\n",
              "      <th>return</th>\n",
              "      <th>asset</th>\n",
              "      <th>sentiment_pct_change</th>\n",
              "    </tr>\n",
              "  </thead>\n",
              "  <tbody>\n",
              "    <tr>\n",
              "      <th>0</th>\n",
              "      <td>2014-01-02</td>\n",
              "      <td>-0.021966</td>\n",
              "      <td>AAPL</td>\n",
              "      <td>nan</td>\n",
              "    </tr>\n",
              "    <tr>\n",
              "      <th>1</th>\n",
              "      <td>2014-01-03</td>\n",
              "      <td>0.005453</td>\n",
              "      <td>AAPL</td>\n",
              "      <td>0.06400093817287811</td>\n",
              "    </tr>\n",
              "    <tr>\n",
              "      <th>2</th>\n",
              "      <td>2014-01-06</td>\n",
              "      <td>-0.007152</td>\n",
              "      <td>AAPL</td>\n",
              "      <td>0.14851616245675925</td>\n",
              "    </tr>\n",
              "    <tr>\n",
              "      <th>3</th>\n",
              "      <td>2014-01-07</td>\n",
              "      <td>0.006333</td>\n",
              "      <td>AAPL</td>\n",
              "      <td>-0.031948868151563725</td>\n",
              "    </tr>\n",
              "    <tr>\n",
              "      <th>4</th>\n",
              "      <td>2014-01-08</td>\n",
              "      <td>-0.012770</td>\n",
              "      <td>AAPL</td>\n",
              "      <td>0.03394880424507596</td>\n",
              "    </tr>\n",
              "  </tbody>\n",
              "</table>\n",
              "</div>"
            ],
            "text/plain": [
              "    timestamp    return asset   sentiment_pct_change\n",
              "0  2014-01-02 -0.021966  AAPL                    nan\n",
              "1  2014-01-03  0.005453  AAPL    0.06400093817287811\n",
              "2  2014-01-06 -0.007152  AAPL    0.14851616245675925\n",
              "3  2014-01-07  0.006333  AAPL  -0.031948868151563725\n",
              "4  2014-01-08 -0.012770  AAPL    0.03394880424507596"
            ]
          },
          "metadata": {
            "tags": []
          },
          "execution_count": 53
        }
      ]
    },
    {
      "cell_type": "code",
      "metadata": {
        "id": "UAvrT9T5KNb1",
        "colab_type": "code",
        "colab": {
          "base_uri": "https://localhost:8080/",
          "height": 204
        },
        "outputId": "b0a2192c-3334-4321-ece6-db09209ff44d"
      },
      "source": [
        "combined_data_day_1['sentiment_pct_change'] = combined_data_day_1['sentiment_pct_change'].apply(lambda x: float(x))\n",
        "combined_data_day_1.dropna(axis=0,inplace=True)\n",
        "combined_data_day_1.head()"
      ],
      "execution_count": 57,
      "outputs": [
        {
          "output_type": "execute_result",
          "data": {
            "text/html": [
              "<div>\n",
              "<style scoped>\n",
              "    .dataframe tbody tr th:only-of-type {\n",
              "        vertical-align: middle;\n",
              "    }\n",
              "\n",
              "    .dataframe tbody tr th {\n",
              "        vertical-align: top;\n",
              "    }\n",
              "\n",
              "    .dataframe thead th {\n",
              "        text-align: right;\n",
              "    }\n",
              "</style>\n",
              "<table border=\"1\" class=\"dataframe\">\n",
              "  <thead>\n",
              "    <tr style=\"text-align: right;\">\n",
              "      <th></th>\n",
              "      <th>timestamp</th>\n",
              "      <th>return</th>\n",
              "      <th>asset</th>\n",
              "      <th>sentiment_pct_change</th>\n",
              "    </tr>\n",
              "  </thead>\n",
              "  <tbody>\n",
              "    <tr>\n",
              "      <th>1</th>\n",
              "      <td>2014-01-03</td>\n",
              "      <td>0.005453</td>\n",
              "      <td>AAPL</td>\n",
              "      <td>0.064001</td>\n",
              "    </tr>\n",
              "    <tr>\n",
              "      <th>2</th>\n",
              "      <td>2014-01-06</td>\n",
              "      <td>-0.007152</td>\n",
              "      <td>AAPL</td>\n",
              "      <td>0.148516</td>\n",
              "    </tr>\n",
              "    <tr>\n",
              "      <th>3</th>\n",
              "      <td>2014-01-07</td>\n",
              "      <td>0.006333</td>\n",
              "      <td>AAPL</td>\n",
              "      <td>-0.031949</td>\n",
              "    </tr>\n",
              "    <tr>\n",
              "      <th>4</th>\n",
              "      <td>2014-01-08</td>\n",
              "      <td>-0.012770</td>\n",
              "      <td>AAPL</td>\n",
              "      <td>0.033949</td>\n",
              "    </tr>\n",
              "    <tr>\n",
              "      <th>5</th>\n",
              "      <td>2014-01-09</td>\n",
              "      <td>-0.006673</td>\n",
              "      <td>AAPL</td>\n",
              "      <td>-0.259637</td>\n",
              "    </tr>\n",
              "  </tbody>\n",
              "</table>\n",
              "</div>"
            ],
            "text/plain": [
              "    timestamp    return asset  sentiment_pct_change\n",
              "1  2014-01-03  0.005453  AAPL              0.064001\n",
              "2  2014-01-06 -0.007152  AAPL              0.148516\n",
              "3  2014-01-07  0.006333  AAPL             -0.031949\n",
              "4  2014-01-08 -0.012770  AAPL              0.033949\n",
              "5  2014-01-09 -0.006673  AAPL             -0.259637"
            ]
          },
          "metadata": {
            "tags": []
          },
          "execution_count": 57
        }
      ]
    },
    {
      "cell_type": "code",
      "metadata": {
        "id": "9oaRFGNsJ3Fy",
        "colab_type": "code",
        "colab": {}
      },
      "source": [
        "returns = combined_data_day_1['return'].values\n",
        "sentiments = combined_data_day_1[['sentiment_pct_change']].values.reshape(-1,1)"
      ],
      "execution_count": 0,
      "outputs": []
    },
    {
      "cell_type": "code",
      "metadata": {
        "id": "gbm4Os7WKm-S",
        "colab_type": "code",
        "colab": {}
      },
      "source": [
        "from sklearn.model_selection import train_test_split\n",
        "x_train, x_test, y_train, y_test = train_test_split(sentiments, returns, test_size=.1)"
      ],
      "execution_count": 0,
      "outputs": []
    },
    {
      "cell_type": "code",
      "metadata": {
        "id": "COE7JOFpKz5i",
        "colab_type": "code",
        "colab": {
          "base_uri": "https://localhost:8080/",
          "height": 143
        },
        "outputId": "c3ca4d41-7705-4b46-b886-6d251dccc310"
      },
      "source": [
        "# Import the model we are using\n",
        "from sklearn.ensemble import RandomForestRegressor\n",
        "# Instantiate model with 1000 decision trees\n",
        "rf = RandomForestRegressor(n_estimators = 1000, random_state = 42)\n",
        "# Train the model on training data\n",
        "rf.fit(x_train, y_train)"
      ],
      "execution_count": 61,
      "outputs": [
        {
          "output_type": "execute_result",
          "data": {
            "text/plain": [
              "RandomForestRegressor(bootstrap=True, criterion='mse', max_depth=None,\n",
              "                      max_features='auto', max_leaf_nodes=None,\n",
              "                      min_impurity_decrease=0.0, min_impurity_split=None,\n",
              "                      min_samples_leaf=1, min_samples_split=2,\n",
              "                      min_weight_fraction_leaf=0.0, n_estimators=1000,\n",
              "                      n_jobs=None, oob_score=False, random_state=42, verbose=0,\n",
              "                      warm_start=False)"
            ]
          },
          "metadata": {
            "tags": []
          },
          "execution_count": 61
        }
      ]
    },
    {
      "cell_type": "code",
      "metadata": {
        "id": "XBdh00bOKuw4",
        "colab_type": "code",
        "colab": {
          "base_uri": "https://localhost:8080/",
          "height": 71
        },
        "outputId": "1b7a8422-52ae-4410-8062-b1b6a8382e6d"
      },
      "source": [
        "# Use the forest's predict method on the test data\n",
        "predictions = rf.predict(x_test)\n",
        "from sklearn.metrics import r2_score,explained_variance_score,mean_squared_error\n",
        "print(r2_score(y_test,predictions))\n",
        "print(explained_variance_score(y_test,predictions))\n",
        "print(mean_squared_error(y_test,predictions))"
      ],
      "execution_count": 62,
      "outputs": [
        {
          "output_type": "stream",
          "text": [
            "-0.5234344316470911\n",
            "-0.5226433674048678\n",
            "0.00034168049258742026\n"
          ],
          "name": "stdout"
        }
      ]
    },
    {
      "cell_type": "code",
      "metadata": {
        "id": "ZNRMZAfsLJNa",
        "colab_type": "code",
        "colab": {
          "base_uri": "https://localhost:8080/",
          "height": 312
        },
        "outputId": "8e2aebdd-0ab9-49bd-f517-cb39e1d95e6e"
      },
      "source": [
        "import matplotlib.pyplot as plt\n",
        "# Plot the actual values\n",
        "plt.plot(range(predictions.shape[0]), y_test, 'b-', label = 'actual')\n",
        "# Plot the predicted values\n",
        "plt.plot(range(predictions.shape[0]),predictions, 'r-', label = 'prediction')\n",
        "plt.xticks(rotation = '60'); \n",
        "plt.legend()\n",
        "# Graph labels\n",
        "plt.xlabel('timestamp'); plt.ylabel('Stock return'); plt.title('Actual and Predicted Values');"
      ],
      "execution_count": 63,
      "outputs": [
        {
          "output_type": "display_data",
          "data": {
            "image/png": "[encoded data removed]",
            "text/plain": [
              "<Figure size 432x288 with 1 Axes>"
            ]
          },
          "metadata": {
            "tags": []
          }
        }
      ]
    },
    {
      "cell_type": "code",
      "metadata": {
        "id": "549qbXalLNqQ",
        "colab_type": "code",
        "colab": {}
      },
      "source": [
        "from sklearn.linear_model import LinearRegression\n",
        "reg = LinearRegression().fit(x_train, y_train)"
      ],
      "execution_count": 0,
      "outputs": []
    },
    {
      "cell_type": "code",
      "metadata": {
        "id": "ovti6AZcLQrW",
        "colab_type": "code",
        "colab": {
          "base_uri": "https://localhost:8080/",
          "height": 71
        },
        "outputId": "422d8080-f9a9-45c3-96ee-938021e4ebf5"
      },
      "source": [
        "from sklearn.metrics import r2_score,explained_variance_score,mean_squared_error\n",
        "predictions = reg.predict(x_test)\n",
        "print(r2_score(y_test,predictions))\n",
        "print(explained_variance_score(y_test,predictions))\n",
        "print(mean_squared_error(y_test,predictions))"
      ],
      "execution_count": 65,
      "outputs": [
        {
          "output_type": "stream",
          "text": [
            "-0.0012096275511892518\n",
            "-7.769190365114476e-05\n",
            "0.00022455433041190784\n"
          ],
          "name": "stdout"
        }
      ]
    },
    {
      "cell_type": "code",
      "metadata": {
        "id": "3I6DWV22LUxS",
        "colab_type": "code",
        "colab": {
          "base_uri": "https://localhost:8080/",
          "height": 312
        },
        "outputId": "549e770a-58a4-4554-ad57-0bf57619c8fe"
      },
      "source": [
        "import matplotlib.pyplot as plt\n",
        "# Plot the actual values\n",
        "plt.plot(range(predictions.shape[0]), y_test, 'b-', label = 'actual')\n",
        "# Plot the predicted values\n",
        "plt.plot(range(predictions.shape[0]),predictions, 'r-', label = 'prediction')\n",
        "plt.xticks(rotation = '60'); \n",
        "plt.legend()\n",
        "# Graph labels\n",
        "plt.xlabel('timestamp'); plt.ylabel('Stock return'); plt.title('Actual and Predicted Values');"
      ],
      "execution_count": 66,
      "outputs": [
        {
          "output_type": "display_data",
          "data": {
            "image/png": "[encoded data removed]",
            "text/plain": [
              "<Figure size 432x288 with 1 Axes>"
            ]
          },
          "metadata": {
            "tags": []
          }
        }
      ]
    },
    {
      "cell_type": "markdown",
      "metadata": {
        "id": "iWVQBuOhMs1p",
        "colab_type": "text"
      },
      "source": [
        "### Direcionality"
      ]
    },
    {
      "cell_type": "code",
      "metadata": {
        "id": "dndDXbzFLWq5",
        "colab_type": "code",
        "colab": {}
      },
      "source": [
        "combined_data_day_1['direction'] = combined_data_day_1['return'].apply(lambda x: 0 if x<0 else 1) #0=down 1=up"
      ],
      "execution_count": 0,
      "outputs": []
    },
    {
      "cell_type": "code",
      "metadata": {
        "id": "_6LzrDWDLdqp",
        "colab_type": "code",
        "colab": {}
      },
      "source": [
        "directions = combined_data_day_1['direction'].values\n",
        "sentiments = combined_data_day_1['sentiment_pct_change'].values.reshape(-1, 1)"
      ],
      "execution_count": 0,
      "outputs": []
    },
    {
      "cell_type": "code",
      "metadata": {
        "id": "iV6LaPigLiqD",
        "colab_type": "code",
        "colab": {}
      },
      "source": [
        "from sklearn.model_selection import train_test_split\n",
        "x_train, x_test, y_train, y_test = train_test_split(sentiments, directions, test_size=.1)"
      ],
      "execution_count": 0,
      "outputs": []
    },
    {
      "cell_type": "code",
      "metadata": {
        "id": "Z5U-I66aLlaF",
        "colab_type": "code",
        "colab": {
          "base_uri": "https://localhost:8080/",
          "height": 143
        },
        "outputId": "65c27f9d-0d71-4f69-a440-5b142a7ce886"
      },
      "source": [
        "# Import the model we are using\n",
        "from sklearn.ensemble import RandomForestRegressor\n",
        "# Instantiate model with 1000 decision trees\n",
        "rf = RandomForestRegressor(n_estimators = 1000, random_state = 42)\n",
        "# Train the model on training data\n",
        "rf.fit(x_train, y_train)"
      ],
      "execution_count": 75,
      "outputs": [
        {
          "output_type": "execute_result",
          "data": {
            "text/plain": [
              "RandomForestRegressor(bootstrap=True, criterion='mse', max_depth=None,\n",
              "                      max_features='auto', max_leaf_nodes=None,\n",
              "                      min_impurity_decrease=0.0, min_impurity_split=None,\n",
              "                      min_samples_leaf=1, min_samples_split=2,\n",
              "                      min_weight_fraction_leaf=0.0, n_estimators=1000,\n",
              "                      n_jobs=None, oob_score=False, random_state=42, verbose=0,\n",
              "                      warm_start=False)"
            ]
          },
          "metadata": {
            "tags": []
          },
          "execution_count": 75
        }
      ]
    },
    {
      "cell_type": "code",
      "metadata": {
        "id": "nU4UGkgaLnjk",
        "colab_type": "code",
        "colab": {
          "base_uri": "https://localhost:8080/",
          "height": 71
        },
        "outputId": "c7d079fe-4a2d-4fb7-b234-14babde749f2"
      },
      "source": [
        "# Use the forest's predict method on the test data\n",
        "predictions = rf.predict(x_test)\n",
        "from sklearn.metrics import r2_score,explained_variance_score,mean_squared_error\n",
        "print(r2_score(y_test,predictions))\n",
        "print(explained_variance_score(y_test,predictions))\n",
        "print(mean_squared_error(y_test,predictions))"
      ],
      "execution_count": 76,
      "outputs": [
        {
          "output_type": "stream",
          "text": [
            "-0.39475067869527347\n",
            "-0.39474517010718957\n",
            "0.34829724141097274\n"
          ],
          "name": "stdout"
        }
      ]
    },
    {
      "cell_type": "code",
      "metadata": {
        "id": "ObMs4-tILpud",
        "colab_type": "code",
        "colab": {
          "base_uri": "https://localhost:8080/",
          "height": 312
        },
        "outputId": "041bffda-da89-4ffa-c5f8-c3158d399171"
      },
      "source": [
        "import matplotlib.pyplot as plt\n",
        "# Plot the actual values\n",
        "plt.plot(range(predictions.shape[0]), y_test, 'b-', label = 'actual')\n",
        "# Plot the predicted values\n",
        "plt.plot(range(predictions.shape[0]),predictions, 'r-', label = 'prediction')\n",
        "plt.xticks(rotation = '60'); \n",
        "plt.legend()\n",
        "# Graph labels\n",
        "plt.xlabel('timestamp'); plt.ylabel('Stock return'); plt.title('Actual and Predicted Values');"
      ],
      "execution_count": 77,
      "outputs": [
        {
          "output_type": "display_data",
          "data": {
            "image/png": "[encoded data removed]",
            "text/plain": [
              "<Figure size 432x288 with 1 Axes>"
            ]
          },
          "metadata": {
            "tags": []
          }
        }
      ]
    },
    {
      "cell_type": "code",
      "metadata": {
        "id": "OU-gLG3JLrK-",
        "colab_type": "code",
        "colab": {
          "base_uri": "https://localhost:8080/",
          "height": 73
        },
        "outputId": "a850b1c1-26d9-4d4d-b33f-c7d74d320412"
      },
      "source": [
        "from sklearn.linear_model import LogisticRegression\n",
        "reg = LogisticRegression(random_state=42).fit(x_train, y_train)"
      ],
      "execution_count": 78,
      "outputs": [
        {
          "output_type": "stream",
          "text": [
            "/usr/local/lib/python3.6/dist-packages/sklearn/linear_model/logistic.py:432: FutureWarning: Default solver will be changed to 'lbfgs' in 0.22. Specify a solver to silence this warning.\n",
            "  FutureWarning)\n"
          ],
          "name": "stderr"
        }
      ]
    },
    {
      "cell_type": "code",
      "metadata": {
        "id": "8L-BJNWRLujr",
        "colab_type": "code",
        "colab": {
          "base_uri": "https://localhost:8080/",
          "height": 71
        },
        "outputId": "b6c40999-c902-4e4a-df77-11198df3e85e"
      },
      "source": [
        "from sklearn.metrics import r2_score,explained_variance_score,mean_squared_error\n",
        "predictions = reg.predict(x_test)\n",
        "print(r2_score(y_test,predictions))\n",
        "print(explained_variance_score(y_test,predictions))\n",
        "print(mean_squared_error(y_test,predictions))"
      ],
      "execution_count": 79,
      "outputs": [
        {
          "output_type": "stream",
          "text": [
            "-0.9352428393524286\n",
            "-0.004974687133634914\n",
            "0.48326898326898327\n"
          ],
          "name": "stdout"
        }
      ]
    },
    {
      "cell_type": "code",
      "metadata": {
        "id": "LXW37XVDL7ip",
        "colab_type": "code",
        "colab": {
          "base_uri": "https://localhost:8080/",
          "height": 312
        },
        "outputId": "3151af66-6563-47dd-9c32-ba2b8abfe72e"
      },
      "source": [
        "import matplotlib.pyplot as plt\n",
        "# Plot the actual values\n",
        "plt.plot(range(predictions.shape[0]), y_test, 'b-', label = 'actual')\n",
        "# Plot the predicted values\n",
        "plt.plot(range(predictions.shape[0]),predictions, 'r-', label = 'prediction')\n",
        "plt.xticks(rotation = '60'); \n",
        "plt.legend()\n",
        "# Graph labels\n",
        "plt.xlabel('timestamp'); plt.ylabel('Stock return'); plt.title('Actual and Predicted Values');"
      ],
      "execution_count": 80,
      "outputs": [
        {
          "output_type": "display_data",
          "data": {
            "image/png": "[encoded data removed]",
            "text/plain": [
              "<Figure size 432x288 with 1 Axes>"
            ]
          },
          "metadata": {
            "tags": []
          }
        }
      ]
    },
    {
      "cell_type": "markdown",
      "metadata": {
        "id": "uA3FKICTbEt7",
        "colab_type": "text"
      },
      "source": [
        "## Final Section: Stock return v sentiment of Tweets + News"
      ]
    },
    {
      "cell_type": "markdown",
      "metadata": {
        "id": "IP2zbL1OM2jR",
        "colab_type": "text"
      },
      "source": [
        "### Preprocessing"
      ]
    },
    {
      "cell_type": "markdown",
      "metadata": {
        "id": "0A6dXheSQifE",
        "colab_type": "text"
      },
      "source": [
        "#### Tweets"
      ]
    },
    {
      "cell_type": "code",
      "metadata": {
        "id": "iAntxmm-NE3k",
        "colab_type": "code",
        "colab": {}
      },
      "source": [
        "from scipy import stats\n",
        "combined_data = pd.read_csv(f'{DATA_DIR}/analysis/combined_price_tweets.csv')\n",
        "combined_data_by_stock = combined_data.groupby(combined_data.asset)\n",
        "def generate_additional_sentiment_features():\n",
        "  data = []\n",
        "  for stock, df in combined_data_by_stock:\n",
        "    df.loc[:,'sentiment_zscore'] = stats.zscore(df['sentiment'])\n",
        "    df.loc[:,'sentiment_pct_change'] = df['sentiment'].pct_change()\n",
        "    data.append(df.values.tolist())\n",
        "  flat_list = []\n",
        "  for sublist in data:\n",
        "      for item in sublist:\n",
        "          flat_list.append(item)\n",
        "  return pd.DataFrame(np.asarray(flat_list), columns=['timestamp', 'asset', 'Open','Close','Volume','return','sentiment','sentiment_zscore','sentiment_pct_change'])"
      ],
      "execution_count": 0,
      "outputs": []
    },
    {
      "cell_type": "code",
      "metadata": {
        "id": "Nd6_gTPMOQ9j",
        "colab_type": "code",
        "colab": {
          "base_uri": "https://localhost:8080/",
          "height": 233
        },
        "outputId": "3e52b214-d9b5-4002-ca71-ceb740128e65"
      },
      "source": [
        "add_df = generate_additional_sentiment_features()\n",
        "def generate_day_n_dataset_with_all_features(n):\n",
        "  temp = []\n",
        "  for stock, df in add_df.groupby(add_df.asset):\n",
        "    all_dates = set(df['timestamp'].values)\n",
        "    for i,row in df.iterrows():\n",
        "      date = row['timestamp']\n",
        "      next_n_day = next_n_working_day(date,n)\n",
        "      sentiment = row['sentiment']\n",
        "      sentiment_zscore = row['sentiment_zscore']\n",
        "      sentiment_pct_change = row['sentiment_pct_change']\n",
        "      if next_n_day in all_dates:\n",
        "        temp.append([row['timestamp'],stock_return_map[(str(next_n_day),stock)],stock,sentiment,sentiment_zscore,sentiment_pct_change])\n",
        "  return pd.DataFrame(temp, columns=['timestamp','return','asset','sentiment','sentiment_zscore','sentiment_pct_change'])"
      ],
      "execution_count": 96,
      "outputs": [
        {
          "output_type": "stream",
          "text": [
            "/usr/local/lib/python3.6/dist-packages/pandas/core/indexing.py:376: SettingWithCopyWarning: \n",
            "A value is trying to be set on a copy of a slice from a DataFrame.\n",
            "Try using .loc[row_indexer,col_indexer] = value instead\n",
            "\n",
            "See the caveats in the documentation: http://pandas.pydata.org/pandas-docs/stable/user_guide/indexing.html#returning-a-view-versus-a-copy\n",
            "  self.obj[key] = _infer_fill_value(value)\n",
            "/usr/local/lib/python3.6/dist-packages/pandas/core/indexing.py:494: SettingWithCopyWarning: \n",
            "A value is trying to be set on a copy of a slice from a DataFrame.\n",
            "Try using .loc[row_indexer,col_indexer] = value instead\n",
            "\n",
            "See the caveats in the documentation: http://pandas.pydata.org/pandas-docs/stable/user_guide/indexing.html#returning-a-view-versus-a-copy\n",
            "  self.obj[item] = s\n"
          ],
          "name": "stderr"
        }
      ]
    },
    {
      "cell_type": "code",
      "metadata": {
        "id": "lZUYM0PyPf9c",
        "colab_type": "code",
        "colab": {
          "base_uri": "https://localhost:8080/",
          "height": 204
        },
        "outputId": "7e6e9c99-6435-4c31-a7c6-dbbd096a5399"
      },
      "source": [
        "add_df['return'] = add_df['return'].apply(lambda x: float(x))\n",
        "add_df['sentiment_zscore'] = add_df['sentiment_zscore'].apply(lambda x: float(x))\n",
        "add_df['sentiment_pct_change'] = add_df['sentiment_pct_change'].apply(lambda x: float(x))\n",
        "add_df.head()"
      ],
      "execution_count": 99,
      "outputs": [
        {
          "output_type": "execute_result",
          "data": {
            "text/html": [
              "<div>\n",
              "<style scoped>\n",
              "    .dataframe tbody tr th:only-of-type {\n",
              "        vertical-align: middle;\n",
              "    }\n",
              "\n",
              "    .dataframe tbody tr th {\n",
              "        vertical-align: top;\n",
              "    }\n",
              "\n",
              "    .dataframe thead th {\n",
              "        text-align: right;\n",
              "    }\n",
              "</style>\n",
              "<table border=\"1\" class=\"dataframe\">\n",
              "  <thead>\n",
              "    <tr style=\"text-align: right;\">\n",
              "      <th></th>\n",
              "      <th>timestamp</th>\n",
              "      <th>asset</th>\n",
              "      <th>Open</th>\n",
              "      <th>Close</th>\n",
              "      <th>Volume</th>\n",
              "      <th>return</th>\n",
              "      <th>sentiment</th>\n",
              "      <th>sentiment_zscore</th>\n",
              "      <th>sentiment_pct_change</th>\n",
              "    </tr>\n",
              "  </thead>\n",
              "  <tbody>\n",
              "    <tr>\n",
              "      <th>0</th>\n",
              "      <td>2014-01-02</td>\n",
              "      <td>AAPL</td>\n",
              "      <td>79.382858</td>\n",
              "      <td>79.01857</td>\n",
              "      <td>58671200.0</td>\n",
              "      <td>NaN</td>\n",
              "      <td>0.5655639938</td>\n",
              "      <td>-1.138082</td>\n",
              "      <td>NaN</td>\n",
              "    </tr>\n",
              "    <tr>\n",
              "      <th>1</th>\n",
              "      <td>2014-01-03</td>\n",
              "      <td>AAPL</td>\n",
              "      <td>78.980003</td>\n",
              "      <td>77.28286</td>\n",
              "      <td>98116900.0</td>\n",
              "      <td>-0.021966</td>\n",
              "      <td>0.6017606199999999</td>\n",
              "      <td>-0.544406</td>\n",
              "      <td>0.064001</td>\n",
              "    </tr>\n",
              "    <tr>\n",
              "      <th>2</th>\n",
              "      <td>2014-01-06</td>\n",
              "      <td>AAPL</td>\n",
              "      <td>76.778572</td>\n",
              "      <td>77.704285</td>\n",
              "      <td>103152700.0</td>\n",
              "      <td>0.005453</td>\n",
              "      <td>0.691131798</td>\n",
              "      <td>0.921409</td>\n",
              "      <td>0.148516</td>\n",
              "    </tr>\n",
              "    <tr>\n",
              "      <th>3</th>\n",
              "      <td>2014-01-07</td>\n",
              "      <td>AAPL</td>\n",
              "      <td>77.760002</td>\n",
              "      <td>77.148575</td>\n",
              "      <td>79302300.0</td>\n",
              "      <td>-0.007152</td>\n",
              "      <td>0.6690509193103449</td>\n",
              "      <td>0.559251</td>\n",
              "      <td>-0.031949</td>\n",
              "    </tr>\n",
              "    <tr>\n",
              "      <th>4</th>\n",
              "      <td>2014-01-08</td>\n",
              "      <td>AAPL</td>\n",
              "      <td>76.97285500000002</td>\n",
              "      <td>77.637146</td>\n",
              "      <td>64632400.0</td>\n",
              "      <td>0.006333</td>\n",
              "      <td>0.6917643979999999</td>\n",
              "      <td>0.931785</td>\n",
              "      <td>0.033949</td>\n",
              "    </tr>\n",
              "  </tbody>\n",
              "</table>\n",
              "</div>"
            ],
            "text/plain": [
              "    timestamp asset  ... sentiment_zscore sentiment_pct_change\n",
              "0  2014-01-02  AAPL  ...        -1.138082                  NaN\n",
              "1  2014-01-03  AAPL  ...        -0.544406             0.064001\n",
              "2  2014-01-06  AAPL  ...         0.921409             0.148516\n",
              "3  2014-01-07  AAPL  ...         0.559251            -0.031949\n",
              "4  2014-01-08  AAPL  ...         0.931785             0.033949\n",
              "\n",
              "[5 rows x 9 columns]"
            ]
          },
          "metadata": {
            "tags": []
          },
          "execution_count": 99
        }
      ]
    },
    {
      "cell_type": "code",
      "metadata": {
        "id": "pEXVVL_CQBDV",
        "colab_type": "code",
        "colab": {}
      },
      "source": [
        "add_df.to_csv(f'{DATA_DIR}/analysis/combined_price_tweets_all.csv',index=False)"
      ],
      "execution_count": 0,
      "outputs": []
    },
    {
      "cell_type": "code",
      "metadata": {
        "id": "KVxHPmv-OZoV",
        "colab_type": "code",
        "colab": {}
      },
      "source": [
        "combined_all_df_day_1 = generate_day_n_dataset_with_all_features(1)\n",
        "combined_all_df_day_1['return'] = combined_all_df_day_1['return'].apply(lambda x: float(x))\n",
        "combined_all_df_day_1['sentiment_zscore'] = combined_all_df_day_1['sentiment_zscore'].apply(lambda x: float(x))\n",
        "combined_all_df_day_1['sentiment_pct_change'] = combined_all_df_day_1['sentiment_pct_change'].apply(lambda x: float(x))"
      ],
      "execution_count": 0,
      "outputs": []
    },
    {
      "cell_type": "code",
      "metadata": {
        "id": "M5qy7JBmOkOR",
        "colab_type": "code",
        "colab": {
          "base_uri": "https://localhost:8080/",
          "height": 204
        },
        "outputId": "0dce4d58-02a3-4166-9c62-ecede611f0f5"
      },
      "source": [
        "combined_all_df_day_1.head()"
      ],
      "execution_count": 102,
      "outputs": [
        {
          "output_type": "execute_result",
          "data": {
            "text/html": [
              "<div>\n",
              "<style scoped>\n",
              "    .dataframe tbody tr th:only-of-type {\n",
              "        vertical-align: middle;\n",
              "    }\n",
              "\n",
              "    .dataframe tbody tr th {\n",
              "        vertical-align: top;\n",
              "    }\n",
              "\n",
              "    .dataframe thead th {\n",
              "        text-align: right;\n",
              "    }\n",
              "</style>\n",
              "<table border=\"1\" class=\"dataframe\">\n",
              "  <thead>\n",
              "    <tr style=\"text-align: right;\">\n",
              "      <th></th>\n",
              "      <th>timestamp</th>\n",
              "      <th>return</th>\n",
              "      <th>asset</th>\n",
              "      <th>sentiment</th>\n",
              "      <th>sentiment_zscore</th>\n",
              "      <th>sentiment_pct_change</th>\n",
              "    </tr>\n",
              "  </thead>\n",
              "  <tbody>\n",
              "    <tr>\n",
              "      <th>0</th>\n",
              "      <td>2014-01-02</td>\n",
              "      <td>-0.021966</td>\n",
              "      <td>AAPL</td>\n",
              "      <td>0.5655639938</td>\n",
              "      <td>-1.138082</td>\n",
              "      <td>NaN</td>\n",
              "    </tr>\n",
              "    <tr>\n",
              "      <th>1</th>\n",
              "      <td>2014-01-03</td>\n",
              "      <td>0.005453</td>\n",
              "      <td>AAPL</td>\n",
              "      <td>0.6017606199999999</td>\n",
              "      <td>-0.544406</td>\n",
              "      <td>0.064001</td>\n",
              "    </tr>\n",
              "    <tr>\n",
              "      <th>2</th>\n",
              "      <td>2014-01-06</td>\n",
              "      <td>-0.007152</td>\n",
              "      <td>AAPL</td>\n",
              "      <td>0.691131798</td>\n",
              "      <td>0.921409</td>\n",
              "      <td>0.148516</td>\n",
              "    </tr>\n",
              "    <tr>\n",
              "      <th>3</th>\n",
              "      <td>2014-01-07</td>\n",
              "      <td>0.006333</td>\n",
              "      <td>AAPL</td>\n",
              "      <td>0.6690509193103449</td>\n",
              "      <td>0.559251</td>\n",
              "      <td>-0.031949</td>\n",
              "    </tr>\n",
              "    <tr>\n",
              "      <th>4</th>\n",
              "      <td>2014-01-08</td>\n",
              "      <td>-0.012770</td>\n",
              "      <td>AAPL</td>\n",
              "      <td>0.6917643979999999</td>\n",
              "      <td>0.931785</td>\n",
              "      <td>0.033949</td>\n",
              "    </tr>\n",
              "  </tbody>\n",
              "</table>\n",
              "</div>"
            ],
            "text/plain": [
              "    timestamp    return  ... sentiment_zscore sentiment_pct_change\n",
              "0  2014-01-02 -0.021966  ...        -1.138082                  NaN\n",
              "1  2014-01-03  0.005453  ...        -0.544406             0.064001\n",
              "2  2014-01-06 -0.007152  ...         0.921409             0.148516\n",
              "3  2014-01-07  0.006333  ...         0.559251            -0.031949\n",
              "4  2014-01-08 -0.012770  ...         0.931785             0.033949\n",
              "\n",
              "[5 rows x 6 columns]"
            ]
          },
          "metadata": {
            "tags": []
          },
          "execution_count": 102
        }
      ]
    },
    {
      "cell_type": "markdown",
      "metadata": {
        "id": "WD3mOlbTQnAH",
        "colab_type": "text"
      },
      "source": [
        "#### News"
      ]
    },
    {
      "cell_type": "code",
      "metadata": {
        "id": "PNFKIteXQlBE",
        "colab_type": "code",
        "colab": {}
      },
      "source": [
        "indexed_news = pd.read_csv(f'{DATA_DIR}/indexed/news/indexed_news_title_only_.csv')"
      ],
      "execution_count": 0,
      "outputs": []
    },
    {
      "cell_type": "code",
      "metadata": {
        "id": "fC4PHBb2QNzJ",
        "colab_type": "code",
        "colab": {
          "base_uri": "https://localhost:8080/",
          "height": 204
        },
        "outputId": "65ae42e2-a299-4a9f-a780-f7960f536779"
      },
      "source": [
        "indexed_news.head()"
      ],
      "execution_count": 139,
      "outputs": [
        {
          "output_type": "execute_result",
          "data": {
            "text/html": [
              "<div>\n",
              "<style scoped>\n",
              "    .dataframe tbody tr th:only-of-type {\n",
              "        vertical-align: middle;\n",
              "    }\n",
              "\n",
              "    .dataframe tbody tr th {\n",
              "        vertical-align: top;\n",
              "    }\n",
              "\n",
              "    .dataframe thead th {\n",
              "        text-align: right;\n",
              "    }\n",
              "</style>\n",
              "<table border=\"1\" class=\"dataframe\">\n",
              "  <thead>\n",
              "    <tr style=\"text-align: right;\">\n",
              "      <th></th>\n",
              "      <th>timestamp</th>\n",
              "      <th>title</th>\n",
              "      <th>sentiment</th>\n",
              "    </tr>\n",
              "  </thead>\n",
              "  <tbody>\n",
              "    <tr>\n",
              "      <th>0</th>\n",
              "      <td>2014-01-01</td>\n",
              "      <td>the daily dot the nsa leaks you need to unders...</td>\n",
              "      <td>0.824581</td>\n",
              "    </tr>\n",
              "    <tr>\n",
              "      <th>1</th>\n",
              "      <td>2014-01-01</td>\n",
              "      <td>hadron collider upgrade will lead to highest e...</td>\n",
              "      <td>0.818177</td>\n",
              "    </tr>\n",
              "    <tr>\n",
              "      <th>2</th>\n",
              "      <td>2014-01-01</td>\n",
              "      <td>egypt says journalists will be held more days</td>\n",
              "      <td>0.260239</td>\n",
              "    </tr>\n",
              "    <tr>\n",
              "      <th>3</th>\n",
              "      <td>2014-01-01</td>\n",
              "      <td>latvia becomes th eurozone member</td>\n",
              "      <td>0.783358</td>\n",
              "    </tr>\n",
              "    <tr>\n",
              "      <th>4</th>\n",
              "      <td>2014-01-01</td>\n",
              "      <td>most australians want google to stop giving da...</td>\n",
              "      <td>0.457299</td>\n",
              "    </tr>\n",
              "  </tbody>\n",
              "</table>\n",
              "</div>"
            ],
            "text/plain": [
              "    timestamp                                              title  sentiment\n",
              "0  2014-01-01  the daily dot the nsa leaks you need to unders...   0.824581\n",
              "1  2014-01-01  hadron collider upgrade will lead to highest e...   0.818177\n",
              "2  2014-01-01      egypt says journalists will be held more days   0.260239\n",
              "3  2014-01-01                  latvia becomes th eurozone member   0.783358\n",
              "4  2014-01-01  most australians want google to stop giving da...   0.457299"
            ]
          },
          "metadata": {
            "tags": []
          },
          "execution_count": 139
        }
      ]
    },
    {
      "cell_type": "code",
      "metadata": {
        "id": "zBkuygDnYAK1",
        "colab_type": "code",
        "colab": {
          "base_uri": "https://localhost:8080/",
          "height": 35
        },
        "outputId": "57a5593c-e147-4aaf-8670-a6d74f89c25e"
      },
      "source": [
        "indexed_news.timestamp.unique().shape"
      ],
      "execution_count": 145,
      "outputs": [
        {
          "output_type": "execute_result",
          "data": {
            "text/plain": [
              "(915,)"
            ]
          },
          "metadata": {
            "tags": []
          },
          "execution_count": 145
        }
      ]
    },
    {
      "cell_type": "code",
      "metadata": {
        "id": "Z8X3sBfbTHgd",
        "colab_type": "code",
        "colab": {}
      },
      "source": [
        "import datetime\n",
        "news_days = indexed_news.timestamp.unique()\n",
        "all_stock_price = pd.read_csv(f'{DATA_DIR}/preprocessed/price/all_stock_price.csv')\n",
        "work_days = all_stock_price.timestamp.unique()\n",
        "end = work_days[-1]\n",
        "next_work_day_map = dict()\n",
        "list_of_days = news_days\n",
        "for date in list_of_days:\n",
        "    next_work_day = pd.to_datetime(date)\n",
        "    decay = 0\n",
        "    while next_work_day.strftime('%Y-%m-%d') not in work_days:\n",
        "      if(next_work_day.strftime('%Y-%m-%d') > end): break\n",
        "      next_work_day += datetime.timedelta(days=1)\n",
        "      decay += 1\n",
        "    next_work_day_map[date] = (next_work_day.strftime('%Y-%m-%d'),decay)"
      ],
      "execution_count": 0,
      "outputs": []
    },
    {
      "cell_type": "code",
      "metadata": {
        "id": "amxAxCTiQvzj",
        "colab_type": "code",
        "colab": {}
      },
      "source": [
        "indexed_news_by_day = indexed_news.groupby(indexed_news.timestamp)\n",
        "temp = []\n",
        "for group_name,group_values in indexed_news_by_day:\n",
        "    avg_sen = group_values['sentiment'].mean()\n",
        "    next_work_day = next_work_day_map[group_name][0]\n",
        "    decay = next_work_day_map[group_name][1]\n",
        "    temp.append([group_name,avg_sen,next_work_day,decay])\n",
        "average_news = pd.DataFrame(np.array(temp),columns=['timestamp','sentiment','next_work_day','decay'])"
      ],
      "execution_count": 0,
      "outputs": []
    },
    {
      "cell_type": "code",
      "metadata": {
        "id": "cdIYu_OwYesq",
        "colab_type": "code",
        "colab": {
          "base_uri": "https://localhost:8080/",
          "height": 35
        },
        "outputId": "00b3b59f-4d4c-4876-f57a-66b11eea539e"
      },
      "source": [
        "indexed_news_by_day.get_group('2014-01-01').sentiment.values.mean()"
      ],
      "execution_count": 151,
      "outputs": [
        {
          "output_type": "execute_result",
          "data": {
            "text/plain": [
              "0.3409652158"
            ]
          },
          "metadata": {
            "tags": []
          },
          "execution_count": 151
        }
      ]
    },
    {
      "cell_type": "code",
      "metadata": {
        "id": "WbrX61d2UC5C",
        "colab_type": "code",
        "colab": {}
      },
      "source": [
        "average_news.to_csv(f'{DATA_DIR}/analysis/average_news_title_only.csv',index=False)"
      ],
      "execution_count": 0,
      "outputs": []
    },
    {
      "cell_type": "code",
      "metadata": {
        "id": "Dp_22GUCU38m",
        "colab_type": "code",
        "colab": {
          "base_uri": "https://localhost:8080/",
          "height": 204
        },
        "outputId": "7dc3d76d-b369-40eb-ca44-5e6ec70dec33"
      },
      "source": [
        "average_news.head()"
      ],
      "execution_count": 144,
      "outputs": [
        {
          "output_type": "execute_result",
          "data": {
            "text/html": [
              "<div>\n",
              "<style scoped>\n",
              "    .dataframe tbody tr th:only-of-type {\n",
              "        vertical-align: middle;\n",
              "    }\n",
              "\n",
              "    .dataframe tbody tr th {\n",
              "        vertical-align: top;\n",
              "    }\n",
              "\n",
              "    .dataframe thead th {\n",
              "        text-align: right;\n",
              "    }\n",
              "</style>\n",
              "<table border=\"1\" class=\"dataframe\">\n",
              "  <thead>\n",
              "    <tr style=\"text-align: right;\">\n",
              "      <th></th>\n",
              "      <th>timestamp</th>\n",
              "      <th>sentiment</th>\n",
              "      <th>next_work_day</th>\n",
              "      <th>decay</th>\n",
              "    </tr>\n",
              "  </thead>\n",
              "  <tbody>\n",
              "    <tr>\n",
              "      <th>0</th>\n",
              "      <td>2014-01-01</td>\n",
              "      <td>0.34096521579999994</td>\n",
              "      <td>2014-01-02</td>\n",
              "      <td>1</td>\n",
              "    </tr>\n",
              "    <tr>\n",
              "      <th>1</th>\n",
              "      <td>2014-01-02</td>\n",
              "      <td>0.34549740336</td>\n",
              "      <td>2014-01-02</td>\n",
              "      <td>0</td>\n",
              "    </tr>\n",
              "    <tr>\n",
              "      <th>2</th>\n",
              "      <td>2014-01-03</td>\n",
              "      <td>0.28599565139999994</td>\n",
              "      <td>2014-01-03</td>\n",
              "      <td>0</td>\n",
              "    </tr>\n",
              "    <tr>\n",
              "      <th>3</th>\n",
              "      <td>2014-01-04</td>\n",
              "      <td>0.26057405016</td>\n",
              "      <td>2014-01-06</td>\n",
              "      <td>2</td>\n",
              "    </tr>\n",
              "    <tr>\n",
              "      <th>4</th>\n",
              "      <td>2014-01-05</td>\n",
              "      <td>0.25320122580000004</td>\n",
              "      <td>2014-01-06</td>\n",
              "      <td>1</td>\n",
              "    </tr>\n",
              "  </tbody>\n",
              "</table>\n",
              "</div>"
            ],
            "text/plain": [
              "    timestamp            sentiment next_work_day decay\n",
              "0  2014-01-01  0.34096521579999994    2014-01-02     1\n",
              "1  2014-01-02        0.34549740336    2014-01-02     0\n",
              "2  2014-01-03  0.28599565139999994    2014-01-03     0\n",
              "3  2014-01-04        0.26057405016    2014-01-06     2\n",
              "4  2014-01-05  0.25320122580000004    2014-01-06     1"
            ]
          },
          "metadata": {
            "tags": []
          },
          "execution_count": 144
        }
      ]
    },
    {
      "cell_type": "code",
      "metadata": {
        "id": "GjKr1ICyUVAz",
        "colab_type": "code",
        "colab": {}
      },
      "source": [
        "temp = []\n",
        "decayed_sen = []\n",
        "for i,row in average_news.iterrows():\n",
        "    decayed_sen.append(float(row['sentiment']))\n",
        "    if int(row['decay']) == 0:\n",
        "        sentiment = 0\n",
        "        total_weight = 0\n",
        "        for i in range(len(decayed_sen)):\n",
        "          weight = pow((1/2),i)\n",
        "          total_weight += weight\n",
        "          sentiment += weight*decayed_sen[i]\n",
        "        sentiment /= total_weight\n",
        "        temp.append([row['timestamp'],sentiment])\n",
        "decayed_news = pd.DataFrame(temp, columns=['timestamp','sentiment'])"
      ],
      "execution_count": 0,
      "outputs": []
    },
    {
      "cell_type": "code",
      "metadata": {
        "id": "wGGWjc4WUd5f",
        "colab_type": "code",
        "colab": {
          "base_uri": "https://localhost:8080/",
          "height": 297
        },
        "outputId": "068661f8-05b9-4922-fc8a-e47f6b59cb41"
      },
      "source": [
        "decayed_news.describe()"
      ],
      "execution_count": 148,
      "outputs": [
        {
          "output_type": "execute_result",
          "data": {
            "text/html": [
              "<div>\n",
              "<style scoped>\n",
              "    .dataframe tbody tr th:only-of-type {\n",
              "        vertical-align: middle;\n",
              "    }\n",
              "\n",
              "    .dataframe tbody tr th {\n",
              "        vertical-align: top;\n",
              "    }\n",
              "\n",
              "    .dataframe thead th {\n",
              "        text-align: right;\n",
              "    }\n",
              "</style>\n",
              "<table border=\"1\" class=\"dataframe\">\n",
              "  <thead>\n",
              "    <tr style=\"text-align: right;\">\n",
              "      <th></th>\n",
              "      <th>sentiment</th>\n",
              "    </tr>\n",
              "  </thead>\n",
              "  <tbody>\n",
              "    <tr>\n",
              "      <th>count</th>\n",
              "      <td>633.000000</td>\n",
              "    </tr>\n",
              "    <tr>\n",
              "      <th>mean</th>\n",
              "      <td>0.323759</td>\n",
              "    </tr>\n",
              "    <tr>\n",
              "      <th>std</th>\n",
              "      <td>0.000861</td>\n",
              "    </tr>\n",
              "    <tr>\n",
              "      <th>min</th>\n",
              "      <td>0.323707</td>\n",
              "    </tr>\n",
              "    <tr>\n",
              "      <th>25%</th>\n",
              "      <td>0.323707</td>\n",
              "    </tr>\n",
              "    <tr>\n",
              "      <th>50%</th>\n",
              "      <td>0.323707</td>\n",
              "    </tr>\n",
              "    <tr>\n",
              "      <th>75%</th>\n",
              "      <td>0.323707</td>\n",
              "    </tr>\n",
              "    <tr>\n",
              "      <th>max</th>\n",
              "      <td>0.342476</td>\n",
              "    </tr>\n",
              "  </tbody>\n",
              "</table>\n",
              "</div>"
            ],
            "text/plain": [
              "        sentiment\n",
              "count  633.000000\n",
              "mean     0.323759\n",
              "std      0.000861\n",
              "min      0.323707\n",
              "25%      0.323707\n",
              "50%      0.323707\n",
              "75%      0.323707\n",
              "max      0.342476"
            ]
          },
          "metadata": {
            "tags": []
          },
          "execution_count": 148
        }
      ]
    },
    {
      "cell_type": "code",
      "metadata": {
        "id": "0DNlIS-eUlgl",
        "colab_type": "code",
        "colab": {}
      },
      "source": [
        "decayed_news.to_csv(f'{DATA_DIR}/analysis/decayed_news_title_only.csv',index=False)"
      ],
      "execution_count": 0,
      "outputs": []
    },
    {
      "cell_type": "code",
      "metadata": {
        "id": "r68k20UaY04X",
        "colab_type": "code",
        "colab": {}
      },
      "source": [
        "decayed_news.loc[:,'sentiment_zscore'] = stats.zscore(decayed_news['sentiment'])\n",
        "decayed_news.loc[:,'sentiment_pct_change'] = decayed_news['sentiment'].pct_change()"
      ],
      "execution_count": 0,
      "outputs": []
    },
    {
      "cell_type": "code",
      "metadata": {
        "id": "WIeoE8FDZP7t",
        "colab_type": "code",
        "colab": {
          "base_uri": "https://localhost:8080/",
          "height": 204
        },
        "outputId": "91ae515c-5a83-489a-b601-ada7f8cb0c75"
      },
      "source": [
        "decayed_news.head()"
      ],
      "execution_count": 154,
      "outputs": [
        {
          "output_type": "execute_result",
          "data": {
            "text/html": [
              "<div>\n",
              "<style scoped>\n",
              "    .dataframe tbody tr th:only-of-type {\n",
              "        vertical-align: middle;\n",
              "    }\n",
              "\n",
              "    .dataframe tbody tr th {\n",
              "        vertical-align: top;\n",
              "    }\n",
              "\n",
              "    .dataframe thead th {\n",
              "        text-align: right;\n",
              "    }\n",
              "</style>\n",
              "<table border=\"1\" class=\"dataframe\">\n",
              "  <thead>\n",
              "    <tr style=\"text-align: right;\">\n",
              "      <th></th>\n",
              "      <th>timestamp</th>\n",
              "      <th>sentiment</th>\n",
              "      <th>sentiment_zscore</th>\n",
              "      <th>sentiment_pct_change</th>\n",
              "    </tr>\n",
              "  </thead>\n",
              "  <tbody>\n",
              "    <tr>\n",
              "      <th>0</th>\n",
              "      <td>2014-01-02</td>\n",
              "      <td>0.342476</td>\n",
              "      <td>21.757175</td>\n",
              "      <td>NaN</td>\n",
              "    </tr>\n",
              "    <tr>\n",
              "      <th>1</th>\n",
              "      <td>2014-01-03</td>\n",
              "      <td>0.334407</td>\n",
              "      <td>12.378117</td>\n",
              "      <td>-0.023560</td>\n",
              "    </tr>\n",
              "    <tr>\n",
              "      <th>2</th>\n",
              "      <td>2014-01-06</td>\n",
              "      <td>0.325380</td>\n",
              "      <td>1.884647</td>\n",
              "      <td>-0.026995</td>\n",
              "    </tr>\n",
              "    <tr>\n",
              "      <th>3</th>\n",
              "      <td>2014-01-07</td>\n",
              "      <td>0.324345</td>\n",
              "      <td>0.681717</td>\n",
              "      <td>-0.003180</td>\n",
              "    </tr>\n",
              "    <tr>\n",
              "      <th>4</th>\n",
              "      <td>2014-01-08</td>\n",
              "      <td>0.324086</td>\n",
              "      <td>0.379914</td>\n",
              "      <td>-0.000800</td>\n",
              "    </tr>\n",
              "  </tbody>\n",
              "</table>\n",
              "</div>"
            ],
            "text/plain": [
              "    timestamp  sentiment  sentiment_zscore  sentiment_pct_change\n",
              "0  2014-01-02   0.342476         21.757175                   NaN\n",
              "1  2014-01-03   0.334407         12.378117             -0.023560\n",
              "2  2014-01-06   0.325380          1.884647             -0.026995\n",
              "3  2014-01-07   0.324345          0.681717             -0.003180\n",
              "4  2014-01-08   0.324086          0.379914             -0.000800"
            ]
          },
          "metadata": {
            "tags": []
          },
          "execution_count": 154
        }
      ]
    },
    {
      "cell_type": "code",
      "metadata": {
        "id": "MY_z6St-ZSc0",
        "colab_type": "code",
        "colab": {}
      },
      "source": [
        "decayed_news.to_csv(f'{DATA_DIR}/analysis/news_title_only_all_features.csv',index=False)"
      ],
      "execution_count": 0,
      "outputs": []
    },
    {
      "cell_type": "markdown",
      "metadata": {
        "id": "IrbzhXosZpax",
        "colab_type": "text"
      },
      "source": [
        "### Analysis: Tweets + News"
      ]
    },
    {
      "cell_type": "code",
      "metadata": {
        "id": "VG-8LdDbZsM6",
        "colab_type": "code",
        "colab": {}
      },
      "source": [
        "price_tweets = pd.read_csv(f'{DATA_DIR}/analysis/combined_price_tweets_all.csv')\n",
        "news = pd.read_csv(f'{DATA_DIR}/analysis/news_title_only_all_features.csv')"
      ],
      "execution_count": 0,
      "outputs": []
    },
    {
      "cell_type": "code",
      "metadata": {
        "id": "1O8gboR5Z7Wx",
        "colab_type": "code",
        "colab": {
          "base_uri": "https://localhost:8080/",
          "height": 204
        },
        "outputId": "40788ef9-e3f7-43eb-e195-970882d30fa2"
      },
      "source": [
        "price_tweets.head()"
      ],
      "execution_count": 157,
      "outputs": [
        {
          "output_type": "execute_result",
          "data": {
            "text/html": [
              "<div>\n",
              "<style scoped>\n",
              "    .dataframe tbody tr th:only-of-type {\n",
              "        vertical-align: middle;\n",
              "    }\n",
              "\n",
              "    .dataframe tbody tr th {\n",
              "        vertical-align: top;\n",
              "    }\n",
              "\n",
              "    .dataframe thead th {\n",
              "        text-align: right;\n",
              "    }\n",
              "</style>\n",
              "<table border=\"1\" class=\"dataframe\">\n",
              "  <thead>\n",
              "    <tr style=\"text-align: right;\">\n",
              "      <th></th>\n",
              "      <th>timestamp</th>\n",
              "      <th>asset</th>\n",
              "      <th>Open</th>\n",
              "      <th>Close</th>\n",
              "      <th>Volume</th>\n",
              "      <th>return</th>\n",
              "      <th>sentiment</th>\n",
              "      <th>sentiment_zscore</th>\n",
              "      <th>sentiment_pct_change</th>\n",
              "    </tr>\n",
              "  </thead>\n",
              "  <tbody>\n",
              "    <tr>\n",
              "      <th>0</th>\n",
              "      <td>2014-01-02</td>\n",
              "      <td>AAPL</td>\n",
              "      <td>79.382858</td>\n",
              "      <td>79.018570</td>\n",
              "      <td>58671200.0</td>\n",
              "      <td>NaN</td>\n",
              "      <td>0.565564</td>\n",
              "      <td>-1.138082</td>\n",
              "      <td>NaN</td>\n",
              "    </tr>\n",
              "    <tr>\n",
              "      <th>1</th>\n",
              "      <td>2014-01-03</td>\n",
              "      <td>AAPL</td>\n",
              "      <td>78.980003</td>\n",
              "      <td>77.282860</td>\n",
              "      <td>98116900.0</td>\n",
              "      <td>-0.021966</td>\n",
              "      <td>0.601761</td>\n",
              "      <td>-0.544406</td>\n",
              "      <td>0.064001</td>\n",
              "    </tr>\n",
              "    <tr>\n",
              "      <th>2</th>\n",
              "      <td>2014-01-06</td>\n",
              "      <td>AAPL</td>\n",
              "      <td>76.778572</td>\n",
              "      <td>77.704285</td>\n",
              "      <td>103152700.0</td>\n",
              "      <td>0.005453</td>\n",
              "      <td>0.691132</td>\n",
              "      <td>0.921409</td>\n",
              "      <td>0.148516</td>\n",
              "    </tr>\n",
              "    <tr>\n",
              "      <th>3</th>\n",
              "      <td>2014-01-07</td>\n",
              "      <td>AAPL</td>\n",
              "      <td>77.760002</td>\n",
              "      <td>77.148575</td>\n",
              "      <td>79302300.0</td>\n",
              "      <td>-0.007152</td>\n",
              "      <td>0.669051</td>\n",
              "      <td>0.559251</td>\n",
              "      <td>-0.031949</td>\n",
              "    </tr>\n",
              "    <tr>\n",
              "      <th>4</th>\n",
              "      <td>2014-01-08</td>\n",
              "      <td>AAPL</td>\n",
              "      <td>76.972855</td>\n",
              "      <td>77.637146</td>\n",
              "      <td>64632400.0</td>\n",
              "      <td>0.006333</td>\n",
              "      <td>0.691764</td>\n",
              "      <td>0.931785</td>\n",
              "      <td>0.033949</td>\n",
              "    </tr>\n",
              "  </tbody>\n",
              "</table>\n",
              "</div>"
            ],
            "text/plain": [
              "    timestamp asset  ...  sentiment_zscore  sentiment_pct_change\n",
              "0  2014-01-02  AAPL  ...         -1.138082                   NaN\n",
              "1  2014-01-03  AAPL  ...         -0.544406              0.064001\n",
              "2  2014-01-06  AAPL  ...          0.921409              0.148516\n",
              "3  2014-01-07  AAPL  ...          0.559251             -0.031949\n",
              "4  2014-01-08  AAPL  ...          0.931785              0.033949\n",
              "\n",
              "[5 rows x 9 columns]"
            ]
          },
          "metadata": {
            "tags": []
          },
          "execution_count": 157
        }
      ]
    },
    {
      "cell_type": "code",
      "metadata": {
        "id": "N7b8U2JUZ9JL",
        "colab_type": "code",
        "colab": {
          "base_uri": "https://localhost:8080/",
          "height": 204
        },
        "outputId": "11aef24f-2e7a-48e3-a80a-b275e45f9a10"
      },
      "source": [
        "news.head()"
      ],
      "execution_count": 158,
      "outputs": [
        {
          "output_type": "execute_result",
          "data": {
            "text/html": [
              "<div>\n",
              "<style scoped>\n",
              "    .dataframe tbody tr th:only-of-type {\n",
              "        vertical-align: middle;\n",
              "    }\n",
              "\n",
              "    .dataframe tbody tr th {\n",
              "        vertical-align: top;\n",
              "    }\n",
              "\n",
              "    .dataframe thead th {\n",
              "        text-align: right;\n",
              "    }\n",
              "</style>\n",
              "<table border=\"1\" class=\"dataframe\">\n",
              "  <thead>\n",
              "    <tr style=\"text-align: right;\">\n",
              "      <th></th>\n",
              "      <th>timestamp</th>\n",
              "      <th>sentiment</th>\n",
              "      <th>sentiment_zscore</th>\n",
              "      <th>sentiment_pct_change</th>\n",
              "    </tr>\n",
              "  </thead>\n",
              "  <tbody>\n",
              "    <tr>\n",
              "      <th>0</th>\n",
              "      <td>2014-01-02</td>\n",
              "      <td>0.342476</td>\n",
              "      <td>21.757175</td>\n",
              "      <td>NaN</td>\n",
              "    </tr>\n",
              "    <tr>\n",
              "      <th>1</th>\n",
              "      <td>2014-01-03</td>\n",
              "      <td>0.334407</td>\n",
              "      <td>12.378117</td>\n",
              "      <td>-0.023560</td>\n",
              "    </tr>\n",
              "    <tr>\n",
              "      <th>2</th>\n",
              "      <td>2014-01-06</td>\n",
              "      <td>0.325380</td>\n",
              "      <td>1.884647</td>\n",
              "      <td>-0.026995</td>\n",
              "    </tr>\n",
              "    <tr>\n",
              "      <th>3</th>\n",
              "      <td>2014-01-07</td>\n",
              "      <td>0.324345</td>\n",
              "      <td>0.681717</td>\n",
              "      <td>-0.003180</td>\n",
              "    </tr>\n",
              "    <tr>\n",
              "      <th>4</th>\n",
              "      <td>2014-01-08</td>\n",
              "      <td>0.324086</td>\n",
              "      <td>0.379914</td>\n",
              "      <td>-0.000800</td>\n",
              "    </tr>\n",
              "  </tbody>\n",
              "</table>\n",
              "</div>"
            ],
            "text/plain": [
              "    timestamp  sentiment  sentiment_zscore  sentiment_pct_change\n",
              "0  2014-01-02   0.342476         21.757175                   NaN\n",
              "1  2014-01-03   0.334407         12.378117             -0.023560\n",
              "2  2014-01-06   0.325380          1.884647             -0.026995\n",
              "3  2014-01-07   0.324345          0.681717             -0.003180\n",
              "4  2014-01-08   0.324086          0.379914             -0.000800"
            ]
          },
          "metadata": {
            "tags": []
          },
          "execution_count": 158
        }
      ]
    },
    {
      "cell_type": "code",
      "metadata": {
        "id": "nw96iri9Z-kg",
        "colab_type": "code",
        "colab": {
          "base_uri": "https://localhost:8080/",
          "height": 224
        },
        "outputId": "17947153-05ee-4895-bc3a-1ad0a6c8cf22"
      },
      "source": [
        "price_tweets_news = price_tweets.merge(news, on='timestamp',suffixes=('_tweets','_news'))\n",
        "price_tweets_news.head() "
      ],
      "execution_count": 159,
      "outputs": [
        {
          "output_type": "execute_result",
          "data": {
            "text/html": [
              "<div>\n",
              "<style scoped>\n",
              "    .dataframe tbody tr th:only-of-type {\n",
              "        vertical-align: middle;\n",
              "    }\n",
              "\n",
              "    .dataframe tbody tr th {\n",
              "        vertical-align: top;\n",
              "    }\n",
              "\n",
              "    .dataframe thead th {\n",
              "        text-align: right;\n",
              "    }\n",
              "</style>\n",
              "<table border=\"1\" class=\"dataframe\">\n",
              "  <thead>\n",
              "    <tr style=\"text-align: right;\">\n",
              "      <th></th>\n",
              "      <th>timestamp</th>\n",
              "      <th>asset</th>\n",
              "      <th>Open</th>\n",
              "      <th>Close</th>\n",
              "      <th>Volume</th>\n",
              "      <th>return</th>\n",
              "      <th>sentiment_tweets</th>\n",
              "      <th>sentiment_zscore_tweets</th>\n",
              "      <th>sentiment_pct_change_tweets</th>\n",
              "      <th>sentiment_news</th>\n",
              "      <th>sentiment_zscore_news</th>\n",
              "      <th>sentiment_pct_change_news</th>\n",
              "    </tr>\n",
              "  </thead>\n",
              "  <tbody>\n",
              "    <tr>\n",
              "      <th>0</th>\n",
              "      <td>2014-01-02</td>\n",
              "      <td>AAPL</td>\n",
              "      <td>79.382858</td>\n",
              "      <td>79.018570</td>\n",
              "      <td>58671200.0</td>\n",
              "      <td>NaN</td>\n",
              "      <td>0.565564</td>\n",
              "      <td>-1.138082</td>\n",
              "      <td>NaN</td>\n",
              "      <td>0.342476</td>\n",
              "      <td>21.757175</td>\n",
              "      <td>NaN</td>\n",
              "    </tr>\n",
              "    <tr>\n",
              "      <th>1</th>\n",
              "      <td>2014-01-02</td>\n",
              "      <td>AEP</td>\n",
              "      <td>46.980000</td>\n",
              "      <td>46.130001</td>\n",
              "      <td>2752000.0</td>\n",
              "      <td>NaN</td>\n",
              "      <td>0.429838</td>\n",
              "      <td>-0.676142</td>\n",
              "      <td>NaN</td>\n",
              "      <td>0.342476</td>\n",
              "      <td>21.757175</td>\n",
              "      <td>NaN</td>\n",
              "    </tr>\n",
              "    <tr>\n",
              "      <th>2</th>\n",
              "      <td>2014-01-02</td>\n",
              "      <td>AMGN</td>\n",
              "      <td>114.360001</td>\n",
              "      <td>115.800003</td>\n",
              "      <td>2528800.0</td>\n",
              "      <td>NaN</td>\n",
              "      <td>0.805012</td>\n",
              "      <td>1.216801</td>\n",
              "      <td>NaN</td>\n",
              "      <td>0.342476</td>\n",
              "      <td>21.757175</td>\n",
              "      <td>NaN</td>\n",
              "    </tr>\n",
              "    <tr>\n",
              "      <th>3</th>\n",
              "      <td>2014-01-02</td>\n",
              "      <td>AMZN</td>\n",
              "      <td>398.799988</td>\n",
              "      <td>397.970001</td>\n",
              "      <td>2137800.0</td>\n",
              "      <td>NaN</td>\n",
              "      <td>0.178008</td>\n",
              "      <td>-4.286250</td>\n",
              "      <td>NaN</td>\n",
              "      <td>0.342476</td>\n",
              "      <td>21.757175</td>\n",
              "      <td>NaN</td>\n",
              "    </tr>\n",
              "    <tr>\n",
              "      <th>4</th>\n",
              "      <td>2014-01-02</td>\n",
              "      <td>BA</td>\n",
              "      <td>136.009995</td>\n",
              "      <td>136.669998</td>\n",
              "      <td>3366700.0</td>\n",
              "      <td>NaN</td>\n",
              "      <td>0.806881</td>\n",
              "      <td>1.420988</td>\n",
              "      <td>NaN</td>\n",
              "      <td>0.342476</td>\n",
              "      <td>21.757175</td>\n",
              "      <td>NaN</td>\n",
              "    </tr>\n",
              "  </tbody>\n",
              "</table>\n",
              "</div>"
            ],
            "text/plain": [
              "    timestamp asset  ...  sentiment_zscore_news  sentiment_pct_change_news\n",
              "0  2014-01-02  AAPL  ...              21.757175                        NaN\n",
              "1  2014-01-02   AEP  ...              21.757175                        NaN\n",
              "2  2014-01-02  AMGN  ...              21.757175                        NaN\n",
              "3  2014-01-02  AMZN  ...              21.757175                        NaN\n",
              "4  2014-01-02    BA  ...              21.757175                        NaN\n",
              "\n",
              "[5 rows x 12 columns]"
            ]
          },
          "metadata": {
            "tags": []
          },
          "execution_count": 159
        }
      ]
    },
    {
      "cell_type": "code",
      "metadata": {
        "id": "_smiDUNdaUFJ",
        "colab_type": "code",
        "colab": {}
      },
      "source": [
        "price_tweets_news.to_csv(f'{DATA_DIR}/analysis/combined_price_tweets_news.csv', index=False)"
      ],
      "execution_count": 0,
      "outputs": []
    },
    {
      "cell_type": "code",
      "metadata": {
        "id": "iUL0O576a08A",
        "colab_type": "code",
        "colab": {}
      },
      "source": [
        "def generate_day_n_dataset_with_all_features(n):\n",
        "  temp = []\n",
        "  for stock, df in price_tweets_news.groupby(price_tweets_news.asset):\n",
        "    all_dates = set(df['timestamp'].values)\n",
        "    for i,row in df.iterrows():\n",
        "      date = row['timestamp']\n",
        "      next_n_day = next_n_working_day(date,n)\n",
        "      sentiment_t = row['sentiment_tweets']\n",
        "      sentiment_zscore_t = row['sentiment_zscore_tweets']\n",
        "      sentiment_pct_change_t = row['sentiment_pct_change_tweets']\n",
        "      sentiment_n = row['sentiment_news']\n",
        "      sentiment_zscore_n = row['sentiment_zscore_news']\n",
        "      sentiment_pct_change_n = row['sentiment_pct_change_news']\n",
        "      if next_n_day in all_dates:\n",
        "        temp.append([row['timestamp'],stock_return_map[(str(next_n_day),stock)],stock,sentiment_t,sentiment_zscore_t,sentiment_pct_change_t,sentiment_n,sentiment_zscore_n,sentiment_pct_change_n])\n",
        "  return pd.DataFrame(temp, columns=['timestamp','return','asset','sentiment_tweets','sentiment_zscore_tweets','sentiment_pct_change_tweets','sentiment_news','sentiment_zscore_news','sentiment_pct_change_news'])"
      ],
      "execution_count": 0,
      "outputs": []
    },
    {
      "cell_type": "code",
      "metadata": {
        "id": "-PhEDRkdcCjD",
        "colab_type": "code",
        "colab": {}
      },
      "source": [
        "price_tweets_news_day_1 = generate_day_n_dataset_with_all_features(1)"
      ],
      "execution_count": 0,
      "outputs": []
    },
    {
      "cell_type": "code",
      "metadata": {
        "id": "4L7yofl2cGuD",
        "colab_type": "code",
        "colab": {
          "base_uri": "https://localhost:8080/",
          "height": 224
        },
        "outputId": "20d7a2dc-fba0-4670-f269-50edd885d746"
      },
      "source": [
        "price_tweets_news_day_1.head()"
      ],
      "execution_count": 190,
      "outputs": [
        {
          "output_type": "execute_result",
          "data": {
            "text/html": [
              "<div>\n",
              "<style scoped>\n",
              "    .dataframe tbody tr th:only-of-type {\n",
              "        vertical-align: middle;\n",
              "    }\n",
              "\n",
              "    .dataframe tbody tr th {\n",
              "        vertical-align: top;\n",
              "    }\n",
              "\n",
              "    .dataframe thead th {\n",
              "        text-align: right;\n",
              "    }\n",
              "</style>\n",
              "<table border=\"1\" class=\"dataframe\">\n",
              "  <thead>\n",
              "    <tr style=\"text-align: right;\">\n",
              "      <th></th>\n",
              "      <th>timestamp</th>\n",
              "      <th>return</th>\n",
              "      <th>asset</th>\n",
              "      <th>sentiment_tweets</th>\n",
              "      <th>sentiment_zscore_tweets</th>\n",
              "      <th>sentiment_pct_change_tweets</th>\n",
              "      <th>sentiment_news</th>\n",
              "      <th>sentiment_zscore_news</th>\n",
              "      <th>sentiment_pct_change_news</th>\n",
              "    </tr>\n",
              "  </thead>\n",
              "  <tbody>\n",
              "    <tr>\n",
              "      <th>0</th>\n",
              "      <td>2014-01-02</td>\n",
              "      <td>-0.021966</td>\n",
              "      <td>AAPL</td>\n",
              "      <td>0.565564</td>\n",
              "      <td>-1.138082</td>\n",
              "      <td>NaN</td>\n",
              "      <td>0.342476</td>\n",
              "      <td>21.757175</td>\n",
              "      <td>NaN</td>\n",
              "    </tr>\n",
              "    <tr>\n",
              "      <th>1</th>\n",
              "      <td>2014-01-03</td>\n",
              "      <td>0.005453</td>\n",
              "      <td>AAPL</td>\n",
              "      <td>0.601761</td>\n",
              "      <td>-0.544406</td>\n",
              "      <td>0.064001</td>\n",
              "      <td>0.334407</td>\n",
              "      <td>12.378117</td>\n",
              "      <td>-0.023560</td>\n",
              "    </tr>\n",
              "    <tr>\n",
              "      <th>2</th>\n",
              "      <td>2014-01-06</td>\n",
              "      <td>-0.007152</td>\n",
              "      <td>AAPL</td>\n",
              "      <td>0.691132</td>\n",
              "      <td>0.921409</td>\n",
              "      <td>0.148516</td>\n",
              "      <td>0.325380</td>\n",
              "      <td>1.884647</td>\n",
              "      <td>-0.026995</td>\n",
              "    </tr>\n",
              "    <tr>\n",
              "      <th>3</th>\n",
              "      <td>2014-01-07</td>\n",
              "      <td>0.006333</td>\n",
              "      <td>AAPL</td>\n",
              "      <td>0.669051</td>\n",
              "      <td>0.559251</td>\n",
              "      <td>-0.031949</td>\n",
              "      <td>0.324345</td>\n",
              "      <td>0.681717</td>\n",
              "      <td>-0.003180</td>\n",
              "    </tr>\n",
              "    <tr>\n",
              "      <th>4</th>\n",
              "      <td>2014-01-08</td>\n",
              "      <td>-0.012770</td>\n",
              "      <td>AAPL</td>\n",
              "      <td>0.691764</td>\n",
              "      <td>0.931785</td>\n",
              "      <td>0.033949</td>\n",
              "      <td>0.324086</td>\n",
              "      <td>0.379914</td>\n",
              "      <td>-0.000800</td>\n",
              "    </tr>\n",
              "  </tbody>\n",
              "</table>\n",
              "</div>"
            ],
            "text/plain": [
              "    timestamp    return  ... sentiment_zscore_news  sentiment_pct_change_news\n",
              "0  2014-01-02 -0.021966  ...             21.757175                        NaN\n",
              "1  2014-01-03  0.005453  ...             12.378117                  -0.023560\n",
              "2  2014-01-06 -0.007152  ...              1.884647                  -0.026995\n",
              "3  2014-01-07  0.006333  ...              0.681717                  -0.003180\n",
              "4  2014-01-08 -0.012770  ...              0.379914                  -0.000800\n",
              "\n",
              "[5 rows x 9 columns]"
            ]
          },
          "metadata": {
            "tags": []
          },
          "execution_count": 190
        }
      ]
    },
    {
      "cell_type": "code",
      "metadata": {
        "id": "FYSjRTuscwWW",
        "colab_type": "code",
        "colab": {}
      },
      "source": [
        "price_tweets_news_day_1.dropna(axis=0,inplace=True)"
      ],
      "execution_count": 0,
      "outputs": []
    },
    {
      "cell_type": "code",
      "metadata": {
        "id": "VgLbsoGze-zQ",
        "colab_type": "code",
        "colab": {
          "base_uri": "https://localhost:8080/",
          "height": 224
        },
        "outputId": "b98ba766-0f8d-4f85-db8d-b818af34495e"
      },
      "source": [
        "price_tweets_news_day_1.head()"
      ],
      "execution_count": 192,
      "outputs": [
        {
          "output_type": "execute_result",
          "data": {
            "text/html": [
              "<div>\n",
              "<style scoped>\n",
              "    .dataframe tbody tr th:only-of-type {\n",
              "        vertical-align: middle;\n",
              "    }\n",
              "\n",
              "    .dataframe tbody tr th {\n",
              "        vertical-align: top;\n",
              "    }\n",
              "\n",
              "    .dataframe thead th {\n",
              "        text-align: right;\n",
              "    }\n",
              "</style>\n",
              "<table border=\"1\" class=\"dataframe\">\n",
              "  <thead>\n",
              "    <tr style=\"text-align: right;\">\n",
              "      <th></th>\n",
              "      <th>timestamp</th>\n",
              "      <th>return</th>\n",
              "      <th>asset</th>\n",
              "      <th>sentiment_tweets</th>\n",
              "      <th>sentiment_zscore_tweets</th>\n",
              "      <th>sentiment_pct_change_tweets</th>\n",
              "      <th>sentiment_news</th>\n",
              "      <th>sentiment_zscore_news</th>\n",
              "      <th>sentiment_pct_change_news</th>\n",
              "    </tr>\n",
              "  </thead>\n",
              "  <tbody>\n",
              "    <tr>\n",
              "      <th>1</th>\n",
              "      <td>2014-01-03</td>\n",
              "      <td>0.005453</td>\n",
              "      <td>AAPL</td>\n",
              "      <td>0.601761</td>\n",
              "      <td>-0.544406</td>\n",
              "      <td>0.064001</td>\n",
              "      <td>0.334407</td>\n",
              "      <td>12.378117</td>\n",
              "      <td>-0.023560</td>\n",
              "    </tr>\n",
              "    <tr>\n",
              "      <th>2</th>\n",
              "      <td>2014-01-06</td>\n",
              "      <td>-0.007152</td>\n",
              "      <td>AAPL</td>\n",
              "      <td>0.691132</td>\n",
              "      <td>0.921409</td>\n",
              "      <td>0.148516</td>\n",
              "      <td>0.325380</td>\n",
              "      <td>1.884647</td>\n",
              "      <td>-0.026995</td>\n",
              "    </tr>\n",
              "    <tr>\n",
              "      <th>3</th>\n",
              "      <td>2014-01-07</td>\n",
              "      <td>0.006333</td>\n",
              "      <td>AAPL</td>\n",
              "      <td>0.669051</td>\n",
              "      <td>0.559251</td>\n",
              "      <td>-0.031949</td>\n",
              "      <td>0.324345</td>\n",
              "      <td>0.681717</td>\n",
              "      <td>-0.003180</td>\n",
              "    </tr>\n",
              "    <tr>\n",
              "      <th>4</th>\n",
              "      <td>2014-01-08</td>\n",
              "      <td>-0.012770</td>\n",
              "      <td>AAPL</td>\n",
              "      <td>0.691764</td>\n",
              "      <td>0.931785</td>\n",
              "      <td>0.033949</td>\n",
              "      <td>0.324086</td>\n",
              "      <td>0.379914</td>\n",
              "      <td>-0.000800</td>\n",
              "    </tr>\n",
              "    <tr>\n",
              "      <th>5</th>\n",
              "      <td>2014-01-09</td>\n",
              "      <td>-0.006673</td>\n",
              "      <td>AAPL</td>\n",
              "      <td>0.512157</td>\n",
              "      <td>-2.014032</td>\n",
              "      <td>-0.259637</td>\n",
              "      <td>0.323897</td>\n",
              "      <td>0.161304</td>\n",
              "      <td>-0.000580</td>\n",
              "    </tr>\n",
              "  </tbody>\n",
              "</table>\n",
              "</div>"
            ],
            "text/plain": [
              "    timestamp    return  ... sentiment_zscore_news  sentiment_pct_change_news\n",
              "1  2014-01-03  0.005453  ...             12.378117                  -0.023560\n",
              "2  2014-01-06 -0.007152  ...              1.884647                  -0.026995\n",
              "3  2014-01-07  0.006333  ...              0.681717                  -0.003180\n",
              "4  2014-01-08 -0.012770  ...              0.379914                  -0.000800\n",
              "5  2014-01-09 -0.006673  ...              0.161304                  -0.000580\n",
              "\n",
              "[5 rows x 9 columns]"
            ]
          },
          "metadata": {
            "tags": []
          },
          "execution_count": 192
        }
      ]
    },
    {
      "cell_type": "markdown",
      "metadata": {
        "id": "QgG9tOpcOQuK",
        "colab_type": "text"
      },
      "source": [
        "#### Percentage change"
      ]
    },
    {
      "cell_type": "code",
      "metadata": {
        "id": "b3XWFg0DfAp5",
        "colab_type": "code",
        "colab": {
          "base_uri": "https://localhost:8080/",
          "height": 269
        },
        "outputId": "7e3e8638-119b-4937-fdad-d5fe47590910"
      },
      "source": [
        "from tensorflow.keras.models import Sequential\n",
        "from tensorflow.keras.layers import LSTM,Dense,Embedding,Conv1D,MaxPooling1D,Bidirectional,Dropout,Flatten\n",
        "\n",
        "dense_model = Sequential()\n",
        "dense_model.add(Dense(128,activation='relu',input_dim=6))\n",
        "dense_model.add(Dense(256,activation='relu'))\n",
        "dense_model.add(Dense(1,activation='relu'))\n",
        "dense_model.compile(optimizer='adam',loss='mean_squared_error',metrics=['acc'])\n",
        "dense_model.summary()"
      ],
      "execution_count": 193,
      "outputs": [
        {
          "output_type": "stream",
          "text": [
            "Model: \"sequential\"\n",
            "_________________________________________________________________\n",
            "Layer (type)                 Output Shape              Param #   \n",
            "=================================================================\n",
            "dense_2 (Dense)              (None, 128)               896       \n",
            "_________________________________________________________________\n",
            "dense_3 (Dense)              (None, 256)               33024     \n",
            "_________________________________________________________________\n",
            "dense_4 (Dense)              (None, 1)                 257       \n",
            "=================================================================\n",
            "Total params: 34,177\n",
            "Trainable params: 34,177\n",
            "Non-trainable params: 0\n",
            "_________________________________________________________________\n"
          ],
          "name": "stdout"
        }
      ]
    },
    {
      "cell_type": "code",
      "metadata": {
        "id": "cykCgC5fhleM",
        "colab_type": "code",
        "colab": {}
      },
      "source": [
        "returns = price_tweets_news_day_1['return'].values\n",
        "sentiments = price_tweets_news_day_1[['sentiment_tweets','sentiment_zscore_tweets','sentiment_pct_change_tweets','sentiment_news','sentiment_zscore_news','sentiment_pct_change_news']].values"
      ],
      "execution_count": 0,
      "outputs": []
    },
    {
      "cell_type": "code",
      "metadata": {
        "id": "NJ9EKupkhy94",
        "colab_type": "code",
        "colab": {}
      },
      "source": [
        "from sklearn.model_selection import train_test_split\n",
        "x_train, x_test, y_train, y_test = train_test_split(sentiments, returns, test_size=.1)"
      ],
      "execution_count": 0,
      "outputs": []
    },
    {
      "cell_type": "code",
      "metadata": {
        "id": "0hrPlbnQh4fU",
        "colab_type": "code",
        "colab": {
          "base_uri": "https://localhost:8080/",
          "height": 575
        },
        "outputId": "ffed6b34-cff9-4246-80dc-fc0389126ba1"
      },
      "source": [
        "history = dense_model.fit(x_train,\n",
        "          y_train,\n",
        "          batch_size=8,\n",
        "          shuffle=True,\n",
        "          epochs=15,\n",
        "          validation_data=(x_test,y_test))"
      ],
      "execution_count": 196,
      "outputs": [
        {
          "output_type": "stream",
          "text": [
            "Train on 13979 samples, validate on 1554 samples\n",
            "Epoch 1/15\n",
            "13979/13979 [==============================] - 7s 501us/sample - loss: 2.4511e-04 - acc: 0.0078 - val_loss: 2.4456e-04 - val_acc: 0.0032\n",
            "Epoch 2/15\n",
            "13979/13979 [==============================] - 6s 450us/sample - loss: 2.4491e-04 - acc: 0.0078 - val_loss: 2.4456e-04 - val_acc: 0.0032\n",
            "Epoch 3/15\n",
            "13979/13979 [==============================] - 6s 447us/sample - loss: 2.4491e-04 - acc: 0.0078 - val_loss: 2.4456e-04 - val_acc: 0.0032\n",
            "Epoch 4/15\n",
            "13979/13979 [==============================] - 6s 447us/sample - loss: 2.4491e-04 - acc: 0.0078 - val_loss: 2.4456e-04 - val_acc: 0.0032\n",
            "Epoch 5/15\n",
            "13979/13979 [==============================] - 6s 450us/sample - loss: 2.4491e-04 - acc: 0.0078 - val_loss: 2.4456e-04 - val_acc: 0.0032\n",
            "Epoch 6/15\n",
            "13979/13979 [==============================] - 6s 445us/sample - loss: 2.4491e-04 - acc: 0.0078 - val_loss: 2.4456e-04 - val_acc: 0.0032\n",
            "Epoch 7/15\n",
            "13979/13979 [==============================] - 6s 454us/sample - loss: 2.4491e-04 - acc: 0.0078 - val_loss: 2.4456e-04 - val_acc: 0.0032\n",
            "Epoch 8/15\n",
            "13979/13979 [==============================] - 6s 448us/sample - loss: 2.4491e-04 - acc: 0.0078 - val_loss: 2.4456e-04 - val_acc: 0.0032\n",
            "Epoch 9/15\n",
            "13979/13979 [==============================] - 6s 450us/sample - loss: 2.4491e-04 - acc: 0.0078 - val_loss: 2.4456e-04 - val_acc: 0.0032\n",
            "Epoch 10/15\n",
            "13979/13979 [==============================] - 6s 452us/sample - loss: 2.4491e-04 - acc: 0.0078 - val_loss: 2.4456e-04 - val_acc: 0.0032\n",
            "Epoch 11/15\n",
            "13979/13979 [==============================] - 6s 454us/sample - loss: 2.4491e-04 - acc: 0.0078 - val_loss: 2.4456e-04 - val_acc: 0.0032\n",
            "Epoch 12/15\n",
            "13979/13979 [==============================] - 6s 447us/sample - loss: 2.4491e-04 - acc: 0.0078 - val_loss: 2.4456e-04 - val_acc: 0.0032\n",
            "Epoch 13/15\n",
            "13979/13979 [==============================] - 6s 451us/sample - loss: 2.4491e-04 - acc: 0.0078 - val_loss: 2.4456e-04 - val_acc: 0.0032\n",
            "Epoch 14/15\n",
            "13979/13979 [==============================] - 6s 446us/sample - loss: 2.4491e-04 - acc: 0.0078 - val_loss: 2.4456e-04 - val_acc: 0.0032\n",
            "Epoch 15/15\n",
            "13979/13979 [==============================] - 6s 448us/sample - loss: 2.4491e-04 - acc: 0.0078 - val_loss: 2.4456e-04 - val_acc: 0.0032\n"
          ],
          "name": "stdout"
        }
      ]
    },
    {
      "cell_type": "code",
      "metadata": {
        "id": "Oub1qSBCiAbI",
        "colab_type": "code",
        "colab": {
          "base_uri": "https://localhost:8080/",
          "height": 143
        },
        "outputId": "6ff3d27d-3d71-4b2d-eb71-dd14dc49845d"
      },
      "source": [
        "# Import the model we are using\n",
        "from sklearn.ensemble import RandomForestRegressor\n",
        "# Instantiate model with 1000 decision trees\n",
        "rf = RandomForestRegressor(n_estimators = 10000, random_state = 42)\n",
        "# Train the model on training data\n",
        "rf.fit(x_train, y_train)"
      ],
      "execution_count": 197,
      "outputs": [
        {
          "output_type": "execute_result",
          "data": {
            "text/plain": [
              "RandomForestRegressor(bootstrap=True, criterion='mse', max_depth=None,\n",
              "                      max_features='auto', max_leaf_nodes=None,\n",
              "                      min_impurity_decrease=0.0, min_impurity_split=None,\n",
              "                      min_samples_leaf=1, min_samples_split=2,\n",
              "                      min_weight_fraction_leaf=0.0, n_estimators=10000,\n",
              "                      n_jobs=None, oob_score=False, random_state=42, verbose=0,\n",
              "                      warm_start=False)"
            ]
          },
          "metadata": {
            "tags": []
          },
          "execution_count": 197
        }
      ]
    },
    {
      "cell_type": "code",
      "metadata": {
        "id": "eize6_SkiirF",
        "colab_type": "code",
        "colab": {
          "base_uri": "https://localhost:8080/",
          "height": 71
        },
        "outputId": "f0c9b867-8823-4f50-afee-217cb8da3b7b"
      },
      "source": [
        "# Use the forest's predict method on the test data\n",
        "predictions = rf.predict(x_test)\n",
        "from sklearn.metrics import r2_score,explained_variance_score,mean_squared_error\n",
        "print(r2_score(y_test,predictions))\n",
        "print(explained_variance_score(y_test,predictions))\n",
        "print(mean_squared_error(y_test,predictions))"
      ],
      "execution_count": 198,
      "outputs": [
        {
          "output_type": "stream",
          "text": [
            "-0.10297503745889292\n",
            "-0.10214733227150341\n",
            "0.0002695505441301346\n"
          ],
          "name": "stdout"
        }
      ]
    },
    {
      "cell_type": "code",
      "metadata": {
        "id": "KjcuKAPtinaM",
        "colab_type": "code",
        "colab": {
          "base_uri": "https://localhost:8080/",
          "height": 312
        },
        "outputId": "443f5184-289c-4d74-c08e-5fbc31977574"
      },
      "source": [
        "import matplotlib.pyplot as plt\n",
        "# Plot the actual values\n",
        "plt.plot(range(predictions.shape[0]), y_test, 'b-', label = 'actual')\n",
        "# Plot the predicted values\n",
        "plt.plot(range(predictions.shape[0]),predictions, 'r-', label = 'prediction')\n",
        "plt.xticks(rotation = '60'); \n",
        "plt.legend()\n",
        "# Graph labels\n",
        "plt.xlabel('timestamp'); plt.ylabel('Stock return'); plt.title('Actual and Predicted Values');"
      ],
      "execution_count": 199,
      "outputs": [
        {
          "output_type": "display_data",
          "data": {
            "image/png": "[encoded data removed]",
            "text/plain": [
              "<Figure size 432x288 with 1 Axes>"
            ]
          },
          "metadata": {
            "tags": []
          }
        }
      ]
    },
    {
      "cell_type": "code",
      "metadata": {
        "id": "ATtdGTHOioXU",
        "colab_type": "code",
        "colab": {}
      },
      "source": [
        "from sklearn.linear_model import LinearRegression\n",
        "reg = LinearRegression().fit(x_train, y_train)"
      ],
      "execution_count": 0,
      "outputs": []
    },
    {
      "cell_type": "code",
      "metadata": {
        "id": "p_tIyiq9iryw",
        "colab_type": "code",
        "colab": {
          "base_uri": "https://localhost:8080/",
          "height": 71
        },
        "outputId": "b0d49abf-e51b-4a7f-dc1b-60f14aa99355"
      },
      "source": [
        "# Use the forest's predict method on the test data\n",
        "predictions = reg.predict(x_test)\n",
        "from sklearn.metrics import r2_score,explained_variance_score,mean_squared_error\n",
        "print(r2_score(y_test,predictions))\n",
        "print(explained_variance_score(y_test,predictions))\n",
        "print(mean_squared_error(y_test,predictions))"
      ],
      "execution_count": 201,
      "outputs": [
        {
          "output_type": "stream",
          "text": [
            "-0.0012658242302274747\n",
            "-0.0008303525544228751\n",
            "0.00024469433901419925\n"
          ],
          "name": "stdout"
        }
      ]
    },
    {
      "cell_type": "code",
      "metadata": {
        "id": "NJb3_FkCitku",
        "colab_type": "code",
        "colab": {
          "base_uri": "https://localhost:8080/",
          "height": 312
        },
        "outputId": "f381e5b6-b2f2-4f30-e435-bc43933d9bf9"
      },
      "source": [
        "import matplotlib.pyplot as plt\n",
        "# Plot the actual values\n",
        "plt.plot(range(predictions.shape[0]), y_test, 'b-', label = 'actual')\n",
        "# Plot the predicted values\n",
        "plt.plot(range(predictions.shape[0]),predictions, 'r-', label = 'prediction')\n",
        "plt.xticks(rotation = '60'); \n",
        "plt.legend()\n",
        "# Graph labels\n",
        "plt.xlabel('timestamp'); plt.ylabel('Stock return'); plt.title('Actual and Predicted Values');"
      ],
      "execution_count": 202,
      "outputs": [
        {
          "output_type": "display_data",
          "data": {
            "image/png": "[encoded data removed]",
            "text/plain": [
              "<Figure size 432x288 with 1 Axes>"
            ]
          },
          "metadata": {
            "tags": []
          }
        }
      ]
    },
    {
      "cell_type": "markdown",
      "metadata": {
        "id": "WMNIMPtGOWyg",
        "colab_type": "text"
      },
      "source": [
        "#### Direconality"
      ]
    },
    {
      "cell_type": "code",
      "metadata": {
        "id": "i48S1jpzl4_p",
        "colab_type": "code",
        "colab": {}
      },
      "source": [
        "price_tweets_news_day_1['direction'] = price_tweets_news_day_1['return'].apply(lambda x: 0 if x<0 else 1) #0=down 1=up"
      ],
      "execution_count": 0,
      "outputs": []
    },
    {
      "cell_type": "code",
      "metadata": {
        "id": "R55BrSvslm__",
        "colab_type": "code",
        "colab": {}
      },
      "source": [
        "directions = price_tweets_news_day_1['direction'].values\n",
        "sentiments = price_tweets_news_day_1[['sentiment_tweets','sentiment_zscore_tweets','sentiment_pct_change_tweets','sentiment_news','sentiment_zscore_news','sentiment_pct_change_news']].values"
      ],
      "execution_count": 0,
      "outputs": []
    },
    {
      "cell_type": "code",
      "metadata": {
        "id": "xeIZd3lZl99N",
        "colab_type": "code",
        "colab": {}
      },
      "source": [
        "from sklearn.model_selection import train_test_split\n",
        "x_train, x_test, y_train, y_test = train_test_split(sentiments, directions, test_size=.1)"
      ],
      "execution_count": 0,
      "outputs": []
    },
    {
      "cell_type": "code",
      "metadata": {
        "id": "Zr-9p9oRl_h0",
        "colab_type": "code",
        "colab": {
          "base_uri": "https://localhost:8080/",
          "height": 143
        },
        "outputId": "711b8ba2-9c6d-4c3b-fb87-ec389f30c858"
      },
      "source": [
        "# Import the model we are using\n",
        "from sklearn.ensemble import RandomForestRegressor\n",
        "# Instantiate model with 1000 decision trees\n",
        "rf = RandomForestRegressor(n_estimators = 1000, random_state = 42)\n",
        "# Train the model on training data\n",
        "rf.fit(x_train, y_train)"
      ],
      "execution_count": 213,
      "outputs": [
        {
          "output_type": "execute_result",
          "data": {
            "text/plain": [
              "RandomForestRegressor(bootstrap=True, criterion='mse', max_depth=None,\n",
              "                      max_features='auto', max_leaf_nodes=None,\n",
              "                      min_impurity_decrease=0.0, min_impurity_split=None,\n",
              "                      min_samples_leaf=1, min_samples_split=2,\n",
              "                      min_weight_fraction_leaf=0.0, n_estimators=1000,\n",
              "                      n_jobs=None, oob_score=False, random_state=42, verbose=0,\n",
              "                      warm_start=False)"
            ]
          },
          "metadata": {
            "tags": []
          },
          "execution_count": 213
        }
      ]
    },
    {
      "cell_type": "code",
      "metadata": {
        "id": "TDtU0NIzmDKd",
        "colab_type": "code",
        "colab": {
          "base_uri": "https://localhost:8080/",
          "height": 71
        },
        "outputId": "1606a040-515d-445e-e62a-f7546bacf7e5"
      },
      "source": [
        "# Use the forest's predict method on the test data\n",
        "predictions = rf.predict(x_test)\n",
        "from sklearn.metrics import r2_score,explained_variance_score,mean_squared_error\n",
        "print(r2_score(y_test,predictions))\n",
        "print(explained_variance_score(y_test,predictions))\n",
        "print(mean_squared_error(y_test,predictions))"
      ],
      "execution_count": 214,
      "outputs": [
        {
          "output_type": "stream",
          "text": [
            "-0.12103106627652549\n",
            "-0.1206523142456899\n",
            "0.28001219884169887\n"
          ],
          "name": "stdout"
        }
      ]
    },
    {
      "cell_type": "code",
      "metadata": {
        "id": "rcw4tLVLmFLG",
        "colab_type": "code",
        "colab": {
          "base_uri": "https://localhost:8080/",
          "height": 312
        },
        "outputId": "5dd058c5-6765-4a75-cfa7-e7cfea252b8c"
      },
      "source": [
        "import matplotlib.pyplot as plt\n",
        "# Plot the actual values\n",
        "plt.plot(range(predictions.shape[0]), y_test, 'b-', label = 'actual')\n",
        "# Plot the predicted values\n",
        "plt.plot(range(predictions.shape[0]),predictions, 'r-', label = 'prediction')\n",
        "plt.xticks(rotation = '60'); \n",
        "plt.legend()\n",
        "# Graph labels\n",
        "plt.xlabel('timestamp'); plt.ylabel('Stock return'); plt.title('Actual and Predicted Values');"
      ],
      "execution_count": 215,
      "outputs": [
        {
          "output_type": "display_data",
          "data": {
            "image/png": "[encoded data removed]",
            "text/plain": [
              "<Figure size 432x288 with 1 Axes>"
            ]
          },
          "metadata": {
            "tags": []
          }
        }
      ]
    },
    {
      "cell_type": "code",
      "metadata": {
        "id": "VucoDE4BmGlQ",
        "colab_type": "code",
        "colab": {
          "base_uri": "https://localhost:8080/",
          "height": 73
        },
        "outputId": "7dc16e86-428d-433f-8829-7b040e5633f2"
      },
      "source": [
        "from sklearn.linear_model import LogisticRegression\n",
        "reg = LogisticRegression().fit(x_train, y_train)"
      ],
      "execution_count": 216,
      "outputs": [
        {
          "output_type": "stream",
          "text": [
            "/usr/local/lib/python3.6/dist-packages/sklearn/linear_model/logistic.py:432: FutureWarning: Default solver will be changed to 'lbfgs' in 0.22. Specify a solver to silence this warning.\n",
            "  FutureWarning)\n"
          ],
          "name": "stderr"
        }
      ]
    },
    {
      "cell_type": "code",
      "metadata": {
        "id": "gcviU7x5mKyH",
        "colab_type": "code",
        "colab": {
          "base_uri": "https://localhost:8080/",
          "height": 71
        },
        "outputId": "a3b36982-b7a1-480e-bf74-7b9d8188911b"
      },
      "source": [
        "# Use the forest's predict method on the test data\n",
        "predictions = reg.predict(x_test)\n",
        "from sklearn.metrics import r2_score,explained_variance_score,mean_squared_error\n",
        "print(r2_score(y_test,predictions))\n",
        "print(explained_variance_score(y_test,predictions))\n",
        "print(mean_squared_error(y_test,predictions))"
      ],
      "execution_count": 217,
      "outputs": [
        {
          "output_type": "stream",
          "text": [
            "-0.9425000000000006\n",
            "-0.019893899204244114\n",
            "0.4851994851994852\n"
          ],
          "name": "stdout"
        }
      ]
    },
    {
      "cell_type": "code",
      "metadata": {
        "id": "RxEDST7pmMRf",
        "colab_type": "code",
        "colab": {
          "base_uri": "https://localhost:8080/",
          "height": 312
        },
        "outputId": "634afa88-ce47-4903-9361-3cc868f3511a"
      },
      "source": [
        "import matplotlib.pyplot as plt\n",
        "# Plot the actual values\n",
        "plt.plot(range(predictions.shape[0]), y_test, 'b-', label = 'actual')\n",
        "# Plot the predicted values\n",
        "plt.plot(range(predictions.shape[0]),predictions, 'r-', label = 'prediction')\n",
        "plt.xticks(rotation = '60'); \n",
        "plt.legend()\n",
        "# Graph labels\n",
        "plt.xlabel('timestamp'); plt.ylabel('Stock return'); plt.title('Actual and Predicted Values');"
      ],
      "execution_count": 218,
      "outputs": [
        {
          "output_type": "display_data",
          "data": {
            "image/png": "[encoded data removed]",
            "text/plain": [
              "<Figure size 432x288 with 1 Axes>"
            ]
          },
          "metadata": {
            "tags": []
          }
        }
      ]
    },
    {
      "cell_type": "code",
      "metadata": {
        "id": "hpW6ykrYmNXy",
        "colab_type": "code",
        "colab": {}
      },
      "source": [
        ""
      ],
      "execution_count": 0,
      "outputs": []
    }
  ]
}